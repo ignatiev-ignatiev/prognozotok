{
 "cells": [
  {
   "cell_type": "markdown",
   "metadata": {
    "id": "U4vPTgKJF2VU"
   },
   "source": [
    "# Прогнозирование оттока клиентов оператора связи"
   ]
  },
  {
   "cell_type": "markdown",
   "metadata": {
    "id": "4dJ0I0HgF2Vc"
   },
   "source": [
    "# Описание проекта"
   ]
  },
  {
   "cell_type": "markdown",
   "metadata": {
    "id": "kgLPPYyIF2Vd"
   },
   "source": [
    "Оператор связи «ТелеДом» хочет бороться с оттоком клиентов. Для этого его сотрудники начнут предлагать промокоды и специальные условия всем, кто планирует отказаться от услуг связи. Чтобы заранее находить таких пользователей, «ТелеДому» нужна модель, которая будет предсказывать, разорвёт ли абонент договор. Команда оператора собрала персональные данные о некоторых клиентах, информацию об их тарифах и услугах. Задача — обучить на этих данных модель для прогноза оттока клиентов."
   ]
  },
  {
   "cell_type": "markdown",
   "metadata": {
    "id": "bo7hKLNrF2Ve"
   },
   "source": [
    "# Описание услуг"
   ]
  },
  {
   "cell_type": "markdown",
   "metadata": {
    "id": "YYuHCKO7F2Vf"
   },
   "source": [
    "Оператор предоставляет два основных типа услуг: \n",
    "\n",
    "1. Стационарную телефонную связь. Возможно подключение телефонного аппарата к нескольким линиям одновременно.\n",
    "2. Интернет. Подключение может быть двух типов: через телефонную линию (DSL*,* от англ. *digital subscriber line*, «цифровая абонентская линия») или оптоволоконный кабель (*Fiber optic*).  \n",
    "\n",
    "Также доступны такие услуги:\n",
    "\n",
    "- Интернет-безопасность: антивирус (*DeviceProtection*) и блокировка небезопасных сайтов (*OnlineSecurity*);\n",
    "- Выделенная линия технической поддержки (*TechSupport*);\n",
    "- Облачное хранилище файлов для резервного копирования данных (*OnlineBackup*);\n",
    "- Стриминговое телевидение (*StreamingTV*) и каталог фильмов (*StreamingMovies*).\n",
    "\n",
    "За услуги клиенты могут платить каждый месяц или заключить договор на 1–2 года. Доступны различные способы расчёта и возможность получения электронного чека."
   ]
  },
  {
   "cell_type": "markdown",
   "metadata": {
    "id": "zu5iHVTiF2Vg"
   },
   "source": [
    "# Описание данных\n",
    "\n",
    "Данные хранятся в базе данных PostgreSQL. Она состоит из нескольких таблиц:\n",
    "-   contract — информация о договорах;\n",
    "-\tpersonal — персональные данные клиентов;\n",
    "-\tinternet — информация об интернет-услугах;\n",
    "-\tphone — информация об услугах телефонии.\n",
    "\n",
    "Таблица telecom.contract\n",
    "-\tcustomerID — ID абонента;\n",
    "-\tBeginDate — дата начала действия договора;\n",
    "-\tEndDate — дата окончания действия договора;\n",
    "-\tType — тип оплаты: раз в год-два или ежемесячно;\n",
    "-\tPaperlessBilling — электронный расчётный лист;\n",
    "-\tPaymentMethod — тип платежа;\n",
    "-\tMonthlyCharges — расходы за месяц;\n",
    "-\tTotalCharges — общие расходы абонента.\n",
    "\n",
    "Таблица personal\n",
    "-\tcustomerID — ID пользователя;\n",
    "-\tgender — пол;\n",
    "-\tSeniorCitizen — является ли абонент пенсионером;\n",
    "-\tPartner — есть ли у абонента супруг или супруга;\n",
    "-\tDependents — есть ли у абонента дети.\n",
    "\n",
    "Таблица telecom.internet\n",
    "-\tcustomerID — ID пользователя;\n",
    "-\tInternetService — тип подключения;\n",
    "-\tOnlineSecurity — блокировка опасных сайтов;\n",
    "-\tOnlineBackup — облачное хранилище файлов для резервного копирования данных;\n",
    "-\tDeviceProtection — антивирус;\n",
    "-\tTechSupport — выделенная линия технической поддержки;\n",
    "-\tStreamingTV — стриминговое телевидение;\n",
    "-\tStreamingMovies — каталог фильмов.\n",
    "Таблица telecom.phone\n",
    "-\tcustomerID — ID пользователя;\n",
    "-\tMultipleLines — подключение телефона к нескольким линиям одновременно.\n",
    "Информация о договорах актуальна на 1 февраля 2020."
   ]
  },
  {
   "cell_type": "markdown",
   "metadata": {
    "id": "5YP5Lu2g78UC"
   },
   "source": [
    "# Импорт библиотек"
   ]
  },
  {
   "cell_type": "code",
   "execution_count": 1,
   "metadata": {
    "id": "BnottrTMF2Vh"
   },
   "outputs": [],
   "source": [
    "import pandas as pd \n",
    "import matplotlib.pyplot as plt\n",
    "import seaborn as sns\n",
    "import numpy as np\n",
    "import time\n",
    "from numpy.random import RandomState\n",
    "from tqdm import notebook\n",
    "from sklearn.metrics import f1_score\n",
    "from sklearn.metrics import accuracy_score\n",
    "from sklearn.utils import shuffle\n",
    "from sklearn.metrics import roc_auc_score\n",
    "from sklearn.metrics import roc_curve\n",
    "from sklearn.metrics import precision_score\n",
    "from sklearn.metrics import confusion_matrix\n",
    "from sklearn.model_selection import train_test_split\n",
    "from sklearn.model_selection import GridSearchCV\n",
    "from sklearn.pipeline import make_pipeline, Pipeline \n",
    "from sklearn.metrics import roc_curve, auc\n",
    "from sklearn.tree import DecisionTreeClassifier\n",
    "from sklearn.ensemble import RandomForestClassifier\n",
    "from sklearn.linear_model import LogisticRegression\n",
    "from catboost import CatBoost, CatBoostClassifier, Pool\n",
    "from sklearn.naive_bayes import GaussianNB\n",
    "from sklearn.svm import LinearSVC\n",
    "import re\n",
    "from matplotlib import cm\n",
    "from sklearn.preprocessing import OrdinalEncoder\n",
    "from sklearn.preprocessing import LabelEncoder\n",
    "from sklearn.preprocessing import StandardScaler\n",
    "from sklearn.model_selection import cross_val_score\n",
    "from sklearn.model_selection import StratifiedKFold"
   ]
  },
  {
   "cell_type": "markdown",
   "metadata": {
    "id": "GKE-rhHO8BpN"
   },
   "source": [
    "# Чтение данных"
   ]
  },
  {
   "cell_type": "code",
   "execution_count": 2,
   "metadata": {
    "id": "NKLqCQ5D48Ce"
   },
   "outputs": [],
   "source": [
    "contract = pd.read_csv('/datasets/final_provider/contract.csv', index_col=['customerID'],\n",
    "                          parse_dates=['BeginDate', 'EndDate'])\n",
    "personal = pd.read_csv('/datasets/final_provider/personal.csv', index_col='customerID')\n",
    "internet = pd.read_csv('/datasets/final_provider/internet.csv', index_col='customerID')\n",
    "phone = pd.read_csv('/datasets/final_provider/phone.csv', index_col='customerID')"
   ]
  },
  {
   "cell_type": "markdown",
   "metadata": {
    "id": "8KCXtTl-8I2t"
   },
   "source": [
    "# Предварительный анализ"
   ]
  },
  {
   "cell_type": "markdown",
   "metadata": {
    "id": "F4DQvKAwF2Vl"
   },
   "source": [
    "Данные загрузили, начнем делать их предварительный анализ, по порядку."
   ]
  },
  {
   "cell_type": "markdown",
   "metadata": {
    "id": "_m50nieyF2Vl"
   },
   "source": [
    "### contract"
   ]
  },
  {
   "cell_type": "code",
   "execution_count": 3,
   "metadata": {
    "colab": {
     "base_uri": "https://localhost:8080/",
     "height": 235
    },
    "id": "pqf95jewF2Vm",
    "outputId": "800bf9d7-c9b0-47f8-cac1-69b6ed60d9bc"
   },
   "outputs": [
    {
     "data": {
      "text/html": [
       "<div>\n",
       "<style scoped>\n",
       "    .dataframe tbody tr th:only-of-type {\n",
       "        vertical-align: middle;\n",
       "    }\n",
       "\n",
       "    .dataframe tbody tr th {\n",
       "        vertical-align: top;\n",
       "    }\n",
       "\n",
       "    .dataframe thead th {\n",
       "        text-align: right;\n",
       "    }\n",
       "</style>\n",
       "<table border=\"1\" class=\"dataframe\">\n",
       "  <thead>\n",
       "    <tr style=\"text-align: right;\">\n",
       "      <th></th>\n",
       "      <th>BeginDate</th>\n",
       "      <th>EndDate</th>\n",
       "      <th>Type</th>\n",
       "      <th>PaperlessBilling</th>\n",
       "      <th>PaymentMethod</th>\n",
       "      <th>MonthlyCharges</th>\n",
       "      <th>TotalCharges</th>\n",
       "    </tr>\n",
       "    <tr>\n",
       "      <th>customerID</th>\n",
       "      <th></th>\n",
       "      <th></th>\n",
       "      <th></th>\n",
       "      <th></th>\n",
       "      <th></th>\n",
       "      <th></th>\n",
       "      <th></th>\n",
       "    </tr>\n",
       "  </thead>\n",
       "  <tbody>\n",
       "    <tr>\n",
       "      <th>7590-VHVEG</th>\n",
       "      <td>2020-01-01</td>\n",
       "      <td>No</td>\n",
       "      <td>Month-to-month</td>\n",
       "      <td>Yes</td>\n",
       "      <td>Electronic check</td>\n",
       "      <td>29.85</td>\n",
       "      <td>29.85</td>\n",
       "    </tr>\n",
       "    <tr>\n",
       "      <th>5575-GNVDE</th>\n",
       "      <td>2017-04-01</td>\n",
       "      <td>No</td>\n",
       "      <td>One year</td>\n",
       "      <td>No</td>\n",
       "      <td>Mailed check</td>\n",
       "      <td>56.95</td>\n",
       "      <td>1889.5</td>\n",
       "    </tr>\n",
       "    <tr>\n",
       "      <th>3668-QPYBK</th>\n",
       "      <td>2019-10-01</td>\n",
       "      <td>2019-12-01 00:00:00</td>\n",
       "      <td>Month-to-month</td>\n",
       "      <td>Yes</td>\n",
       "      <td>Mailed check</td>\n",
       "      <td>53.85</td>\n",
       "      <td>108.15</td>\n",
       "    </tr>\n",
       "    <tr>\n",
       "      <th>7795-CFOCW</th>\n",
       "      <td>2016-05-01</td>\n",
       "      <td>No</td>\n",
       "      <td>One year</td>\n",
       "      <td>No</td>\n",
       "      <td>Bank transfer (automatic)</td>\n",
       "      <td>42.30</td>\n",
       "      <td>1840.75</td>\n",
       "    </tr>\n",
       "    <tr>\n",
       "      <th>9237-HQITU</th>\n",
       "      <td>2019-09-01</td>\n",
       "      <td>2019-11-01 00:00:00</td>\n",
       "      <td>Month-to-month</td>\n",
       "      <td>Yes</td>\n",
       "      <td>Electronic check</td>\n",
       "      <td>70.70</td>\n",
       "      <td>151.65</td>\n",
       "    </tr>\n",
       "  </tbody>\n",
       "</table>\n",
       "</div>"
      ],
      "text/plain": [
       "            BeginDate              EndDate            Type PaperlessBilling  \\\n",
       "customerID                                                                    \n",
       "7590-VHVEG 2020-01-01                   No  Month-to-month              Yes   \n",
       "5575-GNVDE 2017-04-01                   No        One year               No   \n",
       "3668-QPYBK 2019-10-01  2019-12-01 00:00:00  Month-to-month              Yes   \n",
       "7795-CFOCW 2016-05-01                   No        One year               No   \n",
       "9237-HQITU 2019-09-01  2019-11-01 00:00:00  Month-to-month              Yes   \n",
       "\n",
       "                        PaymentMethod  MonthlyCharges TotalCharges  \n",
       "customerID                                                          \n",
       "7590-VHVEG           Electronic check           29.85        29.85  \n",
       "5575-GNVDE               Mailed check           56.95       1889.5  \n",
       "3668-QPYBK               Mailed check           53.85       108.15  \n",
       "7795-CFOCW  Bank transfer (automatic)           42.30      1840.75  \n",
       "9237-HQITU           Electronic check           70.70       151.65  "
      ]
     },
     "execution_count": 3,
     "metadata": {},
     "output_type": "execute_result"
    }
   ],
   "source": [
    "contract.head()"
   ]
  },
  {
   "cell_type": "code",
   "execution_count": 4,
   "metadata": {
    "colab": {
     "base_uri": "https://localhost:8080/"
    },
    "id": "rL6cL0_2F2Vn",
    "outputId": "1ab67ce3-63ed-4f27-d33e-b491b10524fe"
   },
   "outputs": [
    {
     "name": "stdout",
     "output_type": "stream",
     "text": [
      "<class 'pandas.core.frame.DataFrame'>\n",
      "Index: 7043 entries, 7590-VHVEG to 3186-AJIEK\n",
      "Data columns (total 7 columns):\n",
      " #   Column            Non-Null Count  Dtype         \n",
      "---  ------            --------------  -----         \n",
      " 0   BeginDate         7043 non-null   datetime64[ns]\n",
      " 1   EndDate           7043 non-null   object        \n",
      " 2   Type              7043 non-null   object        \n",
      " 3   PaperlessBilling  7043 non-null   object        \n",
      " 4   PaymentMethod     7043 non-null   object        \n",
      " 5   MonthlyCharges    7043 non-null   float64       \n",
      " 6   TotalCharges      7043 non-null   object        \n",
      "dtypes: datetime64[ns](1), float64(1), object(5)\n",
      "memory usage: 440.2+ KB\n"
     ]
    }
   ],
   "source": [
    "contract.info()"
   ]
  },
  {
   "cell_type": "markdown",
   "metadata": {
    "id": "YBt6IqIGF2Vo"
   },
   "source": [
    "Необходимо будет изменить тип данных для признаков `BeginDate`, `EndDate`, `MonthlyCharges`, `TotalCharges`"
   ]
  },
  {
   "cell_type": "code",
   "execution_count": 5,
   "metadata": {
    "colab": {
     "base_uri": "https://localhost:8080/"
    },
    "id": "UYOzUSoHF2Vp",
    "outputId": "171b82f6-3235-4039-ca71-a68d35a3d95a"
   },
   "outputs": [
    {
     "name": "stdout",
     "output_type": "stream",
     "text": [
      "Дата начала датасета:  2013-10-01 00:00:00\n",
      "Дата конца датасета:  2020-02-01 00:00:00\n"
     ]
    }
   ],
   "source": [
    "# Взгляним на даты.\n",
    "print('Дата начала датасета: ', min(contract['BeginDate']))\n",
    "print('Дата конца датасета: ', max(contract['BeginDate']))"
   ]
  },
  {
   "cell_type": "code",
   "execution_count": 6,
   "metadata": {
    "colab": {
     "base_uri": "https://localhost:8080/",
     "height": 390
    },
    "id": "WXIHhUH2F2Vp",
    "outputId": "0741afe3-6a81-4285-f45c-1fb1a3d0a25f"
   },
   "outputs": [
    {
     "data": {
      "image/png": "[encoded data removed]",
      "text/plain": [
       "<Figure size 864x432 with 1 Axes>"
      ]
     },
     "metadata": {
      "needs_background": "light"
     },
     "output_type": "display_data"
    }
   ],
   "source": [
    "contract['Type'].hist(figsize=(12,6))\n",
    "plt.title('Тип оплаты');"
   ]
  },
  {
   "cell_type": "markdown",
   "metadata": {
    "id": "rGMybmZzF2Vq"
   },
   "source": [
    "На графике видно что большинство клиентов выбирают платить каждый месяц, так же видно что клиентов которые оплачивают сразу на 2 года, больше чем те которые оплачивают на год, возможно это связанно с более лояльными условиями предоставляемые тем кто оплачивает 2 года."
   ]
  },
  {
   "cell_type": "code",
   "execution_count": 7,
   "metadata": {
    "colab": {
     "base_uri": "https://localhost:8080/",
     "height": 390
    },
    "id": "S1ViBziOF2Vr",
    "outputId": "0e2af526-6d84-4a22-ad3f-0f59613b003e"
   },
   "outputs": [
    {
     "data": {
      "image/png": "[encoded data removed]",
      "text/plain": [
       "<Figure size 864x432 with 1 Axes>"
      ]
     },
     "metadata": {
      "needs_background": "light"
     },
     "output_type": "display_data"
    }
   ],
   "source": [
    "contract['PaymentMethod'].hist(figsize=(12,6))\n",
    "plt.title('Метод оплаты');"
   ]
  },
  {
   "cell_type": "markdown",
   "metadata": {
    "id": "lpG_Zf-bF2Vr"
   },
   "source": [
    "Электронную оплату выбирают чаше всего, это логично, так как это самый удобный способ оплаты."
   ]
  },
  {
   "cell_type": "markdown",
   "metadata": {
    "id": "ieexwXpwF2Vs"
   },
   "source": [
    "Попробуем построить сводную таблицу с парой значения, тип оплаты - стоимость."
   ]
  },
  {
   "cell_type": "code",
   "execution_count": 8,
   "metadata": {
    "colab": {
     "base_uri": "https://localhost:8080/",
     "height": 173
    },
    "id": "_uINE8F_F2Vs",
    "outputId": "01122dab-58bd-40f2-b19b-cde11eedec4d"
   },
   "outputs": [
    {
     "data": {
      "text/html": [
       "<div>\n",
       "<style scoped>\n",
       "    .dataframe tbody tr th:only-of-type {\n",
       "        vertical-align: middle;\n",
       "    }\n",
       "\n",
       "    .dataframe tbody tr th {\n",
       "        vertical-align: top;\n",
       "    }\n",
       "\n",
       "    .dataframe thead th {\n",
       "        text-align: right;\n",
       "    }\n",
       "</style>\n",
       "<table border=\"1\" class=\"dataframe\">\n",
       "  <thead>\n",
       "    <tr style=\"text-align: right;\">\n",
       "      <th></th>\n",
       "      <th>MonthlyCharges</th>\n",
       "    </tr>\n",
       "    <tr>\n",
       "      <th>Type</th>\n",
       "      <th></th>\n",
       "    </tr>\n",
       "  </thead>\n",
       "  <tbody>\n",
       "    <tr>\n",
       "      <th>Month-to-month</th>\n",
       "      <td>66.398490</td>\n",
       "    </tr>\n",
       "    <tr>\n",
       "      <th>One year</th>\n",
       "      <td>65.048608</td>\n",
       "    </tr>\n",
       "    <tr>\n",
       "      <th>Two year</th>\n",
       "      <td>60.770413</td>\n",
       "    </tr>\n",
       "  </tbody>\n",
       "</table>\n",
       "</div>"
      ],
      "text/plain": [
       "                MonthlyCharges\n",
       "Type                          \n",
       "Month-to-month       66.398490\n",
       "One year             65.048608\n",
       "Two year             60.770413"
      ]
     },
     "execution_count": 8,
     "metadata": {},
     "output_type": "execute_result"
    }
   ],
   "source": [
    "contract.pivot_table(index='Type', values='MonthlyCharges')"
   ]
  },
  {
   "cell_type": "markdown",
   "metadata": {
    "id": "LSe1pFgXF2Vt"
   },
   "source": [
    "Таблица выглядит логично, чем больше срок оплаты тем меньше цена, но тут нет учета доп. услуг которые так же влияют на цену."
   ]
  },
  {
   "cell_type": "code",
   "execution_count": 9,
   "metadata": {
    "colab": {
     "base_uri": "https://localhost:8080/",
     "height": 391
    },
    "id": "KghixXkaF2Vu",
    "outputId": "2a64be19-0fc5-477a-86c1-4ac1932fc20a"
   },
   "outputs": [
    {
     "data": {
      "text/plain": [
       "<AxesSubplot:>"
      ]
     },
     "execution_count": 9,
     "metadata": {},
     "output_type": "execute_result"
    },
    {
     "data": {
      "image/png": "[encoded data removed]",
      "text/plain": [
       "<Figure size 864x432 with 1 Axes>"
      ]
     },
     "metadata": {
      "needs_background": "light"
     },
     "output_type": "display_data"
    }
   ],
   "source": [
    "# Взгляним на распределение признака `MonthlyCharges`\n",
    "contract['MonthlyCharges'].hist(bins=50, figsize=(12,6))"
   ]
  },
  {
   "cell_type": "markdown",
   "metadata": {
    "id": "sIiBHdNvF2Vu"
   },
   "source": [
    "Выглядит он странно, есть выброс в значениях >20, и вообще признак хранит очень много значений."
   ]
  },
  {
   "cell_type": "markdown",
   "metadata": {
    "id": "3JYl4hwIF2Vv"
   },
   "source": [
    "Признак `TotalCharges` должен хранить совсем разные значения, взависимости от продолжительности пользования клиентом услугами компаниями."
   ]
  },
  {
   "cell_type": "markdown",
   "metadata": {
    "id": "qrF0fnFxF2Vv"
   },
   "source": [
    "**Вывод :**\n",
    "\n",
    "Датасет необходим в предобработке, необходимо изменить тип данных, в колонках `BeginDate`, `EndDate` - на `datetime` и `MonthlyCharges`, `TotalCharges` на `float`\n",
    "\n",
    "Пользователи подключатся и отключаются 1го числа месяца.\n",
    "\n",
    "Необходимо подробнее изучить ежемесячную оплату, изучить выброс в ней и распредение."
   ]
  },
  {
   "cell_type": "markdown",
   "metadata": {
    "id": "teaUGrpuF2Vx"
   },
   "source": [
    "### personal"
   ]
  },
  {
   "cell_type": "markdown",
   "metadata": {
    "id": "274sk9FZF2Vy"
   },
   "source": [
    "Перейдем к слейдующему набору данных `personal`."
   ]
  },
  {
   "cell_type": "code",
   "execution_count": 10,
   "metadata": {
    "colab": {
     "base_uri": "https://localhost:8080/",
     "height": 235
    },
    "id": "dZYzfV0KF2Vy",
    "outputId": "ff00b950-0080-4c04-c6b9-151a4c0ad909"
   },
   "outputs": [
    {
     "data": {
      "text/html": [
       "<div>\n",
       "<style scoped>\n",
       "    .dataframe tbody tr th:only-of-type {\n",
       "        vertical-align: middle;\n",
       "    }\n",
       "\n",
       "    .dataframe tbody tr th {\n",
       "        vertical-align: top;\n",
       "    }\n",
       "\n",
       "    .dataframe thead th {\n",
       "        text-align: right;\n",
       "    }\n",
       "</style>\n",
       "<table border=\"1\" class=\"dataframe\">\n",
       "  <thead>\n",
       "    <tr style=\"text-align: right;\">\n",
       "      <th></th>\n",
       "      <th>gender</th>\n",
       "      <th>SeniorCitizen</th>\n",
       "      <th>Partner</th>\n",
       "      <th>Dependents</th>\n",
       "    </tr>\n",
       "    <tr>\n",
       "      <th>customerID</th>\n",
       "      <th></th>\n",
       "      <th></th>\n",
       "      <th></th>\n",
       "      <th></th>\n",
       "    </tr>\n",
       "  </thead>\n",
       "  <tbody>\n",
       "    <tr>\n",
       "      <th>7590-VHVEG</th>\n",
       "      <td>Female</td>\n",
       "      <td>0</td>\n",
       "      <td>Yes</td>\n",
       "      <td>No</td>\n",
       "    </tr>\n",
       "    <tr>\n",
       "      <th>5575-GNVDE</th>\n",
       "      <td>Male</td>\n",
       "      <td>0</td>\n",
       "      <td>No</td>\n",
       "      <td>No</td>\n",
       "    </tr>\n",
       "    <tr>\n",
       "      <th>3668-QPYBK</th>\n",
       "      <td>Male</td>\n",
       "      <td>0</td>\n",
       "      <td>No</td>\n",
       "      <td>No</td>\n",
       "    </tr>\n",
       "    <tr>\n",
       "      <th>7795-CFOCW</th>\n",
       "      <td>Male</td>\n",
       "      <td>0</td>\n",
       "      <td>No</td>\n",
       "      <td>No</td>\n",
       "    </tr>\n",
       "    <tr>\n",
       "      <th>9237-HQITU</th>\n",
       "      <td>Female</td>\n",
       "      <td>0</td>\n",
       "      <td>No</td>\n",
       "      <td>No</td>\n",
       "    </tr>\n",
       "  </tbody>\n",
       "</table>\n",
       "</div>"
      ],
      "text/plain": [
       "            gender  SeniorCitizen Partner Dependents\n",
       "customerID                                          \n",
       "7590-VHVEG  Female              0     Yes         No\n",
       "5575-GNVDE    Male              0      No         No\n",
       "3668-QPYBK    Male              0      No         No\n",
       "7795-CFOCW    Male              0      No         No\n",
       "9237-HQITU  Female              0      No         No"
      ]
     },
     "execution_count": 10,
     "metadata": {},
     "output_type": "execute_result"
    }
   ],
   "source": [
    "personal.head()"
   ]
  },
  {
   "cell_type": "code",
   "execution_count": 11,
   "metadata": {
    "colab": {
     "base_uri": "https://localhost:8080/"
    },
    "id": "gXyh-yDMF2Vz",
    "outputId": "abf3d788-dc01-4413-9b36-b6d81107126e"
   },
   "outputs": [
    {
     "name": "stdout",
     "output_type": "stream",
     "text": [
      "<class 'pandas.core.frame.DataFrame'>\n",
      "Index: 7043 entries, 7590-VHVEG to 3186-AJIEK\n",
      "Data columns (total 4 columns):\n",
      " #   Column         Non-Null Count  Dtype \n",
      "---  ------         --------------  ----- \n",
      " 0   gender         7043 non-null   object\n",
      " 1   SeniorCitizen  7043 non-null   int64 \n",
      " 2   Partner        7043 non-null   object\n",
      " 3   Dependents     7043 non-null   object\n",
      "dtypes: int64(1), object(3)\n",
      "memory usage: 275.1+ KB\n"
     ]
    }
   ],
   "source": [
    "personal.info()"
   ]
  },
  {
   "cell_type": "markdown",
   "metadata": {
    "id": "CaXpUmZiF2Vz"
   },
   "source": [
    "В данных присутсвуюет каждый пользователь.\n",
    "\n",
    "Првоерим теже ли это пользователи."
   ]
  },
  {
   "cell_type": "code",
   "execution_count": 12,
   "metadata": {
    "colab": {
     "base_uri": "https://localhost:8080/"
    },
    "id": "pReDvNe4F2V0",
    "outputId": "d3a35f0e-8e88-4fd4-edf3-a2e759dd1ed9"
   },
   "outputs": [
    {
     "data": {
      "text/plain": [
       "array([ True,  True,  True, ...,  True,  True,  True])"
      ]
     },
     "execution_count": 12,
     "metadata": {},
     "output_type": "execute_result"
    }
   ],
   "source": [
    "personal.index == contract.index"
   ]
  },
  {
   "cell_type": "markdown",
   "metadata": {
    "id": "cdlyjbBVF2V0"
   },
   "source": [
    "Датасет не такого большего содержания, в нем можно оценить распределение, каждого параметра."
   ]
  },
  {
   "cell_type": "code",
   "execution_count": 13,
   "metadata": {
    "colab": {
     "base_uri": "https://localhost:8080/",
     "height": 281
    },
    "id": "K70LpztzF2V1",
    "outputId": "79a6f34e-1881-4a11-e9ef-974619369ec7"
   },
   "outputs": [
    {
     "data": {
      "image/png": "[encoded data removed]",
      "text/plain": [
       "<Figure size 432x288 with 1 Axes>"
      ]
     },
     "metadata": {
      "needs_background": "light"
     },
     "output_type": "display_data"
    }
   ],
   "source": [
    "personal['gender'].hist()\n",
    "plt.title('Гендер клиента');"
   ]
  },
  {
   "cell_type": "markdown",
   "metadata": {
    "id": "Dzka7iLkF2V1"
   },
   "source": [
    "Гендеры, распределены почти поровну."
   ]
  },
  {
   "cell_type": "code",
   "execution_count": 14,
   "metadata": {
    "colab": {
     "base_uri": "https://localhost:8080/",
     "height": 281
    },
    "id": "RLzO5mtfF2V2",
    "outputId": "58eb3bd5-914b-46fa-f489-275060cad0b2"
   },
   "outputs": [
    {
     "data": {
      "image/png": "[encoded data removed]",
      "text/plain": [
       "<Figure size 432x288 with 1 Axes>"
      ]
     },
     "metadata": {
      "needs_background": "light"
     },
     "output_type": "display_data"
    }
   ],
   "source": [
    "personal['SeniorCitizen'].hist()\n",
    "plt.title('Статус пенсионера');"
   ]
  },
  {
   "cell_type": "markdown",
   "metadata": {
    "id": "tl3JNJscF2V2"
   },
   "source": [
    "Стариков значительно меньше."
   ]
  },
  {
   "cell_type": "code",
   "execution_count": 15,
   "metadata": {
    "colab": {
     "base_uri": "https://localhost:8080/",
     "height": 281
    },
    "id": "MLPwWf7yF2V3",
    "outputId": "264e1dd7-73d5-4305-da8d-8178cf90481c"
   },
   "outputs": [
    {
     "data": {
      "image/png": "[encoded data removed]",
      "text/plain": [
       "<Figure size 432x288 with 1 Axes>"
      ]
     },
     "metadata": {
      "needs_background": "light"
     },
     "output_type": "display_data"
    }
   ],
   "source": [
    "personal['Partner'].hist()\n",
    "plt.title('Наличие партнера');"
   ]
  },
  {
   "cell_type": "markdown",
   "metadata": {
    "id": "NLR-siZMF2V3"
   },
   "source": [
    "Не большой перевес в пользу холостяков."
   ]
  },
  {
   "cell_type": "code",
   "execution_count": 16,
   "metadata": {
    "colab": {
     "base_uri": "https://localhost:8080/",
     "height": 281
    },
    "id": "cmt8UkAWF2V4",
    "outputId": "9e8900dd-69ae-47d0-d90b-7b5751c5d77c"
   },
   "outputs": [
    {
     "data": {
      "image/png": "[encoded data removed]",
      "text/plain": [
       "<Figure size 432x288 with 1 Axes>"
      ]
     },
     "metadata": {
      "needs_background": "light"
     },
     "output_type": "display_data"
    }
   ],
   "source": [
    "personal['Dependents'].hist()\n",
    "plt.title('Наличие иждевенца');"
   ]
  },
  {
   "cell_type": "markdown",
   "metadata": {
    "id": "a5IRknJfF2V4"
   },
   "source": [
    "Так же виден перевес в сторону клиентов у которых "
   ]
  },
  {
   "cell_type": "markdown",
   "metadata": {
    "id": "fBqoKbLMF2V4"
   },
   "source": [
    "**Вывод :**\n",
    "\n",
    "В датасете о персональных данных, мы посмотрели на распределение в каждой категории среди пользователей, по этим данным можно сложить впечатление какие пользователи чаще является клиентами оператора. "
   ]
  },
  {
   "cell_type": "markdown",
   "metadata": {
    "id": "8Iw0tTvOF2V5"
   },
   "source": [
    "### internet"
   ]
  },
  {
   "cell_type": "markdown",
   "metadata": {
    "id": "v3NgNxNNF2V5"
   },
   "source": [
    "Слейдующем дата сетом будет `internet`"
   ]
  },
  {
   "cell_type": "code",
   "execution_count": 17,
   "metadata": {
    "colab": {
     "base_uri": "https://localhost:8080/",
     "height": 235
    },
    "id": "y8YjR-JxF2V6",
    "outputId": "686f4ddb-97f0-4d29-a54a-7b2aaa890761"
   },
   "outputs": [
    {
     "data": {
      "text/html": [
       "<div>\n",
       "<style scoped>\n",
       "    .dataframe tbody tr th:only-of-type {\n",
       "        vertical-align: middle;\n",
       "    }\n",
       "\n",
       "    .dataframe tbody tr th {\n",
       "        vertical-align: top;\n",
       "    }\n",
       "\n",
       "    .dataframe thead th {\n",
       "        text-align: right;\n",
       "    }\n",
       "</style>\n",
       "<table border=\"1\" class=\"dataframe\">\n",
       "  <thead>\n",
       "    <tr style=\"text-align: right;\">\n",
       "      <th></th>\n",
       "      <th>InternetService</th>\n",
       "      <th>OnlineSecurity</th>\n",
       "      <th>OnlineBackup</th>\n",
       "      <th>DeviceProtection</th>\n",
       "      <th>TechSupport</th>\n",
       "      <th>StreamingTV</th>\n",
       "      <th>StreamingMovies</th>\n",
       "    </tr>\n",
       "    <tr>\n",
       "      <th>customerID</th>\n",
       "      <th></th>\n",
       "      <th></th>\n",
       "      <th></th>\n",
       "      <th></th>\n",
       "      <th></th>\n",
       "      <th></th>\n",
       "      <th></th>\n",
       "    </tr>\n",
       "  </thead>\n",
       "  <tbody>\n",
       "    <tr>\n",
       "      <th>7590-VHVEG</th>\n",
       "      <td>DSL</td>\n",
       "      <td>No</td>\n",
       "      <td>Yes</td>\n",
       "      <td>No</td>\n",
       "      <td>No</td>\n",
       "      <td>No</td>\n",
       "      <td>No</td>\n",
       "    </tr>\n",
       "    <tr>\n",
       "      <th>5575-GNVDE</th>\n",
       "      <td>DSL</td>\n",
       "      <td>Yes</td>\n",
       "      <td>No</td>\n",
       "      <td>Yes</td>\n",
       "      <td>No</td>\n",
       "      <td>No</td>\n",
       "      <td>No</td>\n",
       "    </tr>\n",
       "    <tr>\n",
       "      <th>3668-QPYBK</th>\n",
       "      <td>DSL</td>\n",
       "      <td>Yes</td>\n",
       "      <td>Yes</td>\n",
       "      <td>No</td>\n",
       "      <td>No</td>\n",
       "      <td>No</td>\n",
       "      <td>No</td>\n",
       "    </tr>\n",
       "    <tr>\n",
       "      <th>7795-CFOCW</th>\n",
       "      <td>DSL</td>\n",
       "      <td>Yes</td>\n",
       "      <td>No</td>\n",
       "      <td>Yes</td>\n",
       "      <td>Yes</td>\n",
       "      <td>No</td>\n",
       "      <td>No</td>\n",
       "    </tr>\n",
       "    <tr>\n",
       "      <th>9237-HQITU</th>\n",
       "      <td>Fiber optic</td>\n",
       "      <td>No</td>\n",
       "      <td>No</td>\n",
       "      <td>No</td>\n",
       "      <td>No</td>\n",
       "      <td>No</td>\n",
       "      <td>No</td>\n",
       "    </tr>\n",
       "  </tbody>\n",
       "</table>\n",
       "</div>"
      ],
      "text/plain": [
       "           InternetService OnlineSecurity OnlineBackup DeviceProtection  \\\n",
       "customerID                                                                \n",
       "7590-VHVEG             DSL             No          Yes               No   \n",
       "5575-GNVDE             DSL            Yes           No              Yes   \n",
       "3668-QPYBK             DSL            Yes          Yes               No   \n",
       "7795-CFOCW             DSL            Yes           No              Yes   \n",
       "9237-HQITU     Fiber optic             No           No               No   \n",
       "\n",
       "           TechSupport StreamingTV StreamingMovies  \n",
       "customerID                                          \n",
       "7590-VHVEG          No          No              No  \n",
       "5575-GNVDE          No          No              No  \n",
       "3668-QPYBK          No          No              No  \n",
       "7795-CFOCW         Yes          No              No  \n",
       "9237-HQITU          No          No              No  "
      ]
     },
     "execution_count": 17,
     "metadata": {},
     "output_type": "execute_result"
    }
   ],
   "source": [
    "internet.head()"
   ]
  },
  {
   "cell_type": "code",
   "execution_count": 18,
   "metadata": {
    "colab": {
     "base_uri": "https://localhost:8080/"
    },
    "id": "LAu-kFCeF2V6",
    "outputId": "e4fc6e82-6fbc-4a4d-de80-e841583bff49"
   },
   "outputs": [
    {
     "name": "stdout",
     "output_type": "stream",
     "text": [
      "<class 'pandas.core.frame.DataFrame'>\n",
      "Index: 5517 entries, 7590-VHVEG to 3186-AJIEK\n",
      "Data columns (total 7 columns):\n",
      " #   Column            Non-Null Count  Dtype \n",
      "---  ------            --------------  ----- \n",
      " 0   InternetService   5517 non-null   object\n",
      " 1   OnlineSecurity    5517 non-null   object\n",
      " 2   OnlineBackup      5517 non-null   object\n",
      " 3   DeviceProtection  5517 non-null   object\n",
      " 4   TechSupport       5517 non-null   object\n",
      " 5   StreamingTV       5517 non-null   object\n",
      " 6   StreamingMovies   5517 non-null   object\n",
      "dtypes: object(7)\n",
      "memory usage: 344.8+ KB\n"
     ]
    }
   ],
   "source": [
    "internet.info()"
   ]
  },
  {
   "cell_type": "markdown",
   "metadata": {
    "id": "BR_CUAlqF2V7"
   },
   "source": [
    "В этом наборе данных присутсвуют уже не все пользователи, что логично так как не все подключают у одного и того же оператора мобильную связь и домашний интернет, в следующем дата сете ситуация с отсутсвием какого-то колличества пользователей должна повториться."
   ]
  },
  {
   "cell_type": "markdown",
   "metadata": {
    "id": "AwMA5hguF2V7"
   },
   "source": [
    "В данных присутсвует бинарная классификация внутри каждого признака, посмотрим на каждый признак отдельно."
   ]
  },
  {
   "cell_type": "code",
   "execution_count": 19,
   "metadata": {
    "colab": {
     "base_uri": "https://localhost:8080/",
     "height": 281
    },
    "id": "4akWNp4LF2V8",
    "outputId": "9b1b4c0f-dfbf-4678-e47e-6f4b34bc6c7a"
   },
   "outputs": [
    {
     "data": {
      "image/png": "[encoded data removed]",
      "text/plain": [
       "<Figure size 432x288 with 1 Axes>"
      ]
     },
     "metadata": {
      "needs_background": "light"
     },
     "output_type": "display_data"
    }
   ],
   "source": [
    "internet['InternetService'].hist()\n",
    "plt.title('Тип интернет подключения');"
   ]
  },
  {
   "cell_type": "markdown",
   "metadata": {
    "id": "lvaTnTDTF2V8"
   },
   "source": [
    "Оптоволокно выбирают чаще."
   ]
  },
  {
   "cell_type": "code",
   "execution_count": 20,
   "metadata": {
    "colab": {
     "base_uri": "https://localhost:8080/",
     "height": 281
    },
    "id": "3w7azxCoF2V8",
    "outputId": "cb58c2eb-06ee-442c-94e2-e9041451d628"
   },
   "outputs": [
    {
     "data": {
      "image/png": "[encoded data removed]",
      "text/plain": [
       "<Figure size 432x288 with 1 Axes>"
      ]
     },
     "metadata": {
      "needs_background": "light"
     },
     "output_type": "display_data"
    }
   ],
   "source": [
    "internet['OnlineSecurity'].hist()\n",
    "plt.title('Блокировка небезопасных сайтов');"
   ]
  },
  {
   "cell_type": "code",
   "execution_count": 21,
   "metadata": {
    "colab": {
     "base_uri": "https://localhost:8080/",
     "height": 281
    },
    "id": "qgJfkdZSF2V9",
    "outputId": "e06039e4-8273-4ee9-e06e-c9da9a33d919"
   },
   "outputs": [
    {
     "data": {
      "image/png": "[encoded data removed]",
      "text/plain": [
       "<Figure size 432x288 with 1 Axes>"
      ]
     },
     "metadata": {
      "needs_background": "light"
     },
     "output_type": "display_data"
    }
   ],
   "source": [
    "internet['OnlineBackup'].hist()\n",
    "plt.title('Облачное хранилище');"
   ]
  },
  {
   "cell_type": "code",
   "execution_count": 22,
   "metadata": {
    "colab": {
     "base_uri": "https://localhost:8080/",
     "height": 281
    },
    "id": "VEc_8SisF2V9",
    "outputId": "204a81b3-c640-4a62-a135-9524aadd7bb1"
   },
   "outputs": [
    {
     "data": {
      "image/png": "[encoded data removed]",
      "text/plain": [
       "<Figure size 432x288 with 1 Axes>"
      ]
     },
     "metadata": {
      "needs_background": "light"
     },
     "output_type": "display_data"
    }
   ],
   "source": [
    "internet['DeviceProtection'].hist()\n",
    "plt.title('Интернет-безопасность');"
   ]
  },
  {
   "cell_type": "code",
   "execution_count": 23,
   "metadata": {
    "colab": {
     "base_uri": "https://localhost:8080/",
     "height": 281
    },
    "id": "x40A3p22F2V-",
    "outputId": "005bbc12-41c1-4ca3-b979-48a15fdfddcc"
   },
   "outputs": [
    {
     "data": {
      "image/png": "[encoded data removed]",
      "text/plain": [
       "<Figure size 432x288 with 1 Axes>"
      ]
     },
     "metadata": {
      "needs_background": "light"
     },
     "output_type": "display_data"
    }
   ],
   "source": [
    "internet['TechSupport'].hist()\n",
    "plt.title('Выделенная линия технической поддержки');"
   ]
  },
  {
   "cell_type": "markdown",
   "metadata": {
    "id": "3yz_XLemF2V-"
   },
   "source": [
    "Пользователи чаще отказываються от доп. услуг для безопастности."
   ]
  },
  {
   "cell_type": "code",
   "execution_count": 24,
   "metadata": {
    "colab": {
     "base_uri": "https://localhost:8080/",
     "height": 281
    },
    "id": "i4L1tjElF2V_",
    "outputId": "cd1964c1-b5bf-43ec-d7ba-c9c4bae86b20"
   },
   "outputs": [
    {
     "data": {
      "image/png": "[encoded data removed]",
      "text/plain": [
       "<Figure size 432x288 with 1 Axes>"
      ]
     },
     "metadata": {
      "needs_background": "light"
     },
     "output_type": "display_data"
    }
   ],
   "source": [
    "internet['StreamingTV'].hist()\n",
    "plt.title('Стриминговое телевидение');"
   ]
  },
  {
   "cell_type": "code",
   "execution_count": 25,
   "metadata": {
    "colab": {
     "base_uri": "https://localhost:8080/",
     "height": 281
    },
    "id": "X8g9LLBQF2V_",
    "outputId": "81e77743-ed6a-4724-fa64-70cd77ffd0d8"
   },
   "outputs": [
    {
     "data": {
      "image/png": "[encoded data removed]",
      "text/plain": [
       "<Figure size 432x288 with 1 Axes>"
      ]
     },
     "metadata": {
      "needs_background": "light"
     },
     "output_type": "display_data"
    }
   ],
   "source": [
    "internet['StreamingMovies'].hist()\n",
    "plt.title('Каталог фильмов');"
   ]
  },
  {
   "cell_type": "markdown",
   "metadata": {
    "id": "GVLbrxOzF2WA"
   },
   "source": [
    "В стриминговых услугах почти равное распределение пользователей."
   ]
  },
  {
   "cell_type": "markdown",
   "metadata": {
    "id": "z-8iJgOMF2WA"
   },
   "source": [
    "**Вывод :**\n",
    "\n",
    "У большенства пользователей, подключен оптоволоконный кабель, DSL обладает меньшей скоростью и его ставят обычно там где нет возможности провести оптоволоконный кабель например в частных домах. \n",
    "\n",
    "Пользователи чаще выбирают отказаться, от доп услуг, что логично обычно пользователя уже стоят какие-то антивирусы или пользователь отдает свое предпочтение другим, а кто-то возможно вообще не знает, для чего они).\n",
    "\n",
    "Но с стрименговыми сервисами дела обстоят немного по другому примерно поровну распределены, те кто подключают и не подключат, что тоже как мне кажеться логичным, так как обычно тв подключают в месте с интернетом, а кому-то тв не нужен и пользуются, только интернетом."
   ]
  },
  {
   "cell_type": "markdown",
   "metadata": {
    "id": "SIjkVFsiF2WB"
   },
   "source": [
    "### phone"
   ]
  },
  {
   "cell_type": "markdown",
   "metadata": {
    "id": "xTPGScHAF2WB"
   },
   "source": [
    "Финальный датасет содержит информацию о пользователях у которых подключена возможности ведения параллельных линий во время звонка"
   ]
  },
  {
   "cell_type": "code",
   "execution_count": 26,
   "metadata": {
    "colab": {
     "base_uri": "https://localhost:8080/",
     "height": 235
    },
    "id": "DLBl4dpQF2WC",
    "outputId": "e9b50be8-03fe-4a2c-a3c5-f3281e8397c1"
   },
   "outputs": [
    {
     "data": {
      "text/html": [
       "<div>\n",
       "<style scoped>\n",
       "    .dataframe tbody tr th:only-of-type {\n",
       "        vertical-align: middle;\n",
       "    }\n",
       "\n",
       "    .dataframe tbody tr th {\n",
       "        vertical-align: top;\n",
       "    }\n",
       "\n",
       "    .dataframe thead th {\n",
       "        text-align: right;\n",
       "    }\n",
       "</style>\n",
       "<table border=\"1\" class=\"dataframe\">\n",
       "  <thead>\n",
       "    <tr style=\"text-align: right;\">\n",
       "      <th></th>\n",
       "      <th>MultipleLines</th>\n",
       "    </tr>\n",
       "    <tr>\n",
       "      <th>customerID</th>\n",
       "      <th></th>\n",
       "    </tr>\n",
       "  </thead>\n",
       "  <tbody>\n",
       "    <tr>\n",
       "      <th>5575-GNVDE</th>\n",
       "      <td>No</td>\n",
       "    </tr>\n",
       "    <tr>\n",
       "      <th>3668-QPYBK</th>\n",
       "      <td>No</td>\n",
       "    </tr>\n",
       "    <tr>\n",
       "      <th>9237-HQITU</th>\n",
       "      <td>No</td>\n",
       "    </tr>\n",
       "    <tr>\n",
       "      <th>9305-CDSKC</th>\n",
       "      <td>Yes</td>\n",
       "    </tr>\n",
       "    <tr>\n",
       "      <th>1452-KIOVK</th>\n",
       "      <td>Yes</td>\n",
       "    </tr>\n",
       "  </tbody>\n",
       "</table>\n",
       "</div>"
      ],
      "text/plain": [
       "           MultipleLines\n",
       "customerID              \n",
       "5575-GNVDE            No\n",
       "3668-QPYBK            No\n",
       "9237-HQITU            No\n",
       "9305-CDSKC           Yes\n",
       "1452-KIOVK           Yes"
      ]
     },
     "execution_count": 26,
     "metadata": {},
     "output_type": "execute_result"
    }
   ],
   "source": [
    "phone.head()"
   ]
  },
  {
   "cell_type": "code",
   "execution_count": 27,
   "metadata": {
    "colab": {
     "base_uri": "https://localhost:8080/"
    },
    "id": "9ziw0pRsF2WC",
    "outputId": "19a1074c-994d-44cf-9d54-ca104aed028a"
   },
   "outputs": [
    {
     "name": "stdout",
     "output_type": "stream",
     "text": [
      "<class 'pandas.core.frame.DataFrame'>\n",
      "Index: 6361 entries, 5575-GNVDE to 3186-AJIEK\n",
      "Data columns (total 1 columns):\n",
      " #   Column         Non-Null Count  Dtype \n",
      "---  ------         --------------  ----- \n",
      " 0   MultipleLines  6361 non-null   object\n",
      "dtypes: object(1)\n",
      "memory usage: 99.4+ KB\n"
     ]
    }
   ],
   "source": [
    "phone.info()"
   ]
  },
  {
   "cell_type": "markdown",
   "metadata": {
    "id": "vFwz831UF2WD"
   },
   "source": [
    "Так же не все пользователи попали в данные."
   ]
  },
  {
   "cell_type": "code",
   "execution_count": 28,
   "metadata": {
    "colab": {
     "base_uri": "https://localhost:8080/",
     "height": 281
    },
    "id": "BlMPa7RSF2WD",
    "outputId": "9362a849-5c43-4b29-c90e-d44c63c08ee9"
   },
   "outputs": [
    {
     "data": {
      "image/png": "[encoded data removed]",
      "text/plain": [
       "<Figure size 432x288 with 1 Axes>"
      ]
     },
     "metadata": {
      "needs_background": "light"
     },
     "output_type": "display_data"
    }
   ],
   "source": [
    "phone['MultipleLines'].hist()\n",
    "plt.title('Возможность ведения параллельных линий');"
   ]
  },
  {
   "cell_type": "markdown",
   "metadata": {
    "id": "n2ZKJcc-F2WE"
   },
   "source": [
    "**Вывод :**\n",
    "\n",
    "Не большой перевес, в стороону пользователей у которых отсутсвует данная функция."
   ]
  },
  {
   "cell_type": "markdown",
   "metadata": {
    "id": "OzUj5VSTHsch"
   },
   "source": [
    "# Предобработка"
   ]
  },
  {
   "cell_type": "markdown",
   "metadata": {
    "id": "BJVOxbXKF_tk"
   },
   "source": [
    "Добавим колонку с целевым признаком, отражающий факт ухода уклиента."
   ]
  },
  {
   "cell_type": "code",
   "execution_count": 29,
   "metadata": {
    "id": "6fQDqkNUkFeU"
   },
   "outputs": [],
   "source": [
    "contract['Churn'] = (contract['EndDate'] != 'No').astype(int)"
   ]
  },
  {
   "cell_type": "code",
   "execution_count": 30,
   "metadata": {
    "colab": {
     "base_uri": "https://localhost:8080/",
     "height": 235
    },
    "id": "FbEfBI8CktUZ",
    "outputId": "d352136e-df69-49c3-8999-6e1b4a61b0e3"
   },
   "outputs": [
    {
     "data": {
      "text/html": [
       "<div>\n",
       "<style scoped>\n",
       "    .dataframe tbody tr th:only-of-type {\n",
       "        vertical-align: middle;\n",
       "    }\n",
       "\n",
       "    .dataframe tbody tr th {\n",
       "        vertical-align: top;\n",
       "    }\n",
       "\n",
       "    .dataframe thead th {\n",
       "        text-align: right;\n",
       "    }\n",
       "</style>\n",
       "<table border=\"1\" class=\"dataframe\">\n",
       "  <thead>\n",
       "    <tr style=\"text-align: right;\">\n",
       "      <th></th>\n",
       "      <th>BeginDate</th>\n",
       "      <th>EndDate</th>\n",
       "      <th>Type</th>\n",
       "      <th>PaperlessBilling</th>\n",
       "      <th>PaymentMethod</th>\n",
       "      <th>MonthlyCharges</th>\n",
       "      <th>TotalCharges</th>\n",
       "      <th>Churn</th>\n",
       "    </tr>\n",
       "    <tr>\n",
       "      <th>customerID</th>\n",
       "      <th></th>\n",
       "      <th></th>\n",
       "      <th></th>\n",
       "      <th></th>\n",
       "      <th></th>\n",
       "      <th></th>\n",
       "      <th></th>\n",
       "      <th></th>\n",
       "    </tr>\n",
       "  </thead>\n",
       "  <tbody>\n",
       "    <tr>\n",
       "      <th>7590-VHVEG</th>\n",
       "      <td>2020-01-01</td>\n",
       "      <td>No</td>\n",
       "      <td>Month-to-month</td>\n",
       "      <td>Yes</td>\n",
       "      <td>Electronic check</td>\n",
       "      <td>29.85</td>\n",
       "      <td>29.85</td>\n",
       "      <td>0</td>\n",
       "    </tr>\n",
       "    <tr>\n",
       "      <th>5575-GNVDE</th>\n",
       "      <td>2017-04-01</td>\n",
       "      <td>No</td>\n",
       "      <td>One year</td>\n",
       "      <td>No</td>\n",
       "      <td>Mailed check</td>\n",
       "      <td>56.95</td>\n",
       "      <td>1889.5</td>\n",
       "      <td>0</td>\n",
       "    </tr>\n",
       "    <tr>\n",
       "      <th>3668-QPYBK</th>\n",
       "      <td>2019-10-01</td>\n",
       "      <td>2019-12-01 00:00:00</td>\n",
       "      <td>Month-to-month</td>\n",
       "      <td>Yes</td>\n",
       "      <td>Mailed check</td>\n",
       "      <td>53.85</td>\n",
       "      <td>108.15</td>\n",
       "      <td>1</td>\n",
       "    </tr>\n",
       "    <tr>\n",
       "      <th>7795-CFOCW</th>\n",
       "      <td>2016-05-01</td>\n",
       "      <td>No</td>\n",
       "      <td>One year</td>\n",
       "      <td>No</td>\n",
       "      <td>Bank transfer (automatic)</td>\n",
       "      <td>42.30</td>\n",
       "      <td>1840.75</td>\n",
       "      <td>0</td>\n",
       "    </tr>\n",
       "    <tr>\n",
       "      <th>9237-HQITU</th>\n",
       "      <td>2019-09-01</td>\n",
       "      <td>2019-11-01 00:00:00</td>\n",
       "      <td>Month-to-month</td>\n",
       "      <td>Yes</td>\n",
       "      <td>Electronic check</td>\n",
       "      <td>70.70</td>\n",
       "      <td>151.65</td>\n",
       "      <td>1</td>\n",
       "    </tr>\n",
       "  </tbody>\n",
       "</table>\n",
       "</div>"
      ],
      "text/plain": [
       "            BeginDate              EndDate            Type PaperlessBilling  \\\n",
       "customerID                                                                    \n",
       "7590-VHVEG 2020-01-01                   No  Month-to-month              Yes   \n",
       "5575-GNVDE 2017-04-01                   No        One year               No   \n",
       "3668-QPYBK 2019-10-01  2019-12-01 00:00:00  Month-to-month              Yes   \n",
       "7795-CFOCW 2016-05-01                   No        One year               No   \n",
       "9237-HQITU 2019-09-01  2019-11-01 00:00:00  Month-to-month              Yes   \n",
       "\n",
       "                        PaymentMethod  MonthlyCharges TotalCharges  Churn  \n",
       "customerID                                                                 \n",
       "7590-VHVEG           Electronic check           29.85        29.85      0  \n",
       "5575-GNVDE               Mailed check           56.95       1889.5      0  \n",
       "3668-QPYBK               Mailed check           53.85       108.15      1  \n",
       "7795-CFOCW  Bank transfer (automatic)           42.30      1840.75      0  \n",
       "9237-HQITU           Electronic check           70.70       151.65      1  "
      ]
     },
     "execution_count": 30,
     "metadata": {},
     "output_type": "execute_result"
    }
   ],
   "source": [
    "contract.head()"
   ]
  },
  {
   "cell_type": "markdown",
   "metadata": {
    "id": "FfHyh9J8IQub"
   },
   "source": [
    "Перобразуем тип данных у признаков `BeginDate`, `EndDate`, `MonthlyCharges`, `TotalCharges`"
   ]
  },
  {
   "cell_type": "code",
   "execution_count": 31,
   "metadata": {
    "id": "AS70fwkvI_Fs"
   },
   "outputs": [],
   "source": [
    "contract['BeginDate'] = pd.to_datetime(contract['BeginDate'])\n",
    "\n",
    "contract['MonthlyCharges'] = contract['MonthlyCharges'].astype(float)"
   ]
  },
  {
   "cell_type": "markdown",
   "metadata": {
    "id": "kQQq2W8pX_C9"
   },
   "source": [
    "В признаке `EndDate` значение \"No\" заполним финальной датой датасета и поменяем тип данных."
   ]
  },
  {
   "cell_type": "code",
   "execution_count": 32,
   "metadata": {
    "id": "No8u6_v_XUnl"
   },
   "outputs": [],
   "source": [
    "contract['EndDate'] = contract['EndDate'].where(contract['EndDate'] != 'No', '2020-02-01')\n",
    "\n",
    "contract['EndDate'] = pd.to_datetime(contract['EndDate'])"
   ]
  },
  {
   "cell_type": "markdown",
   "metadata": {
    "id": "pj6Jps3UN0jN"
   },
   "source": [
    "Перед тем как продолжить измененять тип данных, заполним пропуски в признаке `TotalCharges`"
   ]
  },
  {
   "cell_type": "code",
   "execution_count": 33,
   "metadata": {
    "colab": {
     "base_uri": "https://localhost:8080/",
     "height": 421
    },
    "id": "d-UbiBj_Myjv",
    "outputId": "a5af4eb9-2844-48c4-d32a-c1835d2e3918"
   },
   "outputs": [
    {
     "data": {
      "text/html": [
       "<div>\n",
       "<style scoped>\n",
       "    .dataframe tbody tr th:only-of-type {\n",
       "        vertical-align: middle;\n",
       "    }\n",
       "\n",
       "    .dataframe tbody tr th {\n",
       "        vertical-align: top;\n",
       "    }\n",
       "\n",
       "    .dataframe thead th {\n",
       "        text-align: right;\n",
       "    }\n",
       "</style>\n",
       "<table border=\"1\" class=\"dataframe\">\n",
       "  <thead>\n",
       "    <tr style=\"text-align: right;\">\n",
       "      <th></th>\n",
       "      <th>BeginDate</th>\n",
       "      <th>EndDate</th>\n",
       "      <th>Type</th>\n",
       "      <th>PaperlessBilling</th>\n",
       "      <th>PaymentMethod</th>\n",
       "      <th>MonthlyCharges</th>\n",
       "      <th>TotalCharges</th>\n",
       "      <th>Churn</th>\n",
       "    </tr>\n",
       "    <tr>\n",
       "      <th>customerID</th>\n",
       "      <th></th>\n",
       "      <th></th>\n",
       "      <th></th>\n",
       "      <th></th>\n",
       "      <th></th>\n",
       "      <th></th>\n",
       "      <th></th>\n",
       "      <th></th>\n",
       "    </tr>\n",
       "  </thead>\n",
       "  <tbody>\n",
       "    <tr>\n",
       "      <th>4472-LVYGI</th>\n",
       "      <td>2020-02-01</td>\n",
       "      <td>2020-02-01</td>\n",
       "      <td>Two year</td>\n",
       "      <td>Yes</td>\n",
       "      <td>Bank transfer (automatic)</td>\n",
       "      <td>52.55</td>\n",
       "      <td></td>\n",
       "      <td>0</td>\n",
       "    </tr>\n",
       "    <tr>\n",
       "      <th>3115-CZMZD</th>\n",
       "      <td>2020-02-01</td>\n",
       "      <td>2020-02-01</td>\n",
       "      <td>Two year</td>\n",
       "      <td>No</td>\n",
       "      <td>Mailed check</td>\n",
       "      <td>20.25</td>\n",
       "      <td></td>\n",
       "      <td>0</td>\n",
       "    </tr>\n",
       "    <tr>\n",
       "      <th>5709-LVOEQ</th>\n",
       "      <td>2020-02-01</td>\n",
       "      <td>2020-02-01</td>\n",
       "      <td>Two year</td>\n",
       "      <td>No</td>\n",
       "      <td>Mailed check</td>\n",
       "      <td>80.85</td>\n",
       "      <td></td>\n",
       "      <td>0</td>\n",
       "    </tr>\n",
       "    <tr>\n",
       "      <th>4367-NUYAO</th>\n",
       "      <td>2020-02-01</td>\n",
       "      <td>2020-02-01</td>\n",
       "      <td>Two year</td>\n",
       "      <td>No</td>\n",
       "      <td>Mailed check</td>\n",
       "      <td>25.75</td>\n",
       "      <td></td>\n",
       "      <td>0</td>\n",
       "    </tr>\n",
       "    <tr>\n",
       "      <th>1371-DWPAZ</th>\n",
       "      <td>2020-02-01</td>\n",
       "      <td>2020-02-01</td>\n",
       "      <td>Two year</td>\n",
       "      <td>No</td>\n",
       "      <td>Credit card (automatic)</td>\n",
       "      <td>56.05</td>\n",
       "      <td></td>\n",
       "      <td>0</td>\n",
       "    </tr>\n",
       "    <tr>\n",
       "      <th>7644-OMVMY</th>\n",
       "      <td>2020-02-01</td>\n",
       "      <td>2020-02-01</td>\n",
       "      <td>Two year</td>\n",
       "      <td>No</td>\n",
       "      <td>Mailed check</td>\n",
       "      <td>19.85</td>\n",
       "      <td></td>\n",
       "      <td>0</td>\n",
       "    </tr>\n",
       "    <tr>\n",
       "      <th>3213-VVOLG</th>\n",
       "      <td>2020-02-01</td>\n",
       "      <td>2020-02-01</td>\n",
       "      <td>Two year</td>\n",
       "      <td>No</td>\n",
       "      <td>Mailed check</td>\n",
       "      <td>25.35</td>\n",
       "      <td></td>\n",
       "      <td>0</td>\n",
       "    </tr>\n",
       "    <tr>\n",
       "      <th>2520-SGTTA</th>\n",
       "      <td>2020-02-01</td>\n",
       "      <td>2020-02-01</td>\n",
       "      <td>Two year</td>\n",
       "      <td>No</td>\n",
       "      <td>Mailed check</td>\n",
       "      <td>20.00</td>\n",
       "      <td></td>\n",
       "      <td>0</td>\n",
       "    </tr>\n",
       "    <tr>\n",
       "      <th>2923-ARZLG</th>\n",
       "      <td>2020-02-01</td>\n",
       "      <td>2020-02-01</td>\n",
       "      <td>One year</td>\n",
       "      <td>Yes</td>\n",
       "      <td>Mailed check</td>\n",
       "      <td>19.70</td>\n",
       "      <td></td>\n",
       "      <td>0</td>\n",
       "    </tr>\n",
       "    <tr>\n",
       "      <th>4075-WKNIU</th>\n",
       "      <td>2020-02-01</td>\n",
       "      <td>2020-02-01</td>\n",
       "      <td>Two year</td>\n",
       "      <td>No</td>\n",
       "      <td>Mailed check</td>\n",
       "      <td>73.35</td>\n",
       "      <td></td>\n",
       "      <td>0</td>\n",
       "    </tr>\n",
       "    <tr>\n",
       "      <th>2775-SEFEE</th>\n",
       "      <td>2020-02-01</td>\n",
       "      <td>2020-02-01</td>\n",
       "      <td>Two year</td>\n",
       "      <td>Yes</td>\n",
       "      <td>Bank transfer (automatic)</td>\n",
       "      <td>61.90</td>\n",
       "      <td></td>\n",
       "      <td>0</td>\n",
       "    </tr>\n",
       "  </tbody>\n",
       "</table>\n",
       "</div>"
      ],
      "text/plain": [
       "            BeginDate    EndDate      Type PaperlessBilling  \\\n",
       "customerID                                                    \n",
       "4472-LVYGI 2020-02-01 2020-02-01  Two year              Yes   \n",
       "3115-CZMZD 2020-02-01 2020-02-01  Two year               No   \n",
       "5709-LVOEQ 2020-02-01 2020-02-01  Two year               No   \n",
       "4367-NUYAO 2020-02-01 2020-02-01  Two year               No   \n",
       "1371-DWPAZ 2020-02-01 2020-02-01  Two year               No   \n",
       "7644-OMVMY 2020-02-01 2020-02-01  Two year               No   \n",
       "3213-VVOLG 2020-02-01 2020-02-01  Two year               No   \n",
       "2520-SGTTA 2020-02-01 2020-02-01  Two year               No   \n",
       "2923-ARZLG 2020-02-01 2020-02-01  One year              Yes   \n",
       "4075-WKNIU 2020-02-01 2020-02-01  Two year               No   \n",
       "2775-SEFEE 2020-02-01 2020-02-01  Two year              Yes   \n",
       "\n",
       "                        PaymentMethod  MonthlyCharges TotalCharges  Churn  \n",
       "customerID                                                                 \n",
       "4472-LVYGI  Bank transfer (automatic)           52.55                   0  \n",
       "3115-CZMZD               Mailed check           20.25                   0  \n",
       "5709-LVOEQ               Mailed check           80.85                   0  \n",
       "4367-NUYAO               Mailed check           25.75                   0  \n",
       "1371-DWPAZ    Credit card (automatic)           56.05                   0  \n",
       "7644-OMVMY               Mailed check           19.85                   0  \n",
       "3213-VVOLG               Mailed check           25.35                   0  \n",
       "2520-SGTTA               Mailed check           20.00                   0  \n",
       "2923-ARZLG               Mailed check           19.70                   0  \n",
       "4075-WKNIU               Mailed check           73.35                   0  \n",
       "2775-SEFEE  Bank transfer (automatic)           61.90                   0  "
      ]
     },
     "execution_count": 33,
     "metadata": {},
     "output_type": "execute_result"
    }
   ],
   "source": [
    "contract.query('TotalCharges ==  \" \"')"
   ]
  },
  {
   "cell_type": "code",
   "execution_count": 34,
   "metadata": {
    "id": "H9mtzubkJq5l"
   },
   "outputs": [],
   "source": [
    "contract.loc[contract['TotalCharges'] == \" \", 'TotalCharges'] = 0"
   ]
  },
  {
   "cell_type": "code",
   "execution_count": 35,
   "metadata": {
    "colab": {
     "base_uri": "https://localhost:8080/",
     "height": 80
    },
    "id": "g4YJzM-rOkd5",
    "outputId": "7403527b-2b9a-479a-b09c-175932f212b0"
   },
   "outputs": [
    {
     "data": {
      "text/html": [
       "<div>\n",
       "<style scoped>\n",
       "    .dataframe tbody tr th:only-of-type {\n",
       "        vertical-align: middle;\n",
       "    }\n",
       "\n",
       "    .dataframe tbody tr th {\n",
       "        vertical-align: top;\n",
       "    }\n",
       "\n",
       "    .dataframe thead th {\n",
       "        text-align: right;\n",
       "    }\n",
       "</style>\n",
       "<table border=\"1\" class=\"dataframe\">\n",
       "  <thead>\n",
       "    <tr style=\"text-align: right;\">\n",
       "      <th></th>\n",
       "      <th>BeginDate</th>\n",
       "      <th>EndDate</th>\n",
       "      <th>Type</th>\n",
       "      <th>PaperlessBilling</th>\n",
       "      <th>PaymentMethod</th>\n",
       "      <th>MonthlyCharges</th>\n",
       "      <th>TotalCharges</th>\n",
       "      <th>Churn</th>\n",
       "    </tr>\n",
       "    <tr>\n",
       "      <th>customerID</th>\n",
       "      <th></th>\n",
       "      <th></th>\n",
       "      <th></th>\n",
       "      <th></th>\n",
       "      <th></th>\n",
       "      <th></th>\n",
       "      <th></th>\n",
       "      <th></th>\n",
       "    </tr>\n",
       "  </thead>\n",
       "  <tbody>\n",
       "  </tbody>\n",
       "</table>\n",
       "</div>"
      ],
      "text/plain": [
       "Empty DataFrame\n",
       "Columns: [BeginDate, EndDate, Type, PaperlessBilling, PaymentMethod, MonthlyCharges, TotalCharges, Churn]\n",
       "Index: []"
      ]
     },
     "execution_count": 35,
     "metadata": {},
     "output_type": "execute_result"
    }
   ],
   "source": [
    "# Проверим результат\n",
    "contract.query('TotalCharges ==  \" \"')"
   ]
  },
  {
   "cell_type": "code",
   "execution_count": 36,
   "metadata": {
    "id": "ViieOLxWOl6q"
   },
   "outputs": [],
   "source": [
    "contract['TotalCharges'] = contract['TotalCharges'].astype(float)"
   ]
  },
  {
   "cell_type": "code",
   "execution_count": 37,
   "metadata": {
    "colab": {
     "base_uri": "https://localhost:8080/"
    },
    "id": "TUc0wp1BJjIl",
    "outputId": "fbdcf06a-ba52-4ffa-fa7b-9536cd8a4433"
   },
   "outputs": [
    {
     "name": "stdout",
     "output_type": "stream",
     "text": [
      "<class 'pandas.core.frame.DataFrame'>\n",
      "Index: 7043 entries, 7590-VHVEG to 3186-AJIEK\n",
      "Data columns (total 8 columns):\n",
      " #   Column            Non-Null Count  Dtype         \n",
      "---  ------            --------------  -----         \n",
      " 0   BeginDate         7043 non-null   datetime64[ns]\n",
      " 1   EndDate           7043 non-null   datetime64[ns]\n",
      " 2   Type              7043 non-null   object        \n",
      " 3   PaperlessBilling  7043 non-null   object        \n",
      " 4   PaymentMethod     7043 non-null   object        \n",
      " 5   MonthlyCharges    7043 non-null   float64       \n",
      " 6   TotalCharges      7043 non-null   float64       \n",
      " 7   Churn             7043 non-null   int64         \n",
      "dtypes: datetime64[ns](2), float64(2), int64(1), object(3)\n",
      "memory usage: 495.2+ KB\n"
     ]
    }
   ],
   "source": [
    "contract.info()"
   ]
  },
  {
   "cell_type": "markdown",
   "metadata": {
    "id": "ARwKvAy4PSPa"
   },
   "source": [
    "### Добавление признаков и объединение данных"
   ]
  },
  {
   "cell_type": "code",
   "execution_count": 38,
   "metadata": {
    "id": "GUfoQwiMPbHd"
   },
   "outputs": [],
   "source": [
    "data = contract.copy()"
   ]
  },
  {
   "cell_type": "markdown",
   "metadata": {
    "id": "J37h17-BacU7"
   },
   "source": [
    "#### Создание периода"
   ]
  },
  {
   "cell_type": "markdown",
   "metadata": {
    "id": "oRE9pBzUPm07"
   },
   "source": [
    "Выделим признак, какой период (в днях) пользователь пользовался услугами заказчика на момент 2020-02-01."
   ]
  },
  {
   "cell_type": "code",
   "execution_count": 39,
   "metadata": {
    "id": "Dptcr6oDIQOc"
   },
   "outputs": [],
   "source": [
    "data['Period'] = (data['EndDate'] - data['BeginDate']).dt.days"
   ]
  },
  {
   "cell_type": "code",
   "execution_count": 40,
   "metadata": {
    "colab": {
     "base_uri": "https://localhost:8080/",
     "height": 235
    },
    "id": "TArHUP1HIQVa",
    "outputId": "7bc2f647-87c9-4301-8cef-0b6f9a790989"
   },
   "outputs": [
    {
     "data": {
      "text/html": [
       "<div>\n",
       "<style scoped>\n",
       "    .dataframe tbody tr th:only-of-type {\n",
       "        vertical-align: middle;\n",
       "    }\n",
       "\n",
       "    .dataframe tbody tr th {\n",
       "        vertical-align: top;\n",
       "    }\n",
       "\n",
       "    .dataframe thead th {\n",
       "        text-align: right;\n",
       "    }\n",
       "</style>\n",
       "<table border=\"1\" class=\"dataframe\">\n",
       "  <thead>\n",
       "    <tr style=\"text-align: right;\">\n",
       "      <th></th>\n",
       "      <th>BeginDate</th>\n",
       "      <th>EndDate</th>\n",
       "      <th>Type</th>\n",
       "      <th>PaperlessBilling</th>\n",
       "      <th>PaymentMethod</th>\n",
       "      <th>MonthlyCharges</th>\n",
       "      <th>TotalCharges</th>\n",
       "      <th>Churn</th>\n",
       "      <th>Period</th>\n",
       "    </tr>\n",
       "    <tr>\n",
       "      <th>customerID</th>\n",
       "      <th></th>\n",
       "      <th></th>\n",
       "      <th></th>\n",
       "      <th></th>\n",
       "      <th></th>\n",
       "      <th></th>\n",
       "      <th></th>\n",
       "      <th></th>\n",
       "      <th></th>\n",
       "    </tr>\n",
       "  </thead>\n",
       "  <tbody>\n",
       "    <tr>\n",
       "      <th>7590-VHVEG</th>\n",
       "      <td>2020-01-01</td>\n",
       "      <td>2020-02-01</td>\n",
       "      <td>Month-to-month</td>\n",
       "      <td>Yes</td>\n",
       "      <td>Electronic check</td>\n",
       "      <td>29.85</td>\n",
       "      <td>29.85</td>\n",
       "      <td>0</td>\n",
       "      <td>31</td>\n",
       "    </tr>\n",
       "    <tr>\n",
       "      <th>5575-GNVDE</th>\n",
       "      <td>2017-04-01</td>\n",
       "      <td>2020-02-01</td>\n",
       "      <td>One year</td>\n",
       "      <td>No</td>\n",
       "      <td>Mailed check</td>\n",
       "      <td>56.95</td>\n",
       "      <td>1889.50</td>\n",
       "      <td>0</td>\n",
       "      <td>1036</td>\n",
       "    </tr>\n",
       "    <tr>\n",
       "      <th>3668-QPYBK</th>\n",
       "      <td>2019-10-01</td>\n",
       "      <td>2019-12-01</td>\n",
       "      <td>Month-to-month</td>\n",
       "      <td>Yes</td>\n",
       "      <td>Mailed check</td>\n",
       "      <td>53.85</td>\n",
       "      <td>108.15</td>\n",
       "      <td>1</td>\n",
       "      <td>61</td>\n",
       "    </tr>\n",
       "    <tr>\n",
       "      <th>7795-CFOCW</th>\n",
       "      <td>2016-05-01</td>\n",
       "      <td>2020-02-01</td>\n",
       "      <td>One year</td>\n",
       "      <td>No</td>\n",
       "      <td>Bank transfer (automatic)</td>\n",
       "      <td>42.30</td>\n",
       "      <td>1840.75</td>\n",
       "      <td>0</td>\n",
       "      <td>1371</td>\n",
       "    </tr>\n",
       "    <tr>\n",
       "      <th>9237-HQITU</th>\n",
       "      <td>2019-09-01</td>\n",
       "      <td>2019-11-01</td>\n",
       "      <td>Month-to-month</td>\n",
       "      <td>Yes</td>\n",
       "      <td>Electronic check</td>\n",
       "      <td>70.70</td>\n",
       "      <td>151.65</td>\n",
       "      <td>1</td>\n",
       "      <td>61</td>\n",
       "    </tr>\n",
       "  </tbody>\n",
       "</table>\n",
       "</div>"
      ],
      "text/plain": [
       "            BeginDate    EndDate            Type PaperlessBilling  \\\n",
       "customerID                                                          \n",
       "7590-VHVEG 2020-01-01 2020-02-01  Month-to-month              Yes   \n",
       "5575-GNVDE 2017-04-01 2020-02-01        One year               No   \n",
       "3668-QPYBK 2019-10-01 2019-12-01  Month-to-month              Yes   \n",
       "7795-CFOCW 2016-05-01 2020-02-01        One year               No   \n",
       "9237-HQITU 2019-09-01 2019-11-01  Month-to-month              Yes   \n",
       "\n",
       "                        PaymentMethod  MonthlyCharges  TotalCharges  Churn  \\\n",
       "customerID                                                                   \n",
       "7590-VHVEG           Electronic check           29.85         29.85      0   \n",
       "5575-GNVDE               Mailed check           56.95       1889.50      0   \n",
       "3668-QPYBK               Mailed check           53.85        108.15      1   \n",
       "7795-CFOCW  Bank transfer (automatic)           42.30       1840.75      0   \n",
       "9237-HQITU           Electronic check           70.70        151.65      1   \n",
       "\n",
       "            Period  \n",
       "customerID          \n",
       "7590-VHVEG      31  \n",
       "5575-GNVDE    1036  \n",
       "3668-QPYBK      61  \n",
       "7795-CFOCW    1371  \n",
       "9237-HQITU      61  "
      ]
     },
     "execution_count": 40,
     "metadata": {},
     "output_type": "execute_result"
    }
   ],
   "source": [
    "data.head()"
   ]
  },
  {
   "cell_type": "markdown",
   "metadata": {
    "id": "D5WOIYnhblUS"
   },
   "source": [
    "#### Объедениние данных"
   ]
  },
  {
   "cell_type": "markdown",
   "metadata": {
    "id": "M6g6ToZuhHvl"
   },
   "source": [
    "В таблицы `internet` и `phone` добавим по признаку, что бы при собирании одного датасета, у нас были пометки у пользователей кто какими услугами пользуется."
   ]
  },
  {
   "cell_type": "code",
   "execution_count": 41,
   "metadata": {
    "id": "K8ZxMD45hG9V"
   },
   "outputs": [],
   "source": [
    "internet['Internet'] = 1\n",
    "phone['Phone'] = 1"
   ]
  },
  {
   "cell_type": "code",
   "execution_count": 42,
   "metadata": {
    "id": "p7nVZOFUYfe1"
   },
   "outputs": [],
   "source": [
    "data = data.join(personal)\n",
    "data = data.join(internet)\n",
    "data = data.join(phone)"
   ]
  },
  {
   "cell_type": "markdown",
   "metadata": {
    "id": "Q7wK47umlogw"
   },
   "source": [
    "Заполним образовавшиеся пропуски"
   ]
  },
  {
   "cell_type": "code",
   "execution_count": 43,
   "metadata": {
    "id": "QVvNr6yNGWUr"
   },
   "outputs": [],
   "source": [
    "data = data.fillna('No')"
   ]
  },
  {
   "cell_type": "code",
   "execution_count": 44,
   "metadata": {
    "colab": {
     "base_uri": "https://localhost:8080/"
    },
    "id": "fRvYMjoAfU-M",
    "outputId": "524427a7-3cae-4a70-df69-769cfc639ac9"
   },
   "outputs": [
    {
     "data": {
      "text/plain": [
       "BeginDate           0.0\n",
       "EndDate             0.0\n",
       "Type                0.0\n",
       "PaperlessBilling    0.0\n",
       "PaymentMethod       0.0\n",
       "MonthlyCharges      0.0\n",
       "TotalCharges        0.0\n",
       "Churn               0.0\n",
       "Period              0.0\n",
       "gender              0.0\n",
       "SeniorCitizen       0.0\n",
       "Partner             0.0\n",
       "Dependents          0.0\n",
       "InternetService     0.0\n",
       "OnlineSecurity      0.0\n",
       "OnlineBackup        0.0\n",
       "DeviceProtection    0.0\n",
       "TechSupport         0.0\n",
       "StreamingTV         0.0\n",
       "StreamingMovies     0.0\n",
       "Internet            0.0\n",
       "MultipleLines       0.0\n",
       "Phone               0.0\n",
       "dtype: float64"
      ]
     },
     "execution_count": 44,
     "metadata": {},
     "output_type": "execute_result"
    }
   ],
   "source": [
    "data.isna().mean()"
   ]
  },
  {
   "cell_type": "markdown",
   "metadata": {
    "id": "7g1t-dkdl3mo"
   },
   "source": [
    "Датасет готов для исследовальского анализа."
   ]
  },
  {
   "cell_type": "markdown",
   "metadata": {
    "id": "xlaG5kPb8hhu"
   },
   "source": [
    "### Распределение целевого признака"
   ]
  },
  {
   "cell_type": "code",
   "execution_count": 45,
   "metadata": {
    "colab": {
     "base_uri": "https://localhost:8080/",
     "height": 390
    },
    "id": "K80l-fQuHKrJ",
    "outputId": "49f1e3b5-48a5-497e-8a9a-c9362022e2ea"
   },
   "outputs": [
    {
     "data": {
      "image/png": "[encoded data removed]",
      "text/plain": [
       "<Figure size 720x432 with 1 Axes>"
      ]
     },
     "metadata": {
      "needs_background": "light"
     },
     "output_type": "display_data"
    }
   ],
   "source": [
    "data['Churn'].hist(figsize=(10,6))\n",
    "plt.title('Баланс классов');"
   ]
  },
  {
   "cell_type": "markdown",
   "metadata": {
    "id": "N2KvQRv8pZnq"
   },
   "source": [
    "Значительный перевес в сторону пользователей, которые еще пользуются услугами заказчика."
   ]
  },
  {
   "cell_type": "markdown",
   "metadata": {
    "id": "FOAWGmoJ8m-6"
   },
   "source": [
    "### Ежемесячные платежи"
   ]
  },
  {
   "cell_type": "code",
   "execution_count": 46,
   "metadata": {
    "colab": {
     "base_uri": "https://localhost:8080/",
     "height": 369
    },
    "id": "Lzs78Q-zrxBl",
    "outputId": "42966777-f4ee-4be8-9305-c7f070bfbb23"
   },
   "outputs": [
    {
     "data": {
      "image/png": "[encoded data removed]",
      "text/plain": [
       "<Figure size 432x288 with 1 Axes>"
      ]
     },
     "metadata": {
      "needs_background": "light"
     },
     "output_type": "display_data"
    }
   ],
   "source": [
    "plt.hist([data[data.Churn == 1].MonthlyCharges, data[data.Churn == 0].MonthlyCharges], label=['Ушедшие', 'Оставшиеся'], density=True);\n",
    "plt.legend();\n",
    "plt.title('Ежемесячные платежи');\n",
    "plt.show();"
   ]
  },
  {
   "cell_type": "markdown",
   "metadata": {
    "id": "Ocb_G25IxPdm"
   },
   "source": [
    "На графике видно что плоность ушедших клиентов больше у дорогих клиентов, у которых ежемесячный платеж от 70 до 100"
   ]
  },
  {
   "cell_type": "markdown",
   "metadata": {
    "id": "t6gWm1vG8vGT"
   },
   "source": [
    "### Распределение услуг"
   ]
  },
  {
   "cell_type": "markdown",
   "metadata": {
    "id": "BQ0GGpLK17DX"
   },
   "source": [
    "Посмотрим какие клиенты заказчика чаше выбирают услуги"
   ]
  },
  {
   "cell_type": "code",
   "execution_count": 47,
   "metadata": {
    "colab": {
     "base_uri": "https://localhost:8080/",
     "height": 281
    },
    "id": "eTbKPgcOyoin",
    "outputId": "a5de1258-cd98-458c-e437-3ab724e308a9"
   },
   "outputs": [
    {
     "data": {
      "image/png": "[encoded data removed]",
      "text/plain": [
       "<Figure size 432x288 with 1 Axes>"
      ]
     },
     "metadata": {
      "needs_background": "light"
     },
     "output_type": "display_data"
    }
   ],
   "source": [
    "plt.hist([data[data.Internet == 1].Internet, data[data.Phone == 1].Phone], label=['Internet', 'Phone']);\n",
    "plt.legend();\n",
    "plt.title('Пользователи Интернета и Телефона');\n",
    "plt.show();"
   ]
  },
  {
   "cell_type": "markdown",
   "metadata": {
    "id": "YxkYtP7Y2dYc"
   },
   "source": [
    "Заказчик в первую очередь выступает, телефонным оператором, а уже потом как интернет провайдером.\n"
   ]
  },
  {
   "cell_type": "markdown",
   "metadata": {
    "id": "Ds1EUANU88R2"
   },
   "source": [
    "### Распределение платежей"
   ]
  },
  {
   "cell_type": "markdown",
   "metadata": {
    "id": "DwWcc6mF3YQB"
   },
   "source": [
    "Взгляним на распределение ежемесячных платежей"
   ]
  },
  {
   "cell_type": "code",
   "execution_count": 48,
   "metadata": {
    "colab": {
     "base_uri": "https://localhost:8080/",
     "height": 282
    },
    "id": "tIoZ_Rk51JvD",
    "outputId": "389440f0-a8cd-4c7b-8c07-52d0fa5bfd5a"
   },
   "outputs": [
    {
     "data": {
      "text/plain": [
       "<AxesSubplot:>"
      ]
     },
     "execution_count": 48,
     "metadata": {},
     "output_type": "execute_result"
    },
    {
     "data": {
      "image/png": "[encoded data removed]",
      "text/plain": [
       "<Figure size 432x288 with 1 Axes>"
      ]
     },
     "metadata": {
      "needs_background": "light"
     },
     "output_type": "display_data"
    }
   ],
   "source": [
    "data['MonthlyCharges'].hist()"
   ]
  },
  {
   "cell_type": "markdown",
   "metadata": {
    "id": "gPUfRD9v1ALz"
   },
   "source": [
    "Видно большое колличество людей которые платят меньше 30\n",
    "\n",
    "Выделим этих клиентов и посмотри на них поподробнее."
   ]
  },
  {
   "cell_type": "code",
   "execution_count": 49,
   "metadata": {
    "id": "Ddu83K9ly04o"
   },
   "outputs": [],
   "source": [
    "low_charges = data.query('MonthlyCharges < 30')"
   ]
  },
  {
   "cell_type": "code",
   "execution_count": 50,
   "metadata": {
    "colab": {
     "base_uri": "https://localhost:8080/",
     "height": 464
    },
    "id": "kBbeco2PzxSv",
    "outputId": "84af9d71-ed68-4d27-9ccb-6c32c5a8afed"
   },
   "outputs": [
    {
     "data": {
      "text/html": [
       "<div>\n",
       "<style scoped>\n",
       "    .dataframe tbody tr th:only-of-type {\n",
       "        vertical-align: middle;\n",
       "    }\n",
       "\n",
       "    .dataframe tbody tr th {\n",
       "        vertical-align: top;\n",
       "    }\n",
       "\n",
       "    .dataframe thead th {\n",
       "        text-align: right;\n",
       "    }\n",
       "</style>\n",
       "<table border=\"1\" class=\"dataframe\">\n",
       "  <thead>\n",
       "    <tr style=\"text-align: right;\">\n",
       "      <th></th>\n",
       "      <th>BeginDate</th>\n",
       "      <th>EndDate</th>\n",
       "      <th>Type</th>\n",
       "      <th>PaperlessBilling</th>\n",
       "      <th>PaymentMethod</th>\n",
       "      <th>MonthlyCharges</th>\n",
       "      <th>TotalCharges</th>\n",
       "      <th>Churn</th>\n",
       "      <th>Period</th>\n",
       "      <th>gender</th>\n",
       "      <th>...</th>\n",
       "      <th>InternetService</th>\n",
       "      <th>OnlineSecurity</th>\n",
       "      <th>OnlineBackup</th>\n",
       "      <th>DeviceProtection</th>\n",
       "      <th>TechSupport</th>\n",
       "      <th>StreamingTV</th>\n",
       "      <th>StreamingMovies</th>\n",
       "      <th>Internet</th>\n",
       "      <th>MultipleLines</th>\n",
       "      <th>Phone</th>\n",
       "    </tr>\n",
       "    <tr>\n",
       "      <th>customerID</th>\n",
       "      <th></th>\n",
       "      <th></th>\n",
       "      <th></th>\n",
       "      <th></th>\n",
       "      <th></th>\n",
       "      <th></th>\n",
       "      <th></th>\n",
       "      <th></th>\n",
       "      <th></th>\n",
       "      <th></th>\n",
       "      <th></th>\n",
       "      <th></th>\n",
       "      <th></th>\n",
       "      <th></th>\n",
       "      <th></th>\n",
       "      <th></th>\n",
       "      <th></th>\n",
       "      <th></th>\n",
       "      <th></th>\n",
       "      <th></th>\n",
       "      <th></th>\n",
       "    </tr>\n",
       "  </thead>\n",
       "  <tbody>\n",
       "    <tr>\n",
       "      <th>2545-LXYVJ</th>\n",
       "      <td>2014-02-01</td>\n",
       "      <td>2020-02-01</td>\n",
       "      <td>Two year</td>\n",
       "      <td>No</td>\n",
       "      <td>Bank transfer (automatic)</td>\n",
       "      <td>20.70</td>\n",
       "      <td>1492.1</td>\n",
       "      <td>0</td>\n",
       "      <td>2191</td>\n",
       "      <td>Male</td>\n",
       "      <td>...</td>\n",
       "      <td>No</td>\n",
       "      <td>No</td>\n",
       "      <td>No</td>\n",
       "      <td>No</td>\n",
       "      <td>No</td>\n",
       "      <td>No</td>\n",
       "      <td>No</td>\n",
       "      <td>No</td>\n",
       "      <td>No</td>\n",
       "      <td>1.0</td>\n",
       "    </tr>\n",
       "    <tr>\n",
       "      <th>4195-PNGZS</th>\n",
       "      <td>2014-05-01</td>\n",
       "      <td>2020-02-01</td>\n",
       "      <td>Two year</td>\n",
       "      <td>No</td>\n",
       "      <td>Bank transfer (automatic)</td>\n",
       "      <td>24.45</td>\n",
       "      <td>1718.2</td>\n",
       "      <td>0</td>\n",
       "      <td>2102</td>\n",
       "      <td>Male</td>\n",
       "      <td>...</td>\n",
       "      <td>No</td>\n",
       "      <td>No</td>\n",
       "      <td>No</td>\n",
       "      <td>No</td>\n",
       "      <td>No</td>\n",
       "      <td>No</td>\n",
       "      <td>No</td>\n",
       "      <td>No</td>\n",
       "      <td>Yes</td>\n",
       "      <td>1.0</td>\n",
       "    </tr>\n",
       "    <tr>\n",
       "      <th>4957-SREEC</th>\n",
       "      <td>2014-04-01</td>\n",
       "      <td>2020-02-01</td>\n",
       "      <td>Two year</td>\n",
       "      <td>No</td>\n",
       "      <td>Credit card (automatic)</td>\n",
       "      <td>20.35</td>\n",
       "      <td>1458.1</td>\n",
       "      <td>0</td>\n",
       "      <td>2132</td>\n",
       "      <td>Male</td>\n",
       "      <td>...</td>\n",
       "      <td>No</td>\n",
       "      <td>No</td>\n",
       "      <td>No</td>\n",
       "      <td>No</td>\n",
       "      <td>No</td>\n",
       "      <td>No</td>\n",
       "      <td>No</td>\n",
       "      <td>No</td>\n",
       "      <td>No</td>\n",
       "      <td>1.0</td>\n",
       "    </tr>\n",
       "    <tr>\n",
       "      <th>2739-CCZMB</th>\n",
       "      <td>2019-09-01</td>\n",
       "      <td>2020-02-01</td>\n",
       "      <td>Month-to-month</td>\n",
       "      <td>No</td>\n",
       "      <td>Credit card (automatic)</td>\n",
       "      <td>20.35</td>\n",
       "      <td>122.0</td>\n",
       "      <td>0</td>\n",
       "      <td>153</td>\n",
       "      <td>Male</td>\n",
       "      <td>...</td>\n",
       "      <td>No</td>\n",
       "      <td>No</td>\n",
       "      <td>No</td>\n",
       "      <td>No</td>\n",
       "      <td>No</td>\n",
       "      <td>No</td>\n",
       "      <td>No</td>\n",
       "      <td>No</td>\n",
       "      <td>No</td>\n",
       "      <td>1.0</td>\n",
       "    </tr>\n",
       "    <tr>\n",
       "      <th>3823-KYNQY</th>\n",
       "      <td>2019-02-01</td>\n",
       "      <td>2020-02-01</td>\n",
       "      <td>One year</td>\n",
       "      <td>No</td>\n",
       "      <td>Credit card (automatic)</td>\n",
       "      <td>24.95</td>\n",
       "      <td>280.4</td>\n",
       "      <td>0</td>\n",
       "      <td>365</td>\n",
       "      <td>Male</td>\n",
       "      <td>...</td>\n",
       "      <td>No</td>\n",
       "      <td>No</td>\n",
       "      <td>No</td>\n",
       "      <td>No</td>\n",
       "      <td>No</td>\n",
       "      <td>No</td>\n",
       "      <td>No</td>\n",
       "      <td>No</td>\n",
       "      <td>Yes</td>\n",
       "      <td>1.0</td>\n",
       "    </tr>\n",
       "  </tbody>\n",
       "</table>\n",
       "<p>5 rows × 23 columns</p>\n",
       "</div>"
      ],
      "text/plain": [
       "            BeginDate    EndDate            Type PaperlessBilling  \\\n",
       "customerID                                                          \n",
       "2545-LXYVJ 2014-02-01 2020-02-01        Two year               No   \n",
       "4195-PNGZS 2014-05-01 2020-02-01        Two year               No   \n",
       "4957-SREEC 2014-04-01 2020-02-01        Two year               No   \n",
       "2739-CCZMB 2019-09-01 2020-02-01  Month-to-month               No   \n",
       "3823-KYNQY 2019-02-01 2020-02-01        One year               No   \n",
       "\n",
       "                        PaymentMethod  MonthlyCharges  TotalCharges  Churn  \\\n",
       "customerID                                                                   \n",
       "2545-LXYVJ  Bank transfer (automatic)           20.70        1492.1      0   \n",
       "4195-PNGZS  Bank transfer (automatic)           24.45        1718.2      0   \n",
       "4957-SREEC    Credit card (automatic)           20.35        1458.1      0   \n",
       "2739-CCZMB    Credit card (automatic)           20.35         122.0      0   \n",
       "3823-KYNQY    Credit card (automatic)           24.95         280.4      0   \n",
       "\n",
       "            Period gender  ...  InternetService OnlineSecurity OnlineBackup  \\\n",
       "customerID                 ...                                                \n",
       "2545-LXYVJ    2191   Male  ...               No             No           No   \n",
       "4195-PNGZS    2102   Male  ...               No             No           No   \n",
       "4957-SREEC    2132   Male  ...               No             No           No   \n",
       "2739-CCZMB     153   Male  ...               No             No           No   \n",
       "3823-KYNQY     365   Male  ...               No             No           No   \n",
       "\n",
       "           DeviceProtection TechSupport StreamingTV StreamingMovies Internet  \\\n",
       "customerID                                                                     \n",
       "2545-LXYVJ               No          No          No              No       No   \n",
       "4195-PNGZS               No          No          No              No       No   \n",
       "4957-SREEC               No          No          No              No       No   \n",
       "2739-CCZMB               No          No          No              No       No   \n",
       "3823-KYNQY               No          No          No              No       No   \n",
       "\n",
       "           MultipleLines Phone  \n",
       "customerID                      \n",
       "2545-LXYVJ            No   1.0  \n",
       "4195-PNGZS           Yes   1.0  \n",
       "4957-SREEC            No   1.0  \n",
       "2739-CCZMB            No   1.0  \n",
       "3823-KYNQY           Yes   1.0  \n",
       "\n",
       "[5 rows x 23 columns]"
      ]
     },
     "execution_count": 50,
     "metadata": {},
     "output_type": "execute_result"
    }
   ],
   "source": [
    "low_charges.sample(5)"
   ]
  },
  {
   "cell_type": "code",
   "execution_count": 51,
   "metadata": {
    "colab": {
     "base_uri": "https://localhost:8080/",
     "height": 369
    },
    "id": "AfHmNn7F4Bf3",
    "outputId": "4ff12795-b43b-46fc-d970-622cae766c64"
   },
   "outputs": [
    {
     "data": {
      "image/png": "[encoded data removed]",
      "text/plain": [
       "<Figure size 432x288 with 1 Axes>"
      ]
     },
     "metadata": {
      "needs_background": "light"
     },
     "output_type": "display_data"
    }
   ],
   "source": [
    "plt.hist([low_charges[low_charges.Internet == 1].Internet, low_charges[low_charges.Phone == 1].Phone], label=['Internet', 'Phone']);\n",
    "plt.legend();\n",
    "plt.title('Пользователи Интернета и Телефона');\n",
    "plt.show();"
   ]
  },
  {
   "cell_type": "markdown",
   "metadata": {
    "id": "VatADIZT4MzP"
   },
   "source": [
    "Очередное доказательсво что у заказчика клиенты в основном это пользователи сотовой связи."
   ]
  },
  {
   "cell_type": "markdown",
   "metadata": {
    "id": "xsTRBrbF8lZu"
   },
   "source": [
    "# Подготовка к обучению модели."
   ]
  },
  {
   "cell_type": "code",
   "execution_count": 52,
   "metadata": {
    "id": "JeJ73X6WG3TQ"
   },
   "outputs": [],
   "source": [
    "SEED = 290822\n",
    "KFOLD = StratifiedKFold(n_splits=10, random_state=SEED, shuffle=True)"
   ]
  },
  {
   "cell_type": "markdown",
   "metadata": {
    "id": "OgSGOoL99UQ4"
   },
   "source": [
    "### Получение разных датасетов"
   ]
  },
  {
   "cell_type": "markdown",
   "metadata": {
    "id": "Xd9nZsVY9q5f"
   },
   "source": [
    "Создадим датасеты с разным колличеством параметров."
   ]
  },
  {
   "cell_type": "markdown",
   "metadata": {
    "id": "lgw3hrji5loh"
   },
   "source": [
    "`data_one` - будет основным из него мы уберем только даты.\n",
    "\n",
    "Из `data_two` уберем параметры связанные с доп.услугами"
   ]
  },
  {
   "cell_type": "code",
   "execution_count": 53,
   "metadata": {
    "id": "zsdBA_-SCJEG"
   },
   "outputs": [],
   "source": [
    "data_one = data.drop(['BeginDate', 'EndDate'], axis=1)\n",
    "\n",
    "data_two = data.drop(['BeginDate', 'EndDate', 'InternetService',\t'OnlineSecurity',\t'OnlineBackup',\t'DeviceProtection',\t'TechSupport',\t'StreamingTV',\t'StreamingMovies', 'MultipleLines'], axis=1)"
   ]
  },
  {
   "cell_type": "markdown",
   "metadata": {
    "id": "iHdz6RXz9Mvi"
   },
   "source": [
    "### Кодировка признаков"
   ]
  },
  {
   "cell_type": "markdown",
   "metadata": {
    "id": "P5wtMzZn5-4W"
   },
   "source": [
    "Закодируем категоральные признаки."
   ]
  },
  {
   "cell_type": "code",
   "execution_count": 54,
   "metadata": {
    "id": "71DoloZICJHa"
   },
   "outputs": [],
   "source": [
    " data_one = data_one.join(pd.get_dummies(data_one.select_dtypes(include=['object'])))\n",
    "\n",
    " data_one = data_one.drop(data_one.select_dtypes(include=['object']), axis=1)"
   ]
  },
  {
   "cell_type": "code",
   "execution_count": 55,
   "metadata": {
    "id": "tsevvBCT_Hz1"
   },
   "outputs": [],
   "source": [
    " data_two = data_two.join(pd.get_dummies(data_two.select_dtypes(include=['object'])))\n",
    "    \n",
    " data_two = data_two.drop(data_two.select_dtypes(include=['object']), axis=1)"
   ]
  },
  {
   "cell_type": "code",
   "execution_count": 56,
   "metadata": {},
   "outputs": [],
   "source": [
    "X = data_one.drop(['Churn'], axis = 1 )\n",
    "\n",
    "X1 = data_two.drop(['Churn'], axis = 1)\n",
    "\n",
    "y = data_one['Churn']"
   ]
  },
  {
   "cell_type": "markdown",
   "metadata": {
    "id": "Jt7E3gXNEOBL"
   },
   "source": [
    "### Визуализация"
   ]
  },
  {
   "cell_type": "markdown",
   "metadata": {
    "id": "zpHfdzhXA_U-"
   },
   "source": [
    "Визуализируем важность признаков."
   ]
  },
  {
   "cell_type": "code",
   "execution_count": 57,
   "metadata": {
    "id": "TUPmOVpNBbg9"
   },
   "outputs": [],
   "source": [
    "def plot_features(model,data, target, column_names, model_type):\n",
    "  \n",
    "  model.fit(data,target)\n",
    "\n",
    "  pd.DataFrame(data={'score': model['rf'].feature_importances_}, \n",
    "                      index=column_names).sort_values(by='score').plot(kind='barh', grid=True,figsize=(10,10), legend=False)"
   ]
  },
  {
   "cell_type": "markdown",
   "metadata": {
    "id": "mvuy7tF1aSym"
   },
   "source": [
    "Визуализируем полный датасет."
   ]
  },
  {
   "cell_type": "code",
   "execution_count": 58,
   "metadata": {
    "colab": {
     "base_uri": "https://localhost:8080/",
     "height": 626
    },
    "id": "ZZuwMhT-CImS",
    "outputId": "5debee47-4c1c-4f32-b80f-7ae521f0b9a6"
   },
   "outputs": [
    {
     "name": "stdout",
     "output_type": "stream",
     "text": [
      "scores = [0.83199514 0.83526183 0.83664006 0.83810985 0.8301415 ] \n",
      "mean score = 0.83443 +/- 0.00295\n"
     ]
    },
    {
     "data": {
      "image/png": "[encoded data removed]",
      "text/plain": [
       "<Figure size 720x720 with 1 Axes>"
      ]
     },
     "metadata": {
      "needs_background": "light"
     },
     "output_type": "display_data"
    }
   ],
   "source": [
    "rf = Pipeline([('rf', RandomForestClassifier(n_jobs=-1, \n",
    "                                             class_weight='balanced', \n",
    "                                             random_state=SEED))])\n",
    "\n",
    "\n",
    "skf = StratifiedKFold(n_splits=5, shuffle=True, random_state=SEED)\n",
    "\n",
    "scores = cross_val_score(estimator=rf, X=X, y=y, \n",
    "                         cv=skf, scoring='roc_auc', n_jobs=-1)\n",
    "print('scores = {} \\nmean score = {:.5f} +/- {:.5f}'.format(scores, scores.mean(), scores.std()))\n",
    "\n",
    "# важность признаков\n",
    "plot_features(model=rf, data=X, target=y, column_names=X.columns, model_type='rf')"
   ]
  },
  {
   "cell_type": "markdown",
   "metadata": {
    "id": "HWEFcs9ralbW"
   },
   "source": [
    "На графике видно влияние каждого признака на обучения, топ 3 признака это:\n",
    "\n",
    "\n",
    "- `Period` -  какой срок клиент пользуеться услугами\n",
    "\n",
    "- `MonthlyCharges` - Размер ежемесячного платежа\n",
    "\n",
    "- `TotalCharges` - Общая сумма за весь срок пользования услугами заказчика"
   ]
  },
  {
   "cell_type": "markdown",
   "metadata": {
    "id": "n5QQpE7yfnMM"
   },
   "source": [
    "### Разбиение данных."
   ]
  },
  {
   "cell_type": "code",
   "execution_count": 59,
   "metadata": {
    "id": "4YYrpPcRbrxi"
   },
   "outputs": [],
   "source": [
    "X_train, X_test, y_train, y_test = train_test_split(X, y, test_size=.4, random_state=SEED)\n",
    "\n",
    "X_test, X_valid, y_test, y_valid = train_test_split(X_test, y_test, test_size=0.5, random_state=SEED)"
   ]
  },
  {
   "cell_type": "markdown",
   "metadata": {
    "id": "tRe4ncD8g7UL"
   },
   "source": [
    "### Масштабируем признаки методом стандартизации."
   ]
  },
  {
   "cell_type": "code",
   "execution_count": 60,
   "metadata": {
    "id": "HLKjTb1qmk6C"
   },
   "outputs": [
    {
     "name": "stderr",
     "output_type": "stream",
     "text": [
      "/tmp/ipykernel_109/3071693714.py:4: SettingWithCopyWarning: \n",
      "A value is trying to be set on a copy of a slice from a DataFrame.\n",
      "Try using .loc[row_indexer,col_indexer] = value instead\n",
      "\n",
      "See the caveats in the documentation: https://pandas.pydata.org/pandas-docs/stable/user_guide/indexing.html#returning-a-view-versus-a-copy\n",
      "  X_train[numeric] = scaler.transform(X_train[numeric])\n",
      "/opt/conda/lib/python3.9/site-packages/pandas/core/indexing.py:1738: SettingWithCopyWarning: \n",
      "A value is trying to be set on a copy of a slice from a DataFrame.\n",
      "Try using .loc[row_indexer,col_indexer] = value instead\n",
      "\n",
      "See the caveats in the documentation: https://pandas.pydata.org/pandas-docs/stable/user_guide/indexing.html#returning-a-view-versus-a-copy\n",
      "  self._setitem_single_column(loc, value[:, i].tolist(), pi)\n"
     ]
    }
   ],
   "source": [
    "numeric = ['MonthlyCharges', 'TotalCharges', 'Period']\n",
    "scaler = StandardScaler()\n",
    "scaler.fit(X_train[numeric])\n",
    "X_train[numeric] = scaler.transform(X_train[numeric])\n",
    "X_test[numeric] = scaler.transform(X_test[numeric])\n",
    "X_valid[numeric] = scaler.transform(X_valid[numeric])"
   ]
  },
  {
   "cell_type": "markdown",
   "metadata": {
    "id": "NZfPtFc2btTh"
   },
   "source": [
    "# Обучение моделей."
   ]
  },
  {
   "cell_type": "markdown",
   "metadata": {
    "id": "XJd2S_B5oOU2"
   },
   "source": [
    "### RandomForestClassifier"
   ]
  },
  {
   "cell_type": "code",
   "execution_count": 61,
   "metadata": {
    "colab": {
     "base_uri": "https://localhost:8080/"
    },
    "id": "d00bnKVLbrzk",
    "outputId": "734b8082-da1f-41a0-e713-e38c7eac89c4"
   },
   "outputs": [
    {
     "name": "stdout",
     "output_type": "stream",
     "text": [
      "ROC-AUC:  0.84761776609835\n"
     ]
    }
   ],
   "source": [
    "model_forest = RandomForestClassifier(random_state=SEED, n_estimators=100, max_depth=12)\n",
    "model_forest.fit(X_train, y_train)\n",
    "pred_proba_forest = model_forest.predict_proba(X_valid)[:, 1]\n",
    "print('ROC-AUC: ',roc_auc_score(y_valid, pred_proba_forest))"
   ]
  },
  {
   "cell_type": "markdown",
   "metadata": {
    "id": "_HGU6HuNoY5j"
   },
   "source": [
    "### LogisticRegression"
   ]
  },
  {
   "cell_type": "code",
   "execution_count": 62,
   "metadata": {
    "colab": {
     "base_uri": "https://localhost:8080/"
    },
    "id": "g3ce5S1fhEjI",
    "outputId": "7e24c14e-685e-4f48-e94b-bc2ac19f2cc5"
   },
   "outputs": [
    {
     "name": "stdout",
     "output_type": "stream",
     "text": [
      "ROC-AUC:  0.8350456711361586\n"
     ]
    }
   ],
   "source": [
    "model_log = LogisticRegression(random_state=SEED, solver='liblinear')\n",
    "model_log.fit(X_train, y_train)\n",
    "pred_proba_log = model_log.predict_proba(X_valid)[:, 1]\n",
    "print('ROC-AUC: ',roc_auc_score(y_valid, pred_proba_log))"
   ]
  },
  {
   "cell_type": "markdown",
   "metadata": {
    "id": "_ybPw-lEon_D"
   },
   "source": [
    "### CatBoostClassifier"
   ]
  },
  {
   "cell_type": "code",
   "execution_count": 63,
   "metadata": {
    "colab": {
     "base_uri": "https://localhost:8080/"
    },
    "id": "pXjS8eR0giFz",
    "outputId": "8118c2ca-3dbf-4d42-9a61-dba10f70ac3d"
   },
   "outputs": [
    {
     "name": "stdout",
     "output_type": "stream",
     "text": [
      "Learning rate set to 0.019062\n",
      "0:\tlearn: 0.6800545\ttotal: 50.1ms\tremaining: 50s\n",
      "1:\tlearn: 0.6671513\ttotal: 53.1ms\tremaining: 26.5s\n",
      "2:\tlearn: 0.6545093\ttotal: 56ms\tremaining: 18.6s\n",
      "3:\tlearn: 0.6427050\ttotal: 58.9ms\tremaining: 14.7s\n",
      "4:\tlearn: 0.6309536\ttotal: 62ms\tremaining: 12.3s\n",
      "5:\tlearn: 0.6202817\ttotal: 64.8ms\tremaining: 10.7s\n",
      "6:\tlearn: 0.6103775\ttotal: 67.7ms\tremaining: 9.6s\n",
      "7:\tlearn: 0.6006383\ttotal: 70.8ms\tremaining: 8.78s\n",
      "8:\tlearn: 0.5905158\ttotal: 73.8ms\tremaining: 8.12s\n",
      "9:\tlearn: 0.5820397\ttotal: 76.7ms\tremaining: 7.59s\n",
      "10:\tlearn: 0.5740072\ttotal: 78.6ms\tremaining: 7.06s\n",
      "11:\tlearn: 0.5662454\ttotal: 81.6ms\tremaining: 6.72s\n",
      "12:\tlearn: 0.5587270\ttotal: 84.6ms\tremaining: 6.43s\n",
      "13:\tlearn: 0.5526566\ttotal: 87.7ms\tremaining: 6.18s\n",
      "14:\tlearn: 0.5459617\ttotal: 90.7ms\tremaining: 5.95s\n",
      "15:\tlearn: 0.5396605\ttotal: 93.8ms\tremaining: 5.76s\n",
      "16:\tlearn: 0.5331848\ttotal: 96.7ms\tremaining: 5.59s\n",
      "17:\tlearn: 0.5276575\ttotal: 99.6ms\tremaining: 5.43s\n",
      "18:\tlearn: 0.5216359\ttotal: 103ms\tremaining: 5.29s\n",
      "19:\tlearn: 0.5159467\ttotal: 105ms\tremaining: 5.17s\n",
      "20:\tlearn: 0.5109408\ttotal: 108ms\tremaining: 5.05s\n",
      "21:\tlearn: 0.5067538\ttotal: 111ms\tremaining: 4.95s\n",
      "22:\tlearn: 0.5023122\ttotal: 114ms\tremaining: 4.86s\n",
      "23:\tlearn: 0.4984609\ttotal: 117ms\tremaining: 4.77s\n",
      "24:\tlearn: 0.4948261\ttotal: 120ms\tremaining: 4.68s\n",
      "25:\tlearn: 0.4909452\ttotal: 123ms\tremaining: 4.62s\n",
      "26:\tlearn: 0.4871200\ttotal: 126ms\tremaining: 4.55s\n",
      "27:\tlearn: 0.4835008\ttotal: 129ms\tremaining: 4.48s\n",
      "28:\tlearn: 0.4799665\ttotal: 132ms\tremaining: 4.43s\n",
      "29:\tlearn: 0.4760410\ttotal: 135ms\tremaining: 4.38s\n",
      "30:\tlearn: 0.4728307\ttotal: 138ms\tremaining: 4.33s\n",
      "31:\tlearn: 0.4699508\ttotal: 141ms\tremaining: 4.27s\n",
      "32:\tlearn: 0.4672586\ttotal: 144ms\tremaining: 4.23s\n",
      "33:\tlearn: 0.4642649\ttotal: 147ms\tremaining: 4.18s\n",
      "34:\tlearn: 0.4616422\ttotal: 150ms\tremaining: 4.14s\n",
      "35:\tlearn: 0.4582772\ttotal: 153ms\tremaining: 4.11s\n",
      "36:\tlearn: 0.4556011\ttotal: 156ms\tremaining: 4.07s\n",
      "37:\tlearn: 0.4529368\ttotal: 159ms\tremaining: 4.03s\n",
      "38:\tlearn: 0.4505477\ttotal: 162ms\tremaining: 4s\n",
      "39:\tlearn: 0.4487166\ttotal: 165ms\tremaining: 3.96s\n",
      "40:\tlearn: 0.4465564\ttotal: 168ms\tremaining: 3.93s\n",
      "41:\tlearn: 0.4439776\ttotal: 171ms\tremaining: 3.91s\n",
      "42:\tlearn: 0.4418726\ttotal: 175ms\tremaining: 3.89s\n",
      "43:\tlearn: 0.4402573\ttotal: 178ms\tremaining: 3.87s\n",
      "44:\tlearn: 0.4385859\ttotal: 181ms\tremaining: 3.84s\n",
      "45:\tlearn: 0.4364882\ttotal: 184ms\tremaining: 3.82s\n",
      "46:\tlearn: 0.4349877\ttotal: 187ms\tremaining: 3.79s\n",
      "47:\tlearn: 0.4332547\ttotal: 190ms\tremaining: 3.77s\n",
      "48:\tlearn: 0.4313455\ttotal: 193ms\tremaining: 3.75s\n",
      "49:\tlearn: 0.4297277\ttotal: 196ms\tremaining: 3.73s\n",
      "50:\tlearn: 0.4281796\ttotal: 199ms\tremaining: 3.71s\n",
      "51:\tlearn: 0.4266132\ttotal: 202ms\tremaining: 3.69s\n",
      "52:\tlearn: 0.4251529\ttotal: 205ms\tremaining: 3.67s\n",
      "53:\tlearn: 0.4239485\ttotal: 209ms\tremaining: 3.67s\n",
      "54:\tlearn: 0.4226160\ttotal: 212ms\tremaining: 3.65s\n",
      "55:\tlearn: 0.4215403\ttotal: 215ms\tremaining: 3.63s\n",
      "56:\tlearn: 0.4204618\ttotal: 218ms\tremaining: 3.61s\n",
      "57:\tlearn: 0.4192048\ttotal: 221ms\tremaining: 3.59s\n",
      "58:\tlearn: 0.4178479\ttotal: 224ms\tremaining: 3.58s\n",
      "59:\tlearn: 0.4168302\ttotal: 227ms\tremaining: 3.56s\n",
      "60:\tlearn: 0.4156910\ttotal: 230ms\tremaining: 3.54s\n",
      "61:\tlearn: 0.4144377\ttotal: 233ms\tremaining: 3.52s\n",
      "62:\tlearn: 0.4133341\ttotal: 236ms\tremaining: 3.5s\n",
      "63:\tlearn: 0.4123707\ttotal: 239ms\tremaining: 3.49s\n",
      "64:\tlearn: 0.4112594\ttotal: 241ms\tremaining: 3.47s\n",
      "65:\tlearn: 0.4100973\ttotal: 244ms\tremaining: 3.45s\n",
      "66:\tlearn: 0.4093023\ttotal: 247ms\tremaining: 3.44s\n",
      "67:\tlearn: 0.4084073\ttotal: 250ms\tremaining: 3.42s\n",
      "68:\tlearn: 0.4076894\ttotal: 253ms\tremaining: 3.41s\n",
      "69:\tlearn: 0.4067433\ttotal: 256ms\tremaining: 3.4s\n",
      "70:\tlearn: 0.4058846\ttotal: 259ms\tremaining: 3.38s\n",
      "71:\tlearn: 0.4050971\ttotal: 262ms\tremaining: 3.37s\n",
      "72:\tlearn: 0.4042659\ttotal: 264ms\tremaining: 3.36s\n",
      "73:\tlearn: 0.4031575\ttotal: 267ms\tremaining: 3.35s\n",
      "74:\tlearn: 0.4024826\ttotal: 270ms\tremaining: 3.33s\n",
      "75:\tlearn: 0.4016442\ttotal: 273ms\tremaining: 3.32s\n",
      "76:\tlearn: 0.4009452\ttotal: 276ms\tremaining: 3.31s\n",
      "77:\tlearn: 0.4004179\ttotal: 279ms\tremaining: 3.3s\n",
      "78:\tlearn: 0.3996607\ttotal: 282ms\tremaining: 3.29s\n",
      "79:\tlearn: 0.3990340\ttotal: 285ms\tremaining: 3.27s\n",
      "80:\tlearn: 0.3980631\ttotal: 288ms\tremaining: 3.26s\n",
      "81:\tlearn: 0.3976754\ttotal: 291ms\tremaining: 3.25s\n",
      "82:\tlearn: 0.3969814\ttotal: 293ms\tremaining: 3.24s\n",
      "83:\tlearn: 0.3962584\ttotal: 296ms\tremaining: 3.23s\n",
      "84:\tlearn: 0.3954584\ttotal: 299ms\tremaining: 3.22s\n",
      "85:\tlearn: 0.3946490\ttotal: 302ms\tremaining: 3.21s\n",
      "86:\tlearn: 0.3941322\ttotal: 305ms\tremaining: 3.2s\n",
      "87:\tlearn: 0.3935457\ttotal: 307ms\tremaining: 3.19s\n",
      "88:\tlearn: 0.3928842\ttotal: 310ms\tremaining: 3.18s\n",
      "89:\tlearn: 0.3923771\ttotal: 313ms\tremaining: 3.17s\n",
      "90:\tlearn: 0.3917471\ttotal: 316ms\tremaining: 3.16s\n",
      "91:\tlearn: 0.3911451\ttotal: 319ms\tremaining: 3.15s\n",
      "92:\tlearn: 0.3905926\ttotal: 322ms\tremaining: 3.14s\n",
      "93:\tlearn: 0.3900019\ttotal: 324ms\tremaining: 3.13s\n",
      "94:\tlearn: 0.3895445\ttotal: 327ms\tremaining: 3.12s\n",
      "95:\tlearn: 0.3890694\ttotal: 330ms\tremaining: 3.11s\n",
      "96:\tlearn: 0.3886811\ttotal: 333ms\tremaining: 3.1s\n",
      "97:\tlearn: 0.3883649\ttotal: 336ms\tremaining: 3.09s\n",
      "98:\tlearn: 0.3880498\ttotal: 339ms\tremaining: 3.08s\n",
      "99:\tlearn: 0.3875710\ttotal: 342ms\tremaining: 3.08s\n",
      "100:\tlearn: 0.3869521\ttotal: 345ms\tremaining: 3.07s\n",
      "101:\tlearn: 0.3864010\ttotal: 347ms\tremaining: 3.06s\n",
      "102:\tlearn: 0.3859196\ttotal: 350ms\tremaining: 3.05s\n",
      "103:\tlearn: 0.3851798\ttotal: 353ms\tremaining: 3.04s\n",
      "104:\tlearn: 0.3846516\ttotal: 356ms\tremaining: 3.04s\n",
      "105:\tlearn: 0.3840591\ttotal: 359ms\tremaining: 3.03s\n",
      "106:\tlearn: 0.3836079\ttotal: 362ms\tremaining: 3.02s\n",
      "107:\tlearn: 0.3834168\ttotal: 363ms\tremaining: 3s\n",
      "108:\tlearn: 0.3830632\ttotal: 366ms\tremaining: 2.99s\n",
      "109:\tlearn: 0.3823892\ttotal: 369ms\tremaining: 2.99s\n",
      "110:\tlearn: 0.3817107\ttotal: 372ms\tremaining: 2.98s\n",
      "111:\tlearn: 0.3811660\ttotal: 375ms\tremaining: 2.97s\n",
      "112:\tlearn: 0.3807291\ttotal: 378ms\tremaining: 2.96s\n",
      "113:\tlearn: 0.3804634\ttotal: 381ms\tremaining: 2.96s\n",
      "114:\tlearn: 0.3799507\ttotal: 383ms\tremaining: 2.95s\n",
      "115:\tlearn: 0.3794556\ttotal: 386ms\tremaining: 2.94s\n",
      "116:\tlearn: 0.3790306\ttotal: 389ms\tremaining: 2.94s\n",
      "117:\tlearn: 0.3786587\ttotal: 392ms\tremaining: 2.93s\n",
      "118:\tlearn: 0.3783450\ttotal: 395ms\tremaining: 2.92s\n",
      "119:\tlearn: 0.3780007\ttotal: 398ms\tremaining: 2.92s\n",
      "120:\tlearn: 0.3776305\ttotal: 400ms\tremaining: 2.91s\n",
      "121:\tlearn: 0.3773162\ttotal: 403ms\tremaining: 2.9s\n",
      "122:\tlearn: 0.3770048\ttotal: 407ms\tremaining: 2.9s\n",
      "123:\tlearn: 0.3766554\ttotal: 409ms\tremaining: 2.89s\n",
      "124:\tlearn: 0.3761617\ttotal: 412ms\tremaining: 2.88s\n",
      "125:\tlearn: 0.3757824\ttotal: 415ms\tremaining: 2.88s\n",
      "126:\tlearn: 0.3753232\ttotal: 418ms\tremaining: 2.87s\n",
      "127:\tlearn: 0.3749093\ttotal: 421ms\tremaining: 2.87s\n",
      "128:\tlearn: 0.3745070\ttotal: 424ms\tremaining: 2.86s\n",
      "129:\tlearn: 0.3741135\ttotal: 427ms\tremaining: 2.85s\n",
      "130:\tlearn: 0.3736293\ttotal: 429ms\tremaining: 2.85s\n",
      "131:\tlearn: 0.3733917\ttotal: 432ms\tremaining: 2.84s\n",
      "132:\tlearn: 0.3729435\ttotal: 435ms\tremaining: 2.83s\n",
      "133:\tlearn: 0.3726169\ttotal: 438ms\tremaining: 2.83s\n",
      "134:\tlearn: 0.3723322\ttotal: 441ms\tremaining: 2.82s\n",
      "135:\tlearn: 0.3719842\ttotal: 444ms\tremaining: 2.82s\n",
      "136:\tlearn: 0.3717994\ttotal: 447ms\tremaining: 2.81s\n",
      "137:\tlearn: 0.3715724\ttotal: 450ms\tremaining: 2.81s\n",
      "138:\tlearn: 0.3713617\ttotal: 452ms\tremaining: 2.8s\n",
      "139:\tlearn: 0.3709631\ttotal: 455ms\tremaining: 2.8s\n",
      "140:\tlearn: 0.3706188\ttotal: 458ms\tremaining: 2.79s\n",
      "141:\tlearn: 0.3703858\ttotal: 461ms\tremaining: 2.79s\n",
      "142:\tlearn: 0.3701173\ttotal: 464ms\tremaining: 2.78s\n",
      "143:\tlearn: 0.3698388\ttotal: 467ms\tremaining: 2.77s\n",
      "144:\tlearn: 0.3695420\ttotal: 470ms\tremaining: 2.77s\n",
      "145:\tlearn: 0.3692775\ttotal: 473ms\tremaining: 2.76s\n",
      "146:\tlearn: 0.3690079\ttotal: 475ms\tremaining: 2.76s\n",
      "147:\tlearn: 0.3687521\ttotal: 478ms\tremaining: 2.75s\n",
      "148:\tlearn: 0.3684564\ttotal: 481ms\tremaining: 2.75s\n",
      "149:\tlearn: 0.3682643\ttotal: 484ms\tremaining: 2.74s\n",
      "150:\tlearn: 0.3680126\ttotal: 487ms\tremaining: 2.74s\n",
      "151:\tlearn: 0.3677692\ttotal: 490ms\tremaining: 2.73s\n",
      "152:\tlearn: 0.3674757\ttotal: 493ms\tremaining: 2.73s\n",
      "153:\tlearn: 0.3672690\ttotal: 496ms\tremaining: 2.73s\n",
      "154:\tlearn: 0.3670053\ttotal: 499ms\tremaining: 2.72s\n",
      "155:\tlearn: 0.3668206\ttotal: 502ms\tremaining: 2.71s\n",
      "156:\tlearn: 0.3665129\ttotal: 505ms\tremaining: 2.71s\n",
      "157:\tlearn: 0.3661746\ttotal: 508ms\tremaining: 2.71s\n",
      "158:\tlearn: 0.3658635\ttotal: 511ms\tremaining: 2.7s\n",
      "159:\tlearn: 0.3656140\ttotal: 514ms\tremaining: 2.7s\n",
      "160:\tlearn: 0.3652923\ttotal: 517ms\tremaining: 2.69s\n",
      "161:\tlearn: 0.3650048\ttotal: 519ms\tremaining: 2.69s\n",
      "162:\tlearn: 0.3645566\ttotal: 522ms\tremaining: 2.68s\n",
      "163:\tlearn: 0.3644432\ttotal: 524ms\tremaining: 2.67s\n",
      "164:\tlearn: 0.3642655\ttotal: 527ms\tremaining: 2.67s\n",
      "165:\tlearn: 0.3640647\ttotal: 530ms\tremaining: 2.66s\n",
      "166:\tlearn: 0.3640550\ttotal: 531ms\tremaining: 2.65s\n",
      "167:\tlearn: 0.3637515\ttotal: 534ms\tremaining: 2.64s\n",
      "168:\tlearn: 0.3635083\ttotal: 537ms\tremaining: 2.64s\n",
      "169:\tlearn: 0.3633359\ttotal: 540ms\tremaining: 2.63s\n",
      "170:\tlearn: 0.3631294\ttotal: 542ms\tremaining: 2.63s\n",
      "171:\tlearn: 0.3629487\ttotal: 547ms\tremaining: 2.63s\n",
      "172:\tlearn: 0.3626061\ttotal: 551ms\tremaining: 2.64s\n",
      "173:\tlearn: 0.3624118\ttotal: 556ms\tremaining: 2.64s\n",
      "174:\tlearn: 0.3621460\ttotal: 560ms\tremaining: 2.64s\n",
      "175:\tlearn: 0.3618557\ttotal: 565ms\tremaining: 2.64s\n",
      "176:\tlearn: 0.3616692\ttotal: 569ms\tremaining: 2.65s\n",
      "177:\tlearn: 0.3614350\ttotal: 574ms\tremaining: 2.65s\n",
      "178:\tlearn: 0.3611738\ttotal: 578ms\tremaining: 2.65s\n",
      "179:\tlearn: 0.3608715\ttotal: 582ms\tremaining: 2.65s\n",
      "180:\tlearn: 0.3606909\ttotal: 587ms\tremaining: 2.65s\n",
      "181:\tlearn: 0.3604659\ttotal: 591ms\tremaining: 2.65s\n",
      "182:\tlearn: 0.3602224\ttotal: 595ms\tremaining: 2.66s\n",
      "183:\tlearn: 0.3599750\ttotal: 600ms\tremaining: 2.66s\n",
      "184:\tlearn: 0.3597508\ttotal: 605ms\tremaining: 2.66s\n",
      "185:\tlearn: 0.3595519\ttotal: 609ms\tremaining: 2.67s\n",
      "186:\tlearn: 0.3590754\ttotal: 613ms\tremaining: 2.67s\n",
      "187:\tlearn: 0.3587697\ttotal: 618ms\tremaining: 2.67s\n",
      "188:\tlearn: 0.3585935\ttotal: 623ms\tremaining: 2.67s\n",
      "189:\tlearn: 0.3585375\ttotal: 625ms\tremaining: 2.66s\n",
      "190:\tlearn: 0.3582583\ttotal: 629ms\tremaining: 2.67s\n",
      "191:\tlearn: 0.3580645\ttotal: 633ms\tremaining: 2.66s\n",
      "192:\tlearn: 0.3579844\ttotal: 634ms\tremaining: 2.65s\n",
      "193:\tlearn: 0.3577199\ttotal: 637ms\tremaining: 2.65s\n",
      "194:\tlearn: 0.3575844\ttotal: 640ms\tremaining: 2.64s\n",
      "195:\tlearn: 0.3574085\ttotal: 643ms\tremaining: 2.64s\n",
      "196:\tlearn: 0.3572196\ttotal: 646ms\tremaining: 2.63s\n",
      "197:\tlearn: 0.3570446\ttotal: 649ms\tremaining: 2.63s\n",
      "198:\tlearn: 0.3568588\ttotal: 652ms\tremaining: 2.62s\n",
      "199:\tlearn: 0.3565897\ttotal: 655ms\tremaining: 2.62s\n",
      "200:\tlearn: 0.3564046\ttotal: 658ms\tremaining: 2.61s\n",
      "201:\tlearn: 0.3561842\ttotal: 660ms\tremaining: 2.61s\n",
      "202:\tlearn: 0.3559655\ttotal: 663ms\tremaining: 2.6s\n",
      "203:\tlearn: 0.3558527\ttotal: 666ms\tremaining: 2.6s\n",
      "204:\tlearn: 0.3555873\ttotal: 669ms\tremaining: 2.59s\n",
      "205:\tlearn: 0.3552546\ttotal: 672ms\tremaining: 2.59s\n",
      "206:\tlearn: 0.3548093\ttotal: 675ms\tremaining: 2.58s\n",
      "207:\tlearn: 0.3546218\ttotal: 678ms\tremaining: 2.58s\n",
      "208:\tlearn: 0.3544267\ttotal: 680ms\tremaining: 2.58s\n",
      "209:\tlearn: 0.3542273\ttotal: 683ms\tremaining: 2.57s\n",
      "210:\tlearn: 0.3540398\ttotal: 686ms\tremaining: 2.57s\n",
      "211:\tlearn: 0.3537863\ttotal: 689ms\tremaining: 2.56s\n",
      "212:\tlearn: 0.3536116\ttotal: 692ms\tremaining: 2.56s\n",
      "213:\tlearn: 0.3532057\ttotal: 695ms\tremaining: 2.55s\n",
      "214:\tlearn: 0.3530672\ttotal: 698ms\tremaining: 2.55s\n",
      "215:\tlearn: 0.3528659\ttotal: 701ms\tremaining: 2.54s\n",
      "216:\tlearn: 0.3526699\ttotal: 704ms\tremaining: 2.54s\n",
      "217:\tlearn: 0.3523771\ttotal: 707ms\tremaining: 2.54s\n",
      "218:\tlearn: 0.3520838\ttotal: 710ms\tremaining: 2.53s\n",
      "219:\tlearn: 0.3518105\ttotal: 713ms\tremaining: 2.53s\n",
      "220:\tlearn: 0.3513986\ttotal: 716ms\tremaining: 2.52s\n",
      "221:\tlearn: 0.3511660\ttotal: 718ms\tremaining: 2.52s\n",
      "222:\tlearn: 0.3509839\ttotal: 721ms\tremaining: 2.51s\n",
      "223:\tlearn: 0.3507376\ttotal: 724ms\tremaining: 2.51s\n",
      "224:\tlearn: 0.3506002\ttotal: 727ms\tremaining: 2.5s\n",
      "225:\tlearn: 0.3504874\ttotal: 730ms\tremaining: 2.5s\n",
      "226:\tlearn: 0.3503217\ttotal: 733ms\tremaining: 2.5s\n",
      "227:\tlearn: 0.3500709\ttotal: 736ms\tremaining: 2.49s\n",
      "228:\tlearn: 0.3499024\ttotal: 738ms\tremaining: 2.49s\n",
      "229:\tlearn: 0.3497773\ttotal: 741ms\tremaining: 2.48s\n",
      "230:\tlearn: 0.3496407\ttotal: 744ms\tremaining: 2.48s\n",
      "231:\tlearn: 0.3494636\ttotal: 747ms\tremaining: 2.47s\n",
      "232:\tlearn: 0.3492302\ttotal: 750ms\tremaining: 2.47s\n",
      "233:\tlearn: 0.3489113\ttotal: 753ms\tremaining: 2.46s\n",
      "234:\tlearn: 0.3487680\ttotal: 756ms\tremaining: 2.46s\n",
      "235:\tlearn: 0.3484835\ttotal: 759ms\tremaining: 2.46s\n",
      "236:\tlearn: 0.3483052\ttotal: 762ms\tremaining: 2.45s\n",
      "237:\tlearn: 0.3481828\ttotal: 765ms\tremaining: 2.45s\n",
      "238:\tlearn: 0.3480441\ttotal: 768ms\tremaining: 2.44s\n",
      "239:\tlearn: 0.3478747\ttotal: 771ms\tremaining: 2.44s\n",
      "240:\tlearn: 0.3477139\ttotal: 774ms\tremaining: 2.44s\n",
      "241:\tlearn: 0.3475566\ttotal: 777ms\tremaining: 2.43s\n",
      "242:\tlearn: 0.3475532\ttotal: 778ms\tremaining: 2.42s\n",
      "243:\tlearn: 0.3473082\ttotal: 781ms\tremaining: 2.42s\n",
      "244:\tlearn: 0.3472098\ttotal: 784ms\tremaining: 2.42s\n",
      "245:\tlearn: 0.3470249\ttotal: 787ms\tremaining: 2.41s\n",
      "246:\tlearn: 0.3468431\ttotal: 790ms\tremaining: 2.41s\n",
      "247:\tlearn: 0.3466488\ttotal: 794ms\tremaining: 2.41s\n",
      "248:\tlearn: 0.3465436\ttotal: 797ms\tremaining: 2.4s\n",
      "249:\tlearn: 0.3464397\ttotal: 800ms\tremaining: 2.4s\n",
      "250:\tlearn: 0.3461711\ttotal: 803ms\tremaining: 2.4s\n",
      "251:\tlearn: 0.3459199\ttotal: 806ms\tremaining: 2.39s\n",
      "252:\tlearn: 0.3458339\ttotal: 809ms\tremaining: 2.39s\n",
      "253:\tlearn: 0.3456029\ttotal: 812ms\tremaining: 2.38s\n",
      "254:\tlearn: 0.3454587\ttotal: 815ms\tremaining: 2.38s\n",
      "255:\tlearn: 0.3452823\ttotal: 817ms\tremaining: 2.38s\n",
      "256:\tlearn: 0.3451297\ttotal: 820ms\tremaining: 2.37s\n",
      "257:\tlearn: 0.3449492\ttotal: 823ms\tremaining: 2.37s\n",
      "258:\tlearn: 0.3448704\ttotal: 826ms\tremaining: 2.36s\n",
      "259:\tlearn: 0.3447690\ttotal: 829ms\tremaining: 2.36s\n",
      "260:\tlearn: 0.3447552\ttotal: 830ms\tremaining: 2.35s\n",
      "261:\tlearn: 0.3447027\ttotal: 832ms\tremaining: 2.34s\n",
      "262:\tlearn: 0.3443444\ttotal: 835ms\tremaining: 2.34s\n",
      "263:\tlearn: 0.3441376\ttotal: 837ms\tremaining: 2.33s\n",
      "264:\tlearn: 0.3439777\ttotal: 840ms\tremaining: 2.33s\n",
      "265:\tlearn: 0.3434437\ttotal: 843ms\tremaining: 2.33s\n",
      "266:\tlearn: 0.3431494\ttotal: 846ms\tremaining: 2.32s\n",
      "267:\tlearn: 0.3427212\ttotal: 849ms\tremaining: 2.32s\n",
      "268:\tlearn: 0.3425510\ttotal: 852ms\tremaining: 2.31s\n",
      "269:\tlearn: 0.3423989\ttotal: 855ms\tremaining: 2.31s\n",
      "270:\tlearn: 0.3422509\ttotal: 857ms\tremaining: 2.31s\n",
      "271:\tlearn: 0.3421228\ttotal: 861ms\tremaining: 2.3s\n",
      "272:\tlearn: 0.3419658\ttotal: 864ms\tremaining: 2.3s\n",
      "273:\tlearn: 0.3416745\ttotal: 868ms\tremaining: 2.3s\n",
      "274:\tlearn: 0.3415399\ttotal: 872ms\tremaining: 2.3s\n",
      "275:\tlearn: 0.3413864\ttotal: 876ms\tremaining: 2.3s\n",
      "276:\tlearn: 0.3412834\ttotal: 880ms\tremaining: 2.3s\n",
      "277:\tlearn: 0.3411864\ttotal: 884ms\tremaining: 2.29s\n",
      "278:\tlearn: 0.3410211\ttotal: 888ms\tremaining: 2.29s\n",
      "279:\tlearn: 0.3407106\ttotal: 892ms\tremaining: 2.29s\n",
      "280:\tlearn: 0.3404848\ttotal: 896ms\tremaining: 2.29s\n",
      "281:\tlearn: 0.3403231\ttotal: 899ms\tremaining: 2.29s\n",
      "282:\tlearn: 0.3400875\ttotal: 902ms\tremaining: 2.29s\n",
      "283:\tlearn: 0.3399060\ttotal: 905ms\tremaining: 2.28s\n",
      "284:\tlearn: 0.3398190\ttotal: 908ms\tremaining: 2.28s\n",
      "285:\tlearn: 0.3393694\ttotal: 910ms\tremaining: 2.27s\n",
      "286:\tlearn: 0.3392820\ttotal: 913ms\tremaining: 2.27s\n",
      "287:\tlearn: 0.3391594\ttotal: 916ms\tremaining: 2.26s\n",
      "288:\tlearn: 0.3389593\ttotal: 919ms\tremaining: 2.26s\n",
      "289:\tlearn: 0.3388640\ttotal: 921ms\tremaining: 2.25s\n",
      "290:\tlearn: 0.3387332\ttotal: 924ms\tremaining: 2.25s\n",
      "291:\tlearn: 0.3384033\ttotal: 927ms\tremaining: 2.25s\n",
      "292:\tlearn: 0.3381448\ttotal: 930ms\tremaining: 2.24s\n",
      "293:\tlearn: 0.3379498\ttotal: 933ms\tremaining: 2.24s\n",
      "294:\tlearn: 0.3378402\ttotal: 936ms\tremaining: 2.23s\n",
      "295:\tlearn: 0.3376033\ttotal: 939ms\tremaining: 2.23s\n",
      "296:\tlearn: 0.3372195\ttotal: 942ms\tremaining: 2.23s\n",
      "297:\tlearn: 0.3369052\ttotal: 945ms\tremaining: 2.23s\n",
      "298:\tlearn: 0.3367361\ttotal: 948ms\tremaining: 2.22s\n",
      "299:\tlearn: 0.3365202\ttotal: 951ms\tremaining: 2.22s\n",
      "300:\tlearn: 0.3363682\ttotal: 954ms\tremaining: 2.21s\n",
      "301:\tlearn: 0.3362525\ttotal: 957ms\tremaining: 2.21s\n",
      "302:\tlearn: 0.3360857\ttotal: 960ms\tremaining: 2.21s\n",
      "303:\tlearn: 0.3359174\ttotal: 963ms\tremaining: 2.2s\n",
      "304:\tlearn: 0.3358263\ttotal: 966ms\tremaining: 2.2s\n",
      "305:\tlearn: 0.3357030\ttotal: 969ms\tremaining: 2.2s\n",
      "306:\tlearn: 0.3355107\ttotal: 971ms\tremaining: 2.19s\n",
      "307:\tlearn: 0.3353925\ttotal: 974ms\tremaining: 2.19s\n",
      "308:\tlearn: 0.3351651\ttotal: 978ms\tremaining: 2.19s\n",
      "309:\tlearn: 0.3350301\ttotal: 981ms\tremaining: 2.18s\n",
      "310:\tlearn: 0.3348405\ttotal: 984ms\tremaining: 2.18s\n",
      "311:\tlearn: 0.3346742\ttotal: 986ms\tremaining: 2.17s\n",
      "312:\tlearn: 0.3344090\ttotal: 989ms\tremaining: 2.17s\n",
      "313:\tlearn: 0.3342068\ttotal: 993ms\tremaining: 2.17s\n",
      "314:\tlearn: 0.3341012\ttotal: 996ms\tremaining: 2.16s\n",
      "315:\tlearn: 0.3338782\ttotal: 999ms\tremaining: 2.16s\n",
      "316:\tlearn: 0.3336176\ttotal: 1s\tremaining: 2.16s\n",
      "317:\tlearn: 0.3333847\ttotal: 1s\tremaining: 2.15s\n",
      "318:\tlearn: 0.3332366\ttotal: 1.01s\tremaining: 2.15s\n",
      "319:\tlearn: 0.3330497\ttotal: 1.01s\tremaining: 2.15s\n",
      "320:\tlearn: 0.3329394\ttotal: 1.01s\tremaining: 2.14s\n",
      "321:\tlearn: 0.3327561\ttotal: 1.02s\tremaining: 2.14s\n",
      "322:\tlearn: 0.3326500\ttotal: 1.02s\tremaining: 2.14s\n",
      "323:\tlearn: 0.3324415\ttotal: 1.02s\tremaining: 2.13s\n",
      "324:\tlearn: 0.3323130\ttotal: 1.02s\tremaining: 2.13s\n",
      "325:\tlearn: 0.3321758\ttotal: 1.03s\tremaining: 2.13s\n",
      "326:\tlearn: 0.3320779\ttotal: 1.03s\tremaining: 2.12s\n",
      "327:\tlearn: 0.3319981\ttotal: 1.03s\tremaining: 2.12s\n",
      "328:\tlearn: 0.3318251\ttotal: 1.04s\tremaining: 2.12s\n",
      "329:\tlearn: 0.3316236\ttotal: 1.04s\tremaining: 2.11s\n",
      "330:\tlearn: 0.3314671\ttotal: 1.04s\tremaining: 2.11s\n",
      "331:\tlearn: 0.3314454\ttotal: 1.04s\tremaining: 2.1s\n",
      "332:\tlearn: 0.3313007\ttotal: 1.05s\tremaining: 2.1s\n",
      "333:\tlearn: 0.3311196\ttotal: 1.05s\tremaining: 2.1s\n",
      "334:\tlearn: 0.3310155\ttotal: 1.05s\tremaining: 2.09s\n",
      "335:\tlearn: 0.3308415\ttotal: 1.06s\tremaining: 2.09s\n",
      "336:\tlearn: 0.3307182\ttotal: 1.06s\tremaining: 2.08s\n",
      "337:\tlearn: 0.3305831\ttotal: 1.06s\tremaining: 2.08s\n",
      "338:\tlearn: 0.3304426\ttotal: 1.06s\tremaining: 2.08s\n",
      "339:\tlearn: 0.3302397\ttotal: 1.07s\tremaining: 2.08s\n",
      "340:\tlearn: 0.3300483\ttotal: 1.07s\tremaining: 2.07s\n",
      "341:\tlearn: 0.3298663\ttotal: 1.07s\tremaining: 2.07s\n",
      "342:\tlearn: 0.3295501\ttotal: 1.08s\tremaining: 2.06s\n",
      "343:\tlearn: 0.3293808\ttotal: 1.08s\tremaining: 2.06s\n",
      "344:\tlearn: 0.3292779\ttotal: 1.08s\tremaining: 2.06s\n",
      "345:\tlearn: 0.3290863\ttotal: 1.09s\tremaining: 2.05s\n",
      "346:\tlearn: 0.3290466\ttotal: 1.09s\tremaining: 2.05s\n",
      "347:\tlearn: 0.3289078\ttotal: 1.09s\tremaining: 2.05s\n",
      "348:\tlearn: 0.3286870\ttotal: 1.09s\tremaining: 2.04s\n",
      "349:\tlearn: 0.3286037\ttotal: 1.1s\tremaining: 2.04s\n",
      "350:\tlearn: 0.3285269\ttotal: 1.1s\tremaining: 2.04s\n",
      "351:\tlearn: 0.3283971\ttotal: 1.1s\tremaining: 2.03s\n",
      "352:\tlearn: 0.3281302\ttotal: 1.11s\tremaining: 2.03s\n",
      "353:\tlearn: 0.3278069\ttotal: 1.11s\tremaining: 2.03s\n",
      "354:\tlearn: 0.3277016\ttotal: 1.11s\tremaining: 2.02s\n",
      "355:\tlearn: 0.3274982\ttotal: 1.12s\tremaining: 2.02s\n",
      "356:\tlearn: 0.3273998\ttotal: 1.12s\tremaining: 2.02s\n",
      "357:\tlearn: 0.3272153\ttotal: 1.12s\tremaining: 2.02s\n",
      "358:\tlearn: 0.3270423\ttotal: 1.13s\tremaining: 2.01s\n",
      "359:\tlearn: 0.3268951\ttotal: 1.13s\tremaining: 2.01s\n",
      "360:\tlearn: 0.3267033\ttotal: 1.13s\tremaining: 2s\n",
      "361:\tlearn: 0.3265692\ttotal: 1.14s\tremaining: 2s\n",
      "362:\tlearn: 0.3264761\ttotal: 1.14s\tremaining: 2s\n",
      "363:\tlearn: 0.3262675\ttotal: 1.14s\tremaining: 2s\n",
      "364:\tlearn: 0.3258388\ttotal: 1.14s\tremaining: 1.99s\n",
      "365:\tlearn: 0.3256504\ttotal: 1.15s\tremaining: 1.99s\n",
      "366:\tlearn: 0.3254446\ttotal: 1.15s\tremaining: 1.99s\n",
      "367:\tlearn: 0.3251988\ttotal: 1.15s\tremaining: 1.98s\n",
      "368:\tlearn: 0.3249939\ttotal: 1.16s\tremaining: 1.98s\n",
      "369:\tlearn: 0.3248508\ttotal: 1.16s\tremaining: 1.98s\n",
      "370:\tlearn: 0.3246007\ttotal: 1.16s\tremaining: 1.97s\n",
      "371:\tlearn: 0.3245361\ttotal: 1.17s\tremaining: 1.97s\n",
      "372:\tlearn: 0.3243903\ttotal: 1.17s\tremaining: 1.97s\n",
      "373:\tlearn: 0.3242572\ttotal: 1.17s\tremaining: 1.96s\n",
      "374:\tlearn: 0.3241612\ttotal: 1.18s\tremaining: 1.96s\n",
      "375:\tlearn: 0.3240020\ttotal: 1.18s\tremaining: 1.96s\n",
      "376:\tlearn: 0.3238761\ttotal: 1.18s\tremaining: 1.96s\n",
      "377:\tlearn: 0.3236817\ttotal: 1.19s\tremaining: 1.96s\n",
      "378:\tlearn: 0.3236108\ttotal: 1.19s\tremaining: 1.96s\n",
      "379:\tlearn: 0.3234900\ttotal: 1.2s\tremaining: 1.95s\n",
      "380:\tlearn: 0.3233891\ttotal: 1.2s\tremaining: 1.95s\n",
      "381:\tlearn: 0.3232828\ttotal: 1.21s\tremaining: 1.95s\n",
      "382:\tlearn: 0.3230975\ttotal: 1.21s\tremaining: 1.95s\n",
      "383:\tlearn: 0.3230722\ttotal: 1.21s\tremaining: 1.94s\n",
      "384:\tlearn: 0.3228824\ttotal: 1.21s\tremaining: 1.94s\n",
      "385:\tlearn: 0.3227398\ttotal: 1.22s\tremaining: 1.94s\n",
      "386:\tlearn: 0.3226698\ttotal: 1.22s\tremaining: 1.93s\n",
      "387:\tlearn: 0.3224735\ttotal: 1.23s\tremaining: 1.93s\n",
      "388:\tlearn: 0.3222944\ttotal: 1.23s\tremaining: 1.93s\n",
      "389:\tlearn: 0.3221191\ttotal: 1.23s\tremaining: 1.93s\n",
      "390:\tlearn: 0.3219906\ttotal: 1.24s\tremaining: 1.93s\n",
      "391:\tlearn: 0.3218990\ttotal: 1.24s\tremaining: 1.93s\n",
      "392:\tlearn: 0.3217462\ttotal: 1.25s\tremaining: 1.92s\n",
      "393:\tlearn: 0.3216868\ttotal: 1.25s\tremaining: 1.92s\n",
      "394:\tlearn: 0.3216191\ttotal: 1.25s\tremaining: 1.92s\n",
      "395:\tlearn: 0.3214449\ttotal: 1.25s\tremaining: 1.91s\n",
      "396:\tlearn: 0.3212172\ttotal: 1.26s\tremaining: 1.91s\n",
      "397:\tlearn: 0.3209854\ttotal: 1.26s\tremaining: 1.91s\n",
      "398:\tlearn: 0.3207989\ttotal: 1.26s\tremaining: 1.9s\n",
      "399:\tlearn: 0.3206327\ttotal: 1.27s\tremaining: 1.9s\n",
      "400:\tlearn: 0.3204831\ttotal: 1.27s\tremaining: 1.9s\n",
      "401:\tlearn: 0.3203740\ttotal: 1.27s\tremaining: 1.89s\n",
      "402:\tlearn: 0.3202063\ttotal: 1.27s\tremaining: 1.89s\n",
      "403:\tlearn: 0.3200888\ttotal: 1.28s\tremaining: 1.89s\n",
      "404:\tlearn: 0.3198813\ttotal: 1.28s\tremaining: 1.88s\n",
      "405:\tlearn: 0.3198305\ttotal: 1.28s\tremaining: 1.88s\n",
      "406:\tlearn: 0.3197870\ttotal: 1.28s\tremaining: 1.87s\n",
      "407:\tlearn: 0.3196710\ttotal: 1.29s\tremaining: 1.87s\n",
      "408:\tlearn: 0.3194762\ttotal: 1.29s\tremaining: 1.87s\n",
      "409:\tlearn: 0.3193811\ttotal: 1.29s\tremaining: 1.86s\n",
      "410:\tlearn: 0.3192554\ttotal: 1.3s\tremaining: 1.86s\n",
      "411:\tlearn: 0.3191714\ttotal: 1.3s\tremaining: 1.86s\n",
      "412:\tlearn: 0.3190740\ttotal: 1.3s\tremaining: 1.85s\n",
      "413:\tlearn: 0.3188095\ttotal: 1.31s\tremaining: 1.85s\n",
      "414:\tlearn: 0.3186411\ttotal: 1.31s\tremaining: 1.85s\n",
      "415:\tlearn: 0.3185124\ttotal: 1.31s\tremaining: 1.84s\n",
      "416:\tlearn: 0.3183325\ttotal: 1.32s\tremaining: 1.84s\n",
      "417:\tlearn: 0.3181109\ttotal: 1.32s\tremaining: 1.84s\n",
      "418:\tlearn: 0.3179990\ttotal: 1.32s\tremaining: 1.83s\n",
      "419:\tlearn: 0.3179225\ttotal: 1.33s\tremaining: 1.83s\n",
      "420:\tlearn: 0.3177889\ttotal: 1.33s\tremaining: 1.83s\n",
      "421:\tlearn: 0.3175668\ttotal: 1.34s\tremaining: 1.83s\n",
      "422:\tlearn: 0.3174025\ttotal: 1.34s\tremaining: 1.83s\n",
      "423:\tlearn: 0.3173530\ttotal: 1.34s\tremaining: 1.83s\n",
      "424:\tlearn: 0.3172738\ttotal: 1.35s\tremaining: 1.82s\n",
      "425:\tlearn: 0.3172065\ttotal: 1.35s\tremaining: 1.82s\n",
      "426:\tlearn: 0.3169568\ttotal: 1.35s\tremaining: 1.82s\n",
      "427:\tlearn: 0.3168670\ttotal: 1.36s\tremaining: 1.81s\n",
      "428:\tlearn: 0.3166292\ttotal: 1.36s\tremaining: 1.81s\n",
      "429:\tlearn: 0.3164652\ttotal: 1.36s\tremaining: 1.81s\n",
      "430:\tlearn: 0.3159996\ttotal: 1.36s\tremaining: 1.8s\n",
      "431:\tlearn: 0.3158975\ttotal: 1.37s\tremaining: 1.8s\n",
      "432:\tlearn: 0.3158174\ttotal: 1.37s\tremaining: 1.8s\n",
      "433:\tlearn: 0.3157039\ttotal: 1.38s\tremaining: 1.79s\n",
      "434:\tlearn: 0.3154920\ttotal: 1.38s\tremaining: 1.79s\n",
      "435:\tlearn: 0.3153708\ttotal: 1.38s\tremaining: 1.79s\n",
      "436:\tlearn: 0.3150781\ttotal: 1.38s\tremaining: 1.78s\n",
      "437:\tlearn: 0.3150569\ttotal: 1.39s\tremaining: 1.78s\n",
      "438:\tlearn: 0.3149338\ttotal: 1.39s\tremaining: 1.77s\n",
      "439:\tlearn: 0.3146531\ttotal: 1.39s\tremaining: 1.77s\n",
      "440:\tlearn: 0.3144352\ttotal: 1.4s\tremaining: 1.77s\n",
      "441:\tlearn: 0.3141798\ttotal: 1.4s\tremaining: 1.76s\n",
      "442:\tlearn: 0.3141072\ttotal: 1.4s\tremaining: 1.76s\n",
      "443:\tlearn: 0.3139347\ttotal: 1.4s\tremaining: 1.76s\n",
      "444:\tlearn: 0.3135445\ttotal: 1.41s\tremaining: 1.75s\n",
      "445:\tlearn: 0.3133525\ttotal: 1.41s\tremaining: 1.75s\n",
      "446:\tlearn: 0.3132635\ttotal: 1.41s\tremaining: 1.75s\n",
      "447:\tlearn: 0.3130249\ttotal: 1.42s\tremaining: 1.75s\n",
      "448:\tlearn: 0.3129238\ttotal: 1.42s\tremaining: 1.74s\n",
      "449:\tlearn: 0.3127795\ttotal: 1.42s\tremaining: 1.74s\n",
      "450:\tlearn: 0.3126262\ttotal: 1.43s\tremaining: 1.73s\n",
      "451:\tlearn: 0.3124944\ttotal: 1.43s\tremaining: 1.73s\n",
      "452:\tlearn: 0.3123605\ttotal: 1.43s\tremaining: 1.73s\n",
      "453:\tlearn: 0.3122566\ttotal: 1.44s\tremaining: 1.73s\n",
      "454:\tlearn: 0.3121529\ttotal: 1.44s\tremaining: 1.72s\n",
      "455:\tlearn: 0.3119466\ttotal: 1.44s\tremaining: 1.72s\n",
      "456:\tlearn: 0.3118801\ttotal: 1.45s\tremaining: 1.72s\n",
      "457:\tlearn: 0.3117936\ttotal: 1.45s\tremaining: 1.72s\n",
      "458:\tlearn: 0.3116082\ttotal: 1.46s\tremaining: 1.72s\n",
      "459:\tlearn: 0.3114787\ttotal: 1.46s\tremaining: 1.71s\n",
      "460:\tlearn: 0.3111504\ttotal: 1.47s\tremaining: 1.71s\n",
      "461:\tlearn: 0.3110513\ttotal: 1.47s\tremaining: 1.71s\n",
      "462:\tlearn: 0.3108736\ttotal: 1.47s\tremaining: 1.71s\n",
      "463:\tlearn: 0.3106350\ttotal: 1.48s\tremaining: 1.71s\n",
      "464:\tlearn: 0.3105520\ttotal: 1.48s\tremaining: 1.71s\n",
      "465:\tlearn: 0.3103877\ttotal: 1.49s\tremaining: 1.71s\n",
      "466:\tlearn: 0.3102509\ttotal: 1.49s\tremaining: 1.7s\n",
      "467:\tlearn: 0.3101075\ttotal: 1.5s\tremaining: 1.7s\n",
      "468:\tlearn: 0.3099798\ttotal: 1.5s\tremaining: 1.7s\n",
      "469:\tlearn: 0.3098813\ttotal: 1.5s\tremaining: 1.7s\n",
      "470:\tlearn: 0.3097794\ttotal: 1.51s\tremaining: 1.7s\n",
      "471:\tlearn: 0.3095891\ttotal: 1.51s\tremaining: 1.69s\n",
      "472:\tlearn: 0.3091850\ttotal: 1.52s\tremaining: 1.69s\n",
      "473:\tlearn: 0.3090901\ttotal: 1.52s\tremaining: 1.69s\n",
      "474:\tlearn: 0.3089277\ttotal: 1.53s\tremaining: 1.69s\n",
      "475:\tlearn: 0.3086186\ttotal: 1.53s\tremaining: 1.69s\n",
      "476:\tlearn: 0.3084401\ttotal: 1.54s\tremaining: 1.69s\n",
      "477:\tlearn: 0.3082151\ttotal: 1.54s\tremaining: 1.68s\n",
      "478:\tlearn: 0.3079406\ttotal: 1.54s\tremaining: 1.68s\n",
      "479:\tlearn: 0.3078603\ttotal: 1.55s\tremaining: 1.68s\n",
      "480:\tlearn: 0.3077703\ttotal: 1.55s\tremaining: 1.67s\n",
      "481:\tlearn: 0.3076220\ttotal: 1.55s\tremaining: 1.67s\n",
      "482:\tlearn: 0.3074831\ttotal: 1.56s\tremaining: 1.67s\n",
      "483:\tlearn: 0.3073303\ttotal: 1.56s\tremaining: 1.66s\n",
      "484:\tlearn: 0.3072368\ttotal: 1.56s\tremaining: 1.66s\n",
      "485:\tlearn: 0.3071390\ttotal: 1.57s\tremaining: 1.66s\n",
      "486:\tlearn: 0.3069581\ttotal: 1.57s\tremaining: 1.65s\n",
      "487:\tlearn: 0.3068741\ttotal: 1.57s\tremaining: 1.65s\n",
      "488:\tlearn: 0.3067126\ttotal: 1.57s\tremaining: 1.65s\n",
      "489:\tlearn: 0.3064108\ttotal: 1.58s\tremaining: 1.64s\n",
      "490:\tlearn: 0.3061331\ttotal: 1.58s\tremaining: 1.64s\n",
      "491:\tlearn: 0.3060144\ttotal: 1.58s\tremaining: 1.64s\n",
      "492:\tlearn: 0.3058890\ttotal: 1.59s\tremaining: 1.63s\n",
      "493:\tlearn: 0.3056846\ttotal: 1.59s\tremaining: 1.63s\n",
      "494:\tlearn: 0.3053433\ttotal: 1.59s\tremaining: 1.63s\n",
      "495:\tlearn: 0.3051815\ttotal: 1.6s\tremaining: 1.62s\n",
      "496:\tlearn: 0.3049488\ttotal: 1.6s\tremaining: 1.62s\n",
      "497:\tlearn: 0.3047278\ttotal: 1.6s\tremaining: 1.62s\n",
      "498:\tlearn: 0.3046372\ttotal: 1.61s\tremaining: 1.61s\n",
      "499:\tlearn: 0.3044955\ttotal: 1.61s\tremaining: 1.61s\n",
      "500:\tlearn: 0.3043800\ttotal: 1.61s\tremaining: 1.6s\n",
      "501:\tlearn: 0.3042357\ttotal: 1.61s\tremaining: 1.6s\n",
      "502:\tlearn: 0.3039623\ttotal: 1.62s\tremaining: 1.6s\n",
      "503:\tlearn: 0.3037890\ttotal: 1.62s\tremaining: 1.59s\n",
      "504:\tlearn: 0.3036913\ttotal: 1.62s\tremaining: 1.59s\n",
      "505:\tlearn: 0.3035434\ttotal: 1.63s\tremaining: 1.59s\n",
      "506:\tlearn: 0.3032829\ttotal: 1.63s\tremaining: 1.58s\n",
      "507:\tlearn: 0.3032186\ttotal: 1.63s\tremaining: 1.58s\n",
      "508:\tlearn: 0.3030409\ttotal: 1.64s\tremaining: 1.58s\n",
      "509:\tlearn: 0.3029589\ttotal: 1.64s\tremaining: 1.57s\n",
      "510:\tlearn: 0.3029035\ttotal: 1.64s\tremaining: 1.57s\n",
      "511:\tlearn: 0.3028149\ttotal: 1.64s\tremaining: 1.57s\n",
      "512:\tlearn: 0.3026140\ttotal: 1.65s\tremaining: 1.56s\n",
      "513:\tlearn: 0.3025058\ttotal: 1.65s\tremaining: 1.56s\n",
      "514:\tlearn: 0.3022507\ttotal: 1.65s\tremaining: 1.56s\n",
      "515:\tlearn: 0.3018367\ttotal: 1.66s\tremaining: 1.55s\n",
      "516:\tlearn: 0.3016312\ttotal: 1.66s\tremaining: 1.55s\n",
      "517:\tlearn: 0.3014704\ttotal: 1.66s\tremaining: 1.54s\n",
      "518:\tlearn: 0.3013809\ttotal: 1.66s\tremaining: 1.54s\n",
      "519:\tlearn: 0.3012492\ttotal: 1.67s\tremaining: 1.54s\n",
      "520:\tlearn: 0.3010990\ttotal: 1.67s\tremaining: 1.53s\n",
      "521:\tlearn: 0.3007571\ttotal: 1.67s\tremaining: 1.53s\n",
      "522:\tlearn: 0.3006841\ttotal: 1.68s\tremaining: 1.53s\n",
      "523:\tlearn: 0.3004759\ttotal: 1.68s\tremaining: 1.52s\n",
      "524:\tlearn: 0.3002755\ttotal: 1.68s\tremaining: 1.52s\n",
      "525:\tlearn: 0.3000922\ttotal: 1.68s\tremaining: 1.52s\n",
      "526:\tlearn: 0.2999880\ttotal: 1.69s\tremaining: 1.51s\n",
      "527:\tlearn: 0.2999017\ttotal: 1.69s\tremaining: 1.51s\n",
      "528:\tlearn: 0.2997845\ttotal: 1.69s\tremaining: 1.51s\n",
      "529:\tlearn: 0.2996933\ttotal: 1.7s\tremaining: 1.5s\n",
      "530:\tlearn: 0.2994269\ttotal: 1.7s\tremaining: 1.5s\n",
      "531:\tlearn: 0.2991797\ttotal: 1.7s\tremaining: 1.5s\n",
      "532:\tlearn: 0.2990959\ttotal: 1.7s\tremaining: 1.49s\n",
      "533:\tlearn: 0.2990025\ttotal: 1.71s\tremaining: 1.49s\n",
      "534:\tlearn: 0.2988398\ttotal: 1.71s\tremaining: 1.49s\n",
      "535:\tlearn: 0.2987423\ttotal: 1.71s\tremaining: 1.48s\n",
      "536:\tlearn: 0.2986529\ttotal: 1.72s\tremaining: 1.48s\n",
      "537:\tlearn: 0.2984763\ttotal: 1.72s\tremaining: 1.48s\n",
      "538:\tlearn: 0.2983150\ttotal: 1.72s\tremaining: 1.47s\n",
      "539:\tlearn: 0.2980766\ttotal: 1.72s\tremaining: 1.47s\n",
      "540:\tlearn: 0.2978982\ttotal: 1.73s\tremaining: 1.47s\n",
      "541:\tlearn: 0.2977586\ttotal: 1.73s\tremaining: 1.46s\n",
      "542:\tlearn: 0.2975753\ttotal: 1.73s\tremaining: 1.46s\n",
      "543:\tlearn: 0.2974612\ttotal: 1.74s\tremaining: 1.46s\n",
      "544:\tlearn: 0.2973626\ttotal: 1.74s\tremaining: 1.45s\n",
      "545:\tlearn: 0.2972375\ttotal: 1.74s\tremaining: 1.45s\n",
      "546:\tlearn: 0.2971665\ttotal: 1.75s\tremaining: 1.45s\n",
      "547:\tlearn: 0.2970311\ttotal: 1.75s\tremaining: 1.44s\n",
      "548:\tlearn: 0.2969309\ttotal: 1.75s\tremaining: 1.44s\n",
      "549:\tlearn: 0.2967793\ttotal: 1.75s\tremaining: 1.43s\n",
      "550:\tlearn: 0.2966718\ttotal: 1.76s\tremaining: 1.43s\n",
      "551:\tlearn: 0.2965532\ttotal: 1.76s\tremaining: 1.43s\n",
      "552:\tlearn: 0.2962332\ttotal: 1.76s\tremaining: 1.42s\n",
      "553:\tlearn: 0.2960661\ttotal: 1.76s\tremaining: 1.42s\n",
      "554:\tlearn: 0.2959087\ttotal: 1.77s\tremaining: 1.42s\n",
      "555:\tlearn: 0.2958341\ttotal: 1.77s\tremaining: 1.41s\n",
      "556:\tlearn: 0.2956342\ttotal: 1.77s\tremaining: 1.41s\n",
      "557:\tlearn: 0.2955103\ttotal: 1.78s\tremaining: 1.41s\n",
      "558:\tlearn: 0.2954154\ttotal: 1.78s\tremaining: 1.4s\n",
      "559:\tlearn: 0.2953276\ttotal: 1.78s\tremaining: 1.4s\n",
      "560:\tlearn: 0.2952571\ttotal: 1.78s\tremaining: 1.4s\n",
      "561:\tlearn: 0.2951290\ttotal: 1.79s\tremaining: 1.39s\n",
      "562:\tlearn: 0.2950466\ttotal: 1.79s\tremaining: 1.39s\n",
      "563:\tlearn: 0.2949130\ttotal: 1.79s\tremaining: 1.39s\n",
      "564:\tlearn: 0.2948312\ttotal: 1.8s\tremaining: 1.38s\n",
      "565:\tlearn: 0.2947034\ttotal: 1.8s\tremaining: 1.38s\n",
      "566:\tlearn: 0.2944833\ttotal: 1.8s\tremaining: 1.38s\n",
      "567:\tlearn: 0.2943252\ttotal: 1.8s\tremaining: 1.37s\n",
      "568:\tlearn: 0.2941452\ttotal: 1.81s\tremaining: 1.37s\n",
      "569:\tlearn: 0.2939948\ttotal: 1.81s\tremaining: 1.37s\n",
      "570:\tlearn: 0.2939315\ttotal: 1.81s\tremaining: 1.36s\n",
      "571:\tlearn: 0.2938209\ttotal: 1.82s\tremaining: 1.36s\n",
      "572:\tlearn: 0.2937163\ttotal: 1.82s\tremaining: 1.35s\n",
      "573:\tlearn: 0.2936345\ttotal: 1.82s\tremaining: 1.35s\n",
      "574:\tlearn: 0.2935160\ttotal: 1.82s\tremaining: 1.35s\n",
      "575:\tlearn: 0.2934650\ttotal: 1.83s\tremaining: 1.34s\n",
      "576:\tlearn: 0.2932770\ttotal: 1.83s\tremaining: 1.34s\n",
      "577:\tlearn: 0.2931866\ttotal: 1.83s\tremaining: 1.34s\n",
      "578:\tlearn: 0.2931061\ttotal: 1.84s\tremaining: 1.33s\n",
      "579:\tlearn: 0.2930318\ttotal: 1.84s\tremaining: 1.33s\n",
      "580:\tlearn: 0.2928155\ttotal: 1.84s\tremaining: 1.33s\n",
      "581:\tlearn: 0.2926011\ttotal: 1.85s\tremaining: 1.33s\n",
      "582:\tlearn: 0.2924711\ttotal: 1.85s\tremaining: 1.32s\n",
      "583:\tlearn: 0.2923116\ttotal: 1.85s\tremaining: 1.32s\n",
      "584:\tlearn: 0.2919071\ttotal: 1.85s\tremaining: 1.32s\n",
      "585:\tlearn: 0.2917725\ttotal: 1.86s\tremaining: 1.31s\n",
      "586:\tlearn: 0.2916543\ttotal: 1.86s\tremaining: 1.31s\n",
      "587:\tlearn: 0.2914068\ttotal: 1.86s\tremaining: 1.31s\n",
      "588:\tlearn: 0.2911680\ttotal: 1.87s\tremaining: 1.3s\n",
      "589:\tlearn: 0.2907854\ttotal: 1.87s\tremaining: 1.3s\n",
      "590:\tlearn: 0.2906675\ttotal: 1.87s\tremaining: 1.3s\n",
      "591:\tlearn: 0.2905463\ttotal: 1.88s\tremaining: 1.29s\n",
      "592:\tlearn: 0.2904499\ttotal: 1.88s\tremaining: 1.29s\n",
      "593:\tlearn: 0.2900871\ttotal: 1.88s\tremaining: 1.29s\n",
      "594:\tlearn: 0.2899400\ttotal: 1.89s\tremaining: 1.28s\n",
      "595:\tlearn: 0.2898483\ttotal: 1.89s\tremaining: 1.28s\n",
      "596:\tlearn: 0.2895055\ttotal: 1.89s\tremaining: 1.28s\n",
      "597:\tlearn: 0.2894164\ttotal: 1.89s\tremaining: 1.27s\n",
      "598:\tlearn: 0.2893160\ttotal: 1.9s\tremaining: 1.27s\n",
      "599:\tlearn: 0.2891268\ttotal: 1.9s\tremaining: 1.27s\n",
      "600:\tlearn: 0.2890566\ttotal: 1.9s\tremaining: 1.26s\n",
      "601:\tlearn: 0.2888867\ttotal: 1.91s\tremaining: 1.26s\n",
      "602:\tlearn: 0.2887557\ttotal: 1.91s\tremaining: 1.26s\n",
      "603:\tlearn: 0.2886312\ttotal: 1.91s\tremaining: 1.25s\n",
      "604:\tlearn: 0.2884068\ttotal: 1.92s\tremaining: 1.25s\n",
      "605:\tlearn: 0.2882652\ttotal: 1.92s\tremaining: 1.25s\n",
      "606:\tlearn: 0.2881665\ttotal: 1.92s\tremaining: 1.24s\n",
      "607:\tlearn: 0.2880254\ttotal: 1.92s\tremaining: 1.24s\n",
      "608:\tlearn: 0.2879279\ttotal: 1.93s\tremaining: 1.24s\n",
      "609:\tlearn: 0.2878540\ttotal: 1.93s\tremaining: 1.23s\n",
      "610:\tlearn: 0.2876645\ttotal: 1.93s\tremaining: 1.23s\n",
      "611:\tlearn: 0.2875846\ttotal: 1.94s\tremaining: 1.23s\n",
      "612:\tlearn: 0.2874300\ttotal: 1.94s\tremaining: 1.22s\n",
      "613:\tlearn: 0.2873539\ttotal: 1.94s\tremaining: 1.22s\n",
      "614:\tlearn: 0.2872361\ttotal: 1.95s\tremaining: 1.22s\n",
      "615:\tlearn: 0.2871430\ttotal: 1.95s\tremaining: 1.21s\n",
      "616:\tlearn: 0.2870209\ttotal: 1.95s\tremaining: 1.21s\n",
      "617:\tlearn: 0.2869527\ttotal: 1.95s\tremaining: 1.21s\n",
      "618:\tlearn: 0.2868270\ttotal: 1.96s\tremaining: 1.2s\n",
      "619:\tlearn: 0.2867529\ttotal: 1.96s\tremaining: 1.2s\n",
      "620:\tlearn: 0.2866540\ttotal: 1.96s\tremaining: 1.2s\n",
      "621:\tlearn: 0.2864595\ttotal: 1.97s\tremaining: 1.19s\n",
      "622:\tlearn: 0.2863844\ttotal: 1.97s\tremaining: 1.19s\n",
      "623:\tlearn: 0.2862953\ttotal: 1.97s\tremaining: 1.19s\n",
      "624:\tlearn: 0.2862142\ttotal: 1.98s\tremaining: 1.19s\n",
      "625:\tlearn: 0.2859808\ttotal: 1.98s\tremaining: 1.18s\n",
      "626:\tlearn: 0.2858446\ttotal: 1.98s\tremaining: 1.18s\n",
      "627:\tlearn: 0.2857003\ttotal: 1.98s\tremaining: 1.18s\n",
      "628:\tlearn: 0.2854574\ttotal: 1.99s\tremaining: 1.17s\n",
      "629:\tlearn: 0.2853335\ttotal: 1.99s\tremaining: 1.17s\n",
      "630:\tlearn: 0.2851487\ttotal: 1.99s\tremaining: 1.17s\n",
      "631:\tlearn: 0.2850866\ttotal: 2s\tremaining: 1.16s\n",
      "632:\tlearn: 0.2849861\ttotal: 2s\tremaining: 1.16s\n",
      "633:\tlearn: 0.2848705\ttotal: 2s\tremaining: 1.16s\n",
      "634:\tlearn: 0.2847193\ttotal: 2s\tremaining: 1.15s\n",
      "635:\tlearn: 0.2845964\ttotal: 2.01s\tremaining: 1.15s\n",
      "636:\tlearn: 0.2844826\ttotal: 2.01s\tremaining: 1.15s\n",
      "637:\tlearn: 0.2843260\ttotal: 2.01s\tremaining: 1.14s\n",
      "638:\tlearn: 0.2840029\ttotal: 2.02s\tremaining: 1.14s\n",
      "639:\tlearn: 0.2839073\ttotal: 2.02s\tremaining: 1.14s\n",
      "640:\tlearn: 0.2837268\ttotal: 2.02s\tremaining: 1.13s\n",
      "641:\tlearn: 0.2836368\ttotal: 2.02s\tremaining: 1.13s\n",
      "642:\tlearn: 0.2835720\ttotal: 2.03s\tremaining: 1.13s\n",
      "643:\tlearn: 0.2834646\ttotal: 2.03s\tremaining: 1.12s\n",
      "644:\tlearn: 0.2833132\ttotal: 2.03s\tremaining: 1.12s\n",
      "645:\tlearn: 0.2831835\ttotal: 2.04s\tremaining: 1.12s\n",
      "646:\tlearn: 0.2830769\ttotal: 2.04s\tremaining: 1.11s\n",
      "647:\tlearn: 0.2829038\ttotal: 2.04s\tremaining: 1.11s\n",
      "648:\tlearn: 0.2827062\ttotal: 2.04s\tremaining: 1.11s\n",
      "649:\tlearn: 0.2825986\ttotal: 2.05s\tremaining: 1.1s\n",
      "650:\tlearn: 0.2825364\ttotal: 2.05s\tremaining: 1.1s\n",
      "651:\tlearn: 0.2824181\ttotal: 2.05s\tremaining: 1.1s\n",
      "652:\tlearn: 0.2823074\ttotal: 2.06s\tremaining: 1.09s\n",
      "653:\tlearn: 0.2821072\ttotal: 2.06s\tremaining: 1.09s\n",
      "654:\tlearn: 0.2820365\ttotal: 2.06s\tremaining: 1.09s\n",
      "655:\tlearn: 0.2818618\ttotal: 2.06s\tremaining: 1.08s\n",
      "656:\tlearn: 0.2817172\ttotal: 2.07s\tremaining: 1.08s\n",
      "657:\tlearn: 0.2815698\ttotal: 2.07s\tremaining: 1.08s\n",
      "658:\tlearn: 0.2815008\ttotal: 2.07s\tremaining: 1.07s\n",
      "659:\tlearn: 0.2813761\ttotal: 2.08s\tremaining: 1.07s\n",
      "660:\tlearn: 0.2812205\ttotal: 2.08s\tremaining: 1.07s\n",
      "661:\tlearn: 0.2810905\ttotal: 2.08s\tremaining: 1.06s\n",
      "662:\tlearn: 0.2809954\ttotal: 2.09s\tremaining: 1.06s\n",
      "663:\tlearn: 0.2809227\ttotal: 2.09s\tremaining: 1.06s\n",
      "664:\tlearn: 0.2807331\ttotal: 2.09s\tremaining: 1.05s\n",
      "665:\tlearn: 0.2806133\ttotal: 2.1s\tremaining: 1.05s\n",
      "666:\tlearn: 0.2805197\ttotal: 2.1s\tremaining: 1.05s\n",
      "667:\tlearn: 0.2804612\ttotal: 2.1s\tremaining: 1.04s\n",
      "668:\tlearn: 0.2803795\ttotal: 2.1s\tremaining: 1.04s\n",
      "669:\tlearn: 0.2800699\ttotal: 2.11s\tremaining: 1.04s\n",
      "670:\tlearn: 0.2799387\ttotal: 2.11s\tremaining: 1.03s\n",
      "671:\tlearn: 0.2797844\ttotal: 2.11s\tremaining: 1.03s\n",
      "672:\tlearn: 0.2796612\ttotal: 2.12s\tremaining: 1.03s\n",
      "673:\tlearn: 0.2795450\ttotal: 2.12s\tremaining: 1.02s\n",
      "674:\tlearn: 0.2793972\ttotal: 2.12s\tremaining: 1.02s\n",
      "675:\tlearn: 0.2792349\ttotal: 2.12s\tremaining: 1.02s\n",
      "676:\tlearn: 0.2791006\ttotal: 2.13s\tremaining: 1.01s\n",
      "677:\tlearn: 0.2789742\ttotal: 2.13s\tremaining: 1.01s\n",
      "678:\tlearn: 0.2788861\ttotal: 2.13s\tremaining: 1.01s\n",
      "679:\tlearn: 0.2785924\ttotal: 2.14s\tremaining: 1s\n",
      "680:\tlearn: 0.2785010\ttotal: 2.14s\tremaining: 1s\n",
      "681:\tlearn: 0.2784252\ttotal: 2.15s\tremaining: 1s\n",
      "682:\tlearn: 0.2783047\ttotal: 2.15s\tremaining: 998ms\n",
      "683:\tlearn: 0.2782338\ttotal: 2.15s\tremaining: 996ms\n",
      "684:\tlearn: 0.2780071\ttotal: 2.16s\tremaining: 993ms\n",
      "685:\tlearn: 0.2779192\ttotal: 2.16s\tremaining: 990ms\n",
      "686:\tlearn: 0.2776677\ttotal: 2.16s\tremaining: 986ms\n",
      "687:\tlearn: 0.2775864\ttotal: 2.17s\tremaining: 983ms\n",
      "688:\tlearn: 0.2774713\ttotal: 2.17s\tremaining: 980ms\n",
      "689:\tlearn: 0.2773429\ttotal: 2.17s\tremaining: 976ms\n",
      "690:\tlearn: 0.2772748\ttotal: 2.18s\tremaining: 973ms\n",
      "691:\tlearn: 0.2771006\ttotal: 2.18s\tremaining: 970ms\n",
      "692:\tlearn: 0.2770495\ttotal: 2.18s\tremaining: 968ms\n",
      "693:\tlearn: 0.2768282\ttotal: 2.19s\tremaining: 965ms\n",
      "694:\tlearn: 0.2767724\ttotal: 2.19s\tremaining: 963ms\n",
      "695:\tlearn: 0.2766099\ttotal: 2.2s\tremaining: 960ms\n",
      "696:\tlearn: 0.2764244\ttotal: 2.2s\tremaining: 958ms\n",
      "697:\tlearn: 0.2763242\ttotal: 2.21s\tremaining: 955ms\n",
      "698:\tlearn: 0.2762026\ttotal: 2.21s\tremaining: 952ms\n",
      "699:\tlearn: 0.2759657\ttotal: 2.21s\tremaining: 949ms\n",
      "700:\tlearn: 0.2758813\ttotal: 2.22s\tremaining: 946ms\n",
      "701:\tlearn: 0.2757929\ttotal: 2.22s\tremaining: 943ms\n",
      "702:\tlearn: 0.2756921\ttotal: 2.22s\tremaining: 940ms\n",
      "703:\tlearn: 0.2755411\ttotal: 2.23s\tremaining: 936ms\n",
      "704:\tlearn: 0.2754577\ttotal: 2.23s\tremaining: 933ms\n",
      "705:\tlearn: 0.2753860\ttotal: 2.23s\tremaining: 930ms\n",
      "706:\tlearn: 0.2752523\ttotal: 2.24s\tremaining: 927ms\n",
      "707:\tlearn: 0.2751294\ttotal: 2.24s\tremaining: 924ms\n",
      "708:\tlearn: 0.2749126\ttotal: 2.24s\tremaining: 921ms\n",
      "709:\tlearn: 0.2748403\ttotal: 2.25s\tremaining: 918ms\n",
      "710:\tlearn: 0.2745634\ttotal: 2.25s\tremaining: 915ms\n",
      "711:\tlearn: 0.2745147\ttotal: 2.25s\tremaining: 911ms\n",
      "712:\tlearn: 0.2743850\ttotal: 2.26s\tremaining: 908ms\n",
      "713:\tlearn: 0.2741628\ttotal: 2.26s\tremaining: 905ms\n",
      "714:\tlearn: 0.2740464\ttotal: 2.26s\tremaining: 902ms\n",
      "715:\tlearn: 0.2739270\ttotal: 2.27s\tremaining: 900ms\n",
      "716:\tlearn: 0.2737524\ttotal: 2.27s\tremaining: 897ms\n",
      "717:\tlearn: 0.2736563\ttotal: 2.27s\tremaining: 893ms\n",
      "718:\tlearn: 0.2736085\ttotal: 2.28s\tremaining: 890ms\n",
      "719:\tlearn: 0.2734132\ttotal: 2.28s\tremaining: 887ms\n",
      "720:\tlearn: 0.2732261\ttotal: 2.28s\tremaining: 884ms\n",
      "721:\tlearn: 0.2731063\ttotal: 2.29s\tremaining: 881ms\n",
      "722:\tlearn: 0.2729457\ttotal: 2.29s\tremaining: 877ms\n",
      "723:\tlearn: 0.2728810\ttotal: 2.29s\tremaining: 874ms\n",
      "724:\tlearn: 0.2727413\ttotal: 2.29s\tremaining: 871ms\n",
      "725:\tlearn: 0.2726025\ttotal: 2.3s\tremaining: 867ms\n",
      "726:\tlearn: 0.2724062\ttotal: 2.3s\tremaining: 864ms\n",
      "727:\tlearn: 0.2722952\ttotal: 2.3s\tremaining: 861ms\n",
      "728:\tlearn: 0.2722110\ttotal: 2.31s\tremaining: 858ms\n",
      "729:\tlearn: 0.2721578\ttotal: 2.31s\tremaining: 855ms\n",
      "730:\tlearn: 0.2719807\ttotal: 2.31s\tremaining: 852ms\n",
      "731:\tlearn: 0.2718373\ttotal: 2.32s\tremaining: 848ms\n",
      "732:\tlearn: 0.2716716\ttotal: 2.32s\tremaining: 845ms\n",
      "733:\tlearn: 0.2715336\ttotal: 2.32s\tremaining: 842ms\n",
      "734:\tlearn: 0.2713486\ttotal: 2.33s\tremaining: 838ms\n",
      "735:\tlearn: 0.2712357\ttotal: 2.33s\tremaining: 835ms\n",
      "736:\tlearn: 0.2711018\ttotal: 2.33s\tremaining: 832ms\n",
      "737:\tlearn: 0.2709956\ttotal: 2.33s\tremaining: 829ms\n",
      "738:\tlearn: 0.2707916\ttotal: 2.34s\tremaining: 825ms\n",
      "739:\tlearn: 0.2706863\ttotal: 2.34s\tremaining: 822ms\n",
      "740:\tlearn: 0.2705757\ttotal: 2.34s\tremaining: 819ms\n",
      "741:\tlearn: 0.2705065\ttotal: 2.34s\tremaining: 815ms\n",
      "742:\tlearn: 0.2704285\ttotal: 2.35s\tremaining: 812ms\n",
      "743:\tlearn: 0.2702841\ttotal: 2.35s\tremaining: 809ms\n",
      "744:\tlearn: 0.2701277\ttotal: 2.35s\tremaining: 806ms\n",
      "745:\tlearn: 0.2700762\ttotal: 2.36s\tremaining: 802ms\n",
      "746:\tlearn: 0.2699787\ttotal: 2.36s\tremaining: 799ms\n",
      "747:\tlearn: 0.2698354\ttotal: 2.36s\tremaining: 796ms\n",
      "748:\tlearn: 0.2695734\ttotal: 2.37s\tremaining: 793ms\n",
      "749:\tlearn: 0.2695155\ttotal: 2.37s\tremaining: 789ms\n",
      "750:\tlearn: 0.2693106\ttotal: 2.37s\tremaining: 786ms\n",
      "751:\tlearn: 0.2691989\ttotal: 2.37s\tremaining: 783ms\n",
      "752:\tlearn: 0.2690509\ttotal: 2.38s\tremaining: 780ms\n",
      "753:\tlearn: 0.2689352\ttotal: 2.38s\tremaining: 776ms\n",
      "754:\tlearn: 0.2687614\ttotal: 2.38s\tremaining: 773ms\n",
      "755:\tlearn: 0.2686548\ttotal: 2.38s\tremaining: 770ms\n",
      "756:\tlearn: 0.2685886\ttotal: 2.39s\tremaining: 767ms\n",
      "757:\tlearn: 0.2684989\ttotal: 2.39s\tremaining: 763ms\n",
      "758:\tlearn: 0.2683874\ttotal: 2.39s\tremaining: 760ms\n",
      "759:\tlearn: 0.2682502\ttotal: 2.4s\tremaining: 757ms\n",
      "760:\tlearn: 0.2680728\ttotal: 2.4s\tremaining: 754ms\n",
      "761:\tlearn: 0.2679651\ttotal: 2.4s\tremaining: 751ms\n",
      "762:\tlearn: 0.2679055\ttotal: 2.41s\tremaining: 747ms\n",
      "763:\tlearn: 0.2677044\ttotal: 2.41s\tremaining: 744ms\n",
      "764:\tlearn: 0.2676538\ttotal: 2.41s\tremaining: 741ms\n",
      "765:\tlearn: 0.2674606\ttotal: 2.41s\tremaining: 738ms\n",
      "766:\tlearn: 0.2673553\ttotal: 2.42s\tremaining: 734ms\n",
      "767:\tlearn: 0.2672785\ttotal: 2.42s\tremaining: 731ms\n",
      "768:\tlearn: 0.2671326\ttotal: 2.42s\tremaining: 728ms\n",
      "769:\tlearn: 0.2668848\ttotal: 2.43s\tremaining: 725ms\n",
      "770:\tlearn: 0.2667734\ttotal: 2.43s\tremaining: 722ms\n",
      "771:\tlearn: 0.2667275\ttotal: 2.43s\tremaining: 718ms\n",
      "772:\tlearn: 0.2665920\ttotal: 2.44s\tremaining: 715ms\n",
      "773:\tlearn: 0.2664755\ttotal: 2.44s\tremaining: 712ms\n",
      "774:\tlearn: 0.2663125\ttotal: 2.44s\tremaining: 709ms\n",
      "775:\tlearn: 0.2662462\ttotal: 2.45s\tremaining: 707ms\n",
      "776:\tlearn: 0.2661310\ttotal: 2.45s\tremaining: 704ms\n",
      "777:\tlearn: 0.2660379\ttotal: 2.46s\tremaining: 701ms\n",
      "778:\tlearn: 0.2659149\ttotal: 2.46s\tremaining: 698ms\n",
      "779:\tlearn: 0.2657284\ttotal: 2.46s\tremaining: 695ms\n",
      "780:\tlearn: 0.2655873\ttotal: 2.46s\tremaining: 691ms\n",
      "781:\tlearn: 0.2654803\ttotal: 2.47s\tremaining: 688ms\n",
      "782:\tlearn: 0.2654247\ttotal: 2.47s\tremaining: 685ms\n",
      "783:\tlearn: 0.2653327\ttotal: 2.47s\tremaining: 682ms\n",
      "784:\tlearn: 0.2652140\ttotal: 2.48s\tremaining: 678ms\n",
      "785:\tlearn: 0.2651354\ttotal: 2.48s\tremaining: 675ms\n",
      "786:\tlearn: 0.2650411\ttotal: 2.48s\tremaining: 672ms\n",
      "787:\tlearn: 0.2649502\ttotal: 2.48s\tremaining: 669ms\n",
      "788:\tlearn: 0.2647151\ttotal: 2.49s\tremaining: 665ms\n",
      "789:\tlearn: 0.2645374\ttotal: 2.49s\tremaining: 662ms\n",
      "790:\tlearn: 0.2643831\ttotal: 2.49s\tremaining: 659ms\n",
      "791:\tlearn: 0.2643239\ttotal: 2.5s\tremaining: 656ms\n",
      "792:\tlearn: 0.2642230\ttotal: 2.5s\tremaining: 652ms\n",
      "793:\tlearn: 0.2640928\ttotal: 2.5s\tremaining: 649ms\n",
      "794:\tlearn: 0.2640006\ttotal: 2.5s\tremaining: 646ms\n",
      "795:\tlearn: 0.2638692\ttotal: 2.51s\tremaining: 643ms\n",
      "796:\tlearn: 0.2637006\ttotal: 2.51s\tremaining: 640ms\n",
      "797:\tlearn: 0.2636132\ttotal: 2.51s\tremaining: 636ms\n",
      "798:\tlearn: 0.2634510\ttotal: 2.52s\tremaining: 633ms\n",
      "799:\tlearn: 0.2633605\ttotal: 2.52s\tremaining: 630ms\n",
      "800:\tlearn: 0.2633001\ttotal: 2.52s\tremaining: 627ms\n",
      "801:\tlearn: 0.2631648\ttotal: 2.52s\tremaining: 623ms\n",
      "802:\tlearn: 0.2630067\ttotal: 2.53s\tremaining: 620ms\n",
      "803:\tlearn: 0.2628540\ttotal: 2.53s\tremaining: 617ms\n",
      "804:\tlearn: 0.2627314\ttotal: 2.53s\tremaining: 614ms\n",
      "805:\tlearn: 0.2626069\ttotal: 2.54s\tremaining: 611ms\n",
      "806:\tlearn: 0.2625230\ttotal: 2.54s\tremaining: 607ms\n",
      "807:\tlearn: 0.2624696\ttotal: 2.54s\tremaining: 604ms\n",
      "808:\tlearn: 0.2624069\ttotal: 2.54s\tremaining: 601ms\n",
      "809:\tlearn: 0.2622552\ttotal: 2.55s\tremaining: 598ms\n",
      "810:\tlearn: 0.2621231\ttotal: 2.55s\tremaining: 594ms\n",
      "811:\tlearn: 0.2619486\ttotal: 2.55s\tremaining: 591ms\n",
      "812:\tlearn: 0.2618465\ttotal: 2.56s\tremaining: 588ms\n",
      "813:\tlearn: 0.2617541\ttotal: 2.56s\tremaining: 585ms\n",
      "814:\tlearn: 0.2616996\ttotal: 2.56s\tremaining: 582ms\n",
      "815:\tlearn: 0.2615139\ttotal: 2.56s\tremaining: 578ms\n",
      "816:\tlearn: 0.2613928\ttotal: 2.57s\tremaining: 575ms\n",
      "817:\tlearn: 0.2612777\ttotal: 2.57s\tremaining: 572ms\n",
      "818:\tlearn: 0.2611975\ttotal: 2.57s\tremaining: 569ms\n",
      "819:\tlearn: 0.2611130\ttotal: 2.58s\tremaining: 566ms\n",
      "820:\tlearn: 0.2610718\ttotal: 2.58s\tremaining: 562ms\n",
      "821:\tlearn: 0.2610118\ttotal: 2.58s\tremaining: 559ms\n",
      "822:\tlearn: 0.2609101\ttotal: 2.58s\tremaining: 556ms\n",
      "823:\tlearn: 0.2608315\ttotal: 2.59s\tremaining: 553ms\n",
      "824:\tlearn: 0.2607889\ttotal: 2.59s\tremaining: 550ms\n",
      "825:\tlearn: 0.2606794\ttotal: 2.59s\tremaining: 546ms\n",
      "826:\tlearn: 0.2605705\ttotal: 2.6s\tremaining: 543ms\n",
      "827:\tlearn: 0.2604185\ttotal: 2.6s\tremaining: 540ms\n",
      "828:\tlearn: 0.2602913\ttotal: 2.6s\tremaining: 537ms\n",
      "829:\tlearn: 0.2601586\ttotal: 2.6s\tremaining: 534ms\n",
      "830:\tlearn: 0.2600424\ttotal: 2.61s\tremaining: 530ms\n",
      "831:\tlearn: 0.2599668\ttotal: 2.61s\tremaining: 527ms\n",
      "832:\tlearn: 0.2598133\ttotal: 2.61s\tremaining: 524ms\n",
      "833:\tlearn: 0.2597392\ttotal: 2.62s\tremaining: 521ms\n",
      "834:\tlearn: 0.2595763\ttotal: 2.62s\tremaining: 518ms\n",
      "835:\tlearn: 0.2594142\ttotal: 2.62s\tremaining: 515ms\n",
      "836:\tlearn: 0.2593425\ttotal: 2.63s\tremaining: 511ms\n",
      "837:\tlearn: 0.2592199\ttotal: 2.63s\tremaining: 508ms\n",
      "838:\tlearn: 0.2591122\ttotal: 2.63s\tremaining: 505ms\n",
      "839:\tlearn: 0.2589727\ttotal: 2.63s\tremaining: 502ms\n",
      "840:\tlearn: 0.2588524\ttotal: 2.64s\tremaining: 499ms\n",
      "841:\tlearn: 0.2587652\ttotal: 2.64s\tremaining: 496ms\n",
      "842:\tlearn: 0.2585419\ttotal: 2.64s\tremaining: 492ms\n",
      "843:\tlearn: 0.2583522\ttotal: 2.65s\tremaining: 489ms\n",
      "844:\tlearn: 0.2582214\ttotal: 2.65s\tremaining: 486ms\n",
      "845:\tlearn: 0.2580907\ttotal: 2.65s\tremaining: 483ms\n",
      "846:\tlearn: 0.2578825\ttotal: 2.65s\tremaining: 480ms\n",
      "847:\tlearn: 0.2578220\ttotal: 2.66s\tremaining: 477ms\n",
      "848:\tlearn: 0.2577809\ttotal: 2.66s\tremaining: 473ms\n",
      "849:\tlearn: 0.2576451\ttotal: 2.66s\tremaining: 470ms\n",
      "850:\tlearn: 0.2575905\ttotal: 2.67s\tremaining: 467ms\n",
      "851:\tlearn: 0.2574512\ttotal: 2.67s\tremaining: 464ms\n",
      "852:\tlearn: 0.2573413\ttotal: 2.67s\tremaining: 461ms\n",
      "853:\tlearn: 0.2572107\ttotal: 2.68s\tremaining: 458ms\n",
      "854:\tlearn: 0.2570514\ttotal: 2.68s\tremaining: 454ms\n",
      "855:\tlearn: 0.2570057\ttotal: 2.68s\tremaining: 451ms\n",
      "856:\tlearn: 0.2568847\ttotal: 2.69s\tremaining: 448ms\n",
      "857:\tlearn: 0.2568004\ttotal: 2.69s\tremaining: 445ms\n",
      "858:\tlearn: 0.2567574\ttotal: 2.69s\tremaining: 442ms\n",
      "859:\tlearn: 0.2565848\ttotal: 2.69s\tremaining: 439ms\n",
      "860:\tlearn: 0.2563922\ttotal: 2.7s\tremaining: 435ms\n",
      "861:\tlearn: 0.2563381\ttotal: 2.7s\tremaining: 432ms\n",
      "862:\tlearn: 0.2562676\ttotal: 2.7s\tremaining: 429ms\n",
      "863:\tlearn: 0.2562102\ttotal: 2.71s\tremaining: 426ms\n",
      "864:\tlearn: 0.2560744\ttotal: 2.71s\tremaining: 423ms\n",
      "865:\tlearn: 0.2559505\ttotal: 2.72s\tremaining: 420ms\n",
      "866:\tlearn: 0.2558206\ttotal: 2.72s\tremaining: 417ms\n",
      "867:\tlearn: 0.2556292\ttotal: 2.73s\tremaining: 415ms\n",
      "868:\tlearn: 0.2555899\ttotal: 2.73s\tremaining: 412ms\n",
      "869:\tlearn: 0.2555391\ttotal: 2.73s\tremaining: 409ms\n",
      "870:\tlearn: 0.2554357\ttotal: 2.74s\tremaining: 405ms\n",
      "871:\tlearn: 0.2553200\ttotal: 2.74s\tremaining: 402ms\n",
      "872:\tlearn: 0.2552391\ttotal: 2.74s\tremaining: 399ms\n",
      "873:\tlearn: 0.2551519\ttotal: 2.75s\tremaining: 396ms\n",
      "874:\tlearn: 0.2550288\ttotal: 2.75s\tremaining: 393ms\n",
      "875:\tlearn: 0.2548665\ttotal: 2.75s\tremaining: 390ms\n",
      "876:\tlearn: 0.2547872\ttotal: 2.75s\tremaining: 387ms\n",
      "877:\tlearn: 0.2546394\ttotal: 2.76s\tremaining: 383ms\n",
      "878:\tlearn: 0.2544992\ttotal: 2.76s\tremaining: 380ms\n",
      "879:\tlearn: 0.2543917\ttotal: 2.77s\tremaining: 377ms\n",
      "880:\tlearn: 0.2541796\ttotal: 2.77s\tremaining: 374ms\n",
      "881:\tlearn: 0.2540713\ttotal: 2.77s\tremaining: 371ms\n",
      "882:\tlearn: 0.2538719\ttotal: 2.77s\tremaining: 368ms\n",
      "883:\tlearn: 0.2537882\ttotal: 2.78s\tremaining: 365ms\n",
      "884:\tlearn: 0.2536815\ttotal: 2.78s\tremaining: 361ms\n",
      "885:\tlearn: 0.2535706\ttotal: 2.78s\tremaining: 358ms\n",
      "886:\tlearn: 0.2534900\ttotal: 2.79s\tremaining: 355ms\n",
      "887:\tlearn: 0.2534103\ttotal: 2.79s\tremaining: 352ms\n",
      "888:\tlearn: 0.2533707\ttotal: 2.79s\tremaining: 349ms\n",
      "889:\tlearn: 0.2532934\ttotal: 2.8s\tremaining: 346ms\n",
      "890:\tlearn: 0.2532429\ttotal: 2.8s\tremaining: 342ms\n",
      "891:\tlearn: 0.2531462\ttotal: 2.8s\tremaining: 339ms\n",
      "892:\tlearn: 0.2530122\ttotal: 2.81s\tremaining: 336ms\n",
      "893:\tlearn: 0.2529028\ttotal: 2.81s\tremaining: 333ms\n",
      "894:\tlearn: 0.2527330\ttotal: 2.81s\tremaining: 330ms\n",
      "895:\tlearn: 0.2526402\ttotal: 2.82s\tremaining: 327ms\n",
      "896:\tlearn: 0.2524742\ttotal: 2.82s\tremaining: 324ms\n",
      "897:\tlearn: 0.2524106\ttotal: 2.83s\tremaining: 321ms\n",
      "898:\tlearn: 0.2522896\ttotal: 2.83s\tremaining: 318ms\n",
      "899:\tlearn: 0.2521263\ttotal: 2.83s\tremaining: 315ms\n",
      "900:\tlearn: 0.2520016\ttotal: 2.84s\tremaining: 312ms\n",
      "901:\tlearn: 0.2518305\ttotal: 2.84s\tremaining: 309ms\n",
      "902:\tlearn: 0.2517926\ttotal: 2.85s\tremaining: 306ms\n",
      "903:\tlearn: 0.2516832\ttotal: 2.85s\tremaining: 302ms\n",
      "904:\tlearn: 0.2515728\ttotal: 2.85s\tremaining: 299ms\n",
      "905:\tlearn: 0.2514612\ttotal: 2.85s\tremaining: 296ms\n",
      "906:\tlearn: 0.2513558\ttotal: 2.86s\tremaining: 293ms\n",
      "907:\tlearn: 0.2512853\ttotal: 2.86s\tremaining: 290ms\n",
      "908:\tlearn: 0.2511258\ttotal: 2.86s\tremaining: 287ms\n",
      "909:\tlearn: 0.2510220\ttotal: 2.87s\tremaining: 284ms\n",
      "910:\tlearn: 0.2509043\ttotal: 2.87s\tremaining: 280ms\n",
      "911:\tlearn: 0.2508445\ttotal: 2.87s\tremaining: 277ms\n",
      "912:\tlearn: 0.2507719\ttotal: 2.88s\tremaining: 274ms\n",
      "913:\tlearn: 0.2506755\ttotal: 2.88s\tremaining: 271ms\n",
      "914:\tlearn: 0.2505705\ttotal: 2.88s\tremaining: 268ms\n",
      "915:\tlearn: 0.2504258\ttotal: 2.89s\tremaining: 265ms\n",
      "916:\tlearn: 0.2502918\ttotal: 2.89s\tremaining: 262ms\n",
      "917:\tlearn: 0.2502315\ttotal: 2.9s\tremaining: 259ms\n",
      "918:\tlearn: 0.2501879\ttotal: 2.9s\tremaining: 256ms\n",
      "919:\tlearn: 0.2501217\ttotal: 2.9s\tremaining: 253ms\n",
      "920:\tlearn: 0.2499921\ttotal: 2.91s\tremaining: 250ms\n",
      "921:\tlearn: 0.2498926\ttotal: 2.91s\tremaining: 247ms\n",
      "922:\tlearn: 0.2496988\ttotal: 2.92s\tremaining: 243ms\n",
      "923:\tlearn: 0.2495472\ttotal: 2.92s\tremaining: 240ms\n",
      "924:\tlearn: 0.2494520\ttotal: 2.93s\tremaining: 237ms\n",
      "925:\tlearn: 0.2493594\ttotal: 2.93s\tremaining: 234ms\n",
      "926:\tlearn: 0.2492174\ttotal: 2.93s\tremaining: 231ms\n",
      "927:\tlearn: 0.2491382\ttotal: 2.94s\tremaining: 228ms\n",
      "928:\tlearn: 0.2489593\ttotal: 2.94s\tremaining: 225ms\n",
      "929:\tlearn: 0.2488886\ttotal: 2.94s\tremaining: 221ms\n",
      "930:\tlearn: 0.2488216\ttotal: 2.95s\tremaining: 218ms\n",
      "931:\tlearn: 0.2486494\ttotal: 2.95s\tremaining: 215ms\n",
      "932:\tlearn: 0.2485356\ttotal: 2.95s\tremaining: 212ms\n",
      "933:\tlearn: 0.2484598\ttotal: 2.96s\tremaining: 209ms\n",
      "934:\tlearn: 0.2483407\ttotal: 2.96s\tremaining: 206ms\n",
      "935:\tlearn: 0.2482324\ttotal: 2.96s\tremaining: 203ms\n",
      "936:\tlearn: 0.2481523\ttotal: 2.97s\tremaining: 200ms\n",
      "937:\tlearn: 0.2481049\ttotal: 2.97s\tremaining: 197ms\n",
      "938:\tlearn: 0.2480402\ttotal: 2.98s\tremaining: 193ms\n",
      "939:\tlearn: 0.2479305\ttotal: 2.98s\tremaining: 190ms\n",
      "940:\tlearn: 0.2478269\ttotal: 2.98s\tremaining: 187ms\n",
      "941:\tlearn: 0.2476396\ttotal: 2.99s\tremaining: 184ms\n",
      "942:\tlearn: 0.2474396\ttotal: 2.99s\tremaining: 181ms\n",
      "943:\tlearn: 0.2473758\ttotal: 2.99s\tremaining: 178ms\n",
      "944:\tlearn: 0.2473272\ttotal: 3s\tremaining: 174ms\n",
      "945:\tlearn: 0.2471763\ttotal: 3s\tremaining: 171ms\n",
      "946:\tlearn: 0.2470408\ttotal: 3s\tremaining: 168ms\n",
      "947:\tlearn: 0.2468487\ttotal: 3.01s\tremaining: 165ms\n",
      "948:\tlearn: 0.2467712\ttotal: 3.01s\tremaining: 162ms\n",
      "949:\tlearn: 0.2466529\ttotal: 3.02s\tremaining: 159ms\n",
      "950:\tlearn: 0.2465992\ttotal: 3.02s\tremaining: 156ms\n",
      "951:\tlearn: 0.2465417\ttotal: 3.02s\tremaining: 152ms\n",
      "952:\tlearn: 0.2464564\ttotal: 3.03s\tremaining: 149ms\n",
      "953:\tlearn: 0.2463710\ttotal: 3.03s\tremaining: 146ms\n",
      "954:\tlearn: 0.2463040\ttotal: 3.03s\tremaining: 143ms\n",
      "955:\tlearn: 0.2462251\ttotal: 3.04s\tremaining: 140ms\n",
      "956:\tlearn: 0.2461559\ttotal: 3.04s\tremaining: 137ms\n",
      "957:\tlearn: 0.2461080\ttotal: 3.04s\tremaining: 133ms\n",
      "958:\tlearn: 0.2459732\ttotal: 3.04s\tremaining: 130ms\n",
      "959:\tlearn: 0.2458265\ttotal: 3.05s\tremaining: 127ms\n",
      "960:\tlearn: 0.2457637\ttotal: 3.05s\tremaining: 124ms\n",
      "961:\tlearn: 0.2456645\ttotal: 3.05s\tremaining: 121ms\n",
      "962:\tlearn: 0.2455899\ttotal: 3.06s\tremaining: 117ms\n",
      "963:\tlearn: 0.2454990\ttotal: 3.06s\tremaining: 114ms\n",
      "964:\tlearn: 0.2454524\ttotal: 3.06s\tremaining: 111ms\n",
      "965:\tlearn: 0.2453629\ttotal: 3.07s\tremaining: 108ms\n",
      "966:\tlearn: 0.2452314\ttotal: 3.07s\tremaining: 105ms\n",
      "967:\tlearn: 0.2451364\ttotal: 3.08s\tremaining: 102ms\n",
      "968:\tlearn: 0.2450882\ttotal: 3.08s\tremaining: 98.5ms\n",
      "969:\tlearn: 0.2449900\ttotal: 3.08s\tremaining: 95.4ms\n",
      "970:\tlearn: 0.2449025\ttotal: 3.09s\tremaining: 92.2ms\n",
      "971:\tlearn: 0.2448043\ttotal: 3.09s\tremaining: 89.1ms\n",
      "972:\tlearn: 0.2447328\ttotal: 3.1s\tremaining: 85.9ms\n",
      "973:\tlearn: 0.2446155\ttotal: 3.1s\tremaining: 82.8ms\n",
      "974:\tlearn: 0.2444870\ttotal: 3.1s\tremaining: 79.6ms\n",
      "975:\tlearn: 0.2444241\ttotal: 3.11s\tremaining: 76.5ms\n",
      "976:\tlearn: 0.2442456\ttotal: 3.11s\tremaining: 73.3ms\n",
      "977:\tlearn: 0.2441345\ttotal: 3.12s\tremaining: 70.1ms\n",
      "978:\tlearn: 0.2440308\ttotal: 3.12s\tremaining: 67ms\n",
      "979:\tlearn: 0.2439378\ttotal: 3.13s\tremaining: 63.8ms\n",
      "980:\tlearn: 0.2438373\ttotal: 3.13s\tremaining: 60.7ms\n",
      "981:\tlearn: 0.2437329\ttotal: 3.14s\tremaining: 57.5ms\n",
      "982:\tlearn: 0.2436878\ttotal: 3.14s\tremaining: 54.3ms\n",
      "983:\tlearn: 0.2435912\ttotal: 3.14s\tremaining: 51.1ms\n",
      "984:\tlearn: 0.2434472\ttotal: 3.15s\tremaining: 47.9ms\n",
      "985:\tlearn: 0.2432837\ttotal: 3.15s\tremaining: 44.7ms\n",
      "986:\tlearn: 0.2431380\ttotal: 3.15s\tremaining: 41.5ms\n",
      "987:\tlearn: 0.2429714\ttotal: 3.15s\tremaining: 38.3ms\n",
      "988:\tlearn: 0.2429040\ttotal: 3.16s\tremaining: 35.1ms\n",
      "989:\tlearn: 0.2428419\ttotal: 3.16s\tremaining: 31.9ms\n",
      "990:\tlearn: 0.2427560\ttotal: 3.17s\tremaining: 28.7ms\n",
      "991:\tlearn: 0.2427229\ttotal: 3.17s\tremaining: 25.5ms\n",
      "992:\tlearn: 0.2426518\ttotal: 3.17s\tremaining: 22.4ms\n",
      "993:\tlearn: 0.2424321\ttotal: 3.17s\tremaining: 19.2ms\n",
      "994:\tlearn: 0.2423264\ttotal: 3.18s\tremaining: 16ms\n",
      "995:\tlearn: 0.2421920\ttotal: 3.18s\tremaining: 12.8ms\n",
      "996:\tlearn: 0.2421294\ttotal: 3.18s\tremaining: 9.58ms\n",
      "997:\tlearn: 0.2420370\ttotal: 3.19s\tremaining: 6.38ms\n",
      "998:\tlearn: 0.2418675\ttotal: 3.19s\tremaining: 3.19ms\n",
      "999:\tlearn: 0.2417635\ttotal: 3.19s\tremaining: 0us\n",
      "ROC-AUC:  0.8893497337829208\n"
     ]
    }
   ],
   "source": [
    "model_cat = CatBoostClassifier(random_state=SEED)\n",
    "model_cat.fit(X_train, y_train)\n",
    "pred_proba_cat = model_cat.predict_proba(X_valid)[:, 1]\n",
    "print('ROC-AUC: ',roc_auc_score(y_valid, pred_proba_cat))"
   ]
  },
  {
   "cell_type": "code",
   "execution_count": 64,
   "metadata": {
    "colab": {
     "base_uri": "https://localhost:8080/",
     "height": 142
    },
    "id": "iHdYKUQ5lEyJ",
    "outputId": "9dbc9e0a-5a43-40b4-ce1e-90b96acef5fc"
   },
   "outputs": [],
   "source": [
    "table = pd.DataFrame({'Model': ['RandomForestClassifier', 'LogisticRegression', 'CatBoostClassifier'], 'ROC-AUC':[0.84761776609835, 0.8350456711361586,0.8893497337829208]}).sort_values('ROC-AUC', ascending=False)"
   ]
  },
  {
   "cell_type": "code",
   "execution_count": 65,
   "metadata": {},
   "outputs": [
    {
     "data": {
      "text/html": [
       "<div>\n",
       "<style scoped>\n",
       "    .dataframe tbody tr th:only-of-type {\n",
       "        vertical-align: middle;\n",
       "    }\n",
       "\n",
       "    .dataframe tbody tr th {\n",
       "        vertical-align: top;\n",
       "    }\n",
       "\n",
       "    .dataframe thead th {\n",
       "        text-align: right;\n",
       "    }\n",
       "</style>\n",
       "<table border=\"1\" class=\"dataframe\">\n",
       "  <thead>\n",
       "    <tr style=\"text-align: right;\">\n",
       "      <th></th>\n",
       "      <th>Model</th>\n",
       "      <th>ROC-AUC</th>\n",
       "    </tr>\n",
       "  </thead>\n",
       "  <tbody>\n",
       "    <tr>\n",
       "      <th>2</th>\n",
       "      <td>CatBoostClassifier</td>\n",
       "      <td>0.889350</td>\n",
       "    </tr>\n",
       "    <tr>\n",
       "      <th>0</th>\n",
       "      <td>RandomForestClassifier</td>\n",
       "      <td>0.847618</td>\n",
       "    </tr>\n",
       "    <tr>\n",
       "      <th>1</th>\n",
       "      <td>LogisticRegression</td>\n",
       "      <td>0.835046</td>\n",
       "    </tr>\n",
       "  </tbody>\n",
       "</table>\n",
       "</div>"
      ],
      "text/plain": [
       "                    Model   ROC-AUC\n",
       "2      CatBoostClassifier  0.889350\n",
       "0  RandomForestClassifier  0.847618\n",
       "1      LogisticRegression  0.835046"
      ]
     },
     "execution_count": 65,
     "metadata": {},
     "output_type": "execute_result"
    }
   ],
   "source": [
    "table"
   ]
  },
  {
   "cell_type": "markdown",
   "metadata": {
    "id": "yrqX9GsXqCoS"
   },
   "source": [
    "Лучший результат показала модель CatBoostClassifier - 0.88, в дальнейшем будем использовать catboost\n",
    "\n",
    "Необходимо понять насколько хороший это результат.\n",
    "\n",
    "Взгляним еще раз на баланс классов."
   ]
  },
  {
   "cell_type": "code",
   "execution_count": 66,
   "metadata": {
    "colab": {
     "base_uri": "https://localhost:8080/",
     "height": 313
    },
    "id": "U-0XV03_o8rX",
    "outputId": "b7b56b5a-fe95-43bc-ca30-dcd15771f541"
   },
   "outputs": [
    {
     "name": "stdout",
     "output_type": "stream",
     "text": [
      "0    0.73463\n",
      "1    0.26537\n",
      "Name: Churn, dtype: float64\n"
     ]
    },
    {
     "data": {
      "image/png": "[encoded data removed]",
      "text/plain": [
       "<Figure size 432x288 with 1 Axes>"
      ]
     },
     "metadata": {
      "needs_background": "light"
     },
     "output_type": "display_data"
    }
   ],
   "source": [
    "class_exited = data['Churn'].value_counts(normalize=True)\n",
    "class_exited.plot(kind='bar');\n",
    "print(class_exited)"
   ]
  },
  {
   "cell_type": "markdown",
   "metadata": {
    "id": "USElYAXFqgzv"
   },
   "source": [
    "Классы не сбалансированы, клиент уходит в ~26% случаев\n",
    "\n",
    "Посмотрим на частоты в предсказанний моделей."
   ]
  },
  {
   "cell_type": "code",
   "execution_count": 67,
   "metadata": {
    "colab": {
     "base_uri": "https://localhost:8080/",
     "height": 313
    },
    "id": "vKT5eagcqaqe",
    "outputId": "3fda7a8c-2ba4-4512-abc8-4fa880608214"
   },
   "outputs": [
    {
     "name": "stdout",
     "output_type": "stream",
     "text": [
      "0    0.801278\n",
      "1    0.198722\n",
      "dtype: float64\n"
     ]
    },
    {
     "data": {
      "image/png": "[encoded data removed]",
      "text/plain": [
       "<Figure size 432x288 with 1 Axes>"
      ]
     },
     "metadata": {
      "needs_background": "light"
     },
     "output_type": "display_data"
    }
   ],
   "source": [
    "class_exited = pd.Series(model_forest.predict(X_valid)).value_counts(normalize=True)\n",
    "class_exited.plot(kind='bar');\n",
    "plt.title('RandomForestClassifier')\n",
    "print(class_exited)"
   ]
  },
  {
   "cell_type": "code",
   "execution_count": 68,
   "metadata": {
    "colab": {
     "base_uri": "https://localhost:8080/",
     "height": 313
    },
    "id": "o-kshE3Jqv7d",
    "outputId": "dcb2555d-8e51-4213-ae3c-18a5bf9953b0"
   },
   "outputs": [
    {
     "name": "stdout",
     "output_type": "stream",
     "text": [
      "0    0.784244\n",
      "1    0.215756\n",
      "dtype: float64\n"
     ]
    },
    {
     "data": {
      "image/png": "[encoded data removed]",
      "text/plain": [
       "<Figure size 432x288 with 1 Axes>"
      ]
     },
     "metadata": {
      "needs_background": "light"
     },
     "output_type": "display_data"
    }
   ],
   "source": [
    "class_exited = pd.Series(model_log.predict(X_valid)).value_counts(normalize=True)\n",
    "class_exited.plot(kind='bar');\n",
    "plt.title('LogisticRegression')\n",
    "print(class_exited)"
   ]
  },
  {
   "cell_type": "code",
   "execution_count": 69,
   "metadata": {
    "colab": {
     "base_uri": "https://localhost:8080/",
     "height": 313
    },
    "id": "oVlKqIN9rPyG",
    "outputId": "58095c96-843a-4cd9-db5a-5e2ea616851f"
   },
   "outputs": [
    {
     "name": "stdout",
     "output_type": "stream",
     "text": [
      "0    0.79489\n",
      "1    0.20511\n",
      "dtype: float64\n"
     ]
    },
    {
     "data": {
      "image/png": "[encoded data removed]",
      "text/plain": [
       "<Figure size 432x288 with 1 Axes>"
      ]
     },
     "metadata": {
      "needs_background": "light"
     },
     "output_type": "display_data"
    }
   ],
   "source": [
    "class_exited = pd.Series(model_cat.predict(X_valid)).value_counts(normalize=True)\n",
    "class_exited.plot(kind='bar');\n",
    "plt.title('CatBoostClassifier')\n",
    "print(class_exited)"
   ]
  },
  {
   "cell_type": "markdown",
   "metadata": {
    "id": "_aHOKkkfrYg3"
   },
   "source": [
    "Модели предсказывают уход клиента в 20% случаев\n",
    "\n",
    "Сравним с константной моделью, для оценки адекватности модели."
   ]
  },
  {
   "cell_type": "code",
   "execution_count": 70,
   "metadata": {
    "colab": {
     "base_uri": "https://localhost:8080/"
    },
    "id": "dot6Pka_rTcL",
    "outputId": "2639ae12-fa52-4d46-99b8-c5f3c1c863ef"
   },
   "outputs": [
    {
     "data": {
      "text/plain": [
       "0.7346301292063041"
      ]
     },
     "execution_count": 70,
     "metadata": {},
     "output_type": "execute_result"
    }
   ],
   "source": [
    "const = pd.Series(0, y.index)\n",
    "accuracy_score(y, const)"
   ]
  },
  {
   "cell_type": "markdown",
   "metadata": {
    "id": "t4GolVDvsQGV"
   },
   "source": [
    "Построенные модели предсказывают уход клиентов лучше, чем константная модель, они адекватны.\n"
   ]
  },
  {
   "cell_type": "markdown",
   "metadata": {
    "id": "jSg-LKB3tDHJ"
   },
   "source": [
    "# Борьба с дисбалансом"
   ]
  },
  {
   "cell_type": "markdown",
   "metadata": {
    "id": "EmakukvCvTfw"
   },
   "source": [
    "Попробуем разные методы борьбы с дисбалансом."
   ]
  },
  {
   "cell_type": "markdown",
   "metadata": {
    "id": "QwpW9XWTvief"
   },
   "source": [
    "### Увелечение выборки"
   ]
  },
  {
   "cell_type": "code",
   "execution_count": 71,
   "metadata": {
    "id": "BtANTz2qvdpG"
   },
   "outputs": [],
   "source": [
    "def upsample(features, target, repeat):\n",
    "    features_zeros = features[target == 0]\n",
    "    features_ones = features[target == 1]\n",
    "    target_zeros = target[target == 0]\n",
    "    target_ones = target[target == 1]\n",
    "\n",
    "    features_upsampled = pd.concat([features_zeros] + [features_ones]* repeat)\n",
    "    target_upsampled = pd.concat([target_zeros] + [target_ones]* repeat )\n",
    "    \n",
    "    features_upsampled, target_upsampled = shuffle(\n",
    "        features_upsampled, target_upsampled, random_state=SEED)\n",
    "    \n",
    "    return features_upsampled, target_upsampled\n",
    "\n",
    "features_upsampled, target_upsampled = upsample(X_train, y_train, 5)"
   ]
  },
  {
   "cell_type": "code",
   "execution_count": 72,
   "metadata": {
    "colab": {
     "base_uri": "https://localhost:8080/"
    },
    "id": "VUDiXKWGvdxO",
    "outputId": "e13ee4aa-6b41-4834-dc9d-f2275c7d99d8"
   },
   "outputs": [
    {
     "name": "stdout",
     "output_type": "stream",
     "text": [
      "Learning rate set to 0.025939\n",
      "0:\tlearn: 0.6772287\ttotal: 5.82ms\tremaining: 5.81s\n",
      "1:\tlearn: 0.6623528\ttotal: 11.1ms\tremaining: 5.56s\n",
      "2:\tlearn: 0.6507609\ttotal: 16.4ms\tremaining: 5.47s\n",
      "3:\tlearn: 0.6390748\ttotal: 21.8ms\tremaining: 5.42s\n",
      "4:\tlearn: 0.6273397\ttotal: 27ms\tremaining: 5.37s\n",
      "5:\tlearn: 0.6170669\ttotal: 32ms\tremaining: 5.3s\n",
      "6:\tlearn: 0.6074726\ttotal: 37.1ms\tremaining: 5.26s\n",
      "7:\tlearn: 0.5977984\ttotal: 42.3ms\tremaining: 5.24s\n",
      "8:\tlearn: 0.5893918\ttotal: 47.3ms\tremaining: 5.21s\n",
      "9:\tlearn: 0.5816270\ttotal: 52.4ms\tremaining: 5.19s\n",
      "10:\tlearn: 0.5755536\ttotal: 55.9ms\tremaining: 5.03s\n",
      "11:\tlearn: 0.5690108\ttotal: 59.5ms\tremaining: 4.9s\n",
      "12:\tlearn: 0.5617120\ttotal: 63.1ms\tremaining: 4.79s\n",
      "13:\tlearn: 0.5559428\ttotal: 66.7ms\tremaining: 4.7s\n",
      "14:\tlearn: 0.5505133\ttotal: 70.2ms\tremaining: 4.61s\n",
      "15:\tlearn: 0.5453938\ttotal: 74ms\tremaining: 4.55s\n",
      "16:\tlearn: 0.5398574\ttotal: 78.2ms\tremaining: 4.52s\n",
      "17:\tlearn: 0.5346239\ttotal: 82.1ms\tremaining: 4.48s\n",
      "18:\tlearn: 0.5296222\ttotal: 85.9ms\tremaining: 4.43s\n",
      "19:\tlearn: 0.5243113\ttotal: 89.7ms\tremaining: 4.39s\n",
      "20:\tlearn: 0.5200266\ttotal: 93.2ms\tremaining: 4.34s\n",
      "21:\tlearn: 0.5160056\ttotal: 97ms\tremaining: 4.31s\n",
      "22:\tlearn: 0.5117630\ttotal: 101ms\tremaining: 4.28s\n",
      "23:\tlearn: 0.5074101\ttotal: 105ms\tremaining: 4.25s\n",
      "24:\tlearn: 0.5039036\ttotal: 108ms\tremaining: 4.22s\n",
      "25:\tlearn: 0.5004267\ttotal: 112ms\tremaining: 4.2s\n",
      "26:\tlearn: 0.4964256\ttotal: 116ms\tremaining: 4.17s\n",
      "27:\tlearn: 0.4932422\ttotal: 120ms\tremaining: 4.15s\n",
      "28:\tlearn: 0.4901070\ttotal: 124ms\tremaining: 4.14s\n",
      "29:\tlearn: 0.4863123\ttotal: 128ms\tremaining: 4.12s\n",
      "30:\tlearn: 0.4835791\ttotal: 132ms\tremaining: 4.11s\n",
      "31:\tlearn: 0.4810203\ttotal: 135ms\tremaining: 4.09s\n",
      "32:\tlearn: 0.4784685\ttotal: 139ms\tremaining: 4.07s\n",
      "33:\tlearn: 0.4762948\ttotal: 142ms\tremaining: 4.05s\n",
      "34:\tlearn: 0.4741397\ttotal: 146ms\tremaining: 4.03s\n",
      "35:\tlearn: 0.4708720\ttotal: 150ms\tremaining: 4s\n",
      "36:\tlearn: 0.4687597\ttotal: 153ms\tremaining: 3.99s\n",
      "37:\tlearn: 0.4661253\ttotal: 157ms\tremaining: 3.97s\n",
      "38:\tlearn: 0.4642295\ttotal: 161ms\tremaining: 3.96s\n",
      "39:\tlearn: 0.4622563\ttotal: 164ms\tremaining: 3.94s\n",
      "40:\tlearn: 0.4604065\ttotal: 168ms\tremaining: 3.93s\n",
      "41:\tlearn: 0.4586444\ttotal: 172ms\tremaining: 3.92s\n",
      "42:\tlearn: 0.4572106\ttotal: 175ms\tremaining: 3.9s\n",
      "43:\tlearn: 0.4556968\ttotal: 179ms\tremaining: 3.89s\n",
      "44:\tlearn: 0.4530657\ttotal: 182ms\tremaining: 3.87s\n",
      "45:\tlearn: 0.4516255\ttotal: 186ms\tremaining: 3.86s\n",
      "46:\tlearn: 0.4501391\ttotal: 190ms\tremaining: 3.85s\n",
      "47:\tlearn: 0.4486312\ttotal: 194ms\tremaining: 3.85s\n",
      "48:\tlearn: 0.4475361\ttotal: 198ms\tremaining: 3.85s\n",
      "49:\tlearn: 0.4456964\ttotal: 202ms\tremaining: 3.84s\n",
      "50:\tlearn: 0.4444422\ttotal: 206ms\tremaining: 3.83s\n",
      "51:\tlearn: 0.4424221\ttotal: 210ms\tremaining: 3.83s\n",
      "52:\tlearn: 0.4408361\ttotal: 214ms\tremaining: 3.82s\n",
      "53:\tlearn: 0.4398648\ttotal: 218ms\tremaining: 3.81s\n",
      "54:\tlearn: 0.4385804\ttotal: 222ms\tremaining: 3.81s\n",
      "55:\tlearn: 0.4376526\ttotal: 225ms\tremaining: 3.8s\n",
      "56:\tlearn: 0.4367730\ttotal: 229ms\tremaining: 3.79s\n",
      "57:\tlearn: 0.4356976\ttotal: 233ms\tremaining: 3.79s\n",
      "58:\tlearn: 0.4348044\ttotal: 238ms\tremaining: 3.8s\n",
      "59:\tlearn: 0.4333176\ttotal: 243ms\tremaining: 3.81s\n",
      "60:\tlearn: 0.4322197\ttotal: 249ms\tremaining: 3.83s\n",
      "61:\tlearn: 0.4310762\ttotal: 254ms\tremaining: 3.85s\n",
      "62:\tlearn: 0.4294884\ttotal: 259ms\tremaining: 3.86s\n",
      "63:\tlearn: 0.4285246\ttotal: 263ms\tremaining: 3.85s\n",
      "64:\tlearn: 0.4275783\ttotal: 268ms\tremaining: 3.85s\n",
      "65:\tlearn: 0.4262206\ttotal: 272ms\tremaining: 3.84s\n",
      "66:\tlearn: 0.4252263\ttotal: 276ms\tremaining: 3.84s\n",
      "67:\tlearn: 0.4239967\ttotal: 280ms\tremaining: 3.83s\n",
      "68:\tlearn: 0.4232356\ttotal: 284ms\tremaining: 3.83s\n",
      "69:\tlearn: 0.4225552\ttotal: 288ms\tremaining: 3.82s\n",
      "70:\tlearn: 0.4218172\ttotal: 292ms\tremaining: 3.82s\n",
      "71:\tlearn: 0.4211614\ttotal: 296ms\tremaining: 3.81s\n",
      "72:\tlearn: 0.4204137\ttotal: 300ms\tremaining: 3.81s\n",
      "73:\tlearn: 0.4196417\ttotal: 304ms\tremaining: 3.8s\n",
      "74:\tlearn: 0.4189838\ttotal: 308ms\tremaining: 3.79s\n",
      "75:\tlearn: 0.4180918\ttotal: 312ms\tremaining: 3.79s\n",
      "76:\tlearn: 0.4173108\ttotal: 316ms\tremaining: 3.78s\n",
      "77:\tlearn: 0.4163184\ttotal: 320ms\tremaining: 3.78s\n",
      "78:\tlearn: 0.4154803\ttotal: 324ms\tremaining: 3.78s\n",
      "79:\tlearn: 0.4146048\ttotal: 328ms\tremaining: 3.77s\n",
      "80:\tlearn: 0.4140230\ttotal: 332ms\tremaining: 3.77s\n",
      "81:\tlearn: 0.4131848\ttotal: 336ms\tremaining: 3.76s\n",
      "82:\tlearn: 0.4124750\ttotal: 340ms\tremaining: 3.76s\n",
      "83:\tlearn: 0.4114975\ttotal: 344ms\tremaining: 3.76s\n",
      "84:\tlearn: 0.4106711\ttotal: 348ms\tremaining: 3.74s\n",
      "85:\tlearn: 0.4100178\ttotal: 351ms\tremaining: 3.73s\n",
      "86:\tlearn: 0.4091911\ttotal: 355ms\tremaining: 3.73s\n",
      "87:\tlearn: 0.4084171\ttotal: 359ms\tremaining: 3.72s\n",
      "88:\tlearn: 0.4077647\ttotal: 363ms\tremaining: 3.72s\n",
      "89:\tlearn: 0.4067416\ttotal: 367ms\tremaining: 3.71s\n",
      "90:\tlearn: 0.4062315\ttotal: 371ms\tremaining: 3.71s\n",
      "91:\tlearn: 0.4055700\ttotal: 375ms\tremaining: 3.7s\n",
      "92:\tlearn: 0.4050950\ttotal: 379ms\tremaining: 3.7s\n",
      "93:\tlearn: 0.4046286\ttotal: 383ms\tremaining: 3.69s\n",
      "94:\tlearn: 0.4040510\ttotal: 387ms\tremaining: 3.68s\n",
      "95:\tlearn: 0.4032797\ttotal: 390ms\tremaining: 3.68s\n",
      "96:\tlearn: 0.4022625\ttotal: 394ms\tremaining: 3.67s\n",
      "97:\tlearn: 0.4015948\ttotal: 398ms\tremaining: 3.66s\n",
      "98:\tlearn: 0.4010613\ttotal: 402ms\tremaining: 3.65s\n",
      "99:\tlearn: 0.4004817\ttotal: 405ms\tremaining: 3.65s\n",
      "100:\tlearn: 0.3999336\ttotal: 409ms\tremaining: 3.64s\n",
      "101:\tlearn: 0.3991314\ttotal: 413ms\tremaining: 3.63s\n",
      "102:\tlearn: 0.3985148\ttotal: 416ms\tremaining: 3.63s\n",
      "103:\tlearn: 0.3979554\ttotal: 420ms\tremaining: 3.62s\n",
      "104:\tlearn: 0.3970053\ttotal: 424ms\tremaining: 3.62s\n",
      "105:\tlearn: 0.3964005\ttotal: 428ms\tremaining: 3.61s\n",
      "106:\tlearn: 0.3958107\ttotal: 435ms\tremaining: 3.63s\n",
      "107:\tlearn: 0.3952264\ttotal: 439ms\tremaining: 3.63s\n",
      "108:\tlearn: 0.3945911\ttotal: 443ms\tremaining: 3.62s\n",
      "109:\tlearn: 0.3942825\ttotal: 447ms\tremaining: 3.61s\n",
      "110:\tlearn: 0.3935152\ttotal: 450ms\tremaining: 3.6s\n",
      "111:\tlearn: 0.3931900\ttotal: 454ms\tremaining: 3.6s\n",
      "112:\tlearn: 0.3923129\ttotal: 457ms\tremaining: 3.59s\n",
      "113:\tlearn: 0.3920442\ttotal: 461ms\tremaining: 3.58s\n",
      "114:\tlearn: 0.3916035\ttotal: 465ms\tremaining: 3.57s\n",
      "115:\tlearn: 0.3911018\ttotal: 468ms\tremaining: 3.57s\n",
      "116:\tlearn: 0.3904842\ttotal: 472ms\tremaining: 3.56s\n",
      "117:\tlearn: 0.3900657\ttotal: 476ms\tremaining: 3.56s\n",
      "118:\tlearn: 0.3894664\ttotal: 480ms\tremaining: 3.55s\n",
      "119:\tlearn: 0.3890461\ttotal: 484ms\tremaining: 3.55s\n",
      "120:\tlearn: 0.3885717\ttotal: 487ms\tremaining: 3.54s\n",
      "121:\tlearn: 0.3881828\ttotal: 491ms\tremaining: 3.53s\n",
      "122:\tlearn: 0.3877311\ttotal: 495ms\tremaining: 3.53s\n",
      "123:\tlearn: 0.3870921\ttotal: 499ms\tremaining: 3.52s\n",
      "124:\tlearn: 0.3861666\ttotal: 503ms\tremaining: 3.52s\n",
      "125:\tlearn: 0.3856585\ttotal: 507ms\tremaining: 3.51s\n",
      "126:\tlearn: 0.3851234\ttotal: 510ms\tremaining: 3.51s\n",
      "127:\tlearn: 0.3846840\ttotal: 514ms\tremaining: 3.5s\n",
      "128:\tlearn: 0.3839666\ttotal: 517ms\tremaining: 3.49s\n",
      "129:\tlearn: 0.3832292\ttotal: 521ms\tremaining: 3.49s\n",
      "130:\tlearn: 0.3826494\ttotal: 525ms\tremaining: 3.48s\n",
      "131:\tlearn: 0.3822059\ttotal: 528ms\tremaining: 3.47s\n",
      "132:\tlearn: 0.3816402\ttotal: 532ms\tremaining: 3.46s\n",
      "133:\tlearn: 0.3813412\ttotal: 535ms\tremaining: 3.46s\n",
      "134:\tlearn: 0.3808483\ttotal: 539ms\tremaining: 3.45s\n",
      "135:\tlearn: 0.3803876\ttotal: 543ms\tremaining: 3.45s\n",
      "136:\tlearn: 0.3801094\ttotal: 547ms\tremaining: 3.44s\n",
      "137:\tlearn: 0.3795046\ttotal: 550ms\tremaining: 3.44s\n",
      "138:\tlearn: 0.3792055\ttotal: 554ms\tremaining: 3.43s\n",
      "139:\tlearn: 0.3787512\ttotal: 558ms\tremaining: 3.42s\n",
      "140:\tlearn: 0.3782652\ttotal: 562ms\tremaining: 3.42s\n",
      "141:\tlearn: 0.3778061\ttotal: 565ms\tremaining: 3.41s\n",
      "142:\tlearn: 0.3771247\ttotal: 569ms\tremaining: 3.41s\n",
      "143:\tlearn: 0.3767865\ttotal: 573ms\tremaining: 3.4s\n",
      "144:\tlearn: 0.3763981\ttotal: 576ms\tremaining: 3.4s\n",
      "145:\tlearn: 0.3759042\ttotal: 580ms\tremaining: 3.39s\n",
      "146:\tlearn: 0.3754741\ttotal: 583ms\tremaining: 3.38s\n",
      "147:\tlearn: 0.3751374\ttotal: 587ms\tremaining: 3.38s\n",
      "148:\tlearn: 0.3746256\ttotal: 591ms\tremaining: 3.38s\n",
      "149:\tlearn: 0.3741018\ttotal: 595ms\tremaining: 3.37s\n",
      "150:\tlearn: 0.3738433\ttotal: 599ms\tremaining: 3.37s\n",
      "151:\tlearn: 0.3733999\ttotal: 602ms\tremaining: 3.36s\n",
      "152:\tlearn: 0.3728361\ttotal: 606ms\tremaining: 3.35s\n",
      "153:\tlearn: 0.3724462\ttotal: 610ms\tremaining: 3.35s\n",
      "154:\tlearn: 0.3718375\ttotal: 614ms\tremaining: 3.35s\n",
      "155:\tlearn: 0.3711859\ttotal: 617ms\tremaining: 3.34s\n",
      "156:\tlearn: 0.3708022\ttotal: 621ms\tremaining: 3.33s\n",
      "157:\tlearn: 0.3704022\ttotal: 625ms\tremaining: 3.33s\n",
      "158:\tlearn: 0.3700807\ttotal: 629ms\tremaining: 3.32s\n",
      "159:\tlearn: 0.3695295\ttotal: 632ms\tremaining: 3.32s\n",
      "160:\tlearn: 0.3691865\ttotal: 636ms\tremaining: 3.31s\n",
      "161:\tlearn: 0.3688226\ttotal: 640ms\tremaining: 3.31s\n",
      "162:\tlearn: 0.3683555\ttotal: 643ms\tremaining: 3.3s\n",
      "163:\tlearn: 0.3681211\ttotal: 647ms\tremaining: 3.3s\n",
      "164:\tlearn: 0.3678261\ttotal: 651ms\tremaining: 3.29s\n",
      "165:\tlearn: 0.3675414\ttotal: 655ms\tremaining: 3.29s\n",
      "166:\tlearn: 0.3670861\ttotal: 659ms\tremaining: 3.29s\n",
      "167:\tlearn: 0.3669037\ttotal: 662ms\tremaining: 3.28s\n",
      "168:\tlearn: 0.3664469\ttotal: 666ms\tremaining: 3.27s\n",
      "169:\tlearn: 0.3661951\ttotal: 670ms\tremaining: 3.27s\n",
      "170:\tlearn: 0.3658865\ttotal: 673ms\tremaining: 3.26s\n",
      "171:\tlearn: 0.3654263\ttotal: 677ms\tremaining: 3.26s\n",
      "172:\tlearn: 0.3650879\ttotal: 681ms\tremaining: 3.25s\n",
      "173:\tlearn: 0.3646890\ttotal: 684ms\tremaining: 3.25s\n",
      "174:\tlearn: 0.3641833\ttotal: 688ms\tremaining: 3.24s\n",
      "175:\tlearn: 0.3638614\ttotal: 692ms\tremaining: 3.24s\n",
      "176:\tlearn: 0.3633867\ttotal: 695ms\tremaining: 3.23s\n",
      "177:\tlearn: 0.3630371\ttotal: 699ms\tremaining: 3.23s\n",
      "178:\tlearn: 0.3624725\ttotal: 703ms\tremaining: 3.22s\n",
      "179:\tlearn: 0.3620516\ttotal: 707ms\tremaining: 3.22s\n",
      "180:\tlearn: 0.3616447\ttotal: 710ms\tremaining: 3.21s\n",
      "181:\tlearn: 0.3614515\ttotal: 714ms\tremaining: 3.21s\n",
      "182:\tlearn: 0.3611946\ttotal: 717ms\tremaining: 3.2s\n",
      "183:\tlearn: 0.3605855\ttotal: 721ms\tremaining: 3.2s\n",
      "184:\tlearn: 0.3602745\ttotal: 725ms\tremaining: 3.19s\n",
      "185:\tlearn: 0.3598747\ttotal: 729ms\tremaining: 3.19s\n",
      "186:\tlearn: 0.3593739\ttotal: 733ms\tremaining: 3.19s\n",
      "187:\tlearn: 0.3590587\ttotal: 736ms\tremaining: 3.18s\n",
      "188:\tlearn: 0.3587770\ttotal: 740ms\tremaining: 3.17s\n",
      "189:\tlearn: 0.3584639\ttotal: 744ms\tremaining: 3.17s\n",
      "190:\tlearn: 0.3581589\ttotal: 747ms\tremaining: 3.17s\n",
      "191:\tlearn: 0.3578738\ttotal: 751ms\tremaining: 3.16s\n",
      "192:\tlearn: 0.3575406\ttotal: 755ms\tremaining: 3.16s\n",
      "193:\tlearn: 0.3572440\ttotal: 758ms\tremaining: 3.15s\n",
      "194:\tlearn: 0.3568256\ttotal: 762ms\tremaining: 3.15s\n",
      "195:\tlearn: 0.3563551\ttotal: 766ms\tremaining: 3.14s\n",
      "196:\tlearn: 0.3560695\ttotal: 769ms\tremaining: 3.14s\n",
      "197:\tlearn: 0.3557062\ttotal: 773ms\tremaining: 3.13s\n",
      "198:\tlearn: 0.3553364\ttotal: 777ms\tremaining: 3.13s\n",
      "199:\tlearn: 0.3550221\ttotal: 780ms\tremaining: 3.12s\n",
      "200:\tlearn: 0.3546577\ttotal: 784ms\tremaining: 3.12s\n",
      "201:\tlearn: 0.3542560\ttotal: 787ms\tremaining: 3.11s\n",
      "202:\tlearn: 0.3539563\ttotal: 791ms\tremaining: 3.11s\n",
      "203:\tlearn: 0.3534515\ttotal: 795ms\tremaining: 3.1s\n",
      "204:\tlearn: 0.3529562\ttotal: 798ms\tremaining: 3.1s\n",
      "205:\tlearn: 0.3527706\ttotal: 803ms\tremaining: 3.09s\n",
      "206:\tlearn: 0.3524178\ttotal: 806ms\tremaining: 3.09s\n",
      "207:\tlearn: 0.3520991\ttotal: 810ms\tremaining: 3.08s\n",
      "208:\tlearn: 0.3518200\ttotal: 814ms\tremaining: 3.08s\n",
      "209:\tlearn: 0.3515157\ttotal: 817ms\tremaining: 3.08s\n",
      "210:\tlearn: 0.3512251\ttotal: 821ms\tremaining: 3.07s\n",
      "211:\tlearn: 0.3508114\ttotal: 825ms\tremaining: 3.07s\n",
      "212:\tlearn: 0.3502819\ttotal: 829ms\tremaining: 3.06s\n",
      "213:\tlearn: 0.3501331\ttotal: 833ms\tremaining: 3.06s\n",
      "214:\tlearn: 0.3496706\ttotal: 837ms\tremaining: 3.06s\n",
      "215:\tlearn: 0.3493857\ttotal: 841ms\tremaining: 3.05s\n",
      "216:\tlearn: 0.3491408\ttotal: 845ms\tremaining: 3.05s\n",
      "217:\tlearn: 0.3489101\ttotal: 849ms\tremaining: 3.04s\n",
      "218:\tlearn: 0.3486957\ttotal: 852ms\tremaining: 3.04s\n",
      "219:\tlearn: 0.3482885\ttotal: 856ms\tremaining: 3.03s\n",
      "220:\tlearn: 0.3479842\ttotal: 860ms\tremaining: 3.03s\n",
      "221:\tlearn: 0.3476169\ttotal: 863ms\tremaining: 3.02s\n",
      "222:\tlearn: 0.3471355\ttotal: 867ms\tremaining: 3.02s\n",
      "223:\tlearn: 0.3467166\ttotal: 871ms\tremaining: 3.02s\n",
      "224:\tlearn: 0.3465078\ttotal: 874ms\tremaining: 3.01s\n",
      "225:\tlearn: 0.3461950\ttotal: 878ms\tremaining: 3.01s\n",
      "226:\tlearn: 0.3458423\ttotal: 882ms\tremaining: 3s\n",
      "227:\tlearn: 0.3455025\ttotal: 886ms\tremaining: 3s\n",
      "228:\tlearn: 0.3451415\ttotal: 891ms\tremaining: 3s\n",
      "229:\tlearn: 0.3451401\ttotal: 893ms\tremaining: 2.99s\n",
      "230:\tlearn: 0.3448815\ttotal: 899ms\tremaining: 2.99s\n",
      "231:\tlearn: 0.3444931\ttotal: 905ms\tremaining: 3s\n",
      "232:\tlearn: 0.3441703\ttotal: 911ms\tremaining: 3s\n",
      "233:\tlearn: 0.3438555\ttotal: 914ms\tremaining: 2.99s\n",
      "234:\tlearn: 0.3435540\ttotal: 918ms\tremaining: 2.99s\n",
      "235:\tlearn: 0.3432800\ttotal: 922ms\tremaining: 2.98s\n",
      "236:\tlearn: 0.3429290\ttotal: 926ms\tremaining: 2.98s\n",
      "237:\tlearn: 0.3424567\ttotal: 930ms\tremaining: 2.98s\n",
      "238:\tlearn: 0.3419842\ttotal: 934ms\tremaining: 2.97s\n",
      "239:\tlearn: 0.3418256\ttotal: 938ms\tremaining: 2.97s\n",
      "240:\tlearn: 0.3415767\ttotal: 942ms\tremaining: 2.96s\n",
      "241:\tlearn: 0.3411592\ttotal: 945ms\tremaining: 2.96s\n",
      "242:\tlearn: 0.3409247\ttotal: 949ms\tremaining: 2.96s\n",
      "243:\tlearn: 0.3406368\ttotal: 953ms\tremaining: 2.95s\n",
      "244:\tlearn: 0.3402038\ttotal: 957ms\tremaining: 2.95s\n",
      "245:\tlearn: 0.3398285\ttotal: 961ms\tremaining: 2.94s\n",
      "246:\tlearn: 0.3396311\ttotal: 964ms\tremaining: 2.94s\n",
      "247:\tlearn: 0.3393408\ttotal: 968ms\tremaining: 2.93s\n",
      "248:\tlearn: 0.3390975\ttotal: 972ms\tremaining: 2.93s\n",
      "249:\tlearn: 0.3388535\ttotal: 975ms\tremaining: 2.93s\n",
      "250:\tlearn: 0.3385720\ttotal: 979ms\tremaining: 2.92s\n",
      "251:\tlearn: 0.3382992\ttotal: 983ms\tremaining: 2.92s\n",
      "252:\tlearn: 0.3379615\ttotal: 986ms\tremaining: 2.91s\n",
      "253:\tlearn: 0.3377431\ttotal: 990ms\tremaining: 2.91s\n",
      "254:\tlearn: 0.3374080\ttotal: 994ms\tremaining: 2.9s\n",
      "255:\tlearn: 0.3369357\ttotal: 998ms\tremaining: 2.9s\n",
      "256:\tlearn: 0.3365711\ttotal: 1s\tremaining: 2.9s\n",
      "257:\tlearn: 0.3361308\ttotal: 1s\tremaining: 2.89s\n",
      "258:\tlearn: 0.3358107\ttotal: 1.01s\tremaining: 2.89s\n",
      "259:\tlearn: 0.3356245\ttotal: 1.01s\tremaining: 2.88s\n",
      "260:\tlearn: 0.3354751\ttotal: 1.02s\tremaining: 2.88s\n",
      "261:\tlearn: 0.3352569\ttotal: 1.02s\tremaining: 2.88s\n",
      "262:\tlearn: 0.3349300\ttotal: 1.02s\tremaining: 2.87s\n",
      "263:\tlearn: 0.3346830\ttotal: 1.03s\tremaining: 2.87s\n",
      "264:\tlearn: 0.3345330\ttotal: 1.03s\tremaining: 2.86s\n",
      "265:\tlearn: 0.3342520\ttotal: 1.03s\tremaining: 2.86s\n",
      "266:\tlearn: 0.3339062\ttotal: 1.04s\tremaining: 2.85s\n",
      "267:\tlearn: 0.3336670\ttotal: 1.04s\tremaining: 2.85s\n",
      "268:\tlearn: 0.3333516\ttotal: 1.05s\tremaining: 2.84s\n",
      "269:\tlearn: 0.3331551\ttotal: 1.05s\tremaining: 2.84s\n",
      "270:\tlearn: 0.3329896\ttotal: 1.05s\tremaining: 2.83s\n",
      "271:\tlearn: 0.3326305\ttotal: 1.06s\tremaining: 2.83s\n",
      "272:\tlearn: 0.3322907\ttotal: 1.06s\tremaining: 2.83s\n",
      "273:\tlearn: 0.3320293\ttotal: 1.06s\tremaining: 2.82s\n",
      "274:\tlearn: 0.3317179\ttotal: 1.07s\tremaining: 2.82s\n",
      "275:\tlearn: 0.3314505\ttotal: 1.07s\tremaining: 2.81s\n",
      "276:\tlearn: 0.3311448\ttotal: 1.08s\tremaining: 2.81s\n",
      "277:\tlearn: 0.3309469\ttotal: 1.08s\tremaining: 2.81s\n",
      "278:\tlearn: 0.3307614\ttotal: 1.08s\tremaining: 2.8s\n",
      "279:\tlearn: 0.3303109\ttotal: 1.09s\tremaining: 2.8s\n",
      "280:\tlearn: 0.3299604\ttotal: 1.09s\tremaining: 2.79s\n",
      "281:\tlearn: 0.3296409\ttotal: 1.09s\tremaining: 2.79s\n",
      "282:\tlearn: 0.3293861\ttotal: 1.1s\tremaining: 2.79s\n",
      "283:\tlearn: 0.3291163\ttotal: 1.1s\tremaining: 2.78s\n",
      "284:\tlearn: 0.3288297\ttotal: 1.11s\tremaining: 2.78s\n",
      "285:\tlearn: 0.3286400\ttotal: 1.11s\tremaining: 2.77s\n",
      "286:\tlearn: 0.3284449\ttotal: 1.11s\tremaining: 2.77s\n",
      "287:\tlearn: 0.3282804\ttotal: 1.12s\tremaining: 2.77s\n",
      "288:\tlearn: 0.3279293\ttotal: 1.12s\tremaining: 2.76s\n",
      "289:\tlearn: 0.3276868\ttotal: 1.13s\tremaining: 2.76s\n",
      "290:\tlearn: 0.3275341\ttotal: 1.13s\tremaining: 2.75s\n",
      "291:\tlearn: 0.3272404\ttotal: 1.14s\tremaining: 2.75s\n",
      "292:\tlearn: 0.3268965\ttotal: 1.14s\tremaining: 2.75s\n",
      "293:\tlearn: 0.3265490\ttotal: 1.14s\tremaining: 2.74s\n",
      "294:\tlearn: 0.3262419\ttotal: 1.15s\tremaining: 2.74s\n",
      "295:\tlearn: 0.3259653\ttotal: 1.15s\tremaining: 2.74s\n",
      "296:\tlearn: 0.3258130\ttotal: 1.16s\tremaining: 2.74s\n",
      "297:\tlearn: 0.3254704\ttotal: 1.16s\tremaining: 2.73s\n",
      "298:\tlearn: 0.3251461\ttotal: 1.16s\tremaining: 2.73s\n",
      "299:\tlearn: 0.3249505\ttotal: 1.17s\tremaining: 2.73s\n",
      "300:\tlearn: 0.3245877\ttotal: 1.17s\tremaining: 2.72s\n",
      "301:\tlearn: 0.3243597\ttotal: 1.18s\tremaining: 2.72s\n",
      "302:\tlearn: 0.3242564\ttotal: 1.18s\tremaining: 2.71s\n",
      "303:\tlearn: 0.3239041\ttotal: 1.18s\tremaining: 2.71s\n",
      "304:\tlearn: 0.3236001\ttotal: 1.19s\tremaining: 2.71s\n",
      "305:\tlearn: 0.3232341\ttotal: 1.19s\tremaining: 2.7s\n",
      "306:\tlearn: 0.3230078\ttotal: 1.2s\tremaining: 2.7s\n",
      "307:\tlearn: 0.3226928\ttotal: 1.2s\tremaining: 2.7s\n",
      "308:\tlearn: 0.3222926\ttotal: 1.2s\tremaining: 2.69s\n",
      "309:\tlearn: 0.3220615\ttotal: 1.21s\tremaining: 2.69s\n",
      "310:\tlearn: 0.3219181\ttotal: 1.21s\tremaining: 2.69s\n",
      "311:\tlearn: 0.3215741\ttotal: 1.22s\tremaining: 2.68s\n",
      "312:\tlearn: 0.3214236\ttotal: 1.22s\tremaining: 2.68s\n",
      "313:\tlearn: 0.3211940\ttotal: 1.22s\tremaining: 2.68s\n",
      "314:\tlearn: 0.3207450\ttotal: 1.23s\tremaining: 2.67s\n",
      "315:\tlearn: 0.3204891\ttotal: 1.23s\tremaining: 2.67s\n",
      "316:\tlearn: 0.3202378\ttotal: 1.24s\tremaining: 2.67s\n",
      "317:\tlearn: 0.3199557\ttotal: 1.24s\tremaining: 2.66s\n",
      "318:\tlearn: 0.3195586\ttotal: 1.25s\tremaining: 2.66s\n",
      "319:\tlearn: 0.3193691\ttotal: 1.25s\tremaining: 2.65s\n",
      "320:\tlearn: 0.3191120\ttotal: 1.26s\tremaining: 2.66s\n",
      "321:\tlearn: 0.3186971\ttotal: 1.26s\tremaining: 2.65s\n",
      "322:\tlearn: 0.3184130\ttotal: 1.26s\tremaining: 2.65s\n",
      "323:\tlearn: 0.3180492\ttotal: 1.27s\tremaining: 2.65s\n",
      "324:\tlearn: 0.3178098\ttotal: 1.27s\tremaining: 2.64s\n",
      "325:\tlearn: 0.3173075\ttotal: 1.28s\tremaining: 2.64s\n",
      "326:\tlearn: 0.3170696\ttotal: 1.28s\tremaining: 2.63s\n",
      "327:\tlearn: 0.3166754\ttotal: 1.28s\tremaining: 2.63s\n",
      "328:\tlearn: 0.3165206\ttotal: 1.29s\tremaining: 2.63s\n",
      "329:\tlearn: 0.3162309\ttotal: 1.29s\tremaining: 2.62s\n",
      "330:\tlearn: 0.3160369\ttotal: 1.3s\tremaining: 2.62s\n",
      "331:\tlearn: 0.3156998\ttotal: 1.3s\tremaining: 2.62s\n",
      "332:\tlearn: 0.3155444\ttotal: 1.3s\tremaining: 2.61s\n",
      "333:\tlearn: 0.3153492\ttotal: 1.31s\tremaining: 2.61s\n",
      "334:\tlearn: 0.3150650\ttotal: 1.31s\tremaining: 2.6s\n",
      "335:\tlearn: 0.3147031\ttotal: 1.32s\tremaining: 2.6s\n",
      "336:\tlearn: 0.3144174\ttotal: 1.32s\tremaining: 2.6s\n",
      "337:\tlearn: 0.3142425\ttotal: 1.32s\tremaining: 2.59s\n",
      "338:\tlearn: 0.3139181\ttotal: 1.33s\tremaining: 2.59s\n",
      "339:\tlearn: 0.3136189\ttotal: 1.33s\tremaining: 2.58s\n",
      "340:\tlearn: 0.3133759\ttotal: 1.33s\tremaining: 2.58s\n",
      "341:\tlearn: 0.3131190\ttotal: 1.34s\tremaining: 2.58s\n",
      "342:\tlearn: 0.3128444\ttotal: 1.34s\tremaining: 2.57s\n",
      "343:\tlearn: 0.3126489\ttotal: 1.35s\tremaining: 2.57s\n",
      "344:\tlearn: 0.3123654\ttotal: 1.35s\tremaining: 2.56s\n",
      "345:\tlearn: 0.3122356\ttotal: 1.35s\tremaining: 2.56s\n",
      "346:\tlearn: 0.3117283\ttotal: 1.36s\tremaining: 2.56s\n",
      "347:\tlearn: 0.3114983\ttotal: 1.36s\tremaining: 2.55s\n",
      "348:\tlearn: 0.3111371\ttotal: 1.37s\tremaining: 2.55s\n",
      "349:\tlearn: 0.3109527\ttotal: 1.37s\tremaining: 2.55s\n",
      "350:\tlearn: 0.3107753\ttotal: 1.37s\tremaining: 2.54s\n",
      "351:\tlearn: 0.3105867\ttotal: 1.38s\tremaining: 2.54s\n",
      "352:\tlearn: 0.3102206\ttotal: 1.38s\tremaining: 2.53s\n",
      "353:\tlearn: 0.3100435\ttotal: 1.39s\tremaining: 2.53s\n",
      "354:\tlearn: 0.3096348\ttotal: 1.39s\tremaining: 2.52s\n",
      "355:\tlearn: 0.3093857\ttotal: 1.39s\tremaining: 2.52s\n",
      "356:\tlearn: 0.3091095\ttotal: 1.4s\tremaining: 2.52s\n",
      "357:\tlearn: 0.3087261\ttotal: 1.4s\tremaining: 2.51s\n",
      "358:\tlearn: 0.3085069\ttotal: 1.4s\tremaining: 2.51s\n",
      "359:\tlearn: 0.3081647\ttotal: 1.41s\tremaining: 2.5s\n",
      "360:\tlearn: 0.3079713\ttotal: 1.41s\tremaining: 2.5s\n",
      "361:\tlearn: 0.3078520\ttotal: 1.42s\tremaining: 2.5s\n",
      "362:\tlearn: 0.3076117\ttotal: 1.42s\tremaining: 2.49s\n",
      "363:\tlearn: 0.3074322\ttotal: 1.42s\tremaining: 2.49s\n",
      "364:\tlearn: 0.3071611\ttotal: 1.43s\tremaining: 2.48s\n",
      "365:\tlearn: 0.3069192\ttotal: 1.43s\tremaining: 2.48s\n",
      "366:\tlearn: 0.3066323\ttotal: 1.44s\tremaining: 2.48s\n",
      "367:\tlearn: 0.3064442\ttotal: 1.44s\tremaining: 2.47s\n",
      "368:\tlearn: 0.3061538\ttotal: 1.44s\tremaining: 2.47s\n",
      "369:\tlearn: 0.3059500\ttotal: 1.45s\tremaining: 2.46s\n",
      "370:\tlearn: 0.3057705\ttotal: 1.45s\tremaining: 2.46s\n",
      "371:\tlearn: 0.3056083\ttotal: 1.46s\tremaining: 2.46s\n",
      "372:\tlearn: 0.3053315\ttotal: 1.46s\tremaining: 2.45s\n",
      "373:\tlearn: 0.3050544\ttotal: 1.46s\tremaining: 2.45s\n",
      "374:\tlearn: 0.3048456\ttotal: 1.47s\tremaining: 2.44s\n",
      "375:\tlearn: 0.3044269\ttotal: 1.47s\tremaining: 2.44s\n",
      "376:\tlearn: 0.3042419\ttotal: 1.48s\tremaining: 2.44s\n",
      "377:\tlearn: 0.3039166\ttotal: 1.48s\tremaining: 2.44s\n",
      "378:\tlearn: 0.3035772\ttotal: 1.48s\tremaining: 2.43s\n",
      "379:\tlearn: 0.3033434\ttotal: 1.49s\tremaining: 2.43s\n",
      "380:\tlearn: 0.3031393\ttotal: 1.49s\tremaining: 2.42s\n",
      "381:\tlearn: 0.3028672\ttotal: 1.5s\tremaining: 2.42s\n",
      "382:\tlearn: 0.3027376\ttotal: 1.5s\tremaining: 2.42s\n",
      "383:\tlearn: 0.3025756\ttotal: 1.5s\tremaining: 2.41s\n",
      "384:\tlearn: 0.3024260\ttotal: 1.51s\tremaining: 2.41s\n",
      "385:\tlearn: 0.3020347\ttotal: 1.51s\tremaining: 2.4s\n",
      "386:\tlearn: 0.3018132\ttotal: 1.52s\tremaining: 2.4s\n",
      "387:\tlearn: 0.3015428\ttotal: 1.52s\tremaining: 2.4s\n",
      "388:\tlearn: 0.3013003\ttotal: 1.52s\tremaining: 2.39s\n",
      "389:\tlearn: 0.3011842\ttotal: 1.53s\tremaining: 2.39s\n",
      "390:\tlearn: 0.3009537\ttotal: 1.53s\tremaining: 2.39s\n",
      "391:\tlearn: 0.3007814\ttotal: 1.54s\tremaining: 2.38s\n",
      "392:\tlearn: 0.3004424\ttotal: 1.54s\tremaining: 2.38s\n",
      "393:\tlearn: 0.3002894\ttotal: 1.54s\tremaining: 2.37s\n",
      "394:\tlearn: 0.2998684\ttotal: 1.55s\tremaining: 2.37s\n",
      "395:\tlearn: 0.2995720\ttotal: 1.55s\tremaining: 2.37s\n",
      "396:\tlearn: 0.2993401\ttotal: 1.55s\tremaining: 2.36s\n",
      "397:\tlearn: 0.2990131\ttotal: 1.56s\tremaining: 2.36s\n",
      "398:\tlearn: 0.2987619\ttotal: 1.56s\tremaining: 2.35s\n",
      "399:\tlearn: 0.2985213\ttotal: 1.57s\tremaining: 2.35s\n",
      "400:\tlearn: 0.2982042\ttotal: 1.57s\tremaining: 2.35s\n",
      "401:\tlearn: 0.2978721\ttotal: 1.58s\tremaining: 2.35s\n",
      "402:\tlearn: 0.2976345\ttotal: 1.58s\tremaining: 2.34s\n",
      "403:\tlearn: 0.2972221\ttotal: 1.58s\tremaining: 2.34s\n",
      "404:\tlearn: 0.2970814\ttotal: 1.59s\tremaining: 2.33s\n",
      "405:\tlearn: 0.2967517\ttotal: 1.59s\tremaining: 2.33s\n",
      "406:\tlearn: 0.2966035\ttotal: 1.6s\tremaining: 2.33s\n",
      "407:\tlearn: 0.2963830\ttotal: 1.6s\tremaining: 2.32s\n",
      "408:\tlearn: 0.2961240\ttotal: 1.6s\tremaining: 2.32s\n",
      "409:\tlearn: 0.2958982\ttotal: 1.61s\tremaining: 2.31s\n",
      "410:\tlearn: 0.2956095\ttotal: 1.61s\tremaining: 2.31s\n",
      "411:\tlearn: 0.2953991\ttotal: 1.61s\tremaining: 2.31s\n",
      "412:\tlearn: 0.2952191\ttotal: 1.62s\tremaining: 2.3s\n",
      "413:\tlearn: 0.2949185\ttotal: 1.62s\tremaining: 2.3s\n",
      "414:\tlearn: 0.2947586\ttotal: 1.63s\tremaining: 2.29s\n",
      "415:\tlearn: 0.2945701\ttotal: 1.63s\tremaining: 2.29s\n",
      "416:\tlearn: 0.2943232\ttotal: 1.63s\tremaining: 2.28s\n",
      "417:\tlearn: 0.2940291\ttotal: 1.64s\tremaining: 2.28s\n",
      "418:\tlearn: 0.2936811\ttotal: 1.64s\tremaining: 2.28s\n",
      "419:\tlearn: 0.2934391\ttotal: 1.65s\tremaining: 2.27s\n",
      "420:\tlearn: 0.2932164\ttotal: 1.65s\tremaining: 2.27s\n",
      "421:\tlearn: 0.2928465\ttotal: 1.66s\tremaining: 2.27s\n",
      "422:\tlearn: 0.2926669\ttotal: 1.66s\tremaining: 2.26s\n",
      "423:\tlearn: 0.2925658\ttotal: 1.66s\tremaining: 2.26s\n",
      "424:\tlearn: 0.2924291\ttotal: 1.67s\tremaining: 2.25s\n",
      "425:\tlearn: 0.2921885\ttotal: 1.67s\tremaining: 2.25s\n",
      "426:\tlearn: 0.2920070\ttotal: 1.67s\tremaining: 2.25s\n",
      "427:\tlearn: 0.2917642\ttotal: 1.68s\tremaining: 2.24s\n",
      "428:\tlearn: 0.2914151\ttotal: 1.68s\tremaining: 2.24s\n",
      "429:\tlearn: 0.2911814\ttotal: 1.68s\tremaining: 2.23s\n",
      "430:\tlearn: 0.2909608\ttotal: 1.69s\tremaining: 2.23s\n",
      "431:\tlearn: 0.2908154\ttotal: 1.69s\tremaining: 2.22s\n",
      "432:\tlearn: 0.2903013\ttotal: 1.7s\tremaining: 2.22s\n",
      "433:\tlearn: 0.2901543\ttotal: 1.7s\tremaining: 2.22s\n",
      "434:\tlearn: 0.2900226\ttotal: 1.7s\tremaining: 2.21s\n",
      "435:\tlearn: 0.2898018\ttotal: 1.71s\tremaining: 2.21s\n",
      "436:\tlearn: 0.2896373\ttotal: 1.71s\tremaining: 2.2s\n",
      "437:\tlearn: 0.2893709\ttotal: 1.71s\tremaining: 2.2s\n",
      "438:\tlearn: 0.2891398\ttotal: 1.72s\tremaining: 2.19s\n",
      "439:\tlearn: 0.2888637\ttotal: 1.72s\tremaining: 2.19s\n",
      "440:\tlearn: 0.2886542\ttotal: 1.73s\tremaining: 2.19s\n",
      "441:\tlearn: 0.2884764\ttotal: 1.73s\tremaining: 2.18s\n",
      "442:\tlearn: 0.2881545\ttotal: 1.73s\tremaining: 2.18s\n",
      "443:\tlearn: 0.2878570\ttotal: 1.74s\tremaining: 2.18s\n",
      "444:\tlearn: 0.2875516\ttotal: 1.74s\tremaining: 2.17s\n",
      "445:\tlearn: 0.2873062\ttotal: 1.75s\tremaining: 2.17s\n",
      "446:\tlearn: 0.2871626\ttotal: 1.75s\tremaining: 2.17s\n",
      "447:\tlearn: 0.2870238\ttotal: 1.75s\tremaining: 2.16s\n",
      "448:\tlearn: 0.2867199\ttotal: 1.76s\tremaining: 2.16s\n",
      "449:\tlearn: 0.2863581\ttotal: 1.76s\tremaining: 2.15s\n",
      "450:\tlearn: 0.2861799\ttotal: 1.77s\tremaining: 2.15s\n",
      "451:\tlearn: 0.2860412\ttotal: 1.77s\tremaining: 2.15s\n",
      "452:\tlearn: 0.2857782\ttotal: 1.77s\tremaining: 2.14s\n",
      "453:\tlearn: 0.2853444\ttotal: 1.78s\tremaining: 2.14s\n",
      "454:\tlearn: 0.2849187\ttotal: 1.78s\tremaining: 2.13s\n",
      "455:\tlearn: 0.2846296\ttotal: 1.79s\tremaining: 2.13s\n",
      "456:\tlearn: 0.2843571\ttotal: 1.79s\tremaining: 2.13s\n",
      "457:\tlearn: 0.2842017\ttotal: 1.79s\tremaining: 2.12s\n",
      "458:\tlearn: 0.2841052\ttotal: 1.8s\tremaining: 2.12s\n",
      "459:\tlearn: 0.2838978\ttotal: 1.8s\tremaining: 2.12s\n",
      "460:\tlearn: 0.2837818\ttotal: 1.81s\tremaining: 2.12s\n",
      "461:\tlearn: 0.2835020\ttotal: 1.81s\tremaining: 2.11s\n",
      "462:\tlearn: 0.2833535\ttotal: 1.82s\tremaining: 2.11s\n",
      "463:\tlearn: 0.2831346\ttotal: 1.82s\tremaining: 2.11s\n",
      "464:\tlearn: 0.2828799\ttotal: 1.83s\tremaining: 2.11s\n",
      "465:\tlearn: 0.2824758\ttotal: 1.84s\tremaining: 2.1s\n",
      "466:\tlearn: 0.2823220\ttotal: 1.84s\tremaining: 2.1s\n",
      "467:\tlearn: 0.2820234\ttotal: 1.85s\tremaining: 2.1s\n",
      "468:\tlearn: 0.2818330\ttotal: 1.85s\tremaining: 2.09s\n",
      "469:\tlearn: 0.2815562\ttotal: 1.85s\tremaining: 2.09s\n",
      "470:\tlearn: 0.2813459\ttotal: 1.86s\tremaining: 2.09s\n",
      "471:\tlearn: 0.2811700\ttotal: 1.86s\tremaining: 2.08s\n",
      "472:\tlearn: 0.2809071\ttotal: 1.86s\tremaining: 2.08s\n",
      "473:\tlearn: 0.2806734\ttotal: 1.87s\tremaining: 2.08s\n",
      "474:\tlearn: 0.2804134\ttotal: 1.88s\tremaining: 2.07s\n",
      "475:\tlearn: 0.2801832\ttotal: 1.88s\tremaining: 2.07s\n",
      "476:\tlearn: 0.2800049\ttotal: 1.89s\tremaining: 2.07s\n",
      "477:\tlearn: 0.2798841\ttotal: 1.89s\tremaining: 2.06s\n",
      "478:\tlearn: 0.2796665\ttotal: 1.9s\tremaining: 2.06s\n",
      "479:\tlearn: 0.2794651\ttotal: 1.9s\tremaining: 2.06s\n",
      "480:\tlearn: 0.2793432\ttotal: 1.9s\tremaining: 2.05s\n",
      "481:\tlearn: 0.2790829\ttotal: 1.91s\tremaining: 2.05s\n",
      "482:\tlearn: 0.2789676\ttotal: 1.91s\tremaining: 2.05s\n",
      "483:\tlearn: 0.2787441\ttotal: 1.92s\tremaining: 2.04s\n",
      "484:\tlearn: 0.2785979\ttotal: 1.92s\tremaining: 2.04s\n",
      "485:\tlearn: 0.2784088\ttotal: 1.92s\tremaining: 2.04s\n",
      "486:\tlearn: 0.2780902\ttotal: 1.93s\tremaining: 2.03s\n",
      "487:\tlearn: 0.2778102\ttotal: 1.93s\tremaining: 2.03s\n",
      "488:\tlearn: 0.2776579\ttotal: 1.94s\tremaining: 2.02s\n",
      "489:\tlearn: 0.2773590\ttotal: 1.94s\tremaining: 2.02s\n",
      "490:\tlearn: 0.2770252\ttotal: 1.94s\tremaining: 2.02s\n",
      "491:\tlearn: 0.2765960\ttotal: 1.95s\tremaining: 2.01s\n",
      "492:\tlearn: 0.2763206\ttotal: 1.95s\tremaining: 2.01s\n",
      "493:\tlearn: 0.2761096\ttotal: 1.96s\tremaining: 2s\n",
      "494:\tlearn: 0.2760100\ttotal: 1.96s\tremaining: 2s\n",
      "495:\tlearn: 0.2758731\ttotal: 1.96s\tremaining: 2s\n",
      "496:\tlearn: 0.2756345\ttotal: 1.97s\tremaining: 1.99s\n",
      "497:\tlearn: 0.2755373\ttotal: 1.97s\tremaining: 1.99s\n",
      "498:\tlearn: 0.2752332\ttotal: 1.97s\tremaining: 1.98s\n",
      "499:\tlearn: 0.2747617\ttotal: 1.98s\tremaining: 1.98s\n",
      "500:\tlearn: 0.2745736\ttotal: 1.98s\tremaining: 1.97s\n",
      "501:\tlearn: 0.2744065\ttotal: 1.99s\tremaining: 1.97s\n",
      "502:\tlearn: 0.2742484\ttotal: 1.99s\tremaining: 1.97s\n",
      "503:\tlearn: 0.2739969\ttotal: 1.99s\tremaining: 1.96s\n",
      "504:\tlearn: 0.2736136\ttotal: 2s\tremaining: 1.96s\n",
      "505:\tlearn: 0.2735288\ttotal: 2s\tremaining: 1.95s\n",
      "506:\tlearn: 0.2732466\ttotal: 2s\tremaining: 1.95s\n",
      "507:\tlearn: 0.2730979\ttotal: 2.01s\tremaining: 1.94s\n",
      "508:\tlearn: 0.2729028\ttotal: 2.01s\tremaining: 1.94s\n",
      "509:\tlearn: 0.2726958\ttotal: 2.02s\tremaining: 1.94s\n",
      "510:\tlearn: 0.2725346\ttotal: 2.02s\tremaining: 1.93s\n",
      "511:\tlearn: 0.2723412\ttotal: 2.02s\tremaining: 1.93s\n",
      "512:\tlearn: 0.2722458\ttotal: 2.03s\tremaining: 1.92s\n",
      "513:\tlearn: 0.2721046\ttotal: 2.03s\tremaining: 1.92s\n",
      "514:\tlearn: 0.2719296\ttotal: 2.04s\tremaining: 1.92s\n",
      "515:\tlearn: 0.2715397\ttotal: 2.04s\tremaining: 1.91s\n",
      "516:\tlearn: 0.2710683\ttotal: 2.04s\tremaining: 1.91s\n",
      "517:\tlearn: 0.2706920\ttotal: 2.05s\tremaining: 1.9s\n",
      "518:\tlearn: 0.2704587\ttotal: 2.05s\tremaining: 1.9s\n",
      "519:\tlearn: 0.2702792\ttotal: 2.05s\tremaining: 1.9s\n",
      "520:\tlearn: 0.2700723\ttotal: 2.06s\tremaining: 1.89s\n",
      "521:\tlearn: 0.2697396\ttotal: 2.06s\tremaining: 1.89s\n",
      "522:\tlearn: 0.2695883\ttotal: 2.07s\tremaining: 1.88s\n",
      "523:\tlearn: 0.2693787\ttotal: 2.07s\tremaining: 1.88s\n",
      "524:\tlearn: 0.2692687\ttotal: 2.07s\tremaining: 1.88s\n",
      "525:\tlearn: 0.2690672\ttotal: 2.08s\tremaining: 1.87s\n",
      "526:\tlearn: 0.2688505\ttotal: 2.08s\tremaining: 1.87s\n",
      "527:\tlearn: 0.2687097\ttotal: 2.08s\tremaining: 1.86s\n",
      "528:\tlearn: 0.2685543\ttotal: 2.09s\tremaining: 1.86s\n",
      "529:\tlearn: 0.2684491\ttotal: 2.09s\tremaining: 1.86s\n",
      "530:\tlearn: 0.2682816\ttotal: 2.1s\tremaining: 1.85s\n",
      "531:\tlearn: 0.2681611\ttotal: 2.1s\tremaining: 1.85s\n",
      "532:\tlearn: 0.2679241\ttotal: 2.11s\tremaining: 1.84s\n",
      "533:\tlearn: 0.2677191\ttotal: 2.11s\tremaining: 1.84s\n",
      "534:\tlearn: 0.2675229\ttotal: 2.11s\tremaining: 1.84s\n",
      "535:\tlearn: 0.2671802\ttotal: 2.12s\tremaining: 1.83s\n",
      "536:\tlearn: 0.2669426\ttotal: 2.12s\tremaining: 1.83s\n",
      "537:\tlearn: 0.2667413\ttotal: 2.13s\tremaining: 1.82s\n",
      "538:\tlearn: 0.2665143\ttotal: 2.13s\tremaining: 1.82s\n",
      "539:\tlearn: 0.2663430\ttotal: 2.13s\tremaining: 1.82s\n",
      "540:\tlearn: 0.2661363\ttotal: 2.14s\tremaining: 1.81s\n",
      "541:\tlearn: 0.2658916\ttotal: 2.14s\tremaining: 1.81s\n",
      "542:\tlearn: 0.2656821\ttotal: 2.15s\tremaining: 1.81s\n",
      "543:\tlearn: 0.2653096\ttotal: 2.15s\tremaining: 1.8s\n",
      "544:\tlearn: 0.2650812\ttotal: 2.16s\tremaining: 1.8s\n",
      "545:\tlearn: 0.2648761\ttotal: 2.16s\tremaining: 1.8s\n",
      "546:\tlearn: 0.2647423\ttotal: 2.17s\tremaining: 1.79s\n",
      "547:\tlearn: 0.2645981\ttotal: 2.17s\tremaining: 1.79s\n",
      "548:\tlearn: 0.2643923\ttotal: 2.17s\tremaining: 1.78s\n",
      "549:\tlearn: 0.2641767\ttotal: 2.18s\tremaining: 1.78s\n",
      "550:\tlearn: 0.2640114\ttotal: 2.18s\tremaining: 1.78s\n",
      "551:\tlearn: 0.2637978\ttotal: 2.19s\tremaining: 1.77s\n",
      "552:\tlearn: 0.2636372\ttotal: 2.19s\tremaining: 1.77s\n",
      "553:\tlearn: 0.2634286\ttotal: 2.19s\tremaining: 1.76s\n",
      "554:\tlearn: 0.2632516\ttotal: 2.2s\tremaining: 1.76s\n",
      "555:\tlearn: 0.2630033\ttotal: 2.2s\tremaining: 1.76s\n",
      "556:\tlearn: 0.2627638\ttotal: 2.2s\tremaining: 1.75s\n",
      "557:\tlearn: 0.2625712\ttotal: 2.21s\tremaining: 1.75s\n",
      "558:\tlearn: 0.2623454\ttotal: 2.21s\tremaining: 1.75s\n",
      "559:\tlearn: 0.2620302\ttotal: 2.22s\tremaining: 1.74s\n",
      "560:\tlearn: 0.2618315\ttotal: 2.22s\tremaining: 1.74s\n",
      "561:\tlearn: 0.2617606\ttotal: 2.22s\tremaining: 1.73s\n",
      "562:\tlearn: 0.2615332\ttotal: 2.23s\tremaining: 1.73s\n",
      "563:\tlearn: 0.2614464\ttotal: 2.23s\tremaining: 1.72s\n",
      "564:\tlearn: 0.2612323\ttotal: 2.23s\tremaining: 1.72s\n",
      "565:\tlearn: 0.2610916\ttotal: 2.24s\tremaining: 1.72s\n",
      "566:\tlearn: 0.2608557\ttotal: 2.24s\tremaining: 1.71s\n",
      "567:\tlearn: 0.2606376\ttotal: 2.25s\tremaining: 1.71s\n",
      "568:\tlearn: 0.2603278\ttotal: 2.25s\tremaining: 1.7s\n",
      "569:\tlearn: 0.2601911\ttotal: 2.25s\tremaining: 1.7s\n",
      "570:\tlearn: 0.2599887\ttotal: 2.26s\tremaining: 1.7s\n",
      "571:\tlearn: 0.2597733\ttotal: 2.26s\tremaining: 1.69s\n",
      "572:\tlearn: 0.2595818\ttotal: 2.27s\tremaining: 1.69s\n",
      "573:\tlearn: 0.2594274\ttotal: 2.27s\tremaining: 1.68s\n",
      "574:\tlearn: 0.2591763\ttotal: 2.27s\tremaining: 1.68s\n",
      "575:\tlearn: 0.2589616\ttotal: 2.28s\tremaining: 1.68s\n",
      "576:\tlearn: 0.2588310\ttotal: 2.28s\tremaining: 1.67s\n",
      "577:\tlearn: 0.2586944\ttotal: 2.28s\tremaining: 1.67s\n",
      "578:\tlearn: 0.2584587\ttotal: 2.29s\tremaining: 1.66s\n",
      "579:\tlearn: 0.2582281\ttotal: 2.29s\tremaining: 1.66s\n",
      "580:\tlearn: 0.2581212\ttotal: 2.29s\tremaining: 1.66s\n",
      "581:\tlearn: 0.2579434\ttotal: 2.3s\tremaining: 1.65s\n",
      "582:\tlearn: 0.2577600\ttotal: 2.3s\tremaining: 1.65s\n",
      "583:\tlearn: 0.2575943\ttotal: 2.31s\tremaining: 1.64s\n",
      "584:\tlearn: 0.2572757\ttotal: 2.31s\tremaining: 1.64s\n",
      "585:\tlearn: 0.2569447\ttotal: 2.31s\tremaining: 1.63s\n",
      "586:\tlearn: 0.2567127\ttotal: 2.32s\tremaining: 1.63s\n",
      "587:\tlearn: 0.2565077\ttotal: 2.32s\tremaining: 1.63s\n",
      "588:\tlearn: 0.2560663\ttotal: 2.32s\tremaining: 1.62s\n",
      "589:\tlearn: 0.2558793\ttotal: 2.33s\tremaining: 1.62s\n",
      "590:\tlearn: 0.2556859\ttotal: 2.33s\tremaining: 1.61s\n",
      "591:\tlearn: 0.2554456\ttotal: 2.33s\tremaining: 1.61s\n",
      "592:\tlearn: 0.2553190\ttotal: 2.34s\tremaining: 1.6s\n",
      "593:\tlearn: 0.2551521\ttotal: 2.34s\tremaining: 1.6s\n",
      "594:\tlearn: 0.2549833\ttotal: 2.35s\tremaining: 1.6s\n",
      "595:\tlearn: 0.2548083\ttotal: 2.35s\tremaining: 1.59s\n",
      "596:\tlearn: 0.2545761\ttotal: 2.35s\tremaining: 1.59s\n",
      "597:\tlearn: 0.2544433\ttotal: 2.36s\tremaining: 1.58s\n",
      "598:\tlearn: 0.2542338\ttotal: 2.36s\tremaining: 1.58s\n",
      "599:\tlearn: 0.2538727\ttotal: 2.36s\tremaining: 1.58s\n",
      "600:\tlearn: 0.2536845\ttotal: 2.37s\tremaining: 1.57s\n",
      "601:\tlearn: 0.2534035\ttotal: 2.37s\tremaining: 1.57s\n",
      "602:\tlearn: 0.2532922\ttotal: 2.38s\tremaining: 1.56s\n",
      "603:\tlearn: 0.2532031\ttotal: 2.38s\tremaining: 1.56s\n",
      "604:\tlearn: 0.2530318\ttotal: 2.38s\tremaining: 1.56s\n",
      "605:\tlearn: 0.2528645\ttotal: 2.39s\tremaining: 1.55s\n",
      "606:\tlearn: 0.2527803\ttotal: 2.39s\tremaining: 1.55s\n",
      "607:\tlearn: 0.2525757\ttotal: 2.39s\tremaining: 1.54s\n",
      "608:\tlearn: 0.2524885\ttotal: 2.4s\tremaining: 1.54s\n",
      "609:\tlearn: 0.2522937\ttotal: 2.4s\tremaining: 1.53s\n",
      "610:\tlearn: 0.2521442\ttotal: 2.41s\tremaining: 1.53s\n",
      "611:\tlearn: 0.2519713\ttotal: 2.41s\tremaining: 1.53s\n",
      "612:\tlearn: 0.2518967\ttotal: 2.41s\tremaining: 1.52s\n",
      "613:\tlearn: 0.2516943\ttotal: 2.42s\tremaining: 1.52s\n",
      "614:\tlearn: 0.2516146\ttotal: 2.42s\tremaining: 1.51s\n",
      "615:\tlearn: 0.2514685\ttotal: 2.42s\tremaining: 1.51s\n",
      "616:\tlearn: 0.2513347\ttotal: 2.43s\tremaining: 1.51s\n",
      "617:\tlearn: 0.2511901\ttotal: 2.43s\tremaining: 1.5s\n",
      "618:\tlearn: 0.2510435\ttotal: 2.44s\tremaining: 1.5s\n",
      "619:\tlearn: 0.2509904\ttotal: 2.44s\tremaining: 1.5s\n",
      "620:\tlearn: 0.2508723\ttotal: 2.44s\tremaining: 1.49s\n",
      "621:\tlearn: 0.2507605\ttotal: 2.45s\tremaining: 1.49s\n",
      "622:\tlearn: 0.2506514\ttotal: 2.45s\tremaining: 1.48s\n",
      "623:\tlearn: 0.2505690\ttotal: 2.45s\tremaining: 1.48s\n",
      "624:\tlearn: 0.2504429\ttotal: 2.46s\tremaining: 1.48s\n",
      "625:\tlearn: 0.2502037\ttotal: 2.46s\tremaining: 1.47s\n",
      "626:\tlearn: 0.2500324\ttotal: 2.47s\tremaining: 1.47s\n",
      "627:\tlearn: 0.2498356\ttotal: 2.47s\tremaining: 1.46s\n",
      "628:\tlearn: 0.2496187\ttotal: 2.47s\tremaining: 1.46s\n",
      "629:\tlearn: 0.2492907\ttotal: 2.48s\tremaining: 1.46s\n",
      "630:\tlearn: 0.2491276\ttotal: 2.48s\tremaining: 1.45s\n",
      "631:\tlearn: 0.2489653\ttotal: 2.48s\tremaining: 1.45s\n",
      "632:\tlearn: 0.2488764\ttotal: 2.49s\tremaining: 1.44s\n",
      "633:\tlearn: 0.2487153\ttotal: 2.49s\tremaining: 1.44s\n",
      "634:\tlearn: 0.2483102\ttotal: 2.5s\tremaining: 1.44s\n",
      "635:\tlearn: 0.2481080\ttotal: 2.5s\tremaining: 1.43s\n",
      "636:\tlearn: 0.2479784\ttotal: 2.5s\tremaining: 1.43s\n",
      "637:\tlearn: 0.2477993\ttotal: 2.51s\tremaining: 1.42s\n",
      "638:\tlearn: 0.2475834\ttotal: 2.51s\tremaining: 1.42s\n",
      "639:\tlearn: 0.2475229\ttotal: 2.52s\tremaining: 1.41s\n",
      "640:\tlearn: 0.2473364\ttotal: 2.52s\tremaining: 1.41s\n",
      "641:\tlearn: 0.2471953\ttotal: 2.52s\tremaining: 1.41s\n",
      "642:\tlearn: 0.2470357\ttotal: 2.53s\tremaining: 1.4s\n",
      "643:\tlearn: 0.2468030\ttotal: 2.53s\tremaining: 1.4s\n",
      "644:\tlearn: 0.2465601\ttotal: 2.53s\tremaining: 1.39s\n",
      "645:\tlearn: 0.2464405\ttotal: 2.54s\tremaining: 1.39s\n",
      "646:\tlearn: 0.2463249\ttotal: 2.54s\tremaining: 1.39s\n",
      "647:\tlearn: 0.2461445\ttotal: 2.54s\tremaining: 1.38s\n",
      "648:\tlearn: 0.2459683\ttotal: 2.55s\tremaining: 1.38s\n",
      "649:\tlearn: 0.2459187\ttotal: 2.55s\tremaining: 1.37s\n",
      "650:\tlearn: 0.2458331\ttotal: 2.56s\tremaining: 1.37s\n",
      "651:\tlearn: 0.2456622\ttotal: 2.56s\tremaining: 1.37s\n",
      "652:\tlearn: 0.2455764\ttotal: 2.56s\tremaining: 1.36s\n",
      "653:\tlearn: 0.2454094\ttotal: 2.57s\tremaining: 1.36s\n",
      "654:\tlearn: 0.2453070\ttotal: 2.57s\tremaining: 1.35s\n",
      "655:\tlearn: 0.2451863\ttotal: 2.58s\tremaining: 1.35s\n",
      "656:\tlearn: 0.2450994\ttotal: 2.58s\tremaining: 1.35s\n",
      "657:\tlearn: 0.2450153\ttotal: 2.58s\tremaining: 1.34s\n",
      "658:\tlearn: 0.2446097\ttotal: 2.59s\tremaining: 1.34s\n",
      "659:\tlearn: 0.2445245\ttotal: 2.59s\tremaining: 1.33s\n",
      "660:\tlearn: 0.2443399\ttotal: 2.59s\tremaining: 1.33s\n",
      "661:\tlearn: 0.2441501\ttotal: 2.6s\tremaining: 1.33s\n",
      "662:\tlearn: 0.2439630\ttotal: 2.6s\tremaining: 1.32s\n",
      "663:\tlearn: 0.2437682\ttotal: 2.6s\tremaining: 1.32s\n",
      "664:\tlearn: 0.2435464\ttotal: 2.61s\tremaining: 1.31s\n",
      "665:\tlearn: 0.2432613\ttotal: 2.61s\tremaining: 1.31s\n",
      "666:\tlearn: 0.2430797\ttotal: 2.62s\tremaining: 1.31s\n",
      "667:\tlearn: 0.2429861\ttotal: 2.62s\tremaining: 1.3s\n",
      "668:\tlearn: 0.2428818\ttotal: 2.62s\tremaining: 1.3s\n",
      "669:\tlearn: 0.2428300\ttotal: 2.63s\tremaining: 1.29s\n",
      "670:\tlearn: 0.2424793\ttotal: 2.63s\tremaining: 1.29s\n",
      "671:\tlearn: 0.2423667\ttotal: 2.63s\tremaining: 1.29s\n",
      "672:\tlearn: 0.2422164\ttotal: 2.64s\tremaining: 1.28s\n",
      "673:\tlearn: 0.2420844\ttotal: 2.64s\tremaining: 1.28s\n",
      "674:\tlearn: 0.2419211\ttotal: 2.65s\tremaining: 1.27s\n",
      "675:\tlearn: 0.2417691\ttotal: 2.65s\tremaining: 1.27s\n",
      "676:\tlearn: 0.2416796\ttotal: 2.65s\tremaining: 1.27s\n",
      "677:\tlearn: 0.2415952\ttotal: 2.66s\tremaining: 1.26s\n",
      "678:\tlearn: 0.2414925\ttotal: 2.66s\tremaining: 1.26s\n",
      "679:\tlearn: 0.2412105\ttotal: 2.67s\tremaining: 1.25s\n",
      "680:\tlearn: 0.2410208\ttotal: 2.67s\tremaining: 1.25s\n",
      "681:\tlearn: 0.2408223\ttotal: 2.67s\tremaining: 1.25s\n",
      "682:\tlearn: 0.2406265\ttotal: 2.68s\tremaining: 1.24s\n",
      "683:\tlearn: 0.2404572\ttotal: 2.68s\tremaining: 1.24s\n",
      "684:\tlearn: 0.2402161\ttotal: 2.68s\tremaining: 1.23s\n",
      "685:\tlearn: 0.2399192\ttotal: 2.69s\tremaining: 1.23s\n",
      "686:\tlearn: 0.2398088\ttotal: 2.69s\tremaining: 1.23s\n",
      "687:\tlearn: 0.2396273\ttotal: 2.69s\tremaining: 1.22s\n",
      "688:\tlearn: 0.2395036\ttotal: 2.7s\tremaining: 1.22s\n",
      "689:\tlearn: 0.2393612\ttotal: 2.7s\tremaining: 1.21s\n",
      "690:\tlearn: 0.2391355\ttotal: 2.71s\tremaining: 1.21s\n",
      "691:\tlearn: 0.2389393\ttotal: 2.71s\tremaining: 1.21s\n",
      "692:\tlearn: 0.2388758\ttotal: 2.71s\tremaining: 1.2s\n",
      "693:\tlearn: 0.2385949\ttotal: 2.72s\tremaining: 1.2s\n",
      "694:\tlearn: 0.2384428\ttotal: 2.72s\tremaining: 1.19s\n",
      "695:\tlearn: 0.2382581\ttotal: 2.73s\tremaining: 1.19s\n",
      "696:\tlearn: 0.2379732\ttotal: 2.73s\tremaining: 1.19s\n",
      "697:\tlearn: 0.2377417\ttotal: 2.73s\tremaining: 1.18s\n",
      "698:\tlearn: 0.2375917\ttotal: 2.74s\tremaining: 1.18s\n",
      "699:\tlearn: 0.2374017\ttotal: 2.74s\tremaining: 1.17s\n",
      "700:\tlearn: 0.2372113\ttotal: 2.74s\tremaining: 1.17s\n",
      "701:\tlearn: 0.2370185\ttotal: 2.75s\tremaining: 1.17s\n",
      "702:\tlearn: 0.2368379\ttotal: 2.75s\tremaining: 1.16s\n",
      "703:\tlearn: 0.2364391\ttotal: 2.75s\tremaining: 1.16s\n",
      "704:\tlearn: 0.2361192\ttotal: 2.76s\tremaining: 1.15s\n",
      "705:\tlearn: 0.2359548\ttotal: 2.76s\tremaining: 1.15s\n",
      "706:\tlearn: 0.2356960\ttotal: 2.77s\tremaining: 1.15s\n",
      "707:\tlearn: 0.2355552\ttotal: 2.77s\tremaining: 1.14s\n",
      "708:\tlearn: 0.2354165\ttotal: 2.77s\tremaining: 1.14s\n",
      "709:\tlearn: 0.2352885\ttotal: 2.78s\tremaining: 1.13s\n",
      "710:\tlearn: 0.2351240\ttotal: 2.78s\tremaining: 1.13s\n",
      "711:\tlearn: 0.2348939\ttotal: 2.78s\tremaining: 1.13s\n",
      "712:\tlearn: 0.2346078\ttotal: 2.79s\tremaining: 1.12s\n",
      "713:\tlearn: 0.2344981\ttotal: 2.79s\tremaining: 1.12s\n",
      "714:\tlearn: 0.2342201\ttotal: 2.79s\tremaining: 1.11s\n",
      "715:\tlearn: 0.2340840\ttotal: 2.8s\tremaining: 1.11s\n",
      "716:\tlearn: 0.2337506\ttotal: 2.8s\tremaining: 1.11s\n",
      "717:\tlearn: 0.2335812\ttotal: 2.81s\tremaining: 1.1s\n",
      "718:\tlearn: 0.2334450\ttotal: 2.81s\tremaining: 1.1s\n",
      "719:\tlearn: 0.2332846\ttotal: 2.81s\tremaining: 1.09s\n",
      "720:\tlearn: 0.2330310\ttotal: 2.82s\tremaining: 1.09s\n",
      "721:\tlearn: 0.2328971\ttotal: 2.82s\tremaining: 1.09s\n",
      "722:\tlearn: 0.2327567\ttotal: 2.83s\tremaining: 1.08s\n",
      "723:\tlearn: 0.2326547\ttotal: 2.83s\tremaining: 1.08s\n",
      "724:\tlearn: 0.2324718\ttotal: 2.83s\tremaining: 1.07s\n",
      "725:\tlearn: 0.2322708\ttotal: 2.84s\tremaining: 1.07s\n",
      "726:\tlearn: 0.2320800\ttotal: 2.84s\tremaining: 1.07s\n",
      "727:\tlearn: 0.2318676\ttotal: 2.84s\tremaining: 1.06s\n",
      "728:\tlearn: 0.2316814\ttotal: 2.85s\tremaining: 1.06s\n",
      "729:\tlearn: 0.2314604\ttotal: 2.85s\tremaining: 1.05s\n",
      "730:\tlearn: 0.2312111\ttotal: 2.85s\tremaining: 1.05s\n",
      "731:\tlearn: 0.2310470\ttotal: 2.86s\tremaining: 1.05s\n",
      "732:\tlearn: 0.2309910\ttotal: 2.86s\tremaining: 1.04s\n",
      "733:\tlearn: 0.2308512\ttotal: 2.87s\tremaining: 1.04s\n",
      "734:\tlearn: 0.2306194\ttotal: 2.87s\tremaining: 1.03s\n",
      "735:\tlearn: 0.2304246\ttotal: 2.88s\tremaining: 1.03s\n",
      "736:\tlearn: 0.2302820\ttotal: 2.88s\tremaining: 1.03s\n",
      "737:\tlearn: 0.2300638\ttotal: 2.88s\tremaining: 1.02s\n",
      "738:\tlearn: 0.2298759\ttotal: 2.89s\tremaining: 1.02s\n",
      "739:\tlearn: 0.2296838\ttotal: 2.89s\tremaining: 1.01s\n",
      "740:\tlearn: 0.2296419\ttotal: 2.89s\tremaining: 1.01s\n",
      "741:\tlearn: 0.2293882\ttotal: 2.9s\tremaining: 1.01s\n",
      "742:\tlearn: 0.2292389\ttotal: 2.9s\tremaining: 1s\n",
      "743:\tlearn: 0.2291392\ttotal: 2.9s\tremaining: 1000ms\n",
      "744:\tlearn: 0.2290377\ttotal: 2.91s\tremaining: 996ms\n",
      "745:\tlearn: 0.2289379\ttotal: 2.91s\tremaining: 992ms\n",
      "746:\tlearn: 0.2286102\ttotal: 2.92s\tremaining: 988ms\n",
      "747:\tlearn: 0.2284422\ttotal: 2.92s\tremaining: 984ms\n",
      "748:\tlearn: 0.2282556\ttotal: 2.92s\tremaining: 980ms\n",
      "749:\tlearn: 0.2280965\ttotal: 2.93s\tremaining: 976ms\n",
      "750:\tlearn: 0.2279489\ttotal: 2.93s\tremaining: 972ms\n",
      "751:\tlearn: 0.2278889\ttotal: 2.94s\tremaining: 968ms\n",
      "752:\tlearn: 0.2277473\ttotal: 2.94s\tremaining: 964ms\n",
      "753:\tlearn: 0.2275482\ttotal: 2.94s\tremaining: 961ms\n",
      "754:\tlearn: 0.2273567\ttotal: 2.95s\tremaining: 957ms\n",
      "755:\tlearn: 0.2272462\ttotal: 2.95s\tremaining: 953ms\n",
      "756:\tlearn: 0.2271184\ttotal: 2.96s\tremaining: 949ms\n",
      "757:\tlearn: 0.2269664\ttotal: 2.96s\tremaining: 945ms\n",
      "758:\tlearn: 0.2267477\ttotal: 2.96s\tremaining: 941ms\n",
      "759:\tlearn: 0.2265436\ttotal: 2.97s\tremaining: 938ms\n",
      "760:\tlearn: 0.2263647\ttotal: 2.97s\tremaining: 934ms\n",
      "761:\tlearn: 0.2263089\ttotal: 2.98s\tremaining: 930ms\n",
      "762:\tlearn: 0.2261633\ttotal: 2.98s\tremaining: 926ms\n",
      "763:\tlearn: 0.2260283\ttotal: 2.98s\tremaining: 922ms\n",
      "764:\tlearn: 0.2256537\ttotal: 2.99s\tremaining: 918ms\n",
      "765:\tlearn: 0.2254234\ttotal: 2.99s\tremaining: 914ms\n",
      "766:\tlearn: 0.2253006\ttotal: 3s\tremaining: 910ms\n",
      "767:\tlearn: 0.2252096\ttotal: 3s\tremaining: 907ms\n",
      "768:\tlearn: 0.2250728\ttotal: 3s\tremaining: 903ms\n",
      "769:\tlearn: 0.2248322\ttotal: 3.01s\tremaining: 899ms\n",
      "770:\tlearn: 0.2246742\ttotal: 3.01s\tremaining: 895ms\n",
      "771:\tlearn: 0.2245130\ttotal: 3.02s\tremaining: 891ms\n",
      "772:\tlearn: 0.2243440\ttotal: 3.02s\tremaining: 887ms\n",
      "773:\tlearn: 0.2242247\ttotal: 3.02s\tremaining: 883ms\n",
      "774:\tlearn: 0.2241569\ttotal: 3.03s\tremaining: 879ms\n",
      "775:\tlearn: 0.2240635\ttotal: 3.03s\tremaining: 876ms\n",
      "776:\tlearn: 0.2239781\ttotal: 3.04s\tremaining: 872ms\n",
      "777:\tlearn: 0.2238072\ttotal: 3.04s\tremaining: 868ms\n",
      "778:\tlearn: 0.2236123\ttotal: 3.04s\tremaining: 864ms\n",
      "779:\tlearn: 0.2234901\ttotal: 3.05s\tremaining: 860ms\n",
      "780:\tlearn: 0.2232855\ttotal: 3.05s\tremaining: 856ms\n",
      "781:\tlearn: 0.2231609\ttotal: 3.06s\tremaining: 852ms\n",
      "782:\tlearn: 0.2228671\ttotal: 3.06s\tremaining: 848ms\n",
      "783:\tlearn: 0.2226917\ttotal: 3.06s\tremaining: 845ms\n",
      "784:\tlearn: 0.2225740\ttotal: 3.07s\tremaining: 841ms\n",
      "785:\tlearn: 0.2223674\ttotal: 3.07s\tremaining: 837ms\n",
      "786:\tlearn: 0.2221120\ttotal: 3.08s\tremaining: 833ms\n",
      "787:\tlearn: 0.2219790\ttotal: 3.08s\tremaining: 829ms\n",
      "788:\tlearn: 0.2218662\ttotal: 3.08s\tremaining: 825ms\n",
      "789:\tlearn: 0.2216595\ttotal: 3.09s\tremaining: 821ms\n",
      "790:\tlearn: 0.2215821\ttotal: 3.09s\tremaining: 817ms\n",
      "791:\tlearn: 0.2214264\ttotal: 3.1s\tremaining: 813ms\n",
      "792:\tlearn: 0.2213030\ttotal: 3.1s\tremaining: 809ms\n",
      "793:\tlearn: 0.2210656\ttotal: 3.1s\tremaining: 806ms\n",
      "794:\tlearn: 0.2210102\ttotal: 3.11s\tremaining: 802ms\n",
      "795:\tlearn: 0.2208204\ttotal: 3.11s\tremaining: 798ms\n",
      "796:\tlearn: 0.2207330\ttotal: 3.12s\tremaining: 794ms\n",
      "797:\tlearn: 0.2205519\ttotal: 3.12s\tremaining: 790ms\n",
      "798:\tlearn: 0.2203581\ttotal: 3.12s\tremaining: 786ms\n",
      "799:\tlearn: 0.2202063\ttotal: 3.13s\tremaining: 782ms\n",
      "800:\tlearn: 0.2200623\ttotal: 3.13s\tremaining: 778ms\n",
      "801:\tlearn: 0.2199090\ttotal: 3.14s\tremaining: 774ms\n",
      "802:\tlearn: 0.2197979\ttotal: 3.14s\tremaining: 770ms\n",
      "803:\tlearn: 0.2195776\ttotal: 3.14s\tremaining: 766ms\n",
      "804:\tlearn: 0.2193032\ttotal: 3.15s\tremaining: 763ms\n",
      "805:\tlearn: 0.2190902\ttotal: 3.15s\tremaining: 759ms\n",
      "806:\tlearn: 0.2189444\ttotal: 3.15s\tremaining: 755ms\n",
      "807:\tlearn: 0.2188127\ttotal: 3.16s\tremaining: 751ms\n",
      "808:\tlearn: 0.2187115\ttotal: 3.16s\tremaining: 747ms\n",
      "809:\tlearn: 0.2186281\ttotal: 3.17s\tremaining: 743ms\n",
      "810:\tlearn: 0.2185756\ttotal: 3.17s\tremaining: 739ms\n",
      "811:\tlearn: 0.2184945\ttotal: 3.17s\tremaining: 735ms\n",
      "812:\tlearn: 0.2183716\ttotal: 3.18s\tremaining: 731ms\n",
      "813:\tlearn: 0.2182503\ttotal: 3.18s\tremaining: 727ms\n",
      "814:\tlearn: 0.2180666\ttotal: 3.19s\tremaining: 723ms\n",
      "815:\tlearn: 0.2179189\ttotal: 3.19s\tremaining: 719ms\n",
      "816:\tlearn: 0.2178521\ttotal: 3.19s\tremaining: 715ms\n",
      "817:\tlearn: 0.2177376\ttotal: 3.2s\tremaining: 712ms\n",
      "818:\tlearn: 0.2176350\ttotal: 3.2s\tremaining: 708ms\n",
      "819:\tlearn: 0.2174443\ttotal: 3.21s\tremaining: 704ms\n",
      "820:\tlearn: 0.2171052\ttotal: 3.21s\tremaining: 700ms\n",
      "821:\tlearn: 0.2168405\ttotal: 3.21s\tremaining: 696ms\n",
      "822:\tlearn: 0.2167212\ttotal: 3.22s\tremaining: 692ms\n",
      "823:\tlearn: 0.2165736\ttotal: 3.22s\tremaining: 688ms\n",
      "824:\tlearn: 0.2164083\ttotal: 3.22s\tremaining: 684ms\n",
      "825:\tlearn: 0.2161956\ttotal: 3.23s\tremaining: 680ms\n",
      "826:\tlearn: 0.2161292\ttotal: 3.23s\tremaining: 676ms\n",
      "827:\tlearn: 0.2159666\ttotal: 3.24s\tremaining: 672ms\n",
      "828:\tlearn: 0.2157857\ttotal: 3.24s\tremaining: 668ms\n",
      "829:\tlearn: 0.2156707\ttotal: 3.24s\tremaining: 665ms\n",
      "830:\tlearn: 0.2155184\ttotal: 3.25s\tremaining: 661ms\n",
      "831:\tlearn: 0.2153900\ttotal: 3.25s\tremaining: 657ms\n",
      "832:\tlearn: 0.2152732\ttotal: 3.26s\tremaining: 653ms\n",
      "833:\tlearn: 0.2150997\ttotal: 3.26s\tremaining: 649ms\n",
      "834:\tlearn: 0.2149232\ttotal: 3.26s\tremaining: 645ms\n",
      "835:\tlearn: 0.2148032\ttotal: 3.27s\tremaining: 641ms\n",
      "836:\tlearn: 0.2146541\ttotal: 3.27s\tremaining: 637ms\n",
      "837:\tlearn: 0.2146039\ttotal: 3.28s\tremaining: 633ms\n",
      "838:\tlearn: 0.2144818\ttotal: 3.28s\tremaining: 629ms\n",
      "839:\tlearn: 0.2143549\ttotal: 3.28s\tremaining: 626ms\n",
      "840:\tlearn: 0.2142476\ttotal: 3.29s\tremaining: 622ms\n",
      "841:\tlearn: 0.2140926\ttotal: 3.29s\tremaining: 618ms\n",
      "842:\tlearn: 0.2139810\ttotal: 3.3s\tremaining: 614ms\n",
      "843:\tlearn: 0.2137178\ttotal: 3.3s\tremaining: 611ms\n",
      "844:\tlearn: 0.2135659\ttotal: 3.31s\tremaining: 607ms\n",
      "845:\tlearn: 0.2134595\ttotal: 3.31s\tremaining: 603ms\n",
      "846:\tlearn: 0.2132399\ttotal: 3.32s\tremaining: 599ms\n",
      "847:\tlearn: 0.2130960\ttotal: 3.32s\tremaining: 595ms\n",
      "848:\tlearn: 0.2130458\ttotal: 3.33s\tremaining: 591ms\n",
      "849:\tlearn: 0.2129173\ttotal: 3.33s\tremaining: 588ms\n",
      "850:\tlearn: 0.2126589\ttotal: 3.34s\tremaining: 584ms\n",
      "851:\tlearn: 0.2125071\ttotal: 3.34s\tremaining: 581ms\n",
      "852:\tlearn: 0.2123409\ttotal: 3.35s\tremaining: 577ms\n",
      "853:\tlearn: 0.2121969\ttotal: 3.35s\tremaining: 574ms\n",
      "854:\tlearn: 0.2120359\ttotal: 3.36s\tremaining: 570ms\n",
      "855:\tlearn: 0.2119278\ttotal: 3.37s\tremaining: 566ms\n",
      "856:\tlearn: 0.2118020\ttotal: 3.37s\tremaining: 562ms\n",
      "857:\tlearn: 0.2115988\ttotal: 3.37s\tremaining: 558ms\n",
      "858:\tlearn: 0.2114446\ttotal: 3.38s\tremaining: 554ms\n",
      "859:\tlearn: 0.2113133\ttotal: 3.38s\tremaining: 550ms\n",
      "860:\tlearn: 0.2111592\ttotal: 3.38s\tremaining: 546ms\n",
      "861:\tlearn: 0.2110438\ttotal: 3.39s\tremaining: 543ms\n",
      "862:\tlearn: 0.2109185\ttotal: 3.39s\tremaining: 539ms\n",
      "863:\tlearn: 0.2108090\ttotal: 3.4s\tremaining: 535ms\n",
      "864:\tlearn: 0.2107075\ttotal: 3.4s\tremaining: 531ms\n",
      "865:\tlearn: 0.2106122\ttotal: 3.41s\tremaining: 527ms\n",
      "866:\tlearn: 0.2104666\ttotal: 3.41s\tremaining: 523ms\n",
      "867:\tlearn: 0.2103687\ttotal: 3.42s\tremaining: 520ms\n",
      "868:\tlearn: 0.2102201\ttotal: 3.42s\tremaining: 516ms\n",
      "869:\tlearn: 0.2101564\ttotal: 3.43s\tremaining: 512ms\n",
      "870:\tlearn: 0.2099699\ttotal: 3.43s\tremaining: 508ms\n",
      "871:\tlearn: 0.2098686\ttotal: 3.44s\tremaining: 505ms\n",
      "872:\tlearn: 0.2097543\ttotal: 3.44s\tremaining: 501ms\n",
      "873:\tlearn: 0.2097162\ttotal: 3.44s\tremaining: 497ms\n",
      "874:\tlearn: 0.2095836\ttotal: 3.45s\tremaining: 493ms\n",
      "875:\tlearn: 0.2094204\ttotal: 3.45s\tremaining: 489ms\n",
      "876:\tlearn: 0.2092678\ttotal: 3.46s\tremaining: 485ms\n",
      "877:\tlearn: 0.2090268\ttotal: 3.46s\tremaining: 481ms\n",
      "878:\tlearn: 0.2088533\ttotal: 3.46s\tremaining: 477ms\n",
      "879:\tlearn: 0.2087249\ttotal: 3.47s\tremaining: 473ms\n",
      "880:\tlearn: 0.2086202\ttotal: 3.47s\tremaining: 469ms\n",
      "881:\tlearn: 0.2083910\ttotal: 3.48s\tremaining: 465ms\n",
      "882:\tlearn: 0.2082374\ttotal: 3.48s\tremaining: 461ms\n",
      "883:\tlearn: 0.2080022\ttotal: 3.48s\tremaining: 457ms\n",
      "884:\tlearn: 0.2079053\ttotal: 3.49s\tremaining: 453ms\n",
      "885:\tlearn: 0.2077637\ttotal: 3.49s\tremaining: 449ms\n",
      "886:\tlearn: 0.2075689\ttotal: 3.49s\tremaining: 445ms\n",
      "887:\tlearn: 0.2074429\ttotal: 3.5s\tremaining: 441ms\n",
      "888:\tlearn: 0.2073487\ttotal: 3.5s\tremaining: 437ms\n",
      "889:\tlearn: 0.2072355\ttotal: 3.5s\tremaining: 433ms\n",
      "890:\tlearn: 0.2071099\ttotal: 3.51s\tremaining: 429ms\n",
      "891:\tlearn: 0.2069370\ttotal: 3.51s\tremaining: 425ms\n",
      "892:\tlearn: 0.2068031\ttotal: 3.52s\tremaining: 421ms\n",
      "893:\tlearn: 0.2067400\ttotal: 3.52s\tremaining: 417ms\n",
      "894:\tlearn: 0.2065651\ttotal: 3.52s\tremaining: 413ms\n",
      "895:\tlearn: 0.2063865\ttotal: 3.53s\tremaining: 409ms\n",
      "896:\tlearn: 0.2062720\ttotal: 3.53s\tremaining: 405ms\n",
      "897:\tlearn: 0.2061620\ttotal: 3.53s\tremaining: 401ms\n",
      "898:\tlearn: 0.2060747\ttotal: 3.54s\tremaining: 397ms\n",
      "899:\tlearn: 0.2058785\ttotal: 3.54s\tremaining: 394ms\n",
      "900:\tlearn: 0.2057811\ttotal: 3.54s\tremaining: 390ms\n",
      "901:\tlearn: 0.2056499\ttotal: 3.55s\tremaining: 386ms\n",
      "902:\tlearn: 0.2053818\ttotal: 3.55s\tremaining: 382ms\n",
      "903:\tlearn: 0.2052397\ttotal: 3.56s\tremaining: 378ms\n",
      "904:\tlearn: 0.2051117\ttotal: 3.56s\tremaining: 374ms\n",
      "905:\tlearn: 0.2050223\ttotal: 3.56s\tremaining: 370ms\n",
      "906:\tlearn: 0.2049171\ttotal: 3.57s\tremaining: 366ms\n",
      "907:\tlearn: 0.2047877\ttotal: 3.57s\tremaining: 362ms\n",
      "908:\tlearn: 0.2046238\ttotal: 3.58s\tremaining: 358ms\n",
      "909:\tlearn: 0.2045669\ttotal: 3.58s\tremaining: 354ms\n",
      "910:\tlearn: 0.2044676\ttotal: 3.58s\tremaining: 350ms\n",
      "911:\tlearn: 0.2043703\ttotal: 3.59s\tremaining: 346ms\n",
      "912:\tlearn: 0.2042452\ttotal: 3.59s\tremaining: 342ms\n",
      "913:\tlearn: 0.2041303\ttotal: 3.59s\tremaining: 338ms\n",
      "914:\tlearn: 0.2040821\ttotal: 3.6s\tremaining: 334ms\n",
      "915:\tlearn: 0.2039846\ttotal: 3.6s\tremaining: 330ms\n",
      "916:\tlearn: 0.2038893\ttotal: 3.6s\tremaining: 326ms\n",
      "917:\tlearn: 0.2037866\ttotal: 3.61s\tremaining: 322ms\n",
      "918:\tlearn: 0.2036603\ttotal: 3.61s\tremaining: 318ms\n",
      "919:\tlearn: 0.2034823\ttotal: 3.62s\tremaining: 314ms\n",
      "920:\tlearn: 0.2032800\ttotal: 3.62s\tremaining: 311ms\n",
      "921:\tlearn: 0.2031208\ttotal: 3.62s\tremaining: 307ms\n",
      "922:\tlearn: 0.2030015\ttotal: 3.63s\tremaining: 303ms\n",
      "923:\tlearn: 0.2029184\ttotal: 3.63s\tremaining: 299ms\n",
      "924:\tlearn: 0.2027800\ttotal: 3.63s\tremaining: 295ms\n",
      "925:\tlearn: 0.2026631\ttotal: 3.64s\tremaining: 291ms\n",
      "926:\tlearn: 0.2025064\ttotal: 3.64s\tremaining: 287ms\n",
      "927:\tlearn: 0.2024218\ttotal: 3.65s\tremaining: 283ms\n",
      "928:\tlearn: 0.2022898\ttotal: 3.65s\tremaining: 279ms\n",
      "929:\tlearn: 0.2020922\ttotal: 3.65s\tremaining: 275ms\n",
      "930:\tlearn: 0.2019307\ttotal: 3.66s\tremaining: 271ms\n",
      "931:\tlearn: 0.2016115\ttotal: 3.66s\tremaining: 267ms\n",
      "932:\tlearn: 0.2015036\ttotal: 3.66s\tremaining: 263ms\n",
      "933:\tlearn: 0.2014096\ttotal: 3.67s\tremaining: 259ms\n",
      "934:\tlearn: 0.2013118\ttotal: 3.67s\tremaining: 255ms\n",
      "935:\tlearn: 0.2012369\ttotal: 3.67s\tremaining: 251ms\n",
      "936:\tlearn: 0.2010251\ttotal: 3.68s\tremaining: 247ms\n",
      "937:\tlearn: 0.2009806\ttotal: 3.68s\tremaining: 243ms\n",
      "938:\tlearn: 0.2007123\ttotal: 3.69s\tremaining: 239ms\n",
      "939:\tlearn: 0.2006371\ttotal: 3.69s\tremaining: 236ms\n",
      "940:\tlearn: 0.2005879\ttotal: 3.69s\tremaining: 232ms\n",
      "941:\tlearn: 0.2004330\ttotal: 3.7s\tremaining: 228ms\n",
      "942:\tlearn: 0.2002628\ttotal: 3.7s\tremaining: 224ms\n",
      "943:\tlearn: 0.2001195\ttotal: 3.7s\tremaining: 220ms\n",
      "944:\tlearn: 0.1999360\ttotal: 3.71s\tremaining: 216ms\n",
      "945:\tlearn: 0.1998244\ttotal: 3.71s\tremaining: 212ms\n",
      "946:\tlearn: 0.1997238\ttotal: 3.71s\tremaining: 208ms\n",
      "947:\tlearn: 0.1996630\ttotal: 3.72s\tremaining: 204ms\n",
      "948:\tlearn: 0.1994353\ttotal: 3.72s\tremaining: 200ms\n",
      "949:\tlearn: 0.1993118\ttotal: 3.73s\tremaining: 196ms\n",
      "950:\tlearn: 0.1992015\ttotal: 3.73s\tremaining: 192ms\n",
      "951:\tlearn: 0.1990840\ttotal: 3.73s\tremaining: 188ms\n",
      "952:\tlearn: 0.1989917\ttotal: 3.74s\tremaining: 184ms\n",
      "953:\tlearn: 0.1988856\ttotal: 3.74s\tremaining: 180ms\n",
      "954:\tlearn: 0.1986672\ttotal: 3.75s\tremaining: 177ms\n",
      "955:\tlearn: 0.1985748\ttotal: 3.75s\tremaining: 173ms\n",
      "956:\tlearn: 0.1985247\ttotal: 3.75s\tremaining: 169ms\n",
      "957:\tlearn: 0.1984293\ttotal: 3.76s\tremaining: 165ms\n",
      "958:\tlearn: 0.1982582\ttotal: 3.76s\tremaining: 161ms\n",
      "959:\tlearn: 0.1981400\ttotal: 3.76s\tremaining: 157ms\n",
      "960:\tlearn: 0.1980667\ttotal: 3.77s\tremaining: 153ms\n",
      "961:\tlearn: 0.1978595\ttotal: 3.77s\tremaining: 149ms\n",
      "962:\tlearn: 0.1977726\ttotal: 3.78s\tremaining: 145ms\n",
      "963:\tlearn: 0.1975464\ttotal: 3.78s\tremaining: 141ms\n",
      "964:\tlearn: 0.1974081\ttotal: 3.78s\tremaining: 137ms\n",
      "965:\tlearn: 0.1972442\ttotal: 3.79s\tremaining: 133ms\n",
      "966:\tlearn: 0.1971510\ttotal: 3.79s\tremaining: 129ms\n",
      "967:\tlearn: 0.1971004\ttotal: 3.79s\tremaining: 125ms\n",
      "968:\tlearn: 0.1969958\ttotal: 3.8s\tremaining: 122ms\n",
      "969:\tlearn: 0.1968943\ttotal: 3.8s\tremaining: 118ms\n",
      "970:\tlearn: 0.1966851\ttotal: 3.81s\tremaining: 114ms\n",
      "971:\tlearn: 0.1965709\ttotal: 3.81s\tremaining: 110ms\n",
      "972:\tlearn: 0.1964403\ttotal: 3.81s\tremaining: 106ms\n",
      "973:\tlearn: 0.1963129\ttotal: 3.82s\tremaining: 102ms\n",
      "974:\tlearn: 0.1961628\ttotal: 3.82s\tremaining: 98ms\n",
      "975:\tlearn: 0.1960336\ttotal: 3.83s\tremaining: 94.1ms\n",
      "976:\tlearn: 0.1958878\ttotal: 3.83s\tremaining: 90.2ms\n",
      "977:\tlearn: 0.1957649\ttotal: 3.83s\tremaining: 86.2ms\n",
      "978:\tlearn: 0.1956660\ttotal: 3.84s\tremaining: 82.3ms\n",
      "979:\tlearn: 0.1955951\ttotal: 3.84s\tremaining: 78.4ms\n",
      "980:\tlearn: 0.1955640\ttotal: 3.85s\tremaining: 74.5ms\n",
      "981:\tlearn: 0.1955205\ttotal: 3.85s\tremaining: 70.6ms\n",
      "982:\tlearn: 0.1954285\ttotal: 3.85s\tremaining: 66.6ms\n",
      "983:\tlearn: 0.1953331\ttotal: 3.86s\tremaining: 62.7ms\n",
      "984:\tlearn: 0.1951577\ttotal: 3.86s\tremaining: 58.8ms\n",
      "985:\tlearn: 0.1950145\ttotal: 3.86s\tremaining: 54.9ms\n",
      "986:\tlearn: 0.1947828\ttotal: 3.87s\tremaining: 51ms\n",
      "987:\tlearn: 0.1946825\ttotal: 3.87s\tremaining: 47ms\n",
      "988:\tlearn: 0.1946026\ttotal: 3.88s\tremaining: 43.1ms\n",
      "989:\tlearn: 0.1945360\ttotal: 3.88s\tremaining: 39.2ms\n",
      "990:\tlearn: 0.1944512\ttotal: 3.88s\tremaining: 35.3ms\n",
      "991:\tlearn: 0.1943879\ttotal: 3.89s\tremaining: 31.4ms\n",
      "992:\tlearn: 0.1942574\ttotal: 3.89s\tremaining: 27.4ms\n",
      "993:\tlearn: 0.1941738\ttotal: 3.9s\tremaining: 23.5ms\n",
      "994:\tlearn: 0.1940364\ttotal: 3.9s\tremaining: 19.6ms\n",
      "995:\tlearn: 0.1939471\ttotal: 3.9s\tremaining: 15.7ms\n",
      "996:\tlearn: 0.1938650\ttotal: 3.91s\tremaining: 11.8ms\n",
      "997:\tlearn: 0.1937769\ttotal: 3.91s\tremaining: 7.84ms\n",
      "998:\tlearn: 0.1936870\ttotal: 3.92s\tremaining: 3.92ms\n",
      "999:\tlearn: 0.1935798\ttotal: 3.92s\tremaining: 0us\n"
     ]
    }
   ],
   "source": [
    "model_cat = CatBoostClassifier(random_state=SEED)\n",
    "model_cat.fit(features_upsampled, target_upsampled)\n",
    "pred_proba_up = model_cat.predict_proba(X_valid)[:, 1]"
   ]
  },
  {
   "cell_type": "code",
   "execution_count": 73,
   "metadata": {
    "colab": {
     "base_uri": "https://localhost:8080/"
    },
    "id": "ZW_fbmkovd0D",
    "outputId": "bdf72047-45c2-4e59-89f4-5b42398604ea"
   },
   "outputs": [
    {
     "data": {
      "text/plain": [
       "0.8915013693425573"
      ]
     },
     "execution_count": 73,
     "metadata": {},
     "output_type": "execute_result"
    }
   ],
   "source": [
    "roc_auc_score(y_valid, pred_proba_up)"
   ]
  },
  {
   "cell_type": "markdown",
   "metadata": {
    "id": "_idJtkzLyp-v"
   },
   "source": [
    "### Уменьшение выборки"
   ]
  },
  {
   "cell_type": "code",
   "execution_count": 74,
   "metadata": {
    "id": "sH6ltIUdvd2J"
   },
   "outputs": [],
   "source": [
    "def downsample(features, target, fraction):\n",
    "    features_zeros = features[target == 0]\n",
    "    features_ones = features[target == 1]\n",
    "    target_zeros = target[target == 0]\n",
    "    target_ones = target[target == 1]\n",
    "\n",
    "    features_downsampled = pd.concat(\n",
    "        [features_zeros.sample(frac=fraction, random_state=1)] + [features_ones])\n",
    "    target_downsampled = pd.concat(\n",
    "        [target_zeros.sample(frac=fraction, random_state=1)] + [target_ones])\n",
    "    \n",
    "    features_downsampled, target_downsampled = shuffle(\n",
    "        features_downsampled, target_downsampled, random_state=1)\n",
    "    \n",
    "    return features_downsampled, target_downsampled\n",
    "\n",
    "features_downsampled, target_downsampled = downsample(X_train, y_train, 0.24)"
   ]
  },
  {
   "cell_type": "code",
   "execution_count": 75,
   "metadata": {
    "colab": {
     "base_uri": "https://localhost:8080/"
    },
    "id": "kXCi_sJhvd4B",
    "outputId": "2d56c2e6-e2b2-4927-8355-55531e288e43"
   },
   "outputs": [
    {
     "name": "stdout",
     "output_type": "stream",
     "text": [
      "Learning rate set to 0.013437\n",
      "0:\tlearn: 0.6858307\ttotal: 2.65ms\tremaining: 2.65s\n",
      "1:\tlearn: 0.6788759\ttotal: 5.41ms\tremaining: 2.7s\n",
      "2:\tlearn: 0.6731225\ttotal: 7.85ms\tremaining: 2.61s\n",
      "3:\tlearn: 0.6668172\ttotal: 11.4ms\tremaining: 2.83s\n",
      "4:\tlearn: 0.6602804\ttotal: 15.1ms\tremaining: 3.01s\n",
      "5:\tlearn: 0.6541357\ttotal: 18.8ms\tremaining: 3.12s\n",
      "6:\tlearn: 0.6482026\ttotal: 22.7ms\tremaining: 3.22s\n",
      "7:\tlearn: 0.6428411\ttotal: 26.1ms\tremaining: 3.24s\n",
      "8:\tlearn: 0.6370704\ttotal: 28.6ms\tremaining: 3.15s\n",
      "9:\tlearn: 0.6324669\ttotal: 31.3ms\tremaining: 3.1s\n",
      "10:\tlearn: 0.6270381\ttotal: 33.7ms\tremaining: 3.03s\n",
      "11:\tlearn: 0.6221428\ttotal: 36ms\tremaining: 2.97s\n",
      "12:\tlearn: 0.6175715\ttotal: 38.4ms\tremaining: 2.92s\n",
      "13:\tlearn: 0.6135977\ttotal: 40.9ms\tremaining: 2.88s\n",
      "14:\tlearn: 0.6095677\ttotal: 43.3ms\tremaining: 2.84s\n",
      "15:\tlearn: 0.6050663\ttotal: 45.8ms\tremaining: 2.81s\n",
      "16:\tlearn: 0.6010850\ttotal: 48.4ms\tremaining: 2.8s\n",
      "17:\tlearn: 0.5971747\ttotal: 50.9ms\tremaining: 2.78s\n",
      "18:\tlearn: 0.5931065\ttotal: 53.4ms\tremaining: 2.76s\n",
      "19:\tlearn: 0.5887514\ttotal: 55.9ms\tremaining: 2.74s\n",
      "20:\tlearn: 0.5851610\ttotal: 58.4ms\tremaining: 2.72s\n",
      "21:\tlearn: 0.5816380\ttotal: 60.8ms\tremaining: 2.7s\n",
      "22:\tlearn: 0.5776103\ttotal: 63.4ms\tremaining: 2.69s\n",
      "23:\tlearn: 0.5734510\ttotal: 66ms\tremaining: 2.68s\n",
      "24:\tlearn: 0.5699227\ttotal: 68.5ms\tremaining: 2.67s\n",
      "25:\tlearn: 0.5667352\ttotal: 71ms\tremaining: 2.66s\n",
      "26:\tlearn: 0.5635338\ttotal: 73.4ms\tremaining: 2.65s\n",
      "27:\tlearn: 0.5603119\ttotal: 75.9ms\tremaining: 2.63s\n",
      "28:\tlearn: 0.5568679\ttotal: 78.3ms\tremaining: 2.62s\n",
      "29:\tlearn: 0.5538051\ttotal: 80.8ms\tremaining: 2.61s\n",
      "30:\tlearn: 0.5504013\ttotal: 83.2ms\tremaining: 2.6s\n",
      "31:\tlearn: 0.5475577\ttotal: 85.7ms\tremaining: 2.59s\n",
      "32:\tlearn: 0.5447324\ttotal: 88.2ms\tremaining: 2.58s\n",
      "33:\tlearn: 0.5421830\ttotal: 90.6ms\tremaining: 2.57s\n",
      "34:\tlearn: 0.5395614\ttotal: 93.1ms\tremaining: 2.56s\n",
      "35:\tlearn: 0.5367889\ttotal: 95.4ms\tremaining: 2.56s\n",
      "36:\tlearn: 0.5341072\ttotal: 97.9ms\tremaining: 2.55s\n",
      "37:\tlearn: 0.5310077\ttotal: 101ms\tremaining: 2.54s\n",
      "38:\tlearn: 0.5290460\ttotal: 103ms\tremaining: 2.54s\n",
      "39:\tlearn: 0.5267236\ttotal: 106ms\tremaining: 2.54s\n",
      "40:\tlearn: 0.5250278\ttotal: 107ms\tremaining: 2.51s\n",
      "41:\tlearn: 0.5228944\ttotal: 110ms\tremaining: 2.51s\n",
      "42:\tlearn: 0.5210429\ttotal: 113ms\tremaining: 2.5s\n",
      "43:\tlearn: 0.5189887\ttotal: 115ms\tremaining: 2.5s\n",
      "44:\tlearn: 0.5167981\ttotal: 118ms\tremaining: 2.5s\n",
      "45:\tlearn: 0.5146580\ttotal: 120ms\tremaining: 2.49s\n",
      "46:\tlearn: 0.5126601\ttotal: 123ms\tremaining: 2.49s\n",
      "47:\tlearn: 0.5108472\ttotal: 126ms\tremaining: 2.49s\n",
      "48:\tlearn: 0.5090399\ttotal: 128ms\tremaining: 2.48s\n",
      "49:\tlearn: 0.5070085\ttotal: 131ms\tremaining: 2.48s\n",
      "50:\tlearn: 0.5051049\ttotal: 133ms\tremaining: 2.48s\n",
      "51:\tlearn: 0.5031680\ttotal: 136ms\tremaining: 2.48s\n",
      "52:\tlearn: 0.5014086\ttotal: 139ms\tremaining: 2.48s\n",
      "53:\tlearn: 0.4997940\ttotal: 141ms\tremaining: 2.48s\n",
      "54:\tlearn: 0.4981758\ttotal: 144ms\tremaining: 2.47s\n",
      "55:\tlearn: 0.4966950\ttotal: 146ms\tremaining: 2.46s\n",
      "56:\tlearn: 0.4951160\ttotal: 149ms\tremaining: 2.46s\n",
      "57:\tlearn: 0.4933971\ttotal: 151ms\tremaining: 2.46s\n",
      "58:\tlearn: 0.4919217\ttotal: 154ms\tremaining: 2.46s\n",
      "59:\tlearn: 0.4901991\ttotal: 156ms\tremaining: 2.45s\n",
      "60:\tlearn: 0.4888360\ttotal: 159ms\tremaining: 2.45s\n",
      "61:\tlearn: 0.4874803\ttotal: 161ms\tremaining: 2.44s\n",
      "62:\tlearn: 0.4862507\ttotal: 164ms\tremaining: 2.44s\n",
      "63:\tlearn: 0.4851408\ttotal: 166ms\tremaining: 2.43s\n",
      "64:\tlearn: 0.4839739\ttotal: 169ms\tremaining: 2.43s\n",
      "65:\tlearn: 0.4826854\ttotal: 171ms\tremaining: 2.43s\n",
      "66:\tlearn: 0.4814139\ttotal: 174ms\tremaining: 2.42s\n",
      "67:\tlearn: 0.4802051\ttotal: 176ms\tremaining: 2.42s\n",
      "68:\tlearn: 0.4791172\ttotal: 179ms\tremaining: 2.41s\n",
      "69:\tlearn: 0.4778431\ttotal: 181ms\tremaining: 2.41s\n",
      "70:\tlearn: 0.4764529\ttotal: 184ms\tremaining: 2.4s\n",
      "71:\tlearn: 0.4752138\ttotal: 186ms\tremaining: 2.4s\n",
      "72:\tlearn: 0.4742076\ttotal: 189ms\tremaining: 2.4s\n",
      "73:\tlearn: 0.4731986\ttotal: 192ms\tremaining: 2.41s\n",
      "74:\tlearn: 0.4719472\ttotal: 199ms\tremaining: 2.45s\n",
      "75:\tlearn: 0.4707362\ttotal: 203ms\tremaining: 2.46s\n",
      "76:\tlearn: 0.4696794\ttotal: 207ms\tremaining: 2.48s\n",
      "77:\tlearn: 0.4686401\ttotal: 210ms\tremaining: 2.48s\n",
      "78:\tlearn: 0.4677237\ttotal: 214ms\tremaining: 2.49s\n",
      "79:\tlearn: 0.4668348\ttotal: 217ms\tremaining: 2.5s\n",
      "80:\tlearn: 0.4657671\ttotal: 221ms\tremaining: 2.51s\n",
      "81:\tlearn: 0.4650205\ttotal: 225ms\tremaining: 2.52s\n",
      "82:\tlearn: 0.4637698\ttotal: 229ms\tremaining: 2.53s\n",
      "83:\tlearn: 0.4626550\ttotal: 233ms\tremaining: 2.54s\n",
      "84:\tlearn: 0.4614502\ttotal: 236ms\tremaining: 2.54s\n",
      "85:\tlearn: 0.4606999\ttotal: 240ms\tremaining: 2.55s\n",
      "86:\tlearn: 0.4596848\ttotal: 244ms\tremaining: 2.56s\n",
      "87:\tlearn: 0.4586952\ttotal: 248ms\tremaining: 2.56s\n",
      "88:\tlearn: 0.4575746\ttotal: 250ms\tremaining: 2.56s\n",
      "89:\tlearn: 0.4566088\ttotal: 253ms\tremaining: 2.55s\n",
      "90:\tlearn: 0.4558899\ttotal: 255ms\tremaining: 2.55s\n",
      "91:\tlearn: 0.4552028\ttotal: 257ms\tremaining: 2.54s\n",
      "92:\tlearn: 0.4544093\ttotal: 260ms\tremaining: 2.53s\n",
      "93:\tlearn: 0.4536919\ttotal: 262ms\tremaining: 2.53s\n",
      "94:\tlearn: 0.4531619\ttotal: 265ms\tremaining: 2.52s\n",
      "95:\tlearn: 0.4525034\ttotal: 268ms\tremaining: 2.52s\n",
      "96:\tlearn: 0.4518877\ttotal: 270ms\tremaining: 2.51s\n",
      "97:\tlearn: 0.4512676\ttotal: 273ms\tremaining: 2.51s\n",
      "98:\tlearn: 0.4503809\ttotal: 275ms\tremaining: 2.5s\n",
      "99:\tlearn: 0.4496524\ttotal: 277ms\tremaining: 2.5s\n",
      "100:\tlearn: 0.4489708\ttotal: 280ms\tremaining: 2.49s\n",
      "101:\tlearn: 0.4482491\ttotal: 283ms\tremaining: 2.49s\n",
      "102:\tlearn: 0.4474612\ttotal: 285ms\tremaining: 2.48s\n",
      "103:\tlearn: 0.4467270\ttotal: 288ms\tremaining: 2.48s\n",
      "104:\tlearn: 0.4461488\ttotal: 290ms\tremaining: 2.47s\n",
      "105:\tlearn: 0.4453781\ttotal: 293ms\tremaining: 2.47s\n",
      "106:\tlearn: 0.4446058\ttotal: 295ms\tremaining: 2.46s\n",
      "107:\tlearn: 0.4441051\ttotal: 298ms\tremaining: 2.46s\n",
      "108:\tlearn: 0.4438759\ttotal: 299ms\tremaining: 2.44s\n",
      "109:\tlearn: 0.4431436\ttotal: 301ms\tremaining: 2.44s\n",
      "110:\tlearn: 0.4425961\ttotal: 304ms\tremaining: 2.43s\n",
      "111:\tlearn: 0.4420399\ttotal: 306ms\tremaining: 2.43s\n",
      "112:\tlearn: 0.4414354\ttotal: 309ms\tremaining: 2.42s\n",
      "113:\tlearn: 0.4406453\ttotal: 311ms\tremaining: 2.42s\n",
      "114:\tlearn: 0.4399530\ttotal: 314ms\tremaining: 2.42s\n",
      "115:\tlearn: 0.4393264\ttotal: 317ms\tremaining: 2.41s\n",
      "116:\tlearn: 0.4387785\ttotal: 319ms\tremaining: 2.41s\n",
      "117:\tlearn: 0.4381118\ttotal: 322ms\tremaining: 2.41s\n",
      "118:\tlearn: 0.4376622\ttotal: 325ms\tremaining: 2.4s\n",
      "119:\tlearn: 0.4371698\ttotal: 327ms\tremaining: 2.4s\n",
      "120:\tlearn: 0.4364198\ttotal: 330ms\tremaining: 2.39s\n",
      "121:\tlearn: 0.4357001\ttotal: 332ms\tremaining: 2.39s\n",
      "122:\tlearn: 0.4350060\ttotal: 335ms\tremaining: 2.39s\n",
      "123:\tlearn: 0.4346461\ttotal: 337ms\tremaining: 2.38s\n",
      "124:\tlearn: 0.4339797\ttotal: 340ms\tremaining: 2.38s\n",
      "125:\tlearn: 0.4333019\ttotal: 343ms\tremaining: 2.38s\n",
      "126:\tlearn: 0.4329877\ttotal: 345ms\tremaining: 2.37s\n",
      "127:\tlearn: 0.4325685\ttotal: 348ms\tremaining: 2.37s\n",
      "128:\tlearn: 0.4321906\ttotal: 351ms\tremaining: 2.37s\n",
      "129:\tlearn: 0.4315990\ttotal: 353ms\tremaining: 2.36s\n",
      "130:\tlearn: 0.4310652\ttotal: 356ms\tremaining: 2.36s\n",
      "131:\tlearn: 0.4304963\ttotal: 359ms\tremaining: 2.36s\n",
      "132:\tlearn: 0.4300464\ttotal: 361ms\tremaining: 2.35s\n",
      "133:\tlearn: 0.4296388\ttotal: 364ms\tremaining: 2.35s\n",
      "134:\tlearn: 0.4292009\ttotal: 366ms\tremaining: 2.35s\n",
      "135:\tlearn: 0.4287437\ttotal: 369ms\tremaining: 2.34s\n",
      "136:\tlearn: 0.4282705\ttotal: 372ms\tremaining: 2.34s\n",
      "137:\tlearn: 0.4276673\ttotal: 374ms\tremaining: 2.34s\n",
      "138:\tlearn: 0.4272999\ttotal: 377ms\tremaining: 2.33s\n",
      "139:\tlearn: 0.4266023\ttotal: 379ms\tremaining: 2.33s\n",
      "140:\tlearn: 0.4261362\ttotal: 382ms\tremaining: 2.33s\n",
      "141:\tlearn: 0.4256808\ttotal: 385ms\tremaining: 2.32s\n",
      "142:\tlearn: 0.4251735\ttotal: 387ms\tremaining: 2.32s\n",
      "143:\tlearn: 0.4245465\ttotal: 390ms\tremaining: 2.32s\n",
      "144:\tlearn: 0.4241747\ttotal: 392ms\tremaining: 2.31s\n",
      "145:\tlearn: 0.4238000\ttotal: 395ms\tremaining: 2.31s\n",
      "146:\tlearn: 0.4233433\ttotal: 400ms\tremaining: 2.32s\n",
      "147:\tlearn: 0.4229955\ttotal: 404ms\tremaining: 2.32s\n",
      "148:\tlearn: 0.4225344\ttotal: 408ms\tremaining: 2.33s\n",
      "149:\tlearn: 0.4221697\ttotal: 411ms\tremaining: 2.33s\n",
      "150:\tlearn: 0.4217835\ttotal: 415ms\tremaining: 2.33s\n",
      "151:\tlearn: 0.4213407\ttotal: 419ms\tremaining: 2.34s\n",
      "152:\tlearn: 0.4209062\ttotal: 423ms\tremaining: 2.34s\n",
      "153:\tlearn: 0.4204224\ttotal: 427ms\tremaining: 2.35s\n",
      "154:\tlearn: 0.4200852\ttotal: 431ms\tremaining: 2.35s\n",
      "155:\tlearn: 0.4196978\ttotal: 435ms\tremaining: 2.35s\n",
      "156:\tlearn: 0.4192223\ttotal: 439ms\tremaining: 2.36s\n",
      "157:\tlearn: 0.4188726\ttotal: 443ms\tremaining: 2.36s\n",
      "158:\tlearn: 0.4184187\ttotal: 447ms\tremaining: 2.37s\n",
      "159:\tlearn: 0.4179964\ttotal: 451ms\tremaining: 2.37s\n",
      "160:\tlearn: 0.4176559\ttotal: 455ms\tremaining: 2.37s\n",
      "161:\tlearn: 0.4173087\ttotal: 458ms\tremaining: 2.37s\n",
      "162:\tlearn: 0.4168902\ttotal: 461ms\tremaining: 2.37s\n",
      "163:\tlearn: 0.4165944\ttotal: 463ms\tremaining: 2.36s\n",
      "164:\tlearn: 0.4159815\ttotal: 466ms\tremaining: 2.36s\n",
      "165:\tlearn: 0.4154656\ttotal: 469ms\tremaining: 2.35s\n",
      "166:\tlearn: 0.4149794\ttotal: 471ms\tremaining: 2.35s\n",
      "167:\tlearn: 0.4145469\ttotal: 474ms\tremaining: 2.35s\n",
      "168:\tlearn: 0.4141693\ttotal: 477ms\tremaining: 2.34s\n",
      "169:\tlearn: 0.4138837\ttotal: 479ms\tremaining: 2.34s\n",
      "170:\tlearn: 0.4135598\ttotal: 482ms\tremaining: 2.34s\n",
      "171:\tlearn: 0.4130661\ttotal: 484ms\tremaining: 2.33s\n",
      "172:\tlearn: 0.4127620\ttotal: 487ms\tremaining: 2.33s\n",
      "173:\tlearn: 0.4123224\ttotal: 489ms\tremaining: 2.32s\n",
      "174:\tlearn: 0.4119417\ttotal: 492ms\tremaining: 2.32s\n",
      "175:\tlearn: 0.4116279\ttotal: 494ms\tremaining: 2.31s\n",
      "176:\tlearn: 0.4113133\ttotal: 497ms\tremaining: 2.31s\n",
      "177:\tlearn: 0.4109509\ttotal: 499ms\tremaining: 2.31s\n",
      "178:\tlearn: 0.4105832\ttotal: 502ms\tremaining: 2.3s\n",
      "179:\tlearn: 0.4103317\ttotal: 505ms\tremaining: 2.3s\n",
      "180:\tlearn: 0.4099562\ttotal: 507ms\tremaining: 2.29s\n",
      "181:\tlearn: 0.4097530\ttotal: 510ms\tremaining: 2.29s\n",
      "182:\tlearn: 0.4094451\ttotal: 512ms\tremaining: 2.29s\n",
      "183:\tlearn: 0.4091571\ttotal: 515ms\tremaining: 2.28s\n",
      "184:\tlearn: 0.4089543\ttotal: 517ms\tremaining: 2.28s\n",
      "185:\tlearn: 0.4085425\ttotal: 519ms\tremaining: 2.27s\n",
      "186:\tlearn: 0.4081265\ttotal: 522ms\tremaining: 2.27s\n",
      "187:\tlearn: 0.4077522\ttotal: 524ms\tremaining: 2.27s\n",
      "188:\tlearn: 0.4074807\ttotal: 527ms\tremaining: 2.26s\n",
      "189:\tlearn: 0.4072429\ttotal: 529ms\tremaining: 2.26s\n",
      "190:\tlearn: 0.4070128\ttotal: 532ms\tremaining: 2.25s\n",
      "191:\tlearn: 0.4068108\ttotal: 534ms\tremaining: 2.25s\n",
      "192:\tlearn: 0.4063768\ttotal: 537ms\tremaining: 2.24s\n",
      "193:\tlearn: 0.4059715\ttotal: 539ms\tremaining: 2.24s\n",
      "194:\tlearn: 0.4056054\ttotal: 542ms\tremaining: 2.23s\n",
      "195:\tlearn: 0.4053274\ttotal: 544ms\tremaining: 2.23s\n",
      "196:\tlearn: 0.4050071\ttotal: 547ms\tremaining: 2.23s\n",
      "197:\tlearn: 0.4046306\ttotal: 549ms\tremaining: 2.22s\n",
      "198:\tlearn: 0.4043205\ttotal: 551ms\tremaining: 2.22s\n",
      "199:\tlearn: 0.4039386\ttotal: 554ms\tremaining: 2.22s\n",
      "200:\tlearn: 0.4037467\ttotal: 557ms\tremaining: 2.21s\n",
      "201:\tlearn: 0.4034792\ttotal: 559ms\tremaining: 2.21s\n",
      "202:\tlearn: 0.4032258\ttotal: 562ms\tremaining: 2.21s\n",
      "203:\tlearn: 0.4029185\ttotal: 565ms\tremaining: 2.21s\n",
      "204:\tlearn: 0.4025741\ttotal: 569ms\tremaining: 2.21s\n",
      "205:\tlearn: 0.4022961\ttotal: 572ms\tremaining: 2.21s\n",
      "206:\tlearn: 0.4020079\ttotal: 576ms\tremaining: 2.21s\n",
      "207:\tlearn: 0.4017091\ttotal: 579ms\tremaining: 2.2s\n",
      "208:\tlearn: 0.4013075\ttotal: 582ms\tremaining: 2.2s\n",
      "209:\tlearn: 0.4010415\ttotal: 584ms\tremaining: 2.2s\n",
      "210:\tlearn: 0.4007407\ttotal: 587ms\tremaining: 2.19s\n",
      "211:\tlearn: 0.4004605\ttotal: 589ms\tremaining: 2.19s\n",
      "212:\tlearn: 0.4001457\ttotal: 592ms\tremaining: 2.19s\n",
      "213:\tlearn: 0.3997733\ttotal: 594ms\tremaining: 2.18s\n",
      "214:\tlearn: 0.3994875\ttotal: 596ms\tremaining: 2.18s\n",
      "215:\tlearn: 0.3993512\ttotal: 599ms\tremaining: 2.17s\n",
      "216:\tlearn: 0.3989541\ttotal: 601ms\tremaining: 2.17s\n",
      "217:\tlearn: 0.3985567\ttotal: 604ms\tremaining: 2.17s\n",
      "218:\tlearn: 0.3982654\ttotal: 606ms\tremaining: 2.16s\n",
      "219:\tlearn: 0.3979329\ttotal: 609ms\tremaining: 2.16s\n",
      "220:\tlearn: 0.3975816\ttotal: 612ms\tremaining: 2.15s\n",
      "221:\tlearn: 0.3972192\ttotal: 614ms\tremaining: 2.15s\n",
      "222:\tlearn: 0.3968556\ttotal: 616ms\tremaining: 2.15s\n",
      "223:\tlearn: 0.3965393\ttotal: 619ms\tremaining: 2.14s\n",
      "224:\tlearn: 0.3963557\ttotal: 621ms\tremaining: 2.14s\n",
      "225:\tlearn: 0.3960922\ttotal: 624ms\tremaining: 2.14s\n",
      "226:\tlearn: 0.3960727\ttotal: 625ms\tremaining: 2.13s\n",
      "227:\tlearn: 0.3955829\ttotal: 627ms\tremaining: 2.12s\n",
      "228:\tlearn: 0.3952544\ttotal: 630ms\tremaining: 2.12s\n",
      "229:\tlearn: 0.3950647\ttotal: 633ms\tremaining: 2.12s\n",
      "230:\tlearn: 0.3948268\ttotal: 635ms\tremaining: 2.11s\n",
      "231:\tlearn: 0.3946599\ttotal: 638ms\tremaining: 2.11s\n",
      "232:\tlearn: 0.3942178\ttotal: 641ms\tremaining: 2.11s\n",
      "233:\tlearn: 0.3937641\ttotal: 644ms\tremaining: 2.11s\n",
      "234:\tlearn: 0.3934661\ttotal: 646ms\tremaining: 2.1s\n",
      "235:\tlearn: 0.3931384\ttotal: 649ms\tremaining: 2.1s\n",
      "236:\tlearn: 0.3928902\ttotal: 651ms\tremaining: 2.1s\n",
      "237:\tlearn: 0.3928123\ttotal: 654ms\tremaining: 2.09s\n",
      "238:\tlearn: 0.3925280\ttotal: 656ms\tremaining: 2.09s\n",
      "239:\tlearn: 0.3923563\ttotal: 659ms\tremaining: 2.09s\n",
      "240:\tlearn: 0.3919921\ttotal: 662ms\tremaining: 2.08s\n",
      "241:\tlearn: 0.3917799\ttotal: 664ms\tremaining: 2.08s\n",
      "242:\tlearn: 0.3913943\ttotal: 667ms\tremaining: 2.08s\n",
      "243:\tlearn: 0.3911099\ttotal: 669ms\tremaining: 2.07s\n",
      "244:\tlearn: 0.3908748\ttotal: 672ms\tremaining: 2.07s\n",
      "245:\tlearn: 0.3907130\ttotal: 675ms\tremaining: 2.07s\n",
      "246:\tlearn: 0.3903926\ttotal: 677ms\tremaining: 2.06s\n",
      "247:\tlearn: 0.3901095\ttotal: 680ms\tremaining: 2.06s\n",
      "248:\tlearn: 0.3898000\ttotal: 682ms\tremaining: 2.06s\n",
      "249:\tlearn: 0.3893472\ttotal: 685ms\tremaining: 2.05s\n",
      "250:\tlearn: 0.3890662\ttotal: 687ms\tremaining: 2.05s\n",
      "251:\tlearn: 0.3888270\ttotal: 690ms\tremaining: 2.05s\n",
      "252:\tlearn: 0.3884950\ttotal: 692ms\tremaining: 2.04s\n",
      "253:\tlearn: 0.3883423\ttotal: 695ms\tremaining: 2.04s\n",
      "254:\tlearn: 0.3881356\ttotal: 698ms\tremaining: 2.04s\n",
      "255:\tlearn: 0.3878742\ttotal: 700ms\tremaining: 2.03s\n",
      "256:\tlearn: 0.3877216\ttotal: 703ms\tremaining: 2.03s\n",
      "257:\tlearn: 0.3873866\ttotal: 705ms\tremaining: 2.03s\n",
      "258:\tlearn: 0.3871485\ttotal: 708ms\tremaining: 2.02s\n",
      "259:\tlearn: 0.3868633\ttotal: 711ms\tremaining: 2.02s\n",
      "260:\tlearn: 0.3866637\ttotal: 713ms\tremaining: 2.02s\n",
      "261:\tlearn: 0.3863949\ttotal: 716ms\tremaining: 2.02s\n",
      "262:\tlearn: 0.3861137\ttotal: 718ms\tremaining: 2.01s\n",
      "263:\tlearn: 0.3856907\ttotal: 721ms\tremaining: 2.01s\n",
      "264:\tlearn: 0.3854178\ttotal: 724ms\tremaining: 2.01s\n",
      "265:\tlearn: 0.3850627\ttotal: 726ms\tremaining: 2s\n",
      "266:\tlearn: 0.3848336\ttotal: 729ms\tremaining: 2s\n",
      "267:\tlearn: 0.3845258\ttotal: 731ms\tremaining: 2s\n",
      "268:\tlearn: 0.3842216\ttotal: 734ms\tremaining: 1.99s\n",
      "269:\tlearn: 0.3836846\ttotal: 736ms\tremaining: 1.99s\n",
      "270:\tlearn: 0.3832398\ttotal: 739ms\tremaining: 1.99s\n",
      "271:\tlearn: 0.3829617\ttotal: 741ms\tremaining: 1.98s\n",
      "272:\tlearn: 0.3825381\ttotal: 744ms\tremaining: 1.98s\n",
      "273:\tlearn: 0.3822919\ttotal: 747ms\tremaining: 1.98s\n",
      "274:\tlearn: 0.3819371\ttotal: 749ms\tremaining: 1.98s\n",
      "275:\tlearn: 0.3817117\ttotal: 752ms\tremaining: 1.97s\n",
      "276:\tlearn: 0.3815703\ttotal: 755ms\tremaining: 1.97s\n",
      "277:\tlearn: 0.3811730\ttotal: 757ms\tremaining: 1.97s\n",
      "278:\tlearn: 0.3808674\ttotal: 760ms\tremaining: 1.96s\n",
      "279:\tlearn: 0.3806280\ttotal: 762ms\tremaining: 1.96s\n",
      "280:\tlearn: 0.3803969\ttotal: 765ms\tremaining: 1.96s\n",
      "281:\tlearn: 0.3802339\ttotal: 767ms\tremaining: 1.95s\n",
      "282:\tlearn: 0.3799672\ttotal: 770ms\tremaining: 1.95s\n",
      "283:\tlearn: 0.3795986\ttotal: 772ms\tremaining: 1.95s\n",
      "284:\tlearn: 0.3795978\ttotal: 773ms\tremaining: 1.94s\n",
      "285:\tlearn: 0.3793555\ttotal: 776ms\tremaining: 1.94s\n",
      "286:\tlearn: 0.3790361\ttotal: 778ms\tremaining: 1.93s\n",
      "287:\tlearn: 0.3787011\ttotal: 781ms\tremaining: 1.93s\n",
      "288:\tlearn: 0.3783798\ttotal: 783ms\tremaining: 1.93s\n",
      "289:\tlearn: 0.3782402\ttotal: 786ms\tremaining: 1.92s\n",
      "290:\tlearn: 0.3778578\ttotal: 789ms\tremaining: 1.92s\n",
      "291:\tlearn: 0.3777126\ttotal: 791ms\tremaining: 1.92s\n",
      "292:\tlearn: 0.3773243\ttotal: 794ms\tremaining: 1.92s\n",
      "293:\tlearn: 0.3770438\ttotal: 797ms\tremaining: 1.91s\n",
      "294:\tlearn: 0.3769651\ttotal: 799ms\tremaining: 1.91s\n",
      "295:\tlearn: 0.3767409\ttotal: 802ms\tremaining: 1.91s\n",
      "296:\tlearn: 0.3765442\ttotal: 804ms\tremaining: 1.9s\n",
      "297:\tlearn: 0.3762305\ttotal: 807ms\tremaining: 1.9s\n",
      "298:\tlearn: 0.3760635\ttotal: 809ms\tremaining: 1.9s\n",
      "299:\tlearn: 0.3757632\ttotal: 812ms\tremaining: 1.89s\n",
      "300:\tlearn: 0.3754352\ttotal: 814ms\tremaining: 1.89s\n",
      "301:\tlearn: 0.3752105\ttotal: 817ms\tremaining: 1.89s\n",
      "302:\tlearn: 0.3748745\ttotal: 820ms\tremaining: 1.89s\n",
      "303:\tlearn: 0.3746637\ttotal: 822ms\tremaining: 1.88s\n",
      "304:\tlearn: 0.3745225\ttotal: 825ms\tremaining: 1.88s\n",
      "305:\tlearn: 0.3742040\ttotal: 827ms\tremaining: 1.88s\n",
      "306:\tlearn: 0.3740456\ttotal: 830ms\tremaining: 1.87s\n",
      "307:\tlearn: 0.3738502\ttotal: 832ms\tremaining: 1.87s\n",
      "308:\tlearn: 0.3736186\ttotal: 835ms\tremaining: 1.87s\n",
      "309:\tlearn: 0.3736148\ttotal: 835ms\tremaining: 1.86s\n",
      "310:\tlearn: 0.3734528\ttotal: 838ms\tremaining: 1.86s\n",
      "311:\tlearn: 0.3732108\ttotal: 840ms\tremaining: 1.85s\n",
      "312:\tlearn: 0.3730325\ttotal: 843ms\tremaining: 1.85s\n",
      "313:\tlearn: 0.3728805\ttotal: 845ms\tremaining: 1.85s\n",
      "314:\tlearn: 0.3726211\ttotal: 847ms\tremaining: 1.84s\n",
      "315:\tlearn: 0.3724710\ttotal: 850ms\tremaining: 1.84s\n",
      "316:\tlearn: 0.3723014\ttotal: 852ms\tremaining: 1.84s\n",
      "317:\tlearn: 0.3720702\ttotal: 855ms\tremaining: 1.83s\n",
      "318:\tlearn: 0.3718009\ttotal: 857ms\tremaining: 1.83s\n",
      "319:\tlearn: 0.3715161\ttotal: 859ms\tremaining: 1.83s\n",
      "320:\tlearn: 0.3713386\ttotal: 862ms\tremaining: 1.82s\n",
      "321:\tlearn: 0.3709619\ttotal: 864ms\tremaining: 1.82s\n",
      "322:\tlearn: 0.3706063\ttotal: 867ms\tremaining: 1.82s\n",
      "323:\tlearn: 0.3703475\ttotal: 870ms\tremaining: 1.81s\n",
      "324:\tlearn: 0.3701873\ttotal: 873ms\tremaining: 1.81s\n",
      "325:\tlearn: 0.3699627\ttotal: 875ms\tremaining: 1.81s\n",
      "326:\tlearn: 0.3698027\ttotal: 877ms\tremaining: 1.8s\n",
      "327:\tlearn: 0.3696881\ttotal: 880ms\tremaining: 1.8s\n",
      "328:\tlearn: 0.3692613\ttotal: 883ms\tremaining: 1.8s\n",
      "329:\tlearn: 0.3691095\ttotal: 885ms\tremaining: 1.8s\n",
      "330:\tlearn: 0.3688937\ttotal: 887ms\tremaining: 1.79s\n",
      "331:\tlearn: 0.3686483\ttotal: 890ms\tremaining: 1.79s\n",
      "332:\tlearn: 0.3684846\ttotal: 892ms\tremaining: 1.79s\n",
      "333:\tlearn: 0.3682727\ttotal: 895ms\tremaining: 1.78s\n",
      "334:\tlearn: 0.3680584\ttotal: 897ms\tremaining: 1.78s\n",
      "335:\tlearn: 0.3678161\ttotal: 899ms\tremaining: 1.78s\n",
      "336:\tlearn: 0.3676176\ttotal: 902ms\tremaining: 1.77s\n",
      "337:\tlearn: 0.3674903\ttotal: 904ms\tremaining: 1.77s\n",
      "338:\tlearn: 0.3670986\ttotal: 907ms\tremaining: 1.77s\n",
      "339:\tlearn: 0.3668759\ttotal: 909ms\tremaining: 1.76s\n",
      "340:\tlearn: 0.3667250\ttotal: 912ms\tremaining: 1.76s\n",
      "341:\tlearn: 0.3664462\ttotal: 914ms\tremaining: 1.76s\n",
      "342:\tlearn: 0.3664414\ttotal: 915ms\tremaining: 1.75s\n",
      "343:\tlearn: 0.3663113\ttotal: 917ms\tremaining: 1.75s\n",
      "344:\tlearn: 0.3661060\ttotal: 920ms\tremaining: 1.75s\n",
      "345:\tlearn: 0.3657956\ttotal: 922ms\tremaining: 1.74s\n",
      "346:\tlearn: 0.3656229\ttotal: 925ms\tremaining: 1.74s\n",
      "347:\tlearn: 0.3654348\ttotal: 927ms\tremaining: 1.74s\n",
      "348:\tlearn: 0.3652612\ttotal: 930ms\tremaining: 1.73s\n",
      "349:\tlearn: 0.3650209\ttotal: 932ms\tremaining: 1.73s\n",
      "350:\tlearn: 0.3649581\ttotal: 933ms\tremaining: 1.73s\n",
      "351:\tlearn: 0.3646835\ttotal: 936ms\tremaining: 1.72s\n",
      "352:\tlearn: 0.3644722\ttotal: 938ms\tremaining: 1.72s\n",
      "353:\tlearn: 0.3642921\ttotal: 941ms\tremaining: 1.72s\n",
      "354:\tlearn: 0.3640163\ttotal: 943ms\tremaining: 1.71s\n",
      "355:\tlearn: 0.3638768\ttotal: 946ms\tremaining: 1.71s\n",
      "356:\tlearn: 0.3637257\ttotal: 948ms\tremaining: 1.71s\n",
      "357:\tlearn: 0.3634911\ttotal: 950ms\tremaining: 1.7s\n",
      "358:\tlearn: 0.3633687\ttotal: 953ms\tremaining: 1.7s\n",
      "359:\tlearn: 0.3631335\ttotal: 955ms\tremaining: 1.7s\n",
      "360:\tlearn: 0.3630601\ttotal: 957ms\tremaining: 1.69s\n",
      "361:\tlearn: 0.3628806\ttotal: 959ms\tremaining: 1.69s\n",
      "362:\tlearn: 0.3627383\ttotal: 962ms\tremaining: 1.69s\n",
      "363:\tlearn: 0.3624490\ttotal: 964ms\tremaining: 1.69s\n",
      "364:\tlearn: 0.3621913\ttotal: 967ms\tremaining: 1.68s\n",
      "365:\tlearn: 0.3619107\ttotal: 969ms\tremaining: 1.68s\n",
      "366:\tlearn: 0.3616964\ttotal: 972ms\tremaining: 1.68s\n",
      "367:\tlearn: 0.3613880\ttotal: 974ms\tremaining: 1.67s\n",
      "368:\tlearn: 0.3611395\ttotal: 977ms\tremaining: 1.67s\n",
      "369:\tlearn: 0.3608820\ttotal: 981ms\tremaining: 1.67s\n",
      "370:\tlearn: 0.3607125\ttotal: 983ms\tremaining: 1.67s\n",
      "371:\tlearn: 0.3605063\ttotal: 986ms\tremaining: 1.66s\n",
      "372:\tlearn: 0.3601794\ttotal: 988ms\tremaining: 1.66s\n",
      "373:\tlearn: 0.3599429\ttotal: 991ms\tremaining: 1.66s\n",
      "374:\tlearn: 0.3596981\ttotal: 994ms\tremaining: 1.66s\n",
      "375:\tlearn: 0.3595009\ttotal: 996ms\tremaining: 1.65s\n",
      "376:\tlearn: 0.3593673\ttotal: 999ms\tremaining: 1.65s\n",
      "377:\tlearn: 0.3591876\ttotal: 1s\tremaining: 1.65s\n",
      "378:\tlearn: 0.3587983\ttotal: 1s\tremaining: 1.64s\n",
      "379:\tlearn: 0.3585377\ttotal: 1.01s\tremaining: 1.64s\n",
      "380:\tlearn: 0.3582665\ttotal: 1.01s\tremaining: 1.64s\n",
      "381:\tlearn: 0.3580974\ttotal: 1.01s\tremaining: 1.64s\n",
      "382:\tlearn: 0.3578809\ttotal: 1.01s\tremaining: 1.63s\n",
      "383:\tlearn: 0.3575812\ttotal: 1.02s\tremaining: 1.63s\n",
      "384:\tlearn: 0.3573614\ttotal: 1.02s\tremaining: 1.63s\n",
      "385:\tlearn: 0.3571495\ttotal: 1.02s\tremaining: 1.62s\n",
      "386:\tlearn: 0.3569655\ttotal: 1.02s\tremaining: 1.62s\n",
      "387:\tlearn: 0.3568151\ttotal: 1.03s\tremaining: 1.62s\n",
      "388:\tlearn: 0.3566331\ttotal: 1.03s\tremaining: 1.61s\n",
      "389:\tlearn: 0.3563348\ttotal: 1.03s\tremaining: 1.61s\n",
      "390:\tlearn: 0.3561404\ttotal: 1.03s\tremaining: 1.61s\n",
      "391:\tlearn: 0.3559282\ttotal: 1.03s\tremaining: 1.61s\n",
      "392:\tlearn: 0.3556501\ttotal: 1.04s\tremaining: 1.6s\n",
      "393:\tlearn: 0.3554848\ttotal: 1.04s\tremaining: 1.6s\n",
      "394:\tlearn: 0.3552434\ttotal: 1.04s\tremaining: 1.6s\n",
      "395:\tlearn: 0.3549848\ttotal: 1.04s\tremaining: 1.59s\n",
      "396:\tlearn: 0.3549832\ttotal: 1.05s\tremaining: 1.59s\n",
      "397:\tlearn: 0.3548834\ttotal: 1.05s\tremaining: 1.59s\n",
      "398:\tlearn: 0.3547018\ttotal: 1.05s\tremaining: 1.58s\n",
      "399:\tlearn: 0.3545761\ttotal: 1.05s\tremaining: 1.58s\n",
      "400:\tlearn: 0.3543056\ttotal: 1.06s\tremaining: 1.58s\n",
      "401:\tlearn: 0.3540159\ttotal: 1.06s\tremaining: 1.57s\n",
      "402:\tlearn: 0.3535909\ttotal: 1.06s\tremaining: 1.57s\n",
      "403:\tlearn: 0.3534257\ttotal: 1.06s\tremaining: 1.57s\n",
      "404:\tlearn: 0.3531894\ttotal: 1.06s\tremaining: 1.56s\n",
      "405:\tlearn: 0.3529934\ttotal: 1.07s\tremaining: 1.56s\n",
      "406:\tlearn: 0.3527692\ttotal: 1.07s\tremaining: 1.56s\n",
      "407:\tlearn: 0.3525870\ttotal: 1.07s\tremaining: 1.56s\n",
      "408:\tlearn: 0.3523778\ttotal: 1.07s\tremaining: 1.55s\n",
      "409:\tlearn: 0.3520338\ttotal: 1.08s\tremaining: 1.55s\n",
      "410:\tlearn: 0.3519386\ttotal: 1.08s\tremaining: 1.55s\n",
      "411:\tlearn: 0.3518118\ttotal: 1.08s\tremaining: 1.55s\n",
      "412:\tlearn: 0.3517020\ttotal: 1.09s\tremaining: 1.54s\n",
      "413:\tlearn: 0.3513951\ttotal: 1.09s\tremaining: 1.54s\n",
      "414:\tlearn: 0.3511115\ttotal: 1.09s\tremaining: 1.54s\n",
      "415:\tlearn: 0.3509452\ttotal: 1.09s\tremaining: 1.54s\n",
      "416:\tlearn: 0.3507924\ttotal: 1.1s\tremaining: 1.53s\n",
      "417:\tlearn: 0.3505947\ttotal: 1.1s\tremaining: 1.53s\n",
      "418:\tlearn: 0.3503048\ttotal: 1.1s\tremaining: 1.53s\n",
      "419:\tlearn: 0.3499543\ttotal: 1.1s\tremaining: 1.52s\n",
      "420:\tlearn: 0.3496674\ttotal: 1.11s\tremaining: 1.52s\n",
      "421:\tlearn: 0.3494933\ttotal: 1.11s\tremaining: 1.52s\n",
      "422:\tlearn: 0.3493425\ttotal: 1.11s\tremaining: 1.52s\n",
      "423:\tlearn: 0.3492608\ttotal: 1.11s\tremaining: 1.51s\n",
      "424:\tlearn: 0.3490296\ttotal: 1.12s\tremaining: 1.51s\n",
      "425:\tlearn: 0.3488329\ttotal: 1.12s\tremaining: 1.51s\n",
      "426:\tlearn: 0.3488323\ttotal: 1.12s\tremaining: 1.5s\n",
      "427:\tlearn: 0.3486001\ttotal: 1.12s\tremaining: 1.5s\n",
      "428:\tlearn: 0.3483593\ttotal: 1.12s\tremaining: 1.5s\n",
      "429:\tlearn: 0.3480572\ttotal: 1.13s\tremaining: 1.49s\n",
      "430:\tlearn: 0.3479232\ttotal: 1.13s\tremaining: 1.49s\n",
      "431:\tlearn: 0.3476533\ttotal: 1.13s\tremaining: 1.49s\n",
      "432:\tlearn: 0.3474568\ttotal: 1.13s\tremaining: 1.48s\n",
      "433:\tlearn: 0.3472000\ttotal: 1.14s\tremaining: 1.48s\n",
      "434:\tlearn: 0.3470856\ttotal: 1.14s\tremaining: 1.48s\n",
      "435:\tlearn: 0.3469477\ttotal: 1.14s\tremaining: 1.48s\n",
      "436:\tlearn: 0.3467879\ttotal: 1.14s\tremaining: 1.47s\n",
      "437:\tlearn: 0.3465654\ttotal: 1.15s\tremaining: 1.47s\n",
      "438:\tlearn: 0.3463854\ttotal: 1.15s\tremaining: 1.47s\n",
      "439:\tlearn: 0.3460457\ttotal: 1.15s\tremaining: 1.47s\n",
      "440:\tlearn: 0.3457925\ttotal: 1.15s\tremaining: 1.46s\n",
      "441:\tlearn: 0.3455107\ttotal: 1.16s\tremaining: 1.46s\n",
      "442:\tlearn: 0.3452563\ttotal: 1.16s\tremaining: 1.46s\n",
      "443:\tlearn: 0.3450810\ttotal: 1.16s\tremaining: 1.45s\n",
      "444:\tlearn: 0.3447774\ttotal: 1.16s\tremaining: 1.45s\n",
      "445:\tlearn: 0.3446777\ttotal: 1.17s\tremaining: 1.45s\n",
      "446:\tlearn: 0.3444766\ttotal: 1.17s\tremaining: 1.45s\n",
      "447:\tlearn: 0.3442933\ttotal: 1.17s\tremaining: 1.44s\n",
      "448:\tlearn: 0.3440468\ttotal: 1.17s\tremaining: 1.44s\n",
      "449:\tlearn: 0.3438733\ttotal: 1.18s\tremaining: 1.44s\n",
      "450:\tlearn: 0.3437642\ttotal: 1.18s\tremaining: 1.43s\n",
      "451:\tlearn: 0.3435325\ttotal: 1.18s\tremaining: 1.43s\n",
      "452:\tlearn: 0.3432081\ttotal: 1.18s\tremaining: 1.43s\n",
      "453:\tlearn: 0.3430469\ttotal: 1.19s\tremaining: 1.43s\n",
      "454:\tlearn: 0.3427842\ttotal: 1.19s\tremaining: 1.42s\n",
      "455:\tlearn: 0.3425323\ttotal: 1.19s\tremaining: 1.42s\n",
      "456:\tlearn: 0.3424194\ttotal: 1.19s\tremaining: 1.42s\n",
      "457:\tlearn: 0.3421171\ttotal: 1.2s\tremaining: 1.42s\n",
      "458:\tlearn: 0.3418848\ttotal: 1.2s\tremaining: 1.41s\n",
      "459:\tlearn: 0.3417550\ttotal: 1.2s\tremaining: 1.41s\n",
      "460:\tlearn: 0.3415473\ttotal: 1.2s\tremaining: 1.41s\n",
      "461:\tlearn: 0.3413923\ttotal: 1.21s\tremaining: 1.41s\n",
      "462:\tlearn: 0.3411964\ttotal: 1.21s\tremaining: 1.4s\n",
      "463:\tlearn: 0.3409315\ttotal: 1.21s\tremaining: 1.4s\n",
      "464:\tlearn: 0.3407965\ttotal: 1.21s\tremaining: 1.4s\n",
      "465:\tlearn: 0.3405531\ttotal: 1.22s\tremaining: 1.4s\n",
      "466:\tlearn: 0.3403575\ttotal: 1.22s\tremaining: 1.39s\n",
      "467:\tlearn: 0.3400996\ttotal: 1.22s\tremaining: 1.39s\n",
      "468:\tlearn: 0.3398920\ttotal: 1.23s\tremaining: 1.39s\n",
      "469:\tlearn: 0.3396729\ttotal: 1.23s\tremaining: 1.38s\n",
      "470:\tlearn: 0.3395281\ttotal: 1.23s\tremaining: 1.38s\n",
      "471:\tlearn: 0.3394103\ttotal: 1.23s\tremaining: 1.38s\n",
      "472:\tlearn: 0.3390052\ttotal: 1.24s\tremaining: 1.38s\n",
      "473:\tlearn: 0.3388779\ttotal: 1.24s\tremaining: 1.37s\n",
      "474:\tlearn: 0.3386245\ttotal: 1.24s\tremaining: 1.37s\n",
      "475:\tlearn: 0.3383519\ttotal: 1.24s\tremaining: 1.37s\n",
      "476:\tlearn: 0.3380558\ttotal: 1.25s\tremaining: 1.36s\n",
      "477:\tlearn: 0.3378553\ttotal: 1.25s\tremaining: 1.36s\n",
      "478:\tlearn: 0.3376912\ttotal: 1.25s\tremaining: 1.36s\n",
      "479:\tlearn: 0.3375051\ttotal: 1.25s\tremaining: 1.36s\n",
      "480:\tlearn: 0.3372419\ttotal: 1.25s\tremaining: 1.35s\n",
      "481:\tlearn: 0.3369852\ttotal: 1.26s\tremaining: 1.35s\n",
      "482:\tlearn: 0.3366911\ttotal: 1.26s\tremaining: 1.35s\n",
      "483:\tlearn: 0.3364319\ttotal: 1.26s\tremaining: 1.35s\n",
      "484:\tlearn: 0.3362034\ttotal: 1.27s\tremaining: 1.34s\n",
      "485:\tlearn: 0.3361036\ttotal: 1.27s\tremaining: 1.34s\n",
      "486:\tlearn: 0.3358463\ttotal: 1.27s\tremaining: 1.34s\n",
      "487:\tlearn: 0.3356494\ttotal: 1.27s\tremaining: 1.34s\n",
      "488:\tlearn: 0.3353988\ttotal: 1.28s\tremaining: 1.33s\n",
      "489:\tlearn: 0.3351686\ttotal: 1.28s\tremaining: 1.33s\n",
      "490:\tlearn: 0.3349702\ttotal: 1.28s\tremaining: 1.33s\n",
      "491:\tlearn: 0.3348610\ttotal: 1.28s\tremaining: 1.32s\n",
      "492:\tlearn: 0.3347219\ttotal: 1.28s\tremaining: 1.32s\n",
      "493:\tlearn: 0.3345305\ttotal: 1.29s\tremaining: 1.32s\n",
      "494:\tlearn: 0.3342255\ttotal: 1.29s\tremaining: 1.32s\n",
      "495:\tlearn: 0.3340907\ttotal: 1.29s\tremaining: 1.31s\n",
      "496:\tlearn: 0.3337412\ttotal: 1.3s\tremaining: 1.31s\n",
      "497:\tlearn: 0.3336151\ttotal: 1.3s\tremaining: 1.31s\n",
      "498:\tlearn: 0.3334101\ttotal: 1.3s\tremaining: 1.31s\n",
      "499:\tlearn: 0.3331662\ttotal: 1.3s\tremaining: 1.3s\n",
      "500:\tlearn: 0.3329904\ttotal: 1.31s\tremaining: 1.3s\n",
      "501:\tlearn: 0.3327353\ttotal: 1.31s\tremaining: 1.3s\n",
      "502:\tlearn: 0.3325830\ttotal: 1.31s\tremaining: 1.3s\n",
      "503:\tlearn: 0.3324011\ttotal: 1.31s\tremaining: 1.29s\n",
      "504:\tlearn: 0.3320828\ttotal: 1.32s\tremaining: 1.29s\n",
      "505:\tlearn: 0.3318710\ttotal: 1.32s\tremaining: 1.29s\n",
      "506:\tlearn: 0.3317398\ttotal: 1.32s\tremaining: 1.29s\n",
      "507:\tlearn: 0.3314706\ttotal: 1.33s\tremaining: 1.28s\n",
      "508:\tlearn: 0.3313225\ttotal: 1.33s\tremaining: 1.28s\n",
      "509:\tlearn: 0.3311024\ttotal: 1.33s\tremaining: 1.28s\n",
      "510:\tlearn: 0.3309734\ttotal: 1.33s\tremaining: 1.28s\n",
      "511:\tlearn: 0.3308519\ttotal: 1.34s\tremaining: 1.27s\n",
      "512:\tlearn: 0.3306909\ttotal: 1.34s\tremaining: 1.27s\n",
      "513:\tlearn: 0.3304168\ttotal: 1.34s\tremaining: 1.27s\n",
      "514:\tlearn: 0.3302460\ttotal: 1.34s\tremaining: 1.27s\n",
      "515:\tlearn: 0.3300801\ttotal: 1.35s\tremaining: 1.26s\n",
      "516:\tlearn: 0.3298447\ttotal: 1.35s\tremaining: 1.26s\n",
      "517:\tlearn: 0.3296826\ttotal: 1.35s\tremaining: 1.26s\n",
      "518:\tlearn: 0.3294471\ttotal: 1.36s\tremaining: 1.26s\n",
      "519:\tlearn: 0.3292192\ttotal: 1.36s\tremaining: 1.25s\n",
      "520:\tlearn: 0.3291101\ttotal: 1.36s\tremaining: 1.25s\n",
      "521:\tlearn: 0.3288458\ttotal: 1.36s\tremaining: 1.25s\n",
      "522:\tlearn: 0.3286402\ttotal: 1.37s\tremaining: 1.25s\n",
      "523:\tlearn: 0.3284717\ttotal: 1.37s\tremaining: 1.24s\n",
      "524:\tlearn: 0.3283548\ttotal: 1.37s\tremaining: 1.24s\n",
      "525:\tlearn: 0.3280857\ttotal: 1.38s\tremaining: 1.24s\n",
      "526:\tlearn: 0.3278965\ttotal: 1.38s\tremaining: 1.24s\n",
      "527:\tlearn: 0.3275947\ttotal: 1.38s\tremaining: 1.24s\n",
      "528:\tlearn: 0.3274841\ttotal: 1.39s\tremaining: 1.23s\n",
      "529:\tlearn: 0.3272248\ttotal: 1.39s\tremaining: 1.23s\n",
      "530:\tlearn: 0.3270832\ttotal: 1.39s\tremaining: 1.23s\n",
      "531:\tlearn: 0.3269198\ttotal: 1.4s\tremaining: 1.23s\n",
      "532:\tlearn: 0.3267407\ttotal: 1.4s\tremaining: 1.23s\n",
      "533:\tlearn: 0.3264672\ttotal: 1.4s\tremaining: 1.22s\n",
      "534:\tlearn: 0.3263302\ttotal: 1.41s\tremaining: 1.22s\n",
      "535:\tlearn: 0.3260569\ttotal: 1.41s\tremaining: 1.22s\n",
      "536:\tlearn: 0.3259423\ttotal: 1.41s\tremaining: 1.22s\n",
      "537:\tlearn: 0.3258127\ttotal: 1.42s\tremaining: 1.22s\n",
      "538:\tlearn: 0.3255723\ttotal: 1.42s\tremaining: 1.21s\n",
      "539:\tlearn: 0.3254443\ttotal: 1.42s\tremaining: 1.21s\n",
      "540:\tlearn: 0.3252413\ttotal: 1.43s\tremaining: 1.21s\n",
      "541:\tlearn: 0.3250616\ttotal: 1.43s\tremaining: 1.21s\n",
      "542:\tlearn: 0.3249825\ttotal: 1.43s\tremaining: 1.21s\n",
      "543:\tlearn: 0.3247301\ttotal: 1.44s\tremaining: 1.2s\n",
      "544:\tlearn: 0.3246268\ttotal: 1.44s\tremaining: 1.2s\n",
      "545:\tlearn: 0.3244717\ttotal: 1.44s\tremaining: 1.2s\n",
      "546:\tlearn: 0.3240730\ttotal: 1.44s\tremaining: 1.2s\n",
      "547:\tlearn: 0.3239804\ttotal: 1.45s\tremaining: 1.19s\n",
      "548:\tlearn: 0.3236653\ttotal: 1.45s\tremaining: 1.19s\n",
      "549:\tlearn: 0.3234798\ttotal: 1.45s\tremaining: 1.19s\n",
      "550:\tlearn: 0.3232830\ttotal: 1.45s\tremaining: 1.19s\n",
      "551:\tlearn: 0.3230042\ttotal: 1.46s\tremaining: 1.18s\n",
      "552:\tlearn: 0.3227242\ttotal: 1.46s\tremaining: 1.18s\n",
      "553:\tlearn: 0.3225342\ttotal: 1.47s\tremaining: 1.18s\n",
      "554:\tlearn: 0.3223589\ttotal: 1.47s\tremaining: 1.18s\n",
      "555:\tlearn: 0.3220891\ttotal: 1.47s\tremaining: 1.18s\n",
      "556:\tlearn: 0.3219850\ttotal: 1.48s\tremaining: 1.17s\n",
      "557:\tlearn: 0.3215984\ttotal: 1.48s\tremaining: 1.17s\n",
      "558:\tlearn: 0.3213609\ttotal: 1.48s\tremaining: 1.17s\n",
      "559:\tlearn: 0.3211548\ttotal: 1.49s\tremaining: 1.17s\n",
      "560:\tlearn: 0.3209304\ttotal: 1.49s\tremaining: 1.17s\n",
      "561:\tlearn: 0.3206717\ttotal: 1.5s\tremaining: 1.17s\n",
      "562:\tlearn: 0.3205580\ttotal: 1.5s\tremaining: 1.16s\n",
      "563:\tlearn: 0.3202849\ttotal: 1.5s\tremaining: 1.16s\n",
      "564:\tlearn: 0.3201889\ttotal: 1.5s\tremaining: 1.16s\n",
      "565:\tlearn: 0.3200470\ttotal: 1.51s\tremaining: 1.16s\n",
      "566:\tlearn: 0.3199609\ttotal: 1.51s\tremaining: 1.15s\n",
      "567:\tlearn: 0.3198453\ttotal: 1.51s\tremaining: 1.15s\n",
      "568:\tlearn: 0.3196440\ttotal: 1.51s\tremaining: 1.15s\n",
      "569:\tlearn: 0.3194086\ttotal: 1.52s\tremaining: 1.15s\n",
      "570:\tlearn: 0.3192135\ttotal: 1.52s\tremaining: 1.14s\n",
      "571:\tlearn: 0.3190863\ttotal: 1.52s\tremaining: 1.14s\n",
      "572:\tlearn: 0.3188766\ttotal: 1.53s\tremaining: 1.14s\n",
      "573:\tlearn: 0.3186121\ttotal: 1.53s\tremaining: 1.13s\n",
      "574:\tlearn: 0.3183448\ttotal: 1.53s\tremaining: 1.13s\n",
      "575:\tlearn: 0.3181320\ttotal: 1.53s\tremaining: 1.13s\n",
      "576:\tlearn: 0.3179030\ttotal: 1.54s\tremaining: 1.13s\n",
      "577:\tlearn: 0.3177439\ttotal: 1.54s\tremaining: 1.12s\n",
      "578:\tlearn: 0.3175745\ttotal: 1.54s\tremaining: 1.12s\n",
      "579:\tlearn: 0.3173575\ttotal: 1.55s\tremaining: 1.12s\n",
      "580:\tlearn: 0.3170415\ttotal: 1.55s\tremaining: 1.12s\n",
      "581:\tlearn: 0.3168622\ttotal: 1.55s\tremaining: 1.11s\n",
      "582:\tlearn: 0.3167687\ttotal: 1.55s\tremaining: 1.11s\n",
      "583:\tlearn: 0.3165260\ttotal: 1.56s\tremaining: 1.11s\n",
      "584:\tlearn: 0.3163437\ttotal: 1.56s\tremaining: 1.11s\n",
      "585:\tlearn: 0.3160528\ttotal: 1.56s\tremaining: 1.1s\n",
      "586:\tlearn: 0.3159691\ttotal: 1.57s\tremaining: 1.1s\n",
      "587:\tlearn: 0.3158368\ttotal: 1.57s\tremaining: 1.1s\n",
      "588:\tlearn: 0.3157292\ttotal: 1.57s\tremaining: 1.1s\n",
      "589:\tlearn: 0.3155450\ttotal: 1.57s\tremaining: 1.09s\n",
      "590:\tlearn: 0.3153993\ttotal: 1.58s\tremaining: 1.09s\n",
      "591:\tlearn: 0.3152860\ttotal: 1.58s\tremaining: 1.09s\n",
      "592:\tlearn: 0.3151487\ttotal: 1.58s\tremaining: 1.09s\n",
      "593:\tlearn: 0.3149737\ttotal: 1.58s\tremaining: 1.08s\n",
      "594:\tlearn: 0.3147053\ttotal: 1.59s\tremaining: 1.08s\n",
      "595:\tlearn: 0.3146241\ttotal: 1.59s\tremaining: 1.08s\n",
      "596:\tlearn: 0.3145105\ttotal: 1.59s\tremaining: 1.07s\n",
      "597:\tlearn: 0.3143562\ttotal: 1.6s\tremaining: 1.07s\n",
      "598:\tlearn: 0.3142564\ttotal: 1.6s\tremaining: 1.07s\n",
      "599:\tlearn: 0.3141102\ttotal: 1.6s\tremaining: 1.07s\n",
      "600:\tlearn: 0.3139752\ttotal: 1.6s\tremaining: 1.06s\n",
      "601:\tlearn: 0.3137545\ttotal: 1.61s\tremaining: 1.06s\n",
      "602:\tlearn: 0.3135984\ttotal: 1.61s\tremaining: 1.06s\n",
      "603:\tlearn: 0.3135013\ttotal: 1.61s\tremaining: 1.06s\n",
      "604:\tlearn: 0.3132040\ttotal: 1.61s\tremaining: 1.05s\n",
      "605:\tlearn: 0.3130452\ttotal: 1.62s\tremaining: 1.05s\n",
      "606:\tlearn: 0.3129137\ttotal: 1.62s\tremaining: 1.05s\n",
      "607:\tlearn: 0.3127120\ttotal: 1.62s\tremaining: 1.05s\n",
      "608:\tlearn: 0.3125832\ttotal: 1.63s\tremaining: 1.04s\n",
      "609:\tlearn: 0.3124628\ttotal: 1.63s\tremaining: 1.04s\n",
      "610:\tlearn: 0.3123633\ttotal: 1.63s\tremaining: 1.04s\n",
      "611:\tlearn: 0.3122231\ttotal: 1.63s\tremaining: 1.03s\n",
      "612:\tlearn: 0.3121532\ttotal: 1.64s\tremaining: 1.03s\n",
      "613:\tlearn: 0.3119044\ttotal: 1.64s\tremaining: 1.03s\n",
      "614:\tlearn: 0.3116447\ttotal: 1.64s\tremaining: 1.03s\n",
      "615:\tlearn: 0.3114624\ttotal: 1.64s\tremaining: 1.02s\n",
      "616:\tlearn: 0.3113390\ttotal: 1.65s\tremaining: 1.02s\n",
      "617:\tlearn: 0.3111722\ttotal: 1.65s\tremaining: 1.02s\n",
      "618:\tlearn: 0.3110628\ttotal: 1.65s\tremaining: 1.02s\n",
      "619:\tlearn: 0.3107483\ttotal: 1.65s\tremaining: 1.01s\n",
      "620:\tlearn: 0.3105116\ttotal: 1.66s\tremaining: 1.01s\n",
      "621:\tlearn: 0.3103555\ttotal: 1.66s\tremaining: 1.01s\n",
      "622:\tlearn: 0.3099847\ttotal: 1.66s\tremaining: 1.01s\n",
      "623:\tlearn: 0.3098815\ttotal: 1.67s\tremaining: 1s\n",
      "624:\tlearn: 0.3096560\ttotal: 1.67s\tremaining: 1s\n",
      "625:\tlearn: 0.3094957\ttotal: 1.67s\tremaining: 999ms\n",
      "626:\tlearn: 0.3093720\ttotal: 1.67s\tremaining: 996ms\n",
      "627:\tlearn: 0.3092634\ttotal: 1.68s\tremaining: 993ms\n",
      "628:\tlearn: 0.3090499\ttotal: 1.68s\tremaining: 991ms\n",
      "629:\tlearn: 0.3088122\ttotal: 1.68s\tremaining: 988ms\n",
      "630:\tlearn: 0.3087099\ttotal: 1.69s\tremaining: 985ms\n",
      "631:\tlearn: 0.3085397\ttotal: 1.69s\tremaining: 983ms\n",
      "632:\tlearn: 0.3082754\ttotal: 1.69s\tremaining: 980ms\n",
      "633:\tlearn: 0.3081281\ttotal: 1.69s\tremaining: 977ms\n",
      "634:\tlearn: 0.3080084\ttotal: 1.7s\tremaining: 975ms\n",
      "635:\tlearn: 0.3078677\ttotal: 1.7s\tremaining: 972ms\n",
      "636:\tlearn: 0.3076054\ttotal: 1.7s\tremaining: 969ms\n",
      "637:\tlearn: 0.3074541\ttotal: 1.7s\tremaining: 967ms\n",
      "638:\tlearn: 0.3072673\ttotal: 1.71s\tremaining: 964ms\n",
      "639:\tlearn: 0.3071270\ttotal: 1.71s\tremaining: 961ms\n",
      "640:\tlearn: 0.3069138\ttotal: 1.71s\tremaining: 959ms\n",
      "641:\tlearn: 0.3065823\ttotal: 1.71s\tremaining: 956ms\n",
      "642:\tlearn: 0.3064444\ttotal: 1.72s\tremaining: 953ms\n",
      "643:\tlearn: 0.3063328\ttotal: 1.72s\tremaining: 951ms\n",
      "644:\tlearn: 0.3061583\ttotal: 1.72s\tremaining: 948ms\n",
      "645:\tlearn: 0.3060286\ttotal: 1.72s\tremaining: 945ms\n",
      "646:\tlearn: 0.3058071\ttotal: 1.73s\tremaining: 943ms\n",
      "647:\tlearn: 0.3056242\ttotal: 1.73s\tremaining: 940ms\n",
      "648:\tlearn: 0.3055009\ttotal: 1.73s\tremaining: 937ms\n",
      "649:\tlearn: 0.3053522\ttotal: 1.74s\tremaining: 935ms\n",
      "650:\tlearn: 0.3051324\ttotal: 1.74s\tremaining: 932ms\n",
      "651:\tlearn: 0.3048041\ttotal: 1.74s\tremaining: 929ms\n",
      "652:\tlearn: 0.3046893\ttotal: 1.74s\tremaining: 926ms\n",
      "653:\tlearn: 0.3044357\ttotal: 1.75s\tremaining: 924ms\n",
      "654:\tlearn: 0.3043148\ttotal: 1.75s\tremaining: 921ms\n",
      "655:\tlearn: 0.3040541\ttotal: 1.75s\tremaining: 918ms\n",
      "656:\tlearn: 0.3039201\ttotal: 1.75s\tremaining: 916ms\n",
      "657:\tlearn: 0.3038476\ttotal: 1.76s\tremaining: 913ms\n",
      "658:\tlearn: 0.3035949\ttotal: 1.76s\tremaining: 910ms\n",
      "659:\tlearn: 0.3033702\ttotal: 1.76s\tremaining: 908ms\n",
      "660:\tlearn: 0.3032863\ttotal: 1.76s\tremaining: 905ms\n",
      "661:\tlearn: 0.3031147\ttotal: 1.77s\tremaining: 902ms\n",
      "662:\tlearn: 0.3029683\ttotal: 1.77s\tremaining: 900ms\n",
      "663:\tlearn: 0.3026563\ttotal: 1.77s\tremaining: 897ms\n",
      "664:\tlearn: 0.3025510\ttotal: 1.77s\tremaining: 894ms\n",
      "665:\tlearn: 0.3023884\ttotal: 1.78s\tremaining: 892ms\n",
      "666:\tlearn: 0.3021463\ttotal: 1.78s\tremaining: 889ms\n",
      "667:\tlearn: 0.3019631\ttotal: 1.78s\tremaining: 886ms\n",
      "668:\tlearn: 0.3017923\ttotal: 1.78s\tremaining: 883ms\n",
      "669:\tlearn: 0.3015214\ttotal: 1.79s\tremaining: 881ms\n",
      "670:\tlearn: 0.3012478\ttotal: 1.79s\tremaining: 878ms\n",
      "671:\tlearn: 0.3010855\ttotal: 1.79s\tremaining: 875ms\n",
      "672:\tlearn: 0.3009681\ttotal: 1.8s\tremaining: 873ms\n",
      "673:\tlearn: 0.3008235\ttotal: 1.8s\tremaining: 870ms\n",
      "674:\tlearn: 0.3007443\ttotal: 1.8s\tremaining: 867ms\n",
      "675:\tlearn: 0.3006148\ttotal: 1.8s\tremaining: 865ms\n",
      "676:\tlearn: 0.3004821\ttotal: 1.81s\tremaining: 862ms\n",
      "677:\tlearn: 0.3002524\ttotal: 1.81s\tremaining: 859ms\n",
      "678:\tlearn: 0.3000372\ttotal: 1.81s\tremaining: 857ms\n",
      "679:\tlearn: 0.2998314\ttotal: 1.81s\tremaining: 854ms\n",
      "680:\tlearn: 0.2995977\ttotal: 1.82s\tremaining: 851ms\n",
      "681:\tlearn: 0.2994593\ttotal: 1.82s\tremaining: 849ms\n",
      "682:\tlearn: 0.2993479\ttotal: 1.82s\tremaining: 846ms\n",
      "683:\tlearn: 0.2992260\ttotal: 1.82s\tremaining: 843ms\n",
      "684:\tlearn: 0.2991294\ttotal: 1.83s\tremaining: 840ms\n",
      "685:\tlearn: 0.2990119\ttotal: 1.83s\tremaining: 838ms\n",
      "686:\tlearn: 0.2989212\ttotal: 1.83s\tremaining: 835ms\n",
      "687:\tlearn: 0.2987832\ttotal: 1.83s\tremaining: 832ms\n",
      "688:\tlearn: 0.2986728\ttotal: 1.84s\tremaining: 829ms\n",
      "689:\tlearn: 0.2985209\ttotal: 1.84s\tremaining: 827ms\n",
      "690:\tlearn: 0.2983722\ttotal: 1.84s\tremaining: 824ms\n",
      "691:\tlearn: 0.2981401\ttotal: 1.84s\tremaining: 821ms\n",
      "692:\tlearn: 0.2979225\ttotal: 1.85s\tremaining: 819ms\n",
      "693:\tlearn: 0.2978037\ttotal: 1.85s\tremaining: 816ms\n",
      "694:\tlearn: 0.2977202\ttotal: 1.85s\tremaining: 813ms\n",
      "695:\tlearn: 0.2975500\ttotal: 1.85s\tremaining: 810ms\n",
      "696:\tlearn: 0.2972662\ttotal: 1.86s\tremaining: 808ms\n",
      "697:\tlearn: 0.2970280\ttotal: 1.86s\tremaining: 805ms\n",
      "698:\tlearn: 0.2968116\ttotal: 1.86s\tremaining: 802ms\n",
      "699:\tlearn: 0.2965658\ttotal: 1.86s\tremaining: 800ms\n",
      "700:\tlearn: 0.2962419\ttotal: 1.87s\tremaining: 797ms\n",
      "701:\tlearn: 0.2960524\ttotal: 1.87s\tremaining: 794ms\n",
      "702:\tlearn: 0.2959556\ttotal: 1.87s\tremaining: 791ms\n",
      "703:\tlearn: 0.2958262\ttotal: 1.88s\tremaining: 789ms\n",
      "704:\tlearn: 0.2957133\ttotal: 1.88s\tremaining: 786ms\n",
      "705:\tlearn: 0.2956310\ttotal: 1.88s\tremaining: 783ms\n",
      "706:\tlearn: 0.2955065\ttotal: 1.88s\tremaining: 780ms\n",
      "707:\tlearn: 0.2953905\ttotal: 1.89s\tremaining: 778ms\n",
      "708:\tlearn: 0.2952380\ttotal: 1.89s\tremaining: 775ms\n",
      "709:\tlearn: 0.2951774\ttotal: 1.89s\tremaining: 772ms\n",
      "710:\tlearn: 0.2949294\ttotal: 1.89s\tremaining: 769ms\n",
      "711:\tlearn: 0.2948349\ttotal: 1.9s\tremaining: 767ms\n",
      "712:\tlearn: 0.2946791\ttotal: 1.9s\tremaining: 764ms\n",
      "713:\tlearn: 0.2945227\ttotal: 1.9s\tremaining: 761ms\n",
      "714:\tlearn: 0.2942900\ttotal: 1.9s\tremaining: 758ms\n",
      "715:\tlearn: 0.2940780\ttotal: 1.91s\tremaining: 756ms\n",
      "716:\tlearn: 0.2939876\ttotal: 1.91s\tremaining: 753ms\n",
      "717:\tlearn: 0.2939155\ttotal: 1.91s\tremaining: 750ms\n",
      "718:\tlearn: 0.2937792\ttotal: 1.91s\tremaining: 747ms\n",
      "719:\tlearn: 0.2936946\ttotal: 1.91s\tremaining: 745ms\n",
      "720:\tlearn: 0.2935409\ttotal: 1.92s\tremaining: 742ms\n",
      "721:\tlearn: 0.2934708\ttotal: 1.92s\tremaining: 739ms\n",
      "722:\tlearn: 0.2933361\ttotal: 1.92s\tremaining: 736ms\n",
      "723:\tlearn: 0.2932111\ttotal: 1.92s\tremaining: 734ms\n",
      "724:\tlearn: 0.2929776\ttotal: 1.93s\tremaining: 731ms\n",
      "725:\tlearn: 0.2928173\ttotal: 1.93s\tremaining: 728ms\n",
      "726:\tlearn: 0.2926984\ttotal: 1.93s\tremaining: 726ms\n",
      "727:\tlearn: 0.2925325\ttotal: 1.94s\tremaining: 723ms\n",
      "728:\tlearn: 0.2924258\ttotal: 1.94s\tremaining: 720ms\n",
      "729:\tlearn: 0.2923020\ttotal: 1.94s\tremaining: 718ms\n",
      "730:\tlearn: 0.2921790\ttotal: 1.94s\tremaining: 715ms\n",
      "731:\tlearn: 0.2920871\ttotal: 1.95s\tremaining: 712ms\n",
      "732:\tlearn: 0.2918802\ttotal: 1.95s\tremaining: 709ms\n",
      "733:\tlearn: 0.2916841\ttotal: 1.95s\tremaining: 707ms\n",
      "734:\tlearn: 0.2915190\ttotal: 1.95s\tremaining: 704ms\n",
      "735:\tlearn: 0.2914303\ttotal: 1.96s\tremaining: 701ms\n",
      "736:\tlearn: 0.2913022\ttotal: 1.96s\tremaining: 699ms\n",
      "737:\tlearn: 0.2911441\ttotal: 1.96s\tremaining: 696ms\n",
      "738:\tlearn: 0.2908792\ttotal: 1.96s\tremaining: 693ms\n",
      "739:\tlearn: 0.2907415\ttotal: 1.97s\tremaining: 690ms\n",
      "740:\tlearn: 0.2905996\ttotal: 1.97s\tremaining: 688ms\n",
      "741:\tlearn: 0.2905050\ttotal: 1.97s\tremaining: 685ms\n",
      "742:\tlearn: 0.2904261\ttotal: 1.97s\tremaining: 682ms\n",
      "743:\tlearn: 0.2902993\ttotal: 1.97s\tremaining: 680ms\n",
      "744:\tlearn: 0.2901839\ttotal: 1.98s\tremaining: 677ms\n",
      "745:\tlearn: 0.2900338\ttotal: 1.98s\tremaining: 674ms\n",
      "746:\tlearn: 0.2898853\ttotal: 1.98s\tremaining: 671ms\n",
      "747:\tlearn: 0.2897914\ttotal: 1.98s\tremaining: 669ms\n",
      "748:\tlearn: 0.2896908\ttotal: 1.99s\tremaining: 666ms\n",
      "749:\tlearn: 0.2896145\ttotal: 1.99s\tremaining: 663ms\n",
      "750:\tlearn: 0.2894806\ttotal: 1.99s\tremaining: 661ms\n",
      "751:\tlearn: 0.2893533\ttotal: 1.99s\tremaining: 658ms\n",
      "752:\tlearn: 0.2892595\ttotal: 2s\tremaining: 655ms\n",
      "753:\tlearn: 0.2890927\ttotal: 2s\tremaining: 652ms\n",
      "754:\tlearn: 0.2889099\ttotal: 2s\tremaining: 650ms\n",
      "755:\tlearn: 0.2888169\ttotal: 2s\tremaining: 647ms\n",
      "756:\tlearn: 0.2886815\ttotal: 2.01s\tremaining: 644ms\n",
      "757:\tlearn: 0.2886314\ttotal: 2.01s\tremaining: 641ms\n",
      "758:\tlearn: 0.2885319\ttotal: 2.01s\tremaining: 639ms\n",
      "759:\tlearn: 0.2883122\ttotal: 2.01s\tremaining: 636ms\n",
      "760:\tlearn: 0.2882300\ttotal: 2.02s\tremaining: 633ms\n",
      "761:\tlearn: 0.2881160\ttotal: 2.02s\tremaining: 631ms\n",
      "762:\tlearn: 0.2878887\ttotal: 2.02s\tremaining: 629ms\n",
      "763:\tlearn: 0.2877723\ttotal: 2.03s\tremaining: 626ms\n",
      "764:\tlearn: 0.2877036\ttotal: 2.03s\tremaining: 624ms\n",
      "765:\tlearn: 0.2874907\ttotal: 2.03s\tremaining: 622ms\n",
      "766:\tlearn: 0.2873010\ttotal: 2.04s\tremaining: 619ms\n",
      "767:\tlearn: 0.2871684\ttotal: 2.04s\tremaining: 617ms\n",
      "768:\tlearn: 0.2871156\ttotal: 2.05s\tremaining: 615ms\n",
      "769:\tlearn: 0.2868285\ttotal: 2.05s\tremaining: 612ms\n",
      "770:\tlearn: 0.2867515\ttotal: 2.05s\tremaining: 610ms\n",
      "771:\tlearn: 0.2864899\ttotal: 2.06s\tremaining: 608ms\n",
      "772:\tlearn: 0.2863670\ttotal: 2.06s\tremaining: 605ms\n",
      "773:\tlearn: 0.2863064\ttotal: 2.06s\tremaining: 603ms\n",
      "774:\tlearn: 0.2860978\ttotal: 2.07s\tremaining: 601ms\n",
      "775:\tlearn: 0.2859840\ttotal: 2.07s\tremaining: 599ms\n",
      "776:\tlearn: 0.2857923\ttotal: 2.08s\tremaining: 596ms\n",
      "777:\tlearn: 0.2856377\ttotal: 2.08s\tremaining: 594ms\n",
      "778:\tlearn: 0.2853946\ttotal: 2.08s\tremaining: 592ms\n",
      "779:\tlearn: 0.2852244\ttotal: 2.09s\tremaining: 589ms\n",
      "780:\tlearn: 0.2849950\ttotal: 2.09s\tremaining: 587ms\n",
      "781:\tlearn: 0.2848101\ttotal: 2.1s\tremaining: 585ms\n",
      "782:\tlearn: 0.2847009\ttotal: 2.1s\tremaining: 582ms\n",
      "783:\tlearn: 0.2844511\ttotal: 2.1s\tremaining: 579ms\n",
      "784:\tlearn: 0.2843480\ttotal: 2.1s\tremaining: 577ms\n",
      "785:\tlearn: 0.2840911\ttotal: 2.11s\tremaining: 574ms\n",
      "786:\tlearn: 0.2840362\ttotal: 2.11s\tremaining: 571ms\n",
      "787:\tlearn: 0.2838456\ttotal: 2.11s\tremaining: 568ms\n",
      "788:\tlearn: 0.2837936\ttotal: 2.12s\tremaining: 566ms\n",
      "789:\tlearn: 0.2836761\ttotal: 2.12s\tremaining: 563ms\n",
      "790:\tlearn: 0.2835208\ttotal: 2.12s\tremaining: 560ms\n",
      "791:\tlearn: 0.2834682\ttotal: 2.12s\tremaining: 558ms\n",
      "792:\tlearn: 0.2832849\ttotal: 2.13s\tremaining: 555ms\n",
      "793:\tlearn: 0.2831460\ttotal: 2.13s\tremaining: 552ms\n",
      "794:\tlearn: 0.2829176\ttotal: 2.13s\tremaining: 549ms\n",
      "795:\tlearn: 0.2827826\ttotal: 2.13s\tremaining: 547ms\n",
      "796:\tlearn: 0.2826594\ttotal: 2.13s\tremaining: 544ms\n",
      "797:\tlearn: 0.2826101\ttotal: 2.14s\tremaining: 541ms\n",
      "798:\tlearn: 0.2824905\ttotal: 2.14s\tremaining: 538ms\n",
      "799:\tlearn: 0.2824378\ttotal: 2.14s\tremaining: 536ms\n",
      "800:\tlearn: 0.2822212\ttotal: 2.15s\tremaining: 533ms\n",
      "801:\tlearn: 0.2821254\ttotal: 2.15s\tremaining: 530ms\n",
      "802:\tlearn: 0.2819876\ttotal: 2.15s\tremaining: 528ms\n",
      "803:\tlearn: 0.2819619\ttotal: 2.15s\tremaining: 525ms\n",
      "804:\tlearn: 0.2818474\ttotal: 2.15s\tremaining: 522ms\n",
      "805:\tlearn: 0.2817287\ttotal: 2.16s\tremaining: 520ms\n",
      "806:\tlearn: 0.2815845\ttotal: 2.16s\tremaining: 517ms\n",
      "807:\tlearn: 0.2815423\ttotal: 2.16s\tremaining: 514ms\n",
      "808:\tlearn: 0.2814201\ttotal: 2.17s\tremaining: 512ms\n",
      "809:\tlearn: 0.2813669\ttotal: 2.17s\tremaining: 509ms\n",
      "810:\tlearn: 0.2812795\ttotal: 2.17s\tremaining: 506ms\n",
      "811:\tlearn: 0.2811940\ttotal: 2.17s\tremaining: 503ms\n",
      "812:\tlearn: 0.2811373\ttotal: 2.18s\tremaining: 501ms\n",
      "813:\tlearn: 0.2809938\ttotal: 2.18s\tremaining: 498ms\n",
      "814:\tlearn: 0.2809336\ttotal: 2.18s\tremaining: 495ms\n",
      "815:\tlearn: 0.2808841\ttotal: 2.18s\tremaining: 493ms\n",
      "816:\tlearn: 0.2807545\ttotal: 2.19s\tremaining: 490ms\n",
      "817:\tlearn: 0.2806355\ttotal: 2.19s\tremaining: 487ms\n",
      "818:\tlearn: 0.2804540\ttotal: 2.19s\tremaining: 485ms\n",
      "819:\tlearn: 0.2803147\ttotal: 2.19s\tremaining: 482ms\n",
      "820:\tlearn: 0.2801235\ttotal: 2.2s\tremaining: 479ms\n",
      "821:\tlearn: 0.2800245\ttotal: 2.2s\tremaining: 477ms\n",
      "822:\tlearn: 0.2798255\ttotal: 2.2s\tremaining: 474ms\n",
      "823:\tlearn: 0.2796071\ttotal: 2.21s\tremaining: 471ms\n",
      "824:\tlearn: 0.2794247\ttotal: 2.21s\tremaining: 468ms\n",
      "825:\tlearn: 0.2793022\ttotal: 2.21s\tremaining: 466ms\n",
      "826:\tlearn: 0.2791997\ttotal: 2.21s\tremaining: 463ms\n",
      "827:\tlearn: 0.2790344\ttotal: 2.22s\tremaining: 460ms\n",
      "828:\tlearn: 0.2788558\ttotal: 2.22s\tremaining: 458ms\n",
      "829:\tlearn: 0.2787838\ttotal: 2.22s\tremaining: 455ms\n",
      "830:\tlearn: 0.2786835\ttotal: 2.22s\tremaining: 452ms\n",
      "831:\tlearn: 0.2786456\ttotal: 2.23s\tremaining: 450ms\n",
      "832:\tlearn: 0.2785418\ttotal: 2.23s\tremaining: 447ms\n",
      "833:\tlearn: 0.2783787\ttotal: 2.23s\tremaining: 444ms\n",
      "834:\tlearn: 0.2783421\ttotal: 2.23s\tremaining: 442ms\n",
      "835:\tlearn: 0.2782729\ttotal: 2.24s\tremaining: 439ms\n",
      "836:\tlearn: 0.2781620\ttotal: 2.24s\tremaining: 436ms\n",
      "837:\tlearn: 0.2780487\ttotal: 2.24s\tremaining: 434ms\n",
      "838:\tlearn: 0.2779151\ttotal: 2.25s\tremaining: 431ms\n",
      "839:\tlearn: 0.2777276\ttotal: 2.25s\tremaining: 428ms\n",
      "840:\tlearn: 0.2774999\ttotal: 2.25s\tremaining: 426ms\n",
      "841:\tlearn: 0.2774082\ttotal: 2.25s\tremaining: 423ms\n",
      "842:\tlearn: 0.2773480\ttotal: 2.26s\tremaining: 420ms\n",
      "843:\tlearn: 0.2771791\ttotal: 2.26s\tremaining: 418ms\n",
      "844:\tlearn: 0.2771331\ttotal: 2.26s\tremaining: 415ms\n",
      "845:\tlearn: 0.2769813\ttotal: 2.26s\tremaining: 412ms\n",
      "846:\tlearn: 0.2768492\ttotal: 2.27s\tremaining: 409ms\n",
      "847:\tlearn: 0.2766814\ttotal: 2.27s\tremaining: 407ms\n",
      "848:\tlearn: 0.2765698\ttotal: 2.27s\tremaining: 404ms\n",
      "849:\tlearn: 0.2765222\ttotal: 2.27s\tremaining: 401ms\n",
      "850:\tlearn: 0.2764230\ttotal: 2.28s\tremaining: 399ms\n",
      "851:\tlearn: 0.2763724\ttotal: 2.28s\tremaining: 396ms\n",
      "852:\tlearn: 0.2762837\ttotal: 2.28s\tremaining: 393ms\n",
      "853:\tlearn: 0.2760915\ttotal: 2.28s\tremaining: 391ms\n",
      "854:\tlearn: 0.2760049\ttotal: 2.29s\tremaining: 388ms\n",
      "855:\tlearn: 0.2757869\ttotal: 2.29s\tremaining: 385ms\n",
      "856:\tlearn: 0.2757021\ttotal: 2.29s\tremaining: 382ms\n",
      "857:\tlearn: 0.2756001\ttotal: 2.29s\tremaining: 380ms\n",
      "858:\tlearn: 0.2754668\ttotal: 2.3s\tremaining: 377ms\n",
      "859:\tlearn: 0.2754058\ttotal: 2.3s\tremaining: 375ms\n",
      "860:\tlearn: 0.2752444\ttotal: 2.3s\tremaining: 372ms\n",
      "861:\tlearn: 0.2751309\ttotal: 2.31s\tremaining: 369ms\n",
      "862:\tlearn: 0.2750784\ttotal: 2.31s\tremaining: 367ms\n",
      "863:\tlearn: 0.2749515\ttotal: 2.31s\tremaining: 364ms\n",
      "864:\tlearn: 0.2747864\ttotal: 2.31s\tremaining: 361ms\n",
      "865:\tlearn: 0.2745638\ttotal: 2.32s\tremaining: 359ms\n",
      "866:\tlearn: 0.2743029\ttotal: 2.32s\tremaining: 356ms\n",
      "867:\tlearn: 0.2740730\ttotal: 2.32s\tremaining: 353ms\n",
      "868:\tlearn: 0.2740147\ttotal: 2.32s\tremaining: 350ms\n",
      "869:\tlearn: 0.2738796\ttotal: 2.33s\tremaining: 348ms\n",
      "870:\tlearn: 0.2738337\ttotal: 2.33s\tremaining: 345ms\n",
      "871:\tlearn: 0.2736231\ttotal: 2.33s\tremaining: 342ms\n",
      "872:\tlearn: 0.2734302\ttotal: 2.33s\tremaining: 340ms\n",
      "873:\tlearn: 0.2731964\ttotal: 2.34s\tremaining: 337ms\n",
      "874:\tlearn: 0.2731004\ttotal: 2.34s\tremaining: 334ms\n",
      "875:\tlearn: 0.2730289\ttotal: 2.34s\tremaining: 332ms\n",
      "876:\tlearn: 0.2728156\ttotal: 2.35s\tremaining: 329ms\n",
      "877:\tlearn: 0.2726114\ttotal: 2.35s\tremaining: 326ms\n",
      "878:\tlearn: 0.2724694\ttotal: 2.35s\tremaining: 324ms\n",
      "879:\tlearn: 0.2722615\ttotal: 2.35s\tremaining: 321ms\n",
      "880:\tlearn: 0.2721580\ttotal: 2.35s\tremaining: 318ms\n",
      "881:\tlearn: 0.2720521\ttotal: 2.36s\tremaining: 315ms\n",
      "882:\tlearn: 0.2719894\ttotal: 2.36s\tremaining: 313ms\n",
      "883:\tlearn: 0.2718623\ttotal: 2.36s\tremaining: 310ms\n",
      "884:\tlearn: 0.2717615\ttotal: 2.37s\tremaining: 307ms\n",
      "885:\tlearn: 0.2716303\ttotal: 2.37s\tremaining: 305ms\n",
      "886:\tlearn: 0.2714971\ttotal: 2.37s\tremaining: 302ms\n",
      "887:\tlearn: 0.2712948\ttotal: 2.37s\tremaining: 299ms\n",
      "888:\tlearn: 0.2711277\ttotal: 2.38s\tremaining: 297ms\n",
      "889:\tlearn: 0.2709662\ttotal: 2.38s\tremaining: 294ms\n",
      "890:\tlearn: 0.2709090\ttotal: 2.38s\tremaining: 291ms\n",
      "891:\tlearn: 0.2708006\ttotal: 2.38s\tremaining: 289ms\n",
      "892:\tlearn: 0.2707567\ttotal: 2.38s\tremaining: 286ms\n",
      "893:\tlearn: 0.2706928\ttotal: 2.39s\tremaining: 283ms\n",
      "894:\tlearn: 0.2704896\ttotal: 2.39s\tremaining: 281ms\n",
      "895:\tlearn: 0.2704059\ttotal: 2.4s\tremaining: 278ms\n",
      "896:\tlearn: 0.2703408\ttotal: 2.4s\tremaining: 276ms\n",
      "897:\tlearn: 0.2702315\ttotal: 2.4s\tremaining: 273ms\n",
      "898:\tlearn: 0.2700747\ttotal: 2.41s\tremaining: 270ms\n",
      "899:\tlearn: 0.2699017\ttotal: 2.41s\tremaining: 268ms\n",
      "900:\tlearn: 0.2697977\ttotal: 2.41s\tremaining: 265ms\n",
      "901:\tlearn: 0.2696913\ttotal: 2.42s\tremaining: 262ms\n",
      "902:\tlearn: 0.2695601\ttotal: 2.42s\tremaining: 260ms\n",
      "903:\tlearn: 0.2694788\ttotal: 2.42s\tremaining: 257ms\n",
      "904:\tlearn: 0.2693035\ttotal: 2.43s\tremaining: 255ms\n",
      "905:\tlearn: 0.2691920\ttotal: 2.43s\tremaining: 252ms\n",
      "906:\tlearn: 0.2690985\ttotal: 2.43s\tremaining: 250ms\n",
      "907:\tlearn: 0.2690429\ttotal: 2.44s\tremaining: 247ms\n",
      "908:\tlearn: 0.2689700\ttotal: 2.44s\tremaining: 244ms\n",
      "909:\tlearn: 0.2688155\ttotal: 2.44s\tremaining: 242ms\n",
      "910:\tlearn: 0.2687578\ttotal: 2.44s\tremaining: 239ms\n",
      "911:\tlearn: 0.2686613\ttotal: 2.45s\tremaining: 236ms\n",
      "912:\tlearn: 0.2684617\ttotal: 2.45s\tremaining: 234ms\n",
      "913:\tlearn: 0.2683693\ttotal: 2.45s\tremaining: 231ms\n",
      "914:\tlearn: 0.2682659\ttotal: 2.46s\tremaining: 228ms\n",
      "915:\tlearn: 0.2682065\ttotal: 2.46s\tremaining: 225ms\n",
      "916:\tlearn: 0.2681419\ttotal: 2.46s\tremaining: 223ms\n",
      "917:\tlearn: 0.2681090\ttotal: 2.46s\tremaining: 220ms\n",
      "918:\tlearn: 0.2679980\ttotal: 2.47s\tremaining: 217ms\n",
      "919:\tlearn: 0.2678266\ttotal: 2.47s\tremaining: 215ms\n",
      "920:\tlearn: 0.2676460\ttotal: 2.47s\tremaining: 212ms\n",
      "921:\tlearn: 0.2674799\ttotal: 2.47s\tremaining: 209ms\n",
      "922:\tlearn: 0.2673884\ttotal: 2.48s\tremaining: 207ms\n",
      "923:\tlearn: 0.2671566\ttotal: 2.48s\tremaining: 204ms\n",
      "924:\tlearn: 0.2670432\ttotal: 2.48s\tremaining: 201ms\n",
      "925:\tlearn: 0.2668814\ttotal: 2.48s\tremaining: 198ms\n",
      "926:\tlearn: 0.2666945\ttotal: 2.49s\tremaining: 196ms\n",
      "927:\tlearn: 0.2666009\ttotal: 2.49s\tremaining: 193ms\n",
      "928:\tlearn: 0.2664675\ttotal: 2.49s\tremaining: 190ms\n",
      "929:\tlearn: 0.2663764\ttotal: 2.49s\tremaining: 188ms\n",
      "930:\tlearn: 0.2661613\ttotal: 2.5s\tremaining: 185ms\n",
      "931:\tlearn: 0.2660580\ttotal: 2.5s\tremaining: 182ms\n",
      "932:\tlearn: 0.2658670\ttotal: 2.5s\tremaining: 180ms\n",
      "933:\tlearn: 0.2656763\ttotal: 2.5s\tremaining: 177ms\n",
      "934:\tlearn: 0.2655222\ttotal: 2.51s\tremaining: 174ms\n",
      "935:\tlearn: 0.2653981\ttotal: 2.51s\tremaining: 172ms\n",
      "936:\tlearn: 0.2652773\ttotal: 2.51s\tremaining: 169ms\n",
      "937:\tlearn: 0.2651231\ttotal: 2.51s\tremaining: 166ms\n",
      "938:\tlearn: 0.2650084\ttotal: 2.52s\tremaining: 164ms\n",
      "939:\tlearn: 0.2648225\ttotal: 2.52s\tremaining: 161ms\n",
      "940:\tlearn: 0.2647517\ttotal: 2.52s\tremaining: 158ms\n",
      "941:\tlearn: 0.2646574\ttotal: 2.52s\tremaining: 155ms\n",
      "942:\tlearn: 0.2645382\ttotal: 2.53s\tremaining: 153ms\n",
      "943:\tlearn: 0.2643654\ttotal: 2.53s\tremaining: 150ms\n",
      "944:\tlearn: 0.2642828\ttotal: 2.53s\tremaining: 147ms\n",
      "945:\tlearn: 0.2641652\ttotal: 2.53s\tremaining: 145ms\n",
      "946:\tlearn: 0.2639526\ttotal: 2.54s\tremaining: 142ms\n",
      "947:\tlearn: 0.2638407\ttotal: 2.54s\tremaining: 139ms\n",
      "948:\tlearn: 0.2636965\ttotal: 2.54s\tremaining: 137ms\n",
      "949:\tlearn: 0.2636043\ttotal: 2.54s\tremaining: 134ms\n",
      "950:\tlearn: 0.2634898\ttotal: 2.55s\tremaining: 131ms\n",
      "951:\tlearn: 0.2633755\ttotal: 2.55s\tremaining: 129ms\n",
      "952:\tlearn: 0.2633352\ttotal: 2.55s\tremaining: 126ms\n",
      "953:\tlearn: 0.2632236\ttotal: 2.55s\tremaining: 123ms\n",
      "954:\tlearn: 0.2631067\ttotal: 2.56s\tremaining: 120ms\n",
      "955:\tlearn: 0.2629674\ttotal: 2.56s\tremaining: 118ms\n",
      "956:\tlearn: 0.2627781\ttotal: 2.56s\tremaining: 115ms\n",
      "957:\tlearn: 0.2626619\ttotal: 2.56s\tremaining: 112ms\n",
      "958:\tlearn: 0.2626104\ttotal: 2.57s\tremaining: 110ms\n",
      "959:\tlearn: 0.2625721\ttotal: 2.57s\tremaining: 107ms\n",
      "960:\tlearn: 0.2625066\ttotal: 2.57s\tremaining: 104ms\n",
      "961:\tlearn: 0.2624365\ttotal: 2.58s\tremaining: 102ms\n",
      "962:\tlearn: 0.2623944\ttotal: 2.58s\tremaining: 99ms\n",
      "963:\tlearn: 0.2622714\ttotal: 2.58s\tremaining: 96.4ms\n",
      "964:\tlearn: 0.2622036\ttotal: 2.58s\tremaining: 93.7ms\n",
      "965:\tlearn: 0.2620621\ttotal: 2.58s\tremaining: 91ms\n",
      "966:\tlearn: 0.2620314\ttotal: 2.59s\tremaining: 88.3ms\n",
      "967:\tlearn: 0.2619774\ttotal: 2.59s\tremaining: 85.6ms\n",
      "968:\tlearn: 0.2617303\ttotal: 2.59s\tremaining: 82.9ms\n",
      "969:\tlearn: 0.2616216\ttotal: 2.6s\tremaining: 80.3ms\n",
      "970:\tlearn: 0.2614870\ttotal: 2.6s\tremaining: 77.6ms\n",
      "971:\tlearn: 0.2613172\ttotal: 2.6s\tremaining: 74.9ms\n",
      "972:\tlearn: 0.2612050\ttotal: 2.6s\tremaining: 72.2ms\n",
      "973:\tlearn: 0.2611494\ttotal: 2.6s\tremaining: 69.5ms\n",
      "974:\tlearn: 0.2610158\ttotal: 2.61s\tremaining: 66.9ms\n",
      "975:\tlearn: 0.2608463\ttotal: 2.61s\tremaining: 64.2ms\n",
      "976:\tlearn: 0.2607495\ttotal: 2.61s\tremaining: 61.5ms\n",
      "977:\tlearn: 0.2606522\ttotal: 2.61s\tremaining: 58.8ms\n",
      "978:\tlearn: 0.2604413\ttotal: 2.62s\tremaining: 56.1ms\n",
      "979:\tlearn: 0.2603229\ttotal: 2.62s\tremaining: 53.5ms\n",
      "980:\tlearn: 0.2602838\ttotal: 2.62s\tremaining: 50.8ms\n",
      "981:\tlearn: 0.2602361\ttotal: 2.62s\tremaining: 48.1ms\n",
      "982:\tlearn: 0.2601512\ttotal: 2.63s\tremaining: 45.4ms\n",
      "983:\tlearn: 0.2600925\ttotal: 2.63s\tremaining: 42.8ms\n",
      "984:\tlearn: 0.2600458\ttotal: 2.63s\tremaining: 40.1ms\n",
      "985:\tlearn: 0.2598815\ttotal: 2.63s\tremaining: 37.4ms\n",
      "986:\tlearn: 0.2597074\ttotal: 2.64s\tremaining: 34.7ms\n",
      "987:\tlearn: 0.2594456\ttotal: 2.64s\tremaining: 32.1ms\n",
      "988:\tlearn: 0.2593031\ttotal: 2.64s\tremaining: 29.4ms\n",
      "989:\tlearn: 0.2590893\ttotal: 2.64s\tremaining: 26.7ms\n",
      "990:\tlearn: 0.2589296\ttotal: 2.65s\tremaining: 24ms\n",
      "991:\tlearn: 0.2588466\ttotal: 2.65s\tremaining: 21.4ms\n",
      "992:\tlearn: 0.2586522\ttotal: 2.65s\tremaining: 18.7ms\n",
      "993:\tlearn: 0.2584658\ttotal: 2.65s\tremaining: 16ms\n",
      "994:\tlearn: 0.2583315\ttotal: 2.66s\tremaining: 13.4ms\n",
      "995:\tlearn: 0.2583001\ttotal: 2.66s\tremaining: 10.7ms\n",
      "996:\tlearn: 0.2582657\ttotal: 2.66s\tremaining: 8.01ms\n",
      "997:\tlearn: 0.2582037\ttotal: 2.66s\tremaining: 5.34ms\n",
      "998:\tlearn: 0.2579955\ttotal: 2.67s\tremaining: 2.67ms\n",
      "999:\tlearn: 0.2577120\ttotal: 2.67s\tremaining: 0us\n"
     ]
    }
   ],
   "source": [
    "model_cat = CatBoostClassifier(random_state=SEED)\n",
    "model_cat.fit(features_downsampled, target_downsampled)\n",
    "pred_proba_down = model_cat.predict_proba(X_valid)[:, 1]"
   ]
  },
  {
   "cell_type": "code",
   "execution_count": 76,
   "metadata": {
    "colab": {
     "base_uri": "https://localhost:8080/"
    },
    "id": "spLXYzxXvd6M",
    "outputId": "4c5bd4ba-7472-445e-f3dc-f92c37ade9bc"
   },
   "outputs": [
    {
     "data": {
      "text/plain": [
       "0.8679639802223665"
      ]
     },
     "execution_count": 76,
     "metadata": {},
     "output_type": "execute_result"
    }
   ],
   "source": [
    "roc_auc_score(y_valid, pred_proba_down)"
   ]
  },
  {
   "cell_type": "markdown",
   "metadata": {
    "id": "eFRkbEURyVc9"
   },
   "source": [
    "Увелечение выборки помогло немного повысить качество модели, уменьшение выборки на оборот отрицательно влияет на результат."
   ]
  },
  {
   "cell_type": "markdown",
   "metadata": {},
   "source": [
    "# Тестирование модели."
   ]
  },
  {
   "cell_type": "markdown",
   "metadata": {},
   "source": [
    "Проведем обучение на увеличенной выборке, и проверим метрику ROC-AUC на тестовой выборке."
   ]
  },
  {
   "cell_type": "code",
   "execution_count": 77,
   "metadata": {
    "scrolled": true
   },
   "outputs": [
    {
     "name": "stdout",
     "output_type": "stream",
     "text": [
      "Learning rate set to 0.025939\n",
      "0:\tlearn: 0.6772287\ttotal: 3.82ms\tremaining: 3.82s\n",
      "1:\tlearn: 0.6623528\ttotal: 7.71ms\tremaining: 3.85s\n",
      "2:\tlearn: 0.6507609\ttotal: 11.4ms\tremaining: 3.78s\n",
      "3:\tlearn: 0.6390748\ttotal: 15.1ms\tremaining: 3.75s\n",
      "4:\tlearn: 0.6273397\ttotal: 18.6ms\tremaining: 3.7s\n",
      "5:\tlearn: 0.6170669\ttotal: 22.3ms\tremaining: 3.69s\n",
      "6:\tlearn: 0.6074726\ttotal: 26ms\tremaining: 3.69s\n",
      "7:\tlearn: 0.5977984\ttotal: 29.8ms\tremaining: 3.69s\n",
      "8:\tlearn: 0.5893918\ttotal: 33.5ms\tremaining: 3.68s\n",
      "9:\tlearn: 0.5816270\ttotal: 37.2ms\tremaining: 3.68s\n",
      "10:\tlearn: 0.5755536\ttotal: 39.8ms\tremaining: 3.58s\n",
      "11:\tlearn: 0.5690108\ttotal: 43.4ms\tremaining: 3.57s\n",
      "12:\tlearn: 0.5617120\ttotal: 46.9ms\tremaining: 3.56s\n",
      "13:\tlearn: 0.5559428\ttotal: 50.5ms\tremaining: 3.56s\n",
      "14:\tlearn: 0.5505133\ttotal: 54ms\tremaining: 3.55s\n",
      "15:\tlearn: 0.5453938\ttotal: 57.5ms\tremaining: 3.53s\n",
      "16:\tlearn: 0.5398574\ttotal: 61.1ms\tremaining: 3.53s\n",
      "17:\tlearn: 0.5346239\ttotal: 64.8ms\tremaining: 3.54s\n",
      "18:\tlearn: 0.5296222\ttotal: 68.3ms\tremaining: 3.53s\n",
      "19:\tlearn: 0.5243113\ttotal: 71.8ms\tremaining: 3.52s\n",
      "20:\tlearn: 0.5200266\ttotal: 75.4ms\tremaining: 3.51s\n",
      "21:\tlearn: 0.5160056\ttotal: 78.9ms\tremaining: 3.51s\n",
      "22:\tlearn: 0.5117630\ttotal: 82.5ms\tremaining: 3.5s\n",
      "23:\tlearn: 0.5074101\ttotal: 86.1ms\tremaining: 3.5s\n",
      "24:\tlearn: 0.5039036\ttotal: 89.7ms\tremaining: 3.5s\n",
      "25:\tlearn: 0.5004267\ttotal: 93.3ms\tremaining: 3.49s\n",
      "26:\tlearn: 0.4964256\ttotal: 96.8ms\tremaining: 3.49s\n",
      "27:\tlearn: 0.4932422\ttotal: 100ms\tremaining: 3.49s\n",
      "28:\tlearn: 0.4901070\ttotal: 104ms\tremaining: 3.49s\n",
      "29:\tlearn: 0.4863123\ttotal: 108ms\tremaining: 3.49s\n",
      "30:\tlearn: 0.4835791\ttotal: 112ms\tremaining: 3.49s\n",
      "31:\tlearn: 0.4810203\ttotal: 115ms\tremaining: 3.49s\n",
      "32:\tlearn: 0.4784685\ttotal: 119ms\tremaining: 3.48s\n",
      "33:\tlearn: 0.4762948\ttotal: 123ms\tremaining: 3.48s\n",
      "34:\tlearn: 0.4741397\ttotal: 126ms\tremaining: 3.48s\n",
      "35:\tlearn: 0.4708720\ttotal: 130ms\tremaining: 3.48s\n",
      "36:\tlearn: 0.4687597\ttotal: 133ms\tremaining: 3.47s\n",
      "37:\tlearn: 0.4661253\ttotal: 137ms\tremaining: 3.47s\n",
      "38:\tlearn: 0.4642295\ttotal: 141ms\tremaining: 3.46s\n",
      "39:\tlearn: 0.4622563\ttotal: 144ms\tremaining: 3.46s\n",
      "40:\tlearn: 0.4604065\ttotal: 148ms\tremaining: 3.45s\n",
      "41:\tlearn: 0.4586444\ttotal: 151ms\tremaining: 3.45s\n",
      "42:\tlearn: 0.4572106\ttotal: 155ms\tremaining: 3.44s\n",
      "43:\tlearn: 0.4556968\ttotal: 158ms\tremaining: 3.44s\n",
      "44:\tlearn: 0.4530657\ttotal: 162ms\tremaining: 3.44s\n",
      "45:\tlearn: 0.4516255\ttotal: 166ms\tremaining: 3.44s\n",
      "46:\tlearn: 0.4501391\ttotal: 169ms\tremaining: 3.43s\n",
      "47:\tlearn: 0.4486312\ttotal: 173ms\tremaining: 3.43s\n",
      "48:\tlearn: 0.4475361\ttotal: 176ms\tremaining: 3.42s\n",
      "49:\tlearn: 0.4456964\ttotal: 180ms\tremaining: 3.42s\n",
      "50:\tlearn: 0.4444422\ttotal: 184ms\tremaining: 3.42s\n",
      "51:\tlearn: 0.4424221\ttotal: 188ms\tremaining: 3.43s\n",
      "52:\tlearn: 0.4408361\ttotal: 192ms\tremaining: 3.43s\n",
      "53:\tlearn: 0.4398648\ttotal: 196ms\tremaining: 3.43s\n",
      "54:\tlearn: 0.4385804\ttotal: 200ms\tremaining: 3.43s\n",
      "55:\tlearn: 0.4376526\ttotal: 203ms\tremaining: 3.42s\n",
      "56:\tlearn: 0.4367730\ttotal: 207ms\tremaining: 3.42s\n",
      "57:\tlearn: 0.4356976\ttotal: 211ms\tremaining: 3.42s\n",
      "58:\tlearn: 0.4348044\ttotal: 214ms\tremaining: 3.42s\n",
      "59:\tlearn: 0.4333176\ttotal: 218ms\tremaining: 3.42s\n",
      "60:\tlearn: 0.4322197\ttotal: 222ms\tremaining: 3.41s\n",
      "61:\tlearn: 0.4310762\ttotal: 225ms\tremaining: 3.4s\n",
      "62:\tlearn: 0.4294884\ttotal: 229ms\tremaining: 3.4s\n",
      "63:\tlearn: 0.4285246\ttotal: 232ms\tremaining: 3.4s\n",
      "64:\tlearn: 0.4275783\ttotal: 236ms\tremaining: 3.4s\n",
      "65:\tlearn: 0.4262206\ttotal: 240ms\tremaining: 3.4s\n",
      "66:\tlearn: 0.4252263\ttotal: 244ms\tremaining: 3.4s\n",
      "67:\tlearn: 0.4239967\ttotal: 247ms\tremaining: 3.39s\n",
      "68:\tlearn: 0.4232356\ttotal: 251ms\tremaining: 3.38s\n",
      "69:\tlearn: 0.4225552\ttotal: 255ms\tremaining: 3.38s\n",
      "70:\tlearn: 0.4218172\ttotal: 258ms\tremaining: 3.38s\n",
      "71:\tlearn: 0.4211614\ttotal: 262ms\tremaining: 3.38s\n",
      "72:\tlearn: 0.4204137\ttotal: 266ms\tremaining: 3.38s\n",
      "73:\tlearn: 0.4196417\ttotal: 270ms\tremaining: 3.37s\n",
      "74:\tlearn: 0.4189838\ttotal: 273ms\tremaining: 3.37s\n",
      "75:\tlearn: 0.4180918\ttotal: 277ms\tremaining: 3.37s\n",
      "76:\tlearn: 0.4173108\ttotal: 281ms\tremaining: 3.36s\n",
      "77:\tlearn: 0.4163184\ttotal: 284ms\tremaining: 3.36s\n",
      "78:\tlearn: 0.4154803\ttotal: 288ms\tremaining: 3.36s\n",
      "79:\tlearn: 0.4146048\ttotal: 292ms\tremaining: 3.36s\n",
      "80:\tlearn: 0.4140230\ttotal: 297ms\tremaining: 3.37s\n",
      "81:\tlearn: 0.4131848\ttotal: 301ms\tremaining: 3.37s\n",
      "82:\tlearn: 0.4124750\ttotal: 304ms\tremaining: 3.36s\n",
      "83:\tlearn: 0.4114975\ttotal: 308ms\tremaining: 3.36s\n",
      "84:\tlearn: 0.4106711\ttotal: 311ms\tremaining: 3.35s\n",
      "85:\tlearn: 0.4100178\ttotal: 315ms\tremaining: 3.34s\n",
      "86:\tlearn: 0.4091911\ttotal: 318ms\tremaining: 3.34s\n",
      "87:\tlearn: 0.4084171\ttotal: 322ms\tremaining: 3.34s\n",
      "88:\tlearn: 0.4077647\ttotal: 326ms\tremaining: 3.33s\n",
      "89:\tlearn: 0.4067416\ttotal: 329ms\tremaining: 3.33s\n",
      "90:\tlearn: 0.4062315\ttotal: 333ms\tremaining: 3.33s\n",
      "91:\tlearn: 0.4055700\ttotal: 337ms\tremaining: 3.32s\n",
      "92:\tlearn: 0.4050950\ttotal: 340ms\tremaining: 3.32s\n",
      "93:\tlearn: 0.4046286\ttotal: 344ms\tremaining: 3.31s\n",
      "94:\tlearn: 0.4040510\ttotal: 348ms\tremaining: 3.31s\n",
      "95:\tlearn: 0.4032797\ttotal: 351ms\tremaining: 3.31s\n",
      "96:\tlearn: 0.4022625\ttotal: 355ms\tremaining: 3.3s\n",
      "97:\tlearn: 0.4015948\ttotal: 359ms\tremaining: 3.3s\n",
      "98:\tlearn: 0.4010613\ttotal: 363ms\tremaining: 3.3s\n",
      "99:\tlearn: 0.4004817\ttotal: 366ms\tremaining: 3.29s\n",
      "100:\tlearn: 0.3999336\ttotal: 370ms\tremaining: 3.29s\n",
      "101:\tlearn: 0.3991314\ttotal: 374ms\tremaining: 3.29s\n",
      "102:\tlearn: 0.3985148\ttotal: 377ms\tremaining: 3.29s\n",
      "103:\tlearn: 0.3979554\ttotal: 381ms\tremaining: 3.28s\n",
      "104:\tlearn: 0.3970053\ttotal: 385ms\tremaining: 3.28s\n",
      "105:\tlearn: 0.3964005\ttotal: 389ms\tremaining: 3.28s\n",
      "106:\tlearn: 0.3958107\ttotal: 392ms\tremaining: 3.27s\n",
      "107:\tlearn: 0.3952264\ttotal: 396ms\tremaining: 3.27s\n",
      "108:\tlearn: 0.3945911\ttotal: 399ms\tremaining: 3.26s\n",
      "109:\tlearn: 0.3942825\ttotal: 403ms\tremaining: 3.26s\n",
      "110:\tlearn: 0.3935152\ttotal: 406ms\tremaining: 3.25s\n",
      "111:\tlearn: 0.3931900\ttotal: 410ms\tremaining: 3.25s\n",
      "112:\tlearn: 0.3923129\ttotal: 414ms\tremaining: 3.25s\n",
      "113:\tlearn: 0.3920442\ttotal: 417ms\tremaining: 3.24s\n",
      "114:\tlearn: 0.3916035\ttotal: 421ms\tremaining: 3.24s\n",
      "115:\tlearn: 0.3911018\ttotal: 425ms\tremaining: 3.24s\n",
      "116:\tlearn: 0.3904842\ttotal: 428ms\tremaining: 3.23s\n",
      "117:\tlearn: 0.3900657\ttotal: 432ms\tremaining: 3.23s\n",
      "118:\tlearn: 0.3894664\ttotal: 436ms\tremaining: 3.23s\n",
      "119:\tlearn: 0.3890461\ttotal: 439ms\tremaining: 3.22s\n",
      "120:\tlearn: 0.3885717\ttotal: 443ms\tremaining: 3.22s\n",
      "121:\tlearn: 0.3881828\ttotal: 446ms\tremaining: 3.21s\n",
      "122:\tlearn: 0.3877311\ttotal: 450ms\tremaining: 3.21s\n",
      "123:\tlearn: 0.3870921\ttotal: 454ms\tremaining: 3.21s\n",
      "124:\tlearn: 0.3861666\ttotal: 458ms\tremaining: 3.2s\n",
      "125:\tlearn: 0.3856585\ttotal: 461ms\tremaining: 3.2s\n",
      "126:\tlearn: 0.3851234\ttotal: 465ms\tremaining: 3.2s\n",
      "127:\tlearn: 0.3846840\ttotal: 469ms\tremaining: 3.2s\n",
      "128:\tlearn: 0.3839666\ttotal: 473ms\tremaining: 3.19s\n",
      "129:\tlearn: 0.3832292\ttotal: 477ms\tremaining: 3.19s\n",
      "130:\tlearn: 0.3826494\ttotal: 481ms\tremaining: 3.19s\n",
      "131:\tlearn: 0.3822059\ttotal: 484ms\tremaining: 3.18s\n",
      "132:\tlearn: 0.3816402\ttotal: 488ms\tremaining: 3.18s\n",
      "133:\tlearn: 0.3813412\ttotal: 492ms\tremaining: 3.18s\n",
      "134:\tlearn: 0.3808483\ttotal: 495ms\tremaining: 3.17s\n",
      "135:\tlearn: 0.3803876\ttotal: 499ms\tremaining: 3.17s\n",
      "136:\tlearn: 0.3801094\ttotal: 503ms\tremaining: 3.17s\n",
      "137:\tlearn: 0.3795046\ttotal: 506ms\tremaining: 3.16s\n",
      "138:\tlearn: 0.3792055\ttotal: 510ms\tremaining: 3.16s\n",
      "139:\tlearn: 0.3787512\ttotal: 514ms\tremaining: 3.15s\n",
      "140:\tlearn: 0.3782652\ttotal: 517ms\tremaining: 3.15s\n",
      "141:\tlearn: 0.3778061\ttotal: 521ms\tremaining: 3.15s\n",
      "142:\tlearn: 0.3771247\ttotal: 525ms\tremaining: 3.14s\n",
      "143:\tlearn: 0.3767865\ttotal: 528ms\tremaining: 3.14s\n",
      "144:\tlearn: 0.3763981\ttotal: 532ms\tremaining: 3.14s\n",
      "145:\tlearn: 0.3759042\ttotal: 536ms\tremaining: 3.13s\n",
      "146:\tlearn: 0.3754741\ttotal: 539ms\tremaining: 3.13s\n",
      "147:\tlearn: 0.3751374\ttotal: 543ms\tremaining: 3.13s\n",
      "148:\tlearn: 0.3746256\ttotal: 547ms\tremaining: 3.12s\n",
      "149:\tlearn: 0.3741018\ttotal: 550ms\tremaining: 3.12s\n",
      "150:\tlearn: 0.3738433\ttotal: 554ms\tremaining: 3.11s\n",
      "151:\tlearn: 0.3733999\ttotal: 558ms\tremaining: 3.11s\n",
      "152:\tlearn: 0.3728361\ttotal: 562ms\tremaining: 3.11s\n",
      "153:\tlearn: 0.3724462\ttotal: 565ms\tremaining: 3.11s\n",
      "154:\tlearn: 0.3718375\ttotal: 569ms\tremaining: 3.1s\n",
      "155:\tlearn: 0.3711859\ttotal: 573ms\tremaining: 3.1s\n",
      "156:\tlearn: 0.3708022\ttotal: 577ms\tremaining: 3.1s\n",
      "157:\tlearn: 0.3704022\ttotal: 580ms\tremaining: 3.09s\n",
      "158:\tlearn: 0.3700807\ttotal: 584ms\tremaining: 3.09s\n",
      "159:\tlearn: 0.3695295\ttotal: 588ms\tremaining: 3.09s\n",
      "160:\tlearn: 0.3691865\ttotal: 592ms\tremaining: 3.08s\n",
      "161:\tlearn: 0.3688226\ttotal: 596ms\tremaining: 3.08s\n",
      "162:\tlearn: 0.3683555\ttotal: 599ms\tremaining: 3.08s\n",
      "163:\tlearn: 0.3681211\ttotal: 603ms\tremaining: 3.07s\n",
      "164:\tlearn: 0.3678261\ttotal: 607ms\tremaining: 3.07s\n",
      "165:\tlearn: 0.3675414\ttotal: 611ms\tremaining: 3.07s\n",
      "166:\tlearn: 0.3670861\ttotal: 615ms\tremaining: 3.06s\n",
      "167:\tlearn: 0.3669037\ttotal: 619ms\tremaining: 3.06s\n",
      "168:\tlearn: 0.3664469\ttotal: 622ms\tremaining: 3.06s\n",
      "169:\tlearn: 0.3661951\ttotal: 626ms\tremaining: 3.06s\n",
      "170:\tlearn: 0.3658865\ttotal: 630ms\tremaining: 3.05s\n",
      "171:\tlearn: 0.3654263\ttotal: 633ms\tremaining: 3.05s\n",
      "172:\tlearn: 0.3650879\ttotal: 637ms\tremaining: 3.04s\n",
      "173:\tlearn: 0.3646890\ttotal: 641ms\tremaining: 3.04s\n",
      "174:\tlearn: 0.3641833\ttotal: 645ms\tremaining: 3.04s\n",
      "175:\tlearn: 0.3638614\ttotal: 649ms\tremaining: 3.04s\n",
      "176:\tlearn: 0.3633867\ttotal: 653ms\tremaining: 3.04s\n",
      "177:\tlearn: 0.3630371\ttotal: 657ms\tremaining: 3.03s\n",
      "178:\tlearn: 0.3624725\ttotal: 661ms\tremaining: 3.03s\n",
      "179:\tlearn: 0.3620516\ttotal: 665ms\tremaining: 3.03s\n",
      "180:\tlearn: 0.3616447\ttotal: 669ms\tremaining: 3.03s\n",
      "181:\tlearn: 0.3614515\ttotal: 673ms\tremaining: 3.02s\n",
      "182:\tlearn: 0.3611946\ttotal: 677ms\tremaining: 3.02s\n",
      "183:\tlearn: 0.3605855\ttotal: 681ms\tremaining: 3.02s\n",
      "184:\tlearn: 0.3602745\ttotal: 685ms\tremaining: 3.02s\n",
      "185:\tlearn: 0.3598747\ttotal: 689ms\tremaining: 3.02s\n",
      "186:\tlearn: 0.3593739\ttotal: 693ms\tremaining: 3.01s\n",
      "187:\tlearn: 0.3590587\ttotal: 698ms\tremaining: 3.01s\n",
      "188:\tlearn: 0.3587770\ttotal: 702ms\tremaining: 3.01s\n",
      "189:\tlearn: 0.3584639\ttotal: 706ms\tremaining: 3.01s\n",
      "190:\tlearn: 0.3581589\ttotal: 709ms\tremaining: 3s\n",
      "191:\tlearn: 0.3578738\ttotal: 714ms\tremaining: 3s\n",
      "192:\tlearn: 0.3575406\ttotal: 718ms\tremaining: 3s\n",
      "193:\tlearn: 0.3572440\ttotal: 722ms\tremaining: 3s\n",
      "194:\tlearn: 0.3568256\ttotal: 726ms\tremaining: 3s\n",
      "195:\tlearn: 0.3563551\ttotal: 730ms\tremaining: 2.99s\n",
      "196:\tlearn: 0.3560695\ttotal: 734ms\tremaining: 2.99s\n",
      "197:\tlearn: 0.3557062\ttotal: 738ms\tremaining: 2.99s\n",
      "198:\tlearn: 0.3553364\ttotal: 742ms\tremaining: 2.99s\n",
      "199:\tlearn: 0.3550221\ttotal: 746ms\tremaining: 2.98s\n",
      "200:\tlearn: 0.3546577\ttotal: 751ms\tremaining: 2.98s\n",
      "201:\tlearn: 0.3542560\ttotal: 755ms\tremaining: 2.98s\n",
      "202:\tlearn: 0.3539563\ttotal: 759ms\tremaining: 2.98s\n",
      "203:\tlearn: 0.3534515\ttotal: 763ms\tremaining: 2.98s\n",
      "204:\tlearn: 0.3529562\ttotal: 767ms\tremaining: 2.98s\n",
      "205:\tlearn: 0.3527706\ttotal: 772ms\tremaining: 2.97s\n",
      "206:\tlearn: 0.3524178\ttotal: 776ms\tremaining: 2.97s\n",
      "207:\tlearn: 0.3520991\ttotal: 780ms\tremaining: 2.97s\n",
      "208:\tlearn: 0.3518200\ttotal: 784ms\tremaining: 2.97s\n",
      "209:\tlearn: 0.3515157\ttotal: 788ms\tremaining: 2.96s\n",
      "210:\tlearn: 0.3512251\ttotal: 793ms\tremaining: 2.96s\n",
      "211:\tlearn: 0.3508114\ttotal: 797ms\tremaining: 2.96s\n",
      "212:\tlearn: 0.3502819\ttotal: 801ms\tremaining: 2.96s\n",
      "213:\tlearn: 0.3501331\ttotal: 805ms\tremaining: 2.96s\n",
      "214:\tlearn: 0.3496706\ttotal: 809ms\tremaining: 2.96s\n",
      "215:\tlearn: 0.3493857\ttotal: 813ms\tremaining: 2.95s\n",
      "216:\tlearn: 0.3491408\ttotal: 819ms\tremaining: 2.96s\n",
      "217:\tlearn: 0.3489101\ttotal: 825ms\tremaining: 2.96s\n",
      "218:\tlearn: 0.3486957\ttotal: 830ms\tremaining: 2.96s\n",
      "219:\tlearn: 0.3482885\ttotal: 836ms\tremaining: 2.96s\n",
      "220:\tlearn: 0.3479842\ttotal: 842ms\tremaining: 2.97s\n",
      "221:\tlearn: 0.3476169\ttotal: 848ms\tremaining: 2.97s\n",
      "222:\tlearn: 0.3471355\ttotal: 854ms\tremaining: 2.98s\n",
      "223:\tlearn: 0.3467166\ttotal: 860ms\tremaining: 2.98s\n",
      "224:\tlearn: 0.3465078\ttotal: 865ms\tremaining: 2.98s\n",
      "225:\tlearn: 0.3461950\ttotal: 871ms\tremaining: 2.98s\n",
      "226:\tlearn: 0.3458423\ttotal: 876ms\tremaining: 2.98s\n",
      "227:\tlearn: 0.3455025\ttotal: 882ms\tremaining: 2.99s\n",
      "228:\tlearn: 0.3451415\ttotal: 888ms\tremaining: 2.99s\n",
      "229:\tlearn: 0.3451401\ttotal: 890ms\tremaining: 2.98s\n",
      "230:\tlearn: 0.3448815\ttotal: 895ms\tremaining: 2.98s\n",
      "231:\tlearn: 0.3444931\ttotal: 901ms\tremaining: 2.98s\n",
      "232:\tlearn: 0.3441703\ttotal: 906ms\tremaining: 2.98s\n",
      "233:\tlearn: 0.3438555\ttotal: 912ms\tremaining: 2.98s\n",
      "234:\tlearn: 0.3435540\ttotal: 917ms\tremaining: 2.98s\n",
      "235:\tlearn: 0.3432800\ttotal: 923ms\tremaining: 2.99s\n",
      "236:\tlearn: 0.3429290\ttotal: 929ms\tremaining: 2.99s\n",
      "237:\tlearn: 0.3424567\ttotal: 935ms\tremaining: 2.99s\n",
      "238:\tlearn: 0.3419842\ttotal: 940ms\tremaining: 2.99s\n",
      "239:\tlearn: 0.3418256\ttotal: 946ms\tremaining: 2.99s\n",
      "240:\tlearn: 0.3415767\ttotal: 951ms\tremaining: 2.99s\n",
      "241:\tlearn: 0.3411592\ttotal: 956ms\tremaining: 3s\n",
      "242:\tlearn: 0.3409247\ttotal: 962ms\tremaining: 3s\n",
      "243:\tlearn: 0.3406368\ttotal: 967ms\tremaining: 3s\n",
      "244:\tlearn: 0.3402038\ttotal: 972ms\tremaining: 2.99s\n",
      "245:\tlearn: 0.3398285\ttotal: 976ms\tremaining: 2.99s\n",
      "246:\tlearn: 0.3396311\ttotal: 980ms\tremaining: 2.99s\n",
      "247:\tlearn: 0.3393408\ttotal: 983ms\tremaining: 2.98s\n",
      "248:\tlearn: 0.3390975\ttotal: 987ms\tremaining: 2.98s\n",
      "249:\tlearn: 0.3388535\ttotal: 991ms\tremaining: 2.97s\n",
      "250:\tlearn: 0.3385720\ttotal: 995ms\tremaining: 2.97s\n",
      "251:\tlearn: 0.3382992\ttotal: 999ms\tremaining: 2.96s\n",
      "252:\tlearn: 0.3379615\ttotal: 1s\tremaining: 2.96s\n",
      "253:\tlearn: 0.3377431\ttotal: 1.01s\tremaining: 2.96s\n",
      "254:\tlearn: 0.3374080\ttotal: 1.01s\tremaining: 2.95s\n",
      "255:\tlearn: 0.3369357\ttotal: 1.01s\tremaining: 2.95s\n",
      "256:\tlearn: 0.3365711\ttotal: 1.02s\tremaining: 2.95s\n",
      "257:\tlearn: 0.3361308\ttotal: 1.02s\tremaining: 2.94s\n",
      "258:\tlearn: 0.3358107\ttotal: 1.03s\tremaining: 2.94s\n",
      "259:\tlearn: 0.3356245\ttotal: 1.03s\tremaining: 2.93s\n",
      "260:\tlearn: 0.3354751\ttotal: 1.03s\tremaining: 2.93s\n",
      "261:\tlearn: 0.3352569\ttotal: 1.04s\tremaining: 2.92s\n",
      "262:\tlearn: 0.3349300\ttotal: 1.04s\tremaining: 2.92s\n",
      "263:\tlearn: 0.3346830\ttotal: 1.05s\tremaining: 2.92s\n",
      "264:\tlearn: 0.3345330\ttotal: 1.05s\tremaining: 2.91s\n",
      "265:\tlearn: 0.3342520\ttotal: 1.05s\tremaining: 2.91s\n",
      "266:\tlearn: 0.3339062\ttotal: 1.06s\tremaining: 2.9s\n",
      "267:\tlearn: 0.3336670\ttotal: 1.06s\tremaining: 2.9s\n",
      "268:\tlearn: 0.3333516\ttotal: 1.07s\tremaining: 2.9s\n",
      "269:\tlearn: 0.3331551\ttotal: 1.07s\tremaining: 2.89s\n",
      "270:\tlearn: 0.3329896\ttotal: 1.07s\tremaining: 2.89s\n",
      "271:\tlearn: 0.3326305\ttotal: 1.08s\tremaining: 2.88s\n",
      "272:\tlearn: 0.3322907\ttotal: 1.08s\tremaining: 2.88s\n",
      "273:\tlearn: 0.3320293\ttotal: 1.09s\tremaining: 2.88s\n",
      "274:\tlearn: 0.3317179\ttotal: 1.09s\tremaining: 2.87s\n",
      "275:\tlearn: 0.3314505\ttotal: 1.09s\tremaining: 2.87s\n",
      "276:\tlearn: 0.3311448\ttotal: 1.1s\tremaining: 2.87s\n",
      "277:\tlearn: 0.3309469\ttotal: 1.1s\tremaining: 2.86s\n",
      "278:\tlearn: 0.3307614\ttotal: 1.11s\tremaining: 2.86s\n",
      "279:\tlearn: 0.3303109\ttotal: 1.11s\tremaining: 2.85s\n",
      "280:\tlearn: 0.3299604\ttotal: 1.11s\tremaining: 2.85s\n",
      "281:\tlearn: 0.3296409\ttotal: 1.12s\tremaining: 2.85s\n",
      "282:\tlearn: 0.3293861\ttotal: 1.12s\tremaining: 2.84s\n",
      "283:\tlearn: 0.3291163\ttotal: 1.13s\tremaining: 2.84s\n",
      "284:\tlearn: 0.3288297\ttotal: 1.13s\tremaining: 2.84s\n",
      "285:\tlearn: 0.3286400\ttotal: 1.14s\tremaining: 2.84s\n",
      "286:\tlearn: 0.3284449\ttotal: 1.14s\tremaining: 2.84s\n",
      "287:\tlearn: 0.3282804\ttotal: 1.15s\tremaining: 2.84s\n",
      "288:\tlearn: 0.3279293\ttotal: 1.15s\tremaining: 2.84s\n",
      "289:\tlearn: 0.3276868\ttotal: 1.16s\tremaining: 2.83s\n",
      "290:\tlearn: 0.3275341\ttotal: 1.16s\tremaining: 2.83s\n",
      "291:\tlearn: 0.3272404\ttotal: 1.17s\tremaining: 2.83s\n",
      "292:\tlearn: 0.3268965\ttotal: 1.17s\tremaining: 2.82s\n",
      "293:\tlearn: 0.3265490\ttotal: 1.17s\tremaining: 2.82s\n",
      "294:\tlearn: 0.3262419\ttotal: 1.18s\tremaining: 2.82s\n",
      "295:\tlearn: 0.3259653\ttotal: 1.18s\tremaining: 2.81s\n",
      "296:\tlearn: 0.3258130\ttotal: 1.19s\tremaining: 2.81s\n",
      "297:\tlearn: 0.3254704\ttotal: 1.19s\tremaining: 2.81s\n",
      "298:\tlearn: 0.3251461\ttotal: 1.2s\tremaining: 2.8s\n",
      "299:\tlearn: 0.3249505\ttotal: 1.2s\tremaining: 2.8s\n",
      "300:\tlearn: 0.3245877\ttotal: 1.2s\tremaining: 2.79s\n",
      "301:\tlearn: 0.3243597\ttotal: 1.21s\tremaining: 2.79s\n",
      "302:\tlearn: 0.3242564\ttotal: 1.21s\tremaining: 2.79s\n",
      "303:\tlearn: 0.3239041\ttotal: 1.22s\tremaining: 2.78s\n",
      "304:\tlearn: 0.3236001\ttotal: 1.22s\tremaining: 2.78s\n",
      "305:\tlearn: 0.3232341\ttotal: 1.22s\tremaining: 2.77s\n",
      "306:\tlearn: 0.3230078\ttotal: 1.23s\tremaining: 2.77s\n",
      "307:\tlearn: 0.3226928\ttotal: 1.23s\tremaining: 2.77s\n",
      "308:\tlearn: 0.3222926\ttotal: 1.24s\tremaining: 2.76s\n",
      "309:\tlearn: 0.3220615\ttotal: 1.24s\tremaining: 2.76s\n",
      "310:\tlearn: 0.3219181\ttotal: 1.24s\tremaining: 2.75s\n",
      "311:\tlearn: 0.3215741\ttotal: 1.25s\tremaining: 2.75s\n",
      "312:\tlearn: 0.3214236\ttotal: 1.25s\tremaining: 2.75s\n",
      "313:\tlearn: 0.3211940\ttotal: 1.25s\tremaining: 2.74s\n",
      "314:\tlearn: 0.3207450\ttotal: 1.26s\tremaining: 2.74s\n",
      "315:\tlearn: 0.3204891\ttotal: 1.26s\tremaining: 2.73s\n",
      "316:\tlearn: 0.3202378\ttotal: 1.27s\tremaining: 2.73s\n",
      "317:\tlearn: 0.3199557\ttotal: 1.27s\tremaining: 2.73s\n",
      "318:\tlearn: 0.3195586\ttotal: 1.27s\tremaining: 2.72s\n",
      "319:\tlearn: 0.3193691\ttotal: 1.28s\tremaining: 2.72s\n",
      "320:\tlearn: 0.3191120\ttotal: 1.28s\tremaining: 2.71s\n",
      "321:\tlearn: 0.3186971\ttotal: 1.29s\tremaining: 2.71s\n",
      "322:\tlearn: 0.3184130\ttotal: 1.29s\tremaining: 2.71s\n",
      "323:\tlearn: 0.3180492\ttotal: 1.29s\tremaining: 2.7s\n",
      "324:\tlearn: 0.3178098\ttotal: 1.3s\tremaining: 2.7s\n",
      "325:\tlearn: 0.3173075\ttotal: 1.3s\tremaining: 2.69s\n",
      "326:\tlearn: 0.3170696\ttotal: 1.31s\tremaining: 2.69s\n",
      "327:\tlearn: 0.3166754\ttotal: 1.31s\tremaining: 2.69s\n",
      "328:\tlearn: 0.3165206\ttotal: 1.32s\tremaining: 2.69s\n",
      "329:\tlearn: 0.3162309\ttotal: 1.32s\tremaining: 2.69s\n",
      "330:\tlearn: 0.3160369\ttotal: 1.33s\tremaining: 2.69s\n",
      "331:\tlearn: 0.3156998\ttotal: 1.33s\tremaining: 2.69s\n",
      "332:\tlearn: 0.3155444\ttotal: 1.34s\tremaining: 2.69s\n",
      "333:\tlearn: 0.3153492\ttotal: 1.34s\tremaining: 2.68s\n",
      "334:\tlearn: 0.3150650\ttotal: 1.35s\tremaining: 2.68s\n",
      "335:\tlearn: 0.3147031\ttotal: 1.35s\tremaining: 2.67s\n",
      "336:\tlearn: 0.3144174\ttotal: 1.36s\tremaining: 2.67s\n",
      "337:\tlearn: 0.3142425\ttotal: 1.36s\tremaining: 2.66s\n",
      "338:\tlearn: 0.3139181\ttotal: 1.36s\tremaining: 2.66s\n",
      "339:\tlearn: 0.3136189\ttotal: 1.37s\tremaining: 2.66s\n",
      "340:\tlearn: 0.3133759\ttotal: 1.37s\tremaining: 2.65s\n",
      "341:\tlearn: 0.3131190\ttotal: 1.38s\tremaining: 2.65s\n",
      "342:\tlearn: 0.3128444\ttotal: 1.38s\tremaining: 2.64s\n",
      "343:\tlearn: 0.3126489\ttotal: 1.38s\tremaining: 2.64s\n",
      "344:\tlearn: 0.3123654\ttotal: 1.39s\tremaining: 2.64s\n",
      "345:\tlearn: 0.3122356\ttotal: 1.39s\tremaining: 2.63s\n",
      "346:\tlearn: 0.3117283\ttotal: 1.4s\tremaining: 2.63s\n",
      "347:\tlearn: 0.3114983\ttotal: 1.4s\tremaining: 2.62s\n",
      "348:\tlearn: 0.3111371\ttotal: 1.4s\tremaining: 2.62s\n",
      "349:\tlearn: 0.3109527\ttotal: 1.41s\tremaining: 2.62s\n",
      "350:\tlearn: 0.3107753\ttotal: 1.41s\tremaining: 2.61s\n",
      "351:\tlearn: 0.3105867\ttotal: 1.42s\tremaining: 2.61s\n",
      "352:\tlearn: 0.3102206\ttotal: 1.42s\tremaining: 2.6s\n",
      "353:\tlearn: 0.3100435\ttotal: 1.42s\tremaining: 2.6s\n",
      "354:\tlearn: 0.3096348\ttotal: 1.43s\tremaining: 2.6s\n",
      "355:\tlearn: 0.3093857\ttotal: 1.43s\tremaining: 2.59s\n",
      "356:\tlearn: 0.3091095\ttotal: 1.44s\tremaining: 2.59s\n",
      "357:\tlearn: 0.3087261\ttotal: 1.44s\tremaining: 2.58s\n",
      "358:\tlearn: 0.3085069\ttotal: 1.45s\tremaining: 2.58s\n",
      "359:\tlearn: 0.3081647\ttotal: 1.45s\tremaining: 2.58s\n",
      "360:\tlearn: 0.3079713\ttotal: 1.45s\tremaining: 2.57s\n",
      "361:\tlearn: 0.3078520\ttotal: 1.46s\tremaining: 2.57s\n",
      "362:\tlearn: 0.3076117\ttotal: 1.46s\tremaining: 2.57s\n",
      "363:\tlearn: 0.3074322\ttotal: 1.47s\tremaining: 2.56s\n",
      "364:\tlearn: 0.3071611\ttotal: 1.47s\tremaining: 2.56s\n",
      "365:\tlearn: 0.3069192\ttotal: 1.48s\tremaining: 2.56s\n",
      "366:\tlearn: 0.3066323\ttotal: 1.48s\tremaining: 2.55s\n",
      "367:\tlearn: 0.3064442\ttotal: 1.48s\tremaining: 2.55s\n",
      "368:\tlearn: 0.3061538\ttotal: 1.49s\tremaining: 2.54s\n",
      "369:\tlearn: 0.3059500\ttotal: 1.49s\tremaining: 2.54s\n",
      "370:\tlearn: 0.3057705\ttotal: 1.49s\tremaining: 2.53s\n",
      "371:\tlearn: 0.3056083\ttotal: 1.5s\tremaining: 2.53s\n",
      "372:\tlearn: 0.3053315\ttotal: 1.5s\tremaining: 2.52s\n",
      "373:\tlearn: 0.3050544\ttotal: 1.51s\tremaining: 2.52s\n",
      "374:\tlearn: 0.3048456\ttotal: 1.51s\tremaining: 2.52s\n",
      "375:\tlearn: 0.3044269\ttotal: 1.51s\tremaining: 2.51s\n",
      "376:\tlearn: 0.3042419\ttotal: 1.52s\tremaining: 2.51s\n",
      "377:\tlearn: 0.3039166\ttotal: 1.52s\tremaining: 2.5s\n",
      "378:\tlearn: 0.3035772\ttotal: 1.53s\tremaining: 2.5s\n",
      "379:\tlearn: 0.3033434\ttotal: 1.53s\tremaining: 2.5s\n",
      "380:\tlearn: 0.3031393\ttotal: 1.53s\tremaining: 2.49s\n",
      "381:\tlearn: 0.3028672\ttotal: 1.54s\tremaining: 2.49s\n",
      "382:\tlearn: 0.3027376\ttotal: 1.54s\tremaining: 2.48s\n",
      "383:\tlearn: 0.3025756\ttotal: 1.55s\tremaining: 2.48s\n",
      "384:\tlearn: 0.3024260\ttotal: 1.55s\tremaining: 2.48s\n",
      "385:\tlearn: 0.3020347\ttotal: 1.55s\tremaining: 2.47s\n",
      "386:\tlearn: 0.3018132\ttotal: 1.56s\tremaining: 2.47s\n",
      "387:\tlearn: 0.3015428\ttotal: 1.56s\tremaining: 2.46s\n",
      "388:\tlearn: 0.3013003\ttotal: 1.56s\tremaining: 2.46s\n",
      "389:\tlearn: 0.3011842\ttotal: 1.57s\tremaining: 2.46s\n",
      "390:\tlearn: 0.3009537\ttotal: 1.57s\tremaining: 2.45s\n",
      "391:\tlearn: 0.3007814\ttotal: 1.58s\tremaining: 2.45s\n",
      "392:\tlearn: 0.3004424\ttotal: 1.58s\tremaining: 2.44s\n",
      "393:\tlearn: 0.3002894\ttotal: 1.58s\tremaining: 2.44s\n",
      "394:\tlearn: 0.2998684\ttotal: 1.59s\tremaining: 2.43s\n",
      "395:\tlearn: 0.2995720\ttotal: 1.59s\tremaining: 2.43s\n",
      "396:\tlearn: 0.2993401\ttotal: 1.6s\tremaining: 2.42s\n",
      "397:\tlearn: 0.2990131\ttotal: 1.6s\tremaining: 2.42s\n",
      "398:\tlearn: 0.2987619\ttotal: 1.6s\tremaining: 2.42s\n",
      "399:\tlearn: 0.2985213\ttotal: 1.61s\tremaining: 2.41s\n",
      "400:\tlearn: 0.2982042\ttotal: 1.61s\tremaining: 2.41s\n",
      "401:\tlearn: 0.2978721\ttotal: 1.61s\tremaining: 2.4s\n",
      "402:\tlearn: 0.2976345\ttotal: 1.62s\tremaining: 2.4s\n",
      "403:\tlearn: 0.2972221\ttotal: 1.62s\tremaining: 2.4s\n",
      "404:\tlearn: 0.2970814\ttotal: 1.63s\tremaining: 2.39s\n",
      "405:\tlearn: 0.2967517\ttotal: 1.63s\tremaining: 2.39s\n",
      "406:\tlearn: 0.2966035\ttotal: 1.64s\tremaining: 2.38s\n",
      "407:\tlearn: 0.2963830\ttotal: 1.64s\tremaining: 2.38s\n",
      "408:\tlearn: 0.2961240\ttotal: 1.64s\tremaining: 2.37s\n",
      "409:\tlearn: 0.2958982\ttotal: 1.65s\tremaining: 2.37s\n",
      "410:\tlearn: 0.2956095\ttotal: 1.65s\tremaining: 2.37s\n",
      "411:\tlearn: 0.2953991\ttotal: 1.66s\tremaining: 2.36s\n",
      "412:\tlearn: 0.2952191\ttotal: 1.66s\tremaining: 2.36s\n",
      "413:\tlearn: 0.2949185\ttotal: 1.66s\tremaining: 2.35s\n",
      "414:\tlearn: 0.2947586\ttotal: 1.67s\tremaining: 2.35s\n",
      "415:\tlearn: 0.2945701\ttotal: 1.67s\tremaining: 2.35s\n",
      "416:\tlearn: 0.2943232\ttotal: 1.68s\tremaining: 2.34s\n",
      "417:\tlearn: 0.2940291\ttotal: 1.68s\tremaining: 2.34s\n",
      "418:\tlearn: 0.2936811\ttotal: 1.68s\tremaining: 2.33s\n",
      "419:\tlearn: 0.2934391\ttotal: 1.69s\tremaining: 2.33s\n",
      "420:\tlearn: 0.2932164\ttotal: 1.69s\tremaining: 2.33s\n",
      "421:\tlearn: 0.2928465\ttotal: 1.69s\tremaining: 2.32s\n",
      "422:\tlearn: 0.2926669\ttotal: 1.7s\tremaining: 2.32s\n",
      "423:\tlearn: 0.2925658\ttotal: 1.7s\tremaining: 2.31s\n",
      "424:\tlearn: 0.2924291\ttotal: 1.71s\tremaining: 2.31s\n",
      "425:\tlearn: 0.2921885\ttotal: 1.71s\tremaining: 2.31s\n",
      "426:\tlearn: 0.2920070\ttotal: 1.71s\tremaining: 2.3s\n",
      "427:\tlearn: 0.2917642\ttotal: 1.72s\tremaining: 2.3s\n",
      "428:\tlearn: 0.2914151\ttotal: 1.72s\tremaining: 2.29s\n",
      "429:\tlearn: 0.2911814\ttotal: 1.73s\tremaining: 2.29s\n",
      "430:\tlearn: 0.2909608\ttotal: 1.73s\tremaining: 2.28s\n",
      "431:\tlearn: 0.2908154\ttotal: 1.73s\tremaining: 2.28s\n",
      "432:\tlearn: 0.2903013\ttotal: 1.74s\tremaining: 2.28s\n",
      "433:\tlearn: 0.2901543\ttotal: 1.74s\tremaining: 2.27s\n",
      "434:\tlearn: 0.2900226\ttotal: 1.75s\tremaining: 2.27s\n",
      "435:\tlearn: 0.2898018\ttotal: 1.75s\tremaining: 2.26s\n",
      "436:\tlearn: 0.2896373\ttotal: 1.75s\tremaining: 2.26s\n",
      "437:\tlearn: 0.2893709\ttotal: 1.76s\tremaining: 2.25s\n",
      "438:\tlearn: 0.2891398\ttotal: 1.76s\tremaining: 2.25s\n",
      "439:\tlearn: 0.2888637\ttotal: 1.76s\tremaining: 2.25s\n",
      "440:\tlearn: 0.2886542\ttotal: 1.77s\tremaining: 2.24s\n",
      "441:\tlearn: 0.2884764\ttotal: 1.77s\tremaining: 2.24s\n",
      "442:\tlearn: 0.2881545\ttotal: 1.78s\tremaining: 2.23s\n",
      "443:\tlearn: 0.2878570\ttotal: 1.78s\tremaining: 2.23s\n",
      "444:\tlearn: 0.2875516\ttotal: 1.79s\tremaining: 2.23s\n",
      "445:\tlearn: 0.2873062\ttotal: 1.79s\tremaining: 2.22s\n",
      "446:\tlearn: 0.2871626\ttotal: 1.79s\tremaining: 2.22s\n",
      "447:\tlearn: 0.2870238\ttotal: 1.8s\tremaining: 2.21s\n",
      "448:\tlearn: 0.2867199\ttotal: 1.8s\tremaining: 2.21s\n",
      "449:\tlearn: 0.2863581\ttotal: 1.81s\tremaining: 2.21s\n",
      "450:\tlearn: 0.2861799\ttotal: 1.81s\tremaining: 2.2s\n",
      "451:\tlearn: 0.2860412\ttotal: 1.81s\tremaining: 2.2s\n",
      "452:\tlearn: 0.2857782\ttotal: 1.82s\tremaining: 2.2s\n",
      "453:\tlearn: 0.2853444\ttotal: 1.82s\tremaining: 2.19s\n",
      "454:\tlearn: 0.2849187\ttotal: 1.83s\tremaining: 2.19s\n",
      "455:\tlearn: 0.2846296\ttotal: 1.83s\tremaining: 2.18s\n",
      "456:\tlearn: 0.2843571\ttotal: 1.83s\tremaining: 2.18s\n",
      "457:\tlearn: 0.2842017\ttotal: 1.84s\tremaining: 2.17s\n",
      "458:\tlearn: 0.2841052\ttotal: 1.84s\tremaining: 2.17s\n",
      "459:\tlearn: 0.2838978\ttotal: 1.85s\tremaining: 2.17s\n",
      "460:\tlearn: 0.2837818\ttotal: 1.85s\tremaining: 2.16s\n",
      "461:\tlearn: 0.2835020\ttotal: 1.85s\tremaining: 2.16s\n",
      "462:\tlearn: 0.2833535\ttotal: 1.86s\tremaining: 2.15s\n",
      "463:\tlearn: 0.2831346\ttotal: 1.86s\tremaining: 2.15s\n",
      "464:\tlearn: 0.2828799\ttotal: 1.86s\tremaining: 2.15s\n",
      "465:\tlearn: 0.2824758\ttotal: 1.87s\tremaining: 2.14s\n",
      "466:\tlearn: 0.2823220\ttotal: 1.87s\tremaining: 2.14s\n",
      "467:\tlearn: 0.2820234\ttotal: 1.88s\tremaining: 2.13s\n",
      "468:\tlearn: 0.2818330\ttotal: 1.88s\tremaining: 2.13s\n",
      "469:\tlearn: 0.2815562\ttotal: 1.89s\tremaining: 2.13s\n",
      "470:\tlearn: 0.2813459\ttotal: 1.89s\tremaining: 2.12s\n",
      "471:\tlearn: 0.2811700\ttotal: 1.89s\tremaining: 2.12s\n",
      "472:\tlearn: 0.2809071\ttotal: 1.9s\tremaining: 2.11s\n",
      "473:\tlearn: 0.2806734\ttotal: 1.9s\tremaining: 2.11s\n",
      "474:\tlearn: 0.2804134\ttotal: 1.91s\tremaining: 2.11s\n",
      "475:\tlearn: 0.2801832\ttotal: 1.91s\tremaining: 2.1s\n",
      "476:\tlearn: 0.2800049\ttotal: 1.91s\tremaining: 2.1s\n",
      "477:\tlearn: 0.2798841\ttotal: 1.92s\tremaining: 2.09s\n",
      "478:\tlearn: 0.2796665\ttotal: 1.92s\tremaining: 2.09s\n",
      "479:\tlearn: 0.2794651\ttotal: 1.93s\tremaining: 2.09s\n",
      "480:\tlearn: 0.2793432\ttotal: 1.93s\tremaining: 2.08s\n",
      "481:\tlearn: 0.2790829\ttotal: 1.93s\tremaining: 2.08s\n",
      "482:\tlearn: 0.2789676\ttotal: 1.94s\tremaining: 2.07s\n",
      "483:\tlearn: 0.2787441\ttotal: 1.94s\tremaining: 2.07s\n",
      "484:\tlearn: 0.2785979\ttotal: 1.95s\tremaining: 2.06s\n",
      "485:\tlearn: 0.2784088\ttotal: 1.95s\tremaining: 2.06s\n",
      "486:\tlearn: 0.2780902\ttotal: 1.95s\tremaining: 2.06s\n",
      "487:\tlearn: 0.2778102\ttotal: 1.96s\tremaining: 2.05s\n",
      "488:\tlearn: 0.2776579\ttotal: 1.96s\tremaining: 2.05s\n",
      "489:\tlearn: 0.2773590\ttotal: 1.97s\tremaining: 2.04s\n",
      "490:\tlearn: 0.2770252\ttotal: 1.97s\tremaining: 2.04s\n",
      "491:\tlearn: 0.2765960\ttotal: 1.97s\tremaining: 2.04s\n",
      "492:\tlearn: 0.2763206\ttotal: 1.98s\tremaining: 2.03s\n",
      "493:\tlearn: 0.2761096\ttotal: 1.98s\tremaining: 2.03s\n",
      "494:\tlearn: 0.2760100\ttotal: 1.99s\tremaining: 2.02s\n",
      "495:\tlearn: 0.2758731\ttotal: 1.99s\tremaining: 2.02s\n",
      "496:\tlearn: 0.2756345\ttotal: 1.99s\tremaining: 2.02s\n",
      "497:\tlearn: 0.2755373\ttotal: 2s\tremaining: 2.01s\n",
      "498:\tlearn: 0.2752332\ttotal: 2s\tremaining: 2.01s\n",
      "499:\tlearn: 0.2747617\ttotal: 2s\tremaining: 2s\n",
      "500:\tlearn: 0.2745736\ttotal: 2.01s\tremaining: 2s\n",
      "501:\tlearn: 0.2744065\ttotal: 2.01s\tremaining: 2s\n",
      "502:\tlearn: 0.2742484\ttotal: 2.02s\tremaining: 1.99s\n",
      "503:\tlearn: 0.2739969\ttotal: 2.02s\tremaining: 1.99s\n",
      "504:\tlearn: 0.2736136\ttotal: 2.02s\tremaining: 1.99s\n",
      "505:\tlearn: 0.2735288\ttotal: 2.03s\tremaining: 1.98s\n",
      "506:\tlearn: 0.2732466\ttotal: 2.03s\tremaining: 1.98s\n",
      "507:\tlearn: 0.2730979\ttotal: 2.04s\tremaining: 1.97s\n",
      "508:\tlearn: 0.2729028\ttotal: 2.04s\tremaining: 1.97s\n",
      "509:\tlearn: 0.2726958\ttotal: 2.05s\tremaining: 1.97s\n",
      "510:\tlearn: 0.2725346\ttotal: 2.05s\tremaining: 1.96s\n",
      "511:\tlearn: 0.2723412\ttotal: 2.05s\tremaining: 1.96s\n",
      "512:\tlearn: 0.2722458\ttotal: 2.06s\tremaining: 1.95s\n",
      "513:\tlearn: 0.2721046\ttotal: 2.06s\tremaining: 1.95s\n",
      "514:\tlearn: 0.2719296\ttotal: 2.07s\tremaining: 1.95s\n",
      "515:\tlearn: 0.2715397\ttotal: 2.07s\tremaining: 1.94s\n",
      "516:\tlearn: 0.2710683\ttotal: 2.08s\tremaining: 1.94s\n",
      "517:\tlearn: 0.2706920\ttotal: 2.08s\tremaining: 1.93s\n",
      "518:\tlearn: 0.2704587\ttotal: 2.08s\tremaining: 1.93s\n",
      "519:\tlearn: 0.2702792\ttotal: 2.09s\tremaining: 1.93s\n",
      "520:\tlearn: 0.2700723\ttotal: 2.09s\tremaining: 1.92s\n",
      "521:\tlearn: 0.2697396\ttotal: 2.1s\tremaining: 1.92s\n",
      "522:\tlearn: 0.2695883\ttotal: 2.1s\tremaining: 1.91s\n",
      "523:\tlearn: 0.2693787\ttotal: 2.1s\tremaining: 1.91s\n",
      "524:\tlearn: 0.2692687\ttotal: 2.11s\tremaining: 1.91s\n",
      "525:\tlearn: 0.2690672\ttotal: 2.11s\tremaining: 1.9s\n",
      "526:\tlearn: 0.2688505\ttotal: 2.12s\tremaining: 1.9s\n",
      "527:\tlearn: 0.2687097\ttotal: 2.12s\tremaining: 1.9s\n",
      "528:\tlearn: 0.2685543\ttotal: 2.13s\tremaining: 1.89s\n",
      "529:\tlearn: 0.2684491\ttotal: 2.13s\tremaining: 1.89s\n",
      "530:\tlearn: 0.2682816\ttotal: 2.14s\tremaining: 1.89s\n",
      "531:\tlearn: 0.2681611\ttotal: 2.14s\tremaining: 1.89s\n",
      "532:\tlearn: 0.2679241\ttotal: 2.15s\tremaining: 1.88s\n",
      "533:\tlearn: 0.2677191\ttotal: 2.15s\tremaining: 1.88s\n",
      "534:\tlearn: 0.2675229\ttotal: 2.16s\tremaining: 1.88s\n",
      "535:\tlearn: 0.2671802\ttotal: 2.17s\tremaining: 1.87s\n",
      "536:\tlearn: 0.2669426\ttotal: 2.17s\tremaining: 1.87s\n",
      "537:\tlearn: 0.2667413\ttotal: 2.18s\tremaining: 1.87s\n",
      "538:\tlearn: 0.2665143\ttotal: 2.18s\tremaining: 1.87s\n",
      "539:\tlearn: 0.2663430\ttotal: 2.19s\tremaining: 1.86s\n",
      "540:\tlearn: 0.2661363\ttotal: 2.19s\tremaining: 1.86s\n",
      "541:\tlearn: 0.2658916\ttotal: 2.2s\tremaining: 1.86s\n",
      "542:\tlearn: 0.2656821\ttotal: 2.2s\tremaining: 1.85s\n",
      "543:\tlearn: 0.2653096\ttotal: 2.21s\tremaining: 1.85s\n",
      "544:\tlearn: 0.2650812\ttotal: 2.21s\tremaining: 1.85s\n",
      "545:\tlearn: 0.2648761\ttotal: 2.22s\tremaining: 1.85s\n",
      "546:\tlearn: 0.2647423\ttotal: 2.22s\tremaining: 1.84s\n",
      "547:\tlearn: 0.2645981\ttotal: 2.23s\tremaining: 1.84s\n",
      "548:\tlearn: 0.2643923\ttotal: 2.23s\tremaining: 1.83s\n",
      "549:\tlearn: 0.2641767\ttotal: 2.24s\tremaining: 1.83s\n",
      "550:\tlearn: 0.2640114\ttotal: 2.25s\tremaining: 1.83s\n",
      "551:\tlearn: 0.2637978\ttotal: 2.25s\tremaining: 1.83s\n",
      "552:\tlearn: 0.2636372\ttotal: 2.26s\tremaining: 1.82s\n",
      "553:\tlearn: 0.2634286\ttotal: 2.26s\tremaining: 1.82s\n",
      "554:\tlearn: 0.2632516\ttotal: 2.27s\tremaining: 1.82s\n",
      "555:\tlearn: 0.2630033\ttotal: 2.27s\tremaining: 1.81s\n",
      "556:\tlearn: 0.2627638\ttotal: 2.28s\tremaining: 1.81s\n",
      "557:\tlearn: 0.2625712\ttotal: 2.28s\tremaining: 1.81s\n",
      "558:\tlearn: 0.2623454\ttotal: 2.29s\tremaining: 1.8s\n",
      "559:\tlearn: 0.2620302\ttotal: 2.29s\tremaining: 1.8s\n",
      "560:\tlearn: 0.2618315\ttotal: 2.29s\tremaining: 1.79s\n",
      "561:\tlearn: 0.2617606\ttotal: 2.3s\tremaining: 1.79s\n",
      "562:\tlearn: 0.2615332\ttotal: 2.3s\tremaining: 1.79s\n",
      "563:\tlearn: 0.2614464\ttotal: 2.3s\tremaining: 1.78s\n",
      "564:\tlearn: 0.2612323\ttotal: 2.31s\tremaining: 1.78s\n",
      "565:\tlearn: 0.2610916\ttotal: 2.31s\tremaining: 1.77s\n",
      "566:\tlearn: 0.2608557\ttotal: 2.32s\tremaining: 1.77s\n",
      "567:\tlearn: 0.2606376\ttotal: 2.32s\tremaining: 1.77s\n",
      "568:\tlearn: 0.2603278\ttotal: 2.33s\tremaining: 1.76s\n",
      "569:\tlearn: 0.2601911\ttotal: 2.33s\tremaining: 1.76s\n",
      "570:\tlearn: 0.2599887\ttotal: 2.33s\tremaining: 1.75s\n",
      "571:\tlearn: 0.2597733\ttotal: 2.34s\tremaining: 1.75s\n",
      "572:\tlearn: 0.2595818\ttotal: 2.34s\tremaining: 1.75s\n",
      "573:\tlearn: 0.2594274\ttotal: 2.35s\tremaining: 1.74s\n",
      "574:\tlearn: 0.2591763\ttotal: 2.35s\tremaining: 1.74s\n",
      "575:\tlearn: 0.2589616\ttotal: 2.35s\tremaining: 1.73s\n",
      "576:\tlearn: 0.2588310\ttotal: 2.36s\tremaining: 1.73s\n",
      "577:\tlearn: 0.2586944\ttotal: 2.36s\tremaining: 1.73s\n",
      "578:\tlearn: 0.2584587\ttotal: 2.37s\tremaining: 1.72s\n",
      "579:\tlearn: 0.2582281\ttotal: 2.37s\tremaining: 1.72s\n",
      "580:\tlearn: 0.2581212\ttotal: 2.38s\tremaining: 1.71s\n",
      "581:\tlearn: 0.2579434\ttotal: 2.38s\tremaining: 1.71s\n",
      "582:\tlearn: 0.2577600\ttotal: 2.38s\tremaining: 1.7s\n",
      "583:\tlearn: 0.2575943\ttotal: 2.39s\tremaining: 1.7s\n",
      "584:\tlearn: 0.2572757\ttotal: 2.39s\tremaining: 1.7s\n",
      "585:\tlearn: 0.2569447\ttotal: 2.4s\tremaining: 1.69s\n",
      "586:\tlearn: 0.2567127\ttotal: 2.4s\tremaining: 1.69s\n",
      "587:\tlearn: 0.2565077\ttotal: 2.4s\tremaining: 1.68s\n",
      "588:\tlearn: 0.2560663\ttotal: 2.41s\tremaining: 1.68s\n",
      "589:\tlearn: 0.2558793\ttotal: 2.41s\tremaining: 1.68s\n",
      "590:\tlearn: 0.2556859\ttotal: 2.42s\tremaining: 1.67s\n",
      "591:\tlearn: 0.2554456\ttotal: 2.42s\tremaining: 1.67s\n",
      "592:\tlearn: 0.2553190\ttotal: 2.42s\tremaining: 1.66s\n",
      "593:\tlearn: 0.2551521\ttotal: 2.43s\tremaining: 1.66s\n",
      "594:\tlearn: 0.2549833\ttotal: 2.44s\tremaining: 1.66s\n",
      "595:\tlearn: 0.2548083\ttotal: 2.44s\tremaining: 1.66s\n",
      "596:\tlearn: 0.2545761\ttotal: 2.45s\tremaining: 1.65s\n",
      "597:\tlearn: 0.2544433\ttotal: 2.46s\tremaining: 1.65s\n",
      "598:\tlearn: 0.2542338\ttotal: 2.46s\tremaining: 1.65s\n",
      "599:\tlearn: 0.2538727\ttotal: 2.46s\tremaining: 1.64s\n",
      "600:\tlearn: 0.2536845\ttotal: 2.47s\tremaining: 1.64s\n",
      "601:\tlearn: 0.2534035\ttotal: 2.47s\tremaining: 1.63s\n",
      "602:\tlearn: 0.2532922\ttotal: 2.48s\tremaining: 1.63s\n",
      "603:\tlearn: 0.2532031\ttotal: 2.48s\tremaining: 1.63s\n",
      "604:\tlearn: 0.2530318\ttotal: 2.48s\tremaining: 1.62s\n",
      "605:\tlearn: 0.2528645\ttotal: 2.49s\tremaining: 1.62s\n",
      "606:\tlearn: 0.2527803\ttotal: 2.49s\tremaining: 1.61s\n",
      "607:\tlearn: 0.2525757\ttotal: 2.5s\tremaining: 1.61s\n",
      "608:\tlearn: 0.2524885\ttotal: 2.5s\tremaining: 1.6s\n",
      "609:\tlearn: 0.2522937\ttotal: 2.5s\tremaining: 1.6s\n",
      "610:\tlearn: 0.2521442\ttotal: 2.51s\tremaining: 1.6s\n",
      "611:\tlearn: 0.2519713\ttotal: 2.51s\tremaining: 1.59s\n",
      "612:\tlearn: 0.2518967\ttotal: 2.52s\tremaining: 1.59s\n",
      "613:\tlearn: 0.2516943\ttotal: 2.52s\tremaining: 1.58s\n",
      "614:\tlearn: 0.2516146\ttotal: 2.52s\tremaining: 1.58s\n",
      "615:\tlearn: 0.2514685\ttotal: 2.53s\tremaining: 1.58s\n",
      "616:\tlearn: 0.2513347\ttotal: 2.53s\tremaining: 1.57s\n",
      "617:\tlearn: 0.2511901\ttotal: 2.54s\tremaining: 1.57s\n",
      "618:\tlearn: 0.2510435\ttotal: 2.54s\tremaining: 1.56s\n",
      "619:\tlearn: 0.2509904\ttotal: 2.54s\tremaining: 1.56s\n",
      "620:\tlearn: 0.2508723\ttotal: 2.55s\tremaining: 1.55s\n",
      "621:\tlearn: 0.2507605\ttotal: 2.55s\tremaining: 1.55s\n",
      "622:\tlearn: 0.2506514\ttotal: 2.56s\tremaining: 1.55s\n",
      "623:\tlearn: 0.2505690\ttotal: 2.56s\tremaining: 1.54s\n",
      "624:\tlearn: 0.2504429\ttotal: 2.56s\tremaining: 1.54s\n",
      "625:\tlearn: 0.2502037\ttotal: 2.57s\tremaining: 1.53s\n",
      "626:\tlearn: 0.2500324\ttotal: 2.57s\tremaining: 1.53s\n",
      "627:\tlearn: 0.2498356\ttotal: 2.58s\tremaining: 1.53s\n",
      "628:\tlearn: 0.2496187\ttotal: 2.58s\tremaining: 1.52s\n",
      "629:\tlearn: 0.2492907\ttotal: 2.58s\tremaining: 1.52s\n",
      "630:\tlearn: 0.2491276\ttotal: 2.59s\tremaining: 1.51s\n",
      "631:\tlearn: 0.2489653\ttotal: 2.6s\tremaining: 1.51s\n",
      "632:\tlearn: 0.2488764\ttotal: 2.6s\tremaining: 1.51s\n",
      "633:\tlearn: 0.2487153\ttotal: 2.61s\tremaining: 1.5s\n",
      "634:\tlearn: 0.2483102\ttotal: 2.61s\tremaining: 1.5s\n",
      "635:\tlearn: 0.2481080\ttotal: 2.62s\tremaining: 1.5s\n",
      "636:\tlearn: 0.2479784\ttotal: 2.62s\tremaining: 1.5s\n",
      "637:\tlearn: 0.2477993\ttotal: 2.63s\tremaining: 1.49s\n",
      "638:\tlearn: 0.2475834\ttotal: 2.63s\tremaining: 1.49s\n",
      "639:\tlearn: 0.2475229\ttotal: 2.64s\tremaining: 1.48s\n",
      "640:\tlearn: 0.2473364\ttotal: 2.64s\tremaining: 1.48s\n",
      "641:\tlearn: 0.2471953\ttotal: 2.65s\tremaining: 1.48s\n",
      "642:\tlearn: 0.2470357\ttotal: 2.65s\tremaining: 1.47s\n",
      "643:\tlearn: 0.2468030\ttotal: 2.66s\tremaining: 1.47s\n",
      "644:\tlearn: 0.2465601\ttotal: 2.66s\tremaining: 1.46s\n",
      "645:\tlearn: 0.2464405\ttotal: 2.66s\tremaining: 1.46s\n",
      "646:\tlearn: 0.2463249\ttotal: 2.67s\tremaining: 1.46s\n",
      "647:\tlearn: 0.2461445\ttotal: 2.67s\tremaining: 1.45s\n",
      "648:\tlearn: 0.2459683\ttotal: 2.68s\tremaining: 1.45s\n",
      "649:\tlearn: 0.2459187\ttotal: 2.68s\tremaining: 1.44s\n",
      "650:\tlearn: 0.2458331\ttotal: 2.68s\tremaining: 1.44s\n",
      "651:\tlearn: 0.2456622\ttotal: 2.69s\tremaining: 1.44s\n",
      "652:\tlearn: 0.2455764\ttotal: 2.69s\tremaining: 1.43s\n",
      "653:\tlearn: 0.2454094\ttotal: 2.7s\tremaining: 1.43s\n",
      "654:\tlearn: 0.2453070\ttotal: 2.7s\tremaining: 1.42s\n",
      "655:\tlearn: 0.2451863\ttotal: 2.7s\tremaining: 1.42s\n",
      "656:\tlearn: 0.2450994\ttotal: 2.71s\tremaining: 1.41s\n",
      "657:\tlearn: 0.2450153\ttotal: 2.71s\tremaining: 1.41s\n",
      "658:\tlearn: 0.2446097\ttotal: 2.72s\tremaining: 1.41s\n",
      "659:\tlearn: 0.2445245\ttotal: 2.72s\tremaining: 1.4s\n",
      "660:\tlearn: 0.2443399\ttotal: 2.72s\tremaining: 1.4s\n",
      "661:\tlearn: 0.2441501\ttotal: 2.73s\tremaining: 1.39s\n",
      "662:\tlearn: 0.2439630\ttotal: 2.73s\tremaining: 1.39s\n",
      "663:\tlearn: 0.2437682\ttotal: 2.73s\tremaining: 1.38s\n",
      "664:\tlearn: 0.2435464\ttotal: 2.74s\tremaining: 1.38s\n",
      "665:\tlearn: 0.2432613\ttotal: 2.74s\tremaining: 1.38s\n",
      "666:\tlearn: 0.2430797\ttotal: 2.75s\tremaining: 1.37s\n",
      "667:\tlearn: 0.2429861\ttotal: 2.75s\tremaining: 1.37s\n",
      "668:\tlearn: 0.2428818\ttotal: 2.76s\tremaining: 1.36s\n",
      "669:\tlearn: 0.2428300\ttotal: 2.76s\tremaining: 1.36s\n",
      "670:\tlearn: 0.2424793\ttotal: 2.77s\tremaining: 1.36s\n",
      "671:\tlearn: 0.2423667\ttotal: 2.77s\tremaining: 1.35s\n",
      "672:\tlearn: 0.2422164\ttotal: 2.78s\tremaining: 1.35s\n",
      "673:\tlearn: 0.2420844\ttotal: 2.79s\tremaining: 1.35s\n",
      "674:\tlearn: 0.2419211\ttotal: 2.79s\tremaining: 1.34s\n",
      "675:\tlearn: 0.2417691\ttotal: 2.8s\tremaining: 1.34s\n",
      "676:\tlearn: 0.2416796\ttotal: 2.8s\tremaining: 1.34s\n",
      "677:\tlearn: 0.2415952\ttotal: 2.81s\tremaining: 1.33s\n",
      "678:\tlearn: 0.2414925\ttotal: 2.81s\tremaining: 1.33s\n",
      "679:\tlearn: 0.2412105\ttotal: 2.82s\tremaining: 1.33s\n",
      "680:\tlearn: 0.2410208\ttotal: 2.82s\tremaining: 1.32s\n",
      "681:\tlearn: 0.2408223\ttotal: 2.83s\tremaining: 1.32s\n",
      "682:\tlearn: 0.2406265\ttotal: 2.83s\tremaining: 1.31s\n",
      "683:\tlearn: 0.2404572\ttotal: 2.84s\tremaining: 1.31s\n",
      "684:\tlearn: 0.2402161\ttotal: 2.84s\tremaining: 1.31s\n",
      "685:\tlearn: 0.2399192\ttotal: 2.85s\tremaining: 1.3s\n",
      "686:\tlearn: 0.2398088\ttotal: 2.85s\tremaining: 1.3s\n",
      "687:\tlearn: 0.2396273\ttotal: 2.85s\tremaining: 1.29s\n",
      "688:\tlearn: 0.2395036\ttotal: 2.86s\tremaining: 1.29s\n",
      "689:\tlearn: 0.2393612\ttotal: 2.86s\tremaining: 1.29s\n",
      "690:\tlearn: 0.2391355\ttotal: 2.87s\tremaining: 1.28s\n",
      "691:\tlearn: 0.2389393\ttotal: 2.87s\tremaining: 1.28s\n",
      "692:\tlearn: 0.2388758\ttotal: 2.88s\tremaining: 1.27s\n",
      "693:\tlearn: 0.2385949\ttotal: 2.88s\tremaining: 1.27s\n",
      "694:\tlearn: 0.2384428\ttotal: 2.88s\tremaining: 1.27s\n",
      "695:\tlearn: 0.2382581\ttotal: 2.89s\tremaining: 1.26s\n",
      "696:\tlearn: 0.2379732\ttotal: 2.89s\tremaining: 1.26s\n",
      "697:\tlearn: 0.2377417\ttotal: 2.9s\tremaining: 1.25s\n",
      "698:\tlearn: 0.2375917\ttotal: 2.9s\tremaining: 1.25s\n",
      "699:\tlearn: 0.2374017\ttotal: 2.9s\tremaining: 1.24s\n",
      "700:\tlearn: 0.2372113\ttotal: 2.91s\tremaining: 1.24s\n",
      "701:\tlearn: 0.2370185\ttotal: 2.91s\tremaining: 1.24s\n",
      "702:\tlearn: 0.2368379\ttotal: 2.92s\tremaining: 1.23s\n",
      "703:\tlearn: 0.2364391\ttotal: 2.92s\tremaining: 1.23s\n",
      "704:\tlearn: 0.2361192\ttotal: 2.92s\tremaining: 1.22s\n",
      "705:\tlearn: 0.2359548\ttotal: 2.93s\tremaining: 1.22s\n",
      "706:\tlearn: 0.2356960\ttotal: 2.93s\tremaining: 1.21s\n",
      "707:\tlearn: 0.2355552\ttotal: 2.94s\tremaining: 1.21s\n",
      "708:\tlearn: 0.2354165\ttotal: 2.94s\tremaining: 1.21s\n",
      "709:\tlearn: 0.2352885\ttotal: 2.94s\tremaining: 1.2s\n",
      "710:\tlearn: 0.2351240\ttotal: 2.95s\tremaining: 1.2s\n",
      "711:\tlearn: 0.2348939\ttotal: 2.95s\tremaining: 1.19s\n",
      "712:\tlearn: 0.2346078\ttotal: 2.96s\tremaining: 1.19s\n",
      "713:\tlearn: 0.2344981\ttotal: 2.96s\tremaining: 1.19s\n",
      "714:\tlearn: 0.2342201\ttotal: 2.96s\tremaining: 1.18s\n",
      "715:\tlearn: 0.2340840\ttotal: 2.97s\tremaining: 1.18s\n",
      "716:\tlearn: 0.2337506\ttotal: 2.97s\tremaining: 1.17s\n",
      "717:\tlearn: 0.2335812\ttotal: 2.98s\tremaining: 1.17s\n",
      "718:\tlearn: 0.2334450\ttotal: 2.98s\tremaining: 1.16s\n",
      "719:\tlearn: 0.2332846\ttotal: 2.98s\tremaining: 1.16s\n",
      "720:\tlearn: 0.2330310\ttotal: 2.99s\tremaining: 1.16s\n",
      "721:\tlearn: 0.2328971\ttotal: 2.99s\tremaining: 1.15s\n",
      "722:\tlearn: 0.2327567\ttotal: 3s\tremaining: 1.15s\n",
      "723:\tlearn: 0.2326547\ttotal: 3s\tremaining: 1.14s\n",
      "724:\tlearn: 0.2324718\ttotal: 3s\tremaining: 1.14s\n",
      "725:\tlearn: 0.2322708\ttotal: 3.01s\tremaining: 1.14s\n",
      "726:\tlearn: 0.2320800\ttotal: 3.01s\tremaining: 1.13s\n",
      "727:\tlearn: 0.2318676\ttotal: 3.02s\tremaining: 1.13s\n",
      "728:\tlearn: 0.2316814\ttotal: 3.02s\tremaining: 1.12s\n",
      "729:\tlearn: 0.2314604\ttotal: 3.02s\tremaining: 1.12s\n",
      "730:\tlearn: 0.2312111\ttotal: 3.03s\tremaining: 1.11s\n",
      "731:\tlearn: 0.2310470\ttotal: 3.03s\tremaining: 1.11s\n",
      "732:\tlearn: 0.2309910\ttotal: 3.04s\tremaining: 1.11s\n",
      "733:\tlearn: 0.2308512\ttotal: 3.04s\tremaining: 1.1s\n",
      "734:\tlearn: 0.2306194\ttotal: 3.04s\tremaining: 1.1s\n",
      "735:\tlearn: 0.2304246\ttotal: 3.05s\tremaining: 1.09s\n",
      "736:\tlearn: 0.2302820\ttotal: 3.05s\tremaining: 1.09s\n",
      "737:\tlearn: 0.2300638\ttotal: 3.06s\tremaining: 1.08s\n",
      "738:\tlearn: 0.2298759\ttotal: 3.06s\tremaining: 1.08s\n",
      "739:\tlearn: 0.2296838\ttotal: 3.06s\tremaining: 1.08s\n",
      "740:\tlearn: 0.2296419\ttotal: 3.07s\tremaining: 1.07s\n",
      "741:\tlearn: 0.2293882\ttotal: 3.07s\tremaining: 1.07s\n",
      "742:\tlearn: 0.2292389\ttotal: 3.08s\tremaining: 1.06s\n",
      "743:\tlearn: 0.2291392\ttotal: 3.08s\tremaining: 1.06s\n",
      "744:\tlearn: 0.2290377\ttotal: 3.08s\tremaining: 1.05s\n",
      "745:\tlearn: 0.2289379\ttotal: 3.09s\tremaining: 1.05s\n",
      "746:\tlearn: 0.2286102\ttotal: 3.09s\tremaining: 1.05s\n",
      "747:\tlearn: 0.2284422\ttotal: 3.1s\tremaining: 1.04s\n",
      "748:\tlearn: 0.2282556\ttotal: 3.1s\tremaining: 1.04s\n",
      "749:\tlearn: 0.2280965\ttotal: 3.1s\tremaining: 1.03s\n",
      "750:\tlearn: 0.2279489\ttotal: 3.11s\tremaining: 1.03s\n",
      "751:\tlearn: 0.2278889\ttotal: 3.11s\tremaining: 1.02s\n",
      "752:\tlearn: 0.2277473\ttotal: 3.11s\tremaining: 1.02s\n",
      "753:\tlearn: 0.2275482\ttotal: 3.12s\tremaining: 1.02s\n",
      "754:\tlearn: 0.2273567\ttotal: 3.12s\tremaining: 1.01s\n",
      "755:\tlearn: 0.2272462\ttotal: 3.13s\tremaining: 1.01s\n",
      "756:\tlearn: 0.2271184\ttotal: 3.13s\tremaining: 1s\n",
      "757:\tlearn: 0.2269664\ttotal: 3.13s\tremaining: 1s\n",
      "758:\tlearn: 0.2267477\ttotal: 3.14s\tremaining: 996ms\n",
      "759:\tlearn: 0.2265436\ttotal: 3.14s\tremaining: 992ms\n",
      "760:\tlearn: 0.2263647\ttotal: 3.14s\tremaining: 987ms\n",
      "761:\tlearn: 0.2263089\ttotal: 3.15s\tremaining: 983ms\n",
      "762:\tlearn: 0.2261633\ttotal: 3.15s\tremaining: 979ms\n",
      "763:\tlearn: 0.2260283\ttotal: 3.15s\tremaining: 975ms\n",
      "764:\tlearn: 0.2256537\ttotal: 3.16s\tremaining: 971ms\n",
      "765:\tlearn: 0.2254234\ttotal: 3.16s\tremaining: 966ms\n",
      "766:\tlearn: 0.2253006\ttotal: 3.17s\tremaining: 962ms\n",
      "767:\tlearn: 0.2252096\ttotal: 3.17s\tremaining: 958ms\n",
      "768:\tlearn: 0.2250728\ttotal: 3.17s\tremaining: 954ms\n",
      "769:\tlearn: 0.2248322\ttotal: 3.18s\tremaining: 950ms\n",
      "770:\tlearn: 0.2246742\ttotal: 3.18s\tremaining: 945ms\n",
      "771:\tlearn: 0.2245130\ttotal: 3.19s\tremaining: 941ms\n",
      "772:\tlearn: 0.2243440\ttotal: 3.19s\tremaining: 937ms\n",
      "773:\tlearn: 0.2242247\ttotal: 3.19s\tremaining: 933ms\n",
      "774:\tlearn: 0.2241569\ttotal: 3.2s\tremaining: 928ms\n",
      "775:\tlearn: 0.2240635\ttotal: 3.2s\tremaining: 924ms\n",
      "776:\tlearn: 0.2239781\ttotal: 3.21s\tremaining: 920ms\n",
      "777:\tlearn: 0.2238072\ttotal: 3.21s\tremaining: 916ms\n",
      "778:\tlearn: 0.2236123\ttotal: 3.21s\tremaining: 912ms\n",
      "779:\tlearn: 0.2234901\ttotal: 3.22s\tremaining: 907ms\n",
      "780:\tlearn: 0.2232855\ttotal: 3.22s\tremaining: 903ms\n",
      "781:\tlearn: 0.2231609\ttotal: 3.22s\tremaining: 899ms\n",
      "782:\tlearn: 0.2228671\ttotal: 3.23s\tremaining: 895ms\n",
      "783:\tlearn: 0.2226917\ttotal: 3.23s\tremaining: 891ms\n",
      "784:\tlearn: 0.2225740\ttotal: 3.24s\tremaining: 886ms\n",
      "785:\tlearn: 0.2223674\ttotal: 3.24s\tremaining: 882ms\n",
      "786:\tlearn: 0.2221120\ttotal: 3.24s\tremaining: 878ms\n",
      "787:\tlearn: 0.2219790\ttotal: 3.25s\tremaining: 874ms\n",
      "788:\tlearn: 0.2218662\ttotal: 3.25s\tremaining: 870ms\n",
      "789:\tlearn: 0.2216595\ttotal: 3.25s\tremaining: 865ms\n",
      "790:\tlearn: 0.2215821\ttotal: 3.26s\tremaining: 861ms\n",
      "791:\tlearn: 0.2214264\ttotal: 3.26s\tremaining: 857ms\n",
      "792:\tlearn: 0.2213030\ttotal: 3.27s\tremaining: 853ms\n",
      "793:\tlearn: 0.2210656\ttotal: 3.27s\tremaining: 849ms\n",
      "794:\tlearn: 0.2210102\ttotal: 3.27s\tremaining: 844ms\n",
      "795:\tlearn: 0.2208204\ttotal: 3.28s\tremaining: 840ms\n",
      "796:\tlearn: 0.2207330\ttotal: 3.28s\tremaining: 836ms\n",
      "797:\tlearn: 0.2205519\ttotal: 3.29s\tremaining: 832ms\n",
      "798:\tlearn: 0.2203581\ttotal: 3.29s\tremaining: 828ms\n",
      "799:\tlearn: 0.2202063\ttotal: 3.29s\tremaining: 823ms\n",
      "800:\tlearn: 0.2200623\ttotal: 3.3s\tremaining: 819ms\n",
      "801:\tlearn: 0.2199090\ttotal: 3.3s\tremaining: 815ms\n",
      "802:\tlearn: 0.2197979\ttotal: 3.3s\tremaining: 811ms\n",
      "803:\tlearn: 0.2195776\ttotal: 3.31s\tremaining: 807ms\n",
      "804:\tlearn: 0.2193032\ttotal: 3.31s\tremaining: 802ms\n",
      "805:\tlearn: 0.2190902\ttotal: 3.32s\tremaining: 798ms\n",
      "806:\tlearn: 0.2189444\ttotal: 3.32s\tremaining: 794ms\n",
      "807:\tlearn: 0.2188127\ttotal: 3.32s\tremaining: 790ms\n",
      "808:\tlearn: 0.2187115\ttotal: 3.33s\tremaining: 786ms\n",
      "809:\tlearn: 0.2186281\ttotal: 3.33s\tremaining: 781ms\n",
      "810:\tlearn: 0.2185756\ttotal: 3.33s\tremaining: 777ms\n",
      "811:\tlearn: 0.2184945\ttotal: 3.34s\tremaining: 773ms\n",
      "812:\tlearn: 0.2183716\ttotal: 3.34s\tremaining: 769ms\n",
      "813:\tlearn: 0.2182503\ttotal: 3.35s\tremaining: 765ms\n",
      "814:\tlearn: 0.2180666\ttotal: 3.35s\tremaining: 761ms\n",
      "815:\tlearn: 0.2179189\ttotal: 3.35s\tremaining: 756ms\n",
      "816:\tlearn: 0.2178521\ttotal: 3.36s\tremaining: 752ms\n",
      "817:\tlearn: 0.2177376\ttotal: 3.36s\tremaining: 748ms\n",
      "818:\tlearn: 0.2176350\ttotal: 3.37s\tremaining: 744ms\n",
      "819:\tlearn: 0.2174443\ttotal: 3.37s\tremaining: 740ms\n",
      "820:\tlearn: 0.2171052\ttotal: 3.37s\tremaining: 736ms\n",
      "821:\tlearn: 0.2168405\ttotal: 3.38s\tremaining: 731ms\n",
      "822:\tlearn: 0.2167212\ttotal: 3.38s\tremaining: 727ms\n",
      "823:\tlearn: 0.2165736\ttotal: 3.38s\tremaining: 723ms\n",
      "824:\tlearn: 0.2164083\ttotal: 3.39s\tremaining: 719ms\n",
      "825:\tlearn: 0.2161956\ttotal: 3.39s\tremaining: 715ms\n",
      "826:\tlearn: 0.2161292\ttotal: 3.4s\tremaining: 711ms\n",
      "827:\tlearn: 0.2159666\ttotal: 3.4s\tremaining: 707ms\n",
      "828:\tlearn: 0.2157857\ttotal: 3.4s\tremaining: 702ms\n",
      "829:\tlearn: 0.2156707\ttotal: 3.41s\tremaining: 698ms\n",
      "830:\tlearn: 0.2155184\ttotal: 3.41s\tremaining: 694ms\n",
      "831:\tlearn: 0.2153900\ttotal: 3.42s\tremaining: 690ms\n",
      "832:\tlearn: 0.2152732\ttotal: 3.42s\tremaining: 686ms\n",
      "833:\tlearn: 0.2150997\ttotal: 3.42s\tremaining: 682ms\n",
      "834:\tlearn: 0.2149232\ttotal: 3.43s\tremaining: 678ms\n",
      "835:\tlearn: 0.2148032\ttotal: 3.43s\tremaining: 673ms\n",
      "836:\tlearn: 0.2146541\ttotal: 3.44s\tremaining: 669ms\n",
      "837:\tlearn: 0.2146039\ttotal: 3.44s\tremaining: 665ms\n",
      "838:\tlearn: 0.2144818\ttotal: 3.44s\tremaining: 661ms\n",
      "839:\tlearn: 0.2143549\ttotal: 3.45s\tremaining: 657ms\n",
      "840:\tlearn: 0.2142476\ttotal: 3.45s\tremaining: 653ms\n",
      "841:\tlearn: 0.2140926\ttotal: 3.46s\tremaining: 649ms\n",
      "842:\tlearn: 0.2139810\ttotal: 3.46s\tremaining: 645ms\n",
      "843:\tlearn: 0.2137178\ttotal: 3.46s\tremaining: 641ms\n",
      "844:\tlearn: 0.2135659\ttotal: 3.47s\tremaining: 636ms\n",
      "845:\tlearn: 0.2134595\ttotal: 3.47s\tremaining: 632ms\n",
      "846:\tlearn: 0.2132399\ttotal: 3.48s\tremaining: 628ms\n",
      "847:\tlearn: 0.2130960\ttotal: 3.48s\tremaining: 624ms\n",
      "848:\tlearn: 0.2130458\ttotal: 3.49s\tremaining: 620ms\n",
      "849:\tlearn: 0.2129173\ttotal: 3.49s\tremaining: 616ms\n",
      "850:\tlearn: 0.2126589\ttotal: 3.49s\tremaining: 612ms\n",
      "851:\tlearn: 0.2125071\ttotal: 3.5s\tremaining: 608ms\n",
      "852:\tlearn: 0.2123409\ttotal: 3.5s\tremaining: 604ms\n",
      "853:\tlearn: 0.2121969\ttotal: 3.51s\tremaining: 599ms\n",
      "854:\tlearn: 0.2120359\ttotal: 3.51s\tremaining: 595ms\n",
      "855:\tlearn: 0.2119278\ttotal: 3.51s\tremaining: 591ms\n",
      "856:\tlearn: 0.2118020\ttotal: 3.52s\tremaining: 587ms\n",
      "857:\tlearn: 0.2115988\ttotal: 3.52s\tremaining: 583ms\n",
      "858:\tlearn: 0.2114446\ttotal: 3.53s\tremaining: 579ms\n",
      "859:\tlearn: 0.2113133\ttotal: 3.53s\tremaining: 575ms\n",
      "860:\tlearn: 0.2111592\ttotal: 3.54s\tremaining: 571ms\n",
      "861:\tlearn: 0.2110438\ttotal: 3.54s\tremaining: 567ms\n",
      "862:\tlearn: 0.2109185\ttotal: 3.54s\tremaining: 563ms\n",
      "863:\tlearn: 0.2108090\ttotal: 3.55s\tremaining: 558ms\n",
      "864:\tlearn: 0.2107075\ttotal: 3.55s\tremaining: 554ms\n",
      "865:\tlearn: 0.2106122\ttotal: 3.56s\tremaining: 550ms\n",
      "866:\tlearn: 0.2104666\ttotal: 3.56s\tremaining: 546ms\n",
      "867:\tlearn: 0.2103687\ttotal: 3.56s\tremaining: 542ms\n",
      "868:\tlearn: 0.2102201\ttotal: 3.57s\tremaining: 538ms\n",
      "869:\tlearn: 0.2101564\ttotal: 3.57s\tremaining: 534ms\n",
      "870:\tlearn: 0.2099699\ttotal: 3.58s\tremaining: 530ms\n",
      "871:\tlearn: 0.2098686\ttotal: 3.58s\tremaining: 525ms\n",
      "872:\tlearn: 0.2097543\ttotal: 3.58s\tremaining: 521ms\n",
      "873:\tlearn: 0.2097162\ttotal: 3.59s\tremaining: 517ms\n",
      "874:\tlearn: 0.2095836\ttotal: 3.59s\tremaining: 513ms\n",
      "875:\tlearn: 0.2094204\ttotal: 3.6s\tremaining: 509ms\n",
      "876:\tlearn: 0.2092678\ttotal: 3.6s\tremaining: 505ms\n",
      "877:\tlearn: 0.2090268\ttotal: 3.6s\tremaining: 501ms\n",
      "878:\tlearn: 0.2088533\ttotal: 3.61s\tremaining: 497ms\n",
      "879:\tlearn: 0.2087249\ttotal: 3.61s\tremaining: 492ms\n",
      "880:\tlearn: 0.2086202\ttotal: 3.62s\tremaining: 488ms\n",
      "881:\tlearn: 0.2083910\ttotal: 3.62s\tremaining: 484ms\n",
      "882:\tlearn: 0.2082374\ttotal: 3.62s\tremaining: 480ms\n",
      "883:\tlearn: 0.2080022\ttotal: 3.63s\tremaining: 476ms\n",
      "884:\tlearn: 0.2079053\ttotal: 3.63s\tremaining: 472ms\n",
      "885:\tlearn: 0.2077637\ttotal: 3.63s\tremaining: 468ms\n",
      "886:\tlearn: 0.2075689\ttotal: 3.64s\tremaining: 464ms\n",
      "887:\tlearn: 0.2074429\ttotal: 3.64s\tremaining: 459ms\n",
      "888:\tlearn: 0.2073487\ttotal: 3.65s\tremaining: 455ms\n",
      "889:\tlearn: 0.2072355\ttotal: 3.65s\tremaining: 451ms\n",
      "890:\tlearn: 0.2071099\ttotal: 3.65s\tremaining: 447ms\n",
      "891:\tlearn: 0.2069370\ttotal: 3.66s\tremaining: 443ms\n",
      "892:\tlearn: 0.2068031\ttotal: 3.66s\tremaining: 439ms\n",
      "893:\tlearn: 0.2067400\ttotal: 3.67s\tremaining: 435ms\n",
      "894:\tlearn: 0.2065651\ttotal: 3.67s\tremaining: 431ms\n",
      "895:\tlearn: 0.2063865\ttotal: 3.67s\tremaining: 426ms\n",
      "896:\tlearn: 0.2062720\ttotal: 3.68s\tremaining: 422ms\n",
      "897:\tlearn: 0.2061620\ttotal: 3.68s\tremaining: 418ms\n",
      "898:\tlearn: 0.2060747\ttotal: 3.69s\tremaining: 414ms\n",
      "899:\tlearn: 0.2058785\ttotal: 3.69s\tremaining: 410ms\n",
      "900:\tlearn: 0.2057811\ttotal: 3.69s\tremaining: 406ms\n",
      "901:\tlearn: 0.2056499\ttotal: 3.7s\tremaining: 402ms\n",
      "902:\tlearn: 0.2053818\ttotal: 3.7s\tremaining: 398ms\n",
      "903:\tlearn: 0.2052397\ttotal: 3.71s\tremaining: 394ms\n",
      "904:\tlearn: 0.2051117\ttotal: 3.71s\tremaining: 389ms\n",
      "905:\tlearn: 0.2050223\ttotal: 3.71s\tremaining: 385ms\n",
      "906:\tlearn: 0.2049171\ttotal: 3.72s\tremaining: 381ms\n",
      "907:\tlearn: 0.2047877\ttotal: 3.72s\tremaining: 377ms\n",
      "908:\tlearn: 0.2046238\ttotal: 3.73s\tremaining: 373ms\n",
      "909:\tlearn: 0.2045669\ttotal: 3.73s\tremaining: 369ms\n",
      "910:\tlearn: 0.2044676\ttotal: 3.73s\tremaining: 365ms\n",
      "911:\tlearn: 0.2043703\ttotal: 3.74s\tremaining: 361ms\n",
      "912:\tlearn: 0.2042452\ttotal: 3.74s\tremaining: 357ms\n",
      "913:\tlearn: 0.2041303\ttotal: 3.75s\tremaining: 352ms\n",
      "914:\tlearn: 0.2040821\ttotal: 3.75s\tremaining: 348ms\n",
      "915:\tlearn: 0.2039846\ttotal: 3.75s\tremaining: 344ms\n",
      "916:\tlearn: 0.2038893\ttotal: 3.76s\tremaining: 340ms\n",
      "917:\tlearn: 0.2037866\ttotal: 3.76s\tremaining: 336ms\n",
      "918:\tlearn: 0.2036603\ttotal: 3.77s\tremaining: 332ms\n",
      "919:\tlearn: 0.2034823\ttotal: 3.78s\tremaining: 328ms\n",
      "920:\tlearn: 0.2032800\ttotal: 3.78s\tremaining: 324ms\n",
      "921:\tlearn: 0.2031208\ttotal: 3.79s\tremaining: 320ms\n",
      "922:\tlearn: 0.2030015\ttotal: 3.79s\tremaining: 316ms\n",
      "923:\tlearn: 0.2029184\ttotal: 3.79s\tremaining: 312ms\n",
      "924:\tlearn: 0.2027800\ttotal: 3.8s\tremaining: 308ms\n",
      "925:\tlearn: 0.2026631\ttotal: 3.8s\tremaining: 304ms\n",
      "926:\tlearn: 0.2025064\ttotal: 3.81s\tremaining: 300ms\n",
      "927:\tlearn: 0.2024218\ttotal: 3.81s\tremaining: 296ms\n",
      "928:\tlearn: 0.2022898\ttotal: 3.81s\tremaining: 292ms\n",
      "929:\tlearn: 0.2020922\ttotal: 3.82s\tremaining: 287ms\n",
      "930:\tlearn: 0.2019307\ttotal: 3.82s\tremaining: 283ms\n",
      "931:\tlearn: 0.2016115\ttotal: 3.83s\tremaining: 279ms\n",
      "932:\tlearn: 0.2015036\ttotal: 3.83s\tremaining: 275ms\n",
      "933:\tlearn: 0.2014096\ttotal: 3.83s\tremaining: 271ms\n",
      "934:\tlearn: 0.2013118\ttotal: 3.84s\tremaining: 267ms\n",
      "935:\tlearn: 0.2012369\ttotal: 3.84s\tremaining: 263ms\n",
      "936:\tlearn: 0.2010251\ttotal: 3.85s\tremaining: 259ms\n",
      "937:\tlearn: 0.2009806\ttotal: 3.85s\tremaining: 255ms\n",
      "938:\tlearn: 0.2007123\ttotal: 3.86s\tremaining: 251ms\n",
      "939:\tlearn: 0.2006371\ttotal: 3.87s\tremaining: 247ms\n",
      "940:\tlearn: 0.2005879\ttotal: 3.87s\tremaining: 243ms\n",
      "941:\tlearn: 0.2004330\ttotal: 3.88s\tremaining: 239ms\n",
      "942:\tlearn: 0.2002628\ttotal: 3.88s\tremaining: 235ms\n",
      "943:\tlearn: 0.2001195\ttotal: 3.89s\tremaining: 231ms\n",
      "944:\tlearn: 0.1999360\ttotal: 3.89s\tremaining: 227ms\n",
      "945:\tlearn: 0.1998244\ttotal: 3.9s\tremaining: 223ms\n",
      "946:\tlearn: 0.1997238\ttotal: 3.9s\tremaining: 218ms\n",
      "947:\tlearn: 0.1996630\ttotal: 3.91s\tremaining: 214ms\n",
      "948:\tlearn: 0.1994353\ttotal: 3.91s\tremaining: 210ms\n",
      "949:\tlearn: 0.1993118\ttotal: 3.91s\tremaining: 206ms\n",
      "950:\tlearn: 0.1992015\ttotal: 3.92s\tremaining: 202ms\n",
      "951:\tlearn: 0.1990840\ttotal: 3.92s\tremaining: 198ms\n",
      "952:\tlearn: 0.1989917\ttotal: 3.92s\tremaining: 194ms\n",
      "953:\tlearn: 0.1988856\ttotal: 3.93s\tremaining: 189ms\n",
      "954:\tlearn: 0.1986672\ttotal: 3.93s\tremaining: 185ms\n",
      "955:\tlearn: 0.1985748\ttotal: 3.94s\tremaining: 181ms\n",
      "956:\tlearn: 0.1985247\ttotal: 3.94s\tremaining: 177ms\n",
      "957:\tlearn: 0.1984293\ttotal: 3.94s\tremaining: 173ms\n",
      "958:\tlearn: 0.1982582\ttotal: 3.95s\tremaining: 169ms\n",
      "959:\tlearn: 0.1981400\ttotal: 3.95s\tremaining: 165ms\n",
      "960:\tlearn: 0.1980667\ttotal: 3.96s\tremaining: 161ms\n",
      "961:\tlearn: 0.1978595\ttotal: 3.96s\tremaining: 156ms\n",
      "962:\tlearn: 0.1977726\ttotal: 3.96s\tremaining: 152ms\n",
      "963:\tlearn: 0.1975464\ttotal: 3.97s\tremaining: 148ms\n",
      "964:\tlearn: 0.1974081\ttotal: 3.97s\tremaining: 144ms\n",
      "965:\tlearn: 0.1972442\ttotal: 3.98s\tremaining: 140ms\n",
      "966:\tlearn: 0.1971510\ttotal: 3.98s\tremaining: 136ms\n",
      "967:\tlearn: 0.1971004\ttotal: 3.98s\tremaining: 132ms\n",
      "968:\tlearn: 0.1969958\ttotal: 3.99s\tremaining: 128ms\n",
      "969:\tlearn: 0.1968943\ttotal: 3.99s\tremaining: 123ms\n",
      "970:\tlearn: 0.1966851\ttotal: 4s\tremaining: 119ms\n",
      "971:\tlearn: 0.1965709\ttotal: 4s\tremaining: 115ms\n",
      "972:\tlearn: 0.1964403\ttotal: 4s\tremaining: 111ms\n",
      "973:\tlearn: 0.1963129\ttotal: 4.01s\tremaining: 107ms\n",
      "974:\tlearn: 0.1961628\ttotal: 4.01s\tremaining: 103ms\n",
      "975:\tlearn: 0.1960336\ttotal: 4.02s\tremaining: 98.8ms\n",
      "976:\tlearn: 0.1958878\ttotal: 4.02s\tremaining: 94.6ms\n",
      "977:\tlearn: 0.1957649\ttotal: 4.02s\tremaining: 90.5ms\n",
      "978:\tlearn: 0.1956660\ttotal: 4.03s\tremaining: 86.4ms\n",
      "979:\tlearn: 0.1955951\ttotal: 4.03s\tremaining: 82.3ms\n",
      "980:\tlearn: 0.1955640\ttotal: 4.04s\tremaining: 78.2ms\n",
      "981:\tlearn: 0.1955205\ttotal: 4.04s\tremaining: 74ms\n",
      "982:\tlearn: 0.1954285\ttotal: 4.04s\tremaining: 69.9ms\n",
      "983:\tlearn: 0.1953331\ttotal: 4.05s\tremaining: 65.8ms\n",
      "984:\tlearn: 0.1951577\ttotal: 4.05s\tremaining: 61.7ms\n",
      "985:\tlearn: 0.1950145\ttotal: 4.05s\tremaining: 57.6ms\n",
      "986:\tlearn: 0.1947828\ttotal: 4.06s\tremaining: 53.4ms\n",
      "987:\tlearn: 0.1946825\ttotal: 4.06s\tremaining: 49.3ms\n",
      "988:\tlearn: 0.1946026\ttotal: 4.07s\tremaining: 45.2ms\n",
      "989:\tlearn: 0.1945360\ttotal: 4.07s\tremaining: 41.1ms\n",
      "990:\tlearn: 0.1944512\ttotal: 4.07s\tremaining: 37ms\n",
      "991:\tlearn: 0.1943879\ttotal: 4.08s\tremaining: 32.9ms\n",
      "992:\tlearn: 0.1942574\ttotal: 4.08s\tremaining: 28.8ms\n",
      "993:\tlearn: 0.1941738\ttotal: 4.08s\tremaining: 24.7ms\n",
      "994:\tlearn: 0.1940364\ttotal: 4.09s\tremaining: 20.5ms\n",
      "995:\tlearn: 0.1939471\ttotal: 4.09s\tremaining: 16.4ms\n",
      "996:\tlearn: 0.1938650\ttotal: 4.09s\tremaining: 12.3ms\n",
      "997:\tlearn: 0.1937769\ttotal: 4.1s\tremaining: 8.21ms\n",
      "998:\tlearn: 0.1936870\ttotal: 4.11s\tremaining: 4.11ms\n",
      "999:\tlearn: 0.1935798\ttotal: 4.11s\tremaining: 0us\n"
     ]
    }
   ],
   "source": [
    "model_cat = CatBoostClassifier(random_state=SEED)\n",
    "model_cat.fit(features_upsampled, target_upsampled)\n",
    "pred_proba_up = model_cat.predict_proba(X_test)[:, 1]"
   ]
  },
  {
   "cell_type": "code",
   "execution_count": 78,
   "metadata": {},
   "outputs": [
    {
     "data": {
      "text/plain": [
       "0.8976900430286102"
      ]
     },
     "execution_count": 78,
     "metadata": {},
     "output_type": "execute_result"
    }
   ],
   "source": [
    "roc_auc_score(y_test, pred_proba_up)"
   ]
  },
  {
   "cell_type": "markdown",
   "metadata": {
    "id": "aBbu427At9QI"
   },
   "source": [
    "# ROC AUC"
   ]
  },
  {
   "cell_type": "code",
   "execution_count": 79,
   "metadata": {
    "colab": {
     "base_uri": "https://localhost:8080/",
     "height": 312
    },
    "id": "1HklxX1quoRY",
    "outputId": "bb1ae9de-7592-4b21-f36f-83775f6c2f22"
   },
   "outputs": [
    {
     "data": {
      "image/png": "[encoded data removed]",
      "text/plain": [
       "<Figure size 432x288 with 1 Axes>"
      ]
     },
     "metadata": {
      "needs_background": "light"
     },
     "output_type": "display_data"
    },
    {
     "name": "stdout",
     "output_type": "stream",
     "text": [
      "ROC_AUC Метрика:  0.8976900430286102\n"
     ]
    }
   ],
   "source": [
    "fpr, tpr, treshold = roc_curve(y_test, pred_proba_up)\n",
    "roc_auc = auc(fpr, tpr)\n",
    "# строим график\n",
    "plt.plot(fpr, tpr, color='darkorange',\n",
    "         label='ROC кривая (area = %0.2f)' % roc_auc)\n",
    "plt.plot([0, 1], [0, 1], color='navy', linestyle='--')\n",
    "plt.xlim([0.0, 1.0])\n",
    "plt.ylim([0.0, 1.05])\n",
    "plt.xlabel('False Positive Rate')\n",
    "plt.ylabel('True Positive Rate')\n",
    "plt.title('ROC-кривая')\n",
    "plt.legend(loc=\"lower right\")\n",
    "plt.show()\n",
    "print('ROC_AUC Метрика: ',roc_auc_score(y_test, pred_proba_up))"
   ]
  },
  {
   "cell_type": "markdown",
   "metadata": {
    "id": "XCjJQz0g0hzx"
   },
   "source": [
    "# Общий вывод:\n",
    "\n"
   ]
  },
  {
   "cell_type": "markdown",
   "metadata": {
    "id": "USSa2KR60nU2"
   },
   "source": [
    "В ходе работы был выполнено: \n",
    "\n",
    "- предсказанию того, откажется ли клиент от услуг оператора сотовой связи или нет\n",
    "- были прочитаны  данные   и по ним были сделаны предварительные выводы\n",
    "- произведена первичная обработка данных - переименованы столбцы, изменены типы данных\n",
    "- добавлены 2 новых столбца - целевой признак Churn, который означает отказался ли клиент от услуг и TotalDays, который обозначает сколько по времени пользователь пользовался услугами\n",
    "- проведен исследовательский анализ данных - проанализированы количественные и категоральные признаки, проведена попытка найти связь между ними и целевым признаком\n",
    "- сделаны выводы: со временем вероятность отказа от услуг снижается и обычно отказывались от услуг те, кто платил больше\n",
    "- проведена подготовка данных к обучению моделей: удалены ненужные столбцы, применена техника OHE, датафрейм был разделен на обучающую и тестовую выборки, проведено масштабирование количественных признаков и проведен upsample\n",
    "- обучены 3 модели: LogisticRegression, RandomForestClassifier и CatBoostClassifier\n",
    "\n",
    "\n",
    "\n",
    "В результате обучения лучше все себя показала модель `CatBosstClassifier` и на ней же была достигнута метрика ROC_AUC = 0.891\n",
    "Самые важные факторы - сколько клиент пользуется услугами и сколько он платит в месяц"
   ]
  }
 ],
 "metadata": {
  "ExecuteTimeLog": [
   {
    "duration": 407,
    "start_time": "2022-08-30T10:05:41.007Z"
   },
   {
    "duration": 106,
    "start_time": "2022-08-30T10:05:54.100Z"
   },
   {
    "duration": 45,
    "start_time": "2022-08-30T10:06:05.632Z"
   },
   {
    "duration": 44,
    "start_time": "2022-08-30T10:06:48.516Z"
   },
   {
    "duration": 133,
    "start_time": "2022-08-30T10:09:31.596Z"
   },
   {
    "duration": 245,
    "start_time": "2022-08-30T10:12:17.824Z"
   },
   {
    "duration": 19,
    "start_time": "2022-08-30T10:12:21.102Z"
   },
   {
    "duration": 12,
    "start_time": "2022-08-30T10:12:29.608Z"
   },
   {
    "duration": 113,
    "start_time": "2022-08-30T10:12:44.280Z"
   },
   {
    "duration": 16,
    "start_time": "2022-08-30T10:12:46.736Z"
   },
   {
    "duration": 8,
    "start_time": "2022-08-30T10:12:54.895Z"
   },
   {
    "duration": 7,
    "start_time": "2022-08-30T10:13:01.890Z"
   },
   {
    "duration": 10,
    "start_time": "2022-08-30T10:15:51.912Z"
   },
   {
    "duration": 10,
    "start_time": "2022-08-30T10:15:56.266Z"
   },
   {
    "duration": 8,
    "start_time": "2022-08-30T10:15:59.374Z"
   },
   {
    "duration": 6,
    "start_time": "2022-08-30T10:16:01.918Z"
   },
   {
    "duration": 11,
    "start_time": "2022-08-30T10:16:41.262Z"
   },
   {
    "duration": 7,
    "start_time": "2022-08-30T10:16:53.134Z"
   },
   {
    "duration": 11,
    "start_time": "2022-08-30T10:16:57.122Z"
   },
   {
    "duration": 10,
    "start_time": "2022-08-30T10:17:16.331Z"
   },
   {
    "duration": 12,
    "start_time": "2022-08-30T10:17:33.323Z"
   },
   {
    "duration": 9,
    "start_time": "2022-08-30T11:08:12.290Z"
   },
   {
    "duration": 5,
    "start_time": "2022-08-30T11:08:48.643Z"
   },
   {
    "duration": 4,
    "start_time": "2022-08-30T11:08:56.995Z"
   },
   {
    "duration": 167,
    "start_time": "2022-08-30T11:09:45.325Z"
   },
   {
    "duration": 4,
    "start_time": "2022-08-30T11:09:50.654Z"
   },
   {
    "duration": 9,
    "start_time": "2022-08-30T11:10:23.605Z"
   },
   {
    "duration": 7,
    "start_time": "2022-08-30T11:10:27.117Z"
   },
   {
    "duration": 5,
    "start_time": "2022-08-30T11:10:33.129Z"
   },
   {
    "duration": 4,
    "start_time": "2022-08-30T11:10:48.678Z"
   },
   {
    "duration": 5,
    "start_time": "2022-08-30T11:10:59.637Z"
   },
   {
    "duration": 5,
    "start_time": "2022-08-30T11:11:10.480Z"
   },
   {
    "duration": 5,
    "start_time": "2022-08-30T11:12:00.889Z"
   },
   {
    "duration": 4,
    "start_time": "2022-08-30T11:14:24.279Z"
   },
   {
    "duration": 18,
    "start_time": "2022-08-30T11:15:18.053Z"
   },
   {
    "duration": 10,
    "start_time": "2022-08-30T11:15:44.279Z"
   },
   {
    "duration": 17,
    "start_time": "2022-08-30T11:15:54.202Z"
   },
   {
    "duration": 4,
    "start_time": "2022-08-30T11:17:47.554Z"
   },
   {
    "duration": 6,
    "start_time": "2022-08-30T11:19:06.230Z"
   },
   {
    "duration": 6,
    "start_time": "2022-08-30T11:19:45.790Z"
   },
   {
    "duration": 126,
    "start_time": "2022-08-30T11:19:50.526Z"
   },
   {
    "duration": 125,
    "start_time": "2022-08-30T11:20:00.877Z"
   },
   {
    "duration": 130,
    "start_time": "2022-08-30T11:20:08.950Z"
   },
   {
    "duration": 4,
    "start_time": "2022-08-30T11:21:12.977Z"
   },
   {
    "duration": 6,
    "start_time": "2022-08-30T11:21:16.704Z"
   },
   {
    "duration": 6,
    "start_time": "2022-08-30T11:22:01.140Z"
   },
   {
    "duration": 15,
    "start_time": "2022-08-30T11:22:04.671Z"
   },
   {
    "duration": 580,
    "start_time": "2022-08-30T11:23:23.678Z"
   },
   {
    "duration": 151,
    "start_time": "2022-08-30T11:24:23.438Z"
   },
   {
    "duration": 159,
    "start_time": "2022-08-30T11:24:33.044Z"
   },
   {
    "duration": 833,
    "start_time": "2022-08-30T11:29:49.833Z"
   },
   {
    "duration": 967,
    "start_time": "2022-08-30T11:30:40.171Z"
   },
   {
    "duration": 679,
    "start_time": "2022-08-30T11:30:47.672Z"
   },
   {
    "duration": 7,
    "start_time": "2022-08-30T11:31:24.243Z"
   },
   {
    "duration": 13,
    "start_time": "2022-08-30T11:31:31.276Z"
   },
   {
    "duration": 57,
    "start_time": "2022-08-30T11:31:34.092Z"
   },
   {
    "duration": 9,
    "start_time": "2022-08-30T11:31:38.076Z"
   },
   {
    "duration": 5,
    "start_time": "2022-08-30T11:31:48.698Z"
   },
   {
    "duration": 8,
    "start_time": "2022-08-30T11:31:52.993Z"
   },
   {
    "duration": 12,
    "start_time": "2022-08-30T11:32:03.905Z"
   },
   {
    "duration": 882,
    "start_time": "2022-08-30T11:32:37.843Z"
   },
   {
    "duration": 4,
    "start_time": "2022-08-30T11:34:11.000Z"
   },
   {
    "duration": 4,
    "start_time": "2022-08-30T11:34:19.742Z"
   },
   {
    "duration": 12,
    "start_time": "2022-08-30T11:34:56.167Z"
   },
   {
    "duration": 4,
    "start_time": "2022-08-30T11:34:57.241Z"
   },
   {
    "duration": 11,
    "start_time": "2022-08-30T11:34:59.520Z"
   },
   {
    "duration": 12,
    "start_time": "2022-08-30T11:35:17.211Z"
   },
   {
    "duration": 4,
    "start_time": "2022-08-30T11:35:18.291Z"
   },
   {
    "duration": 12,
    "start_time": "2022-08-30T11:35:18.709Z"
   },
   {
    "duration": 4,
    "start_time": "2022-08-30T11:36:23.447Z"
   },
   {
    "duration": 5,
    "start_time": "2022-08-30T11:36:44.035Z"
   },
   {
    "duration": 115,
    "start_time": "2022-08-30T11:37:38.102Z"
   },
   {
    "duration": 10,
    "start_time": "2022-08-30T11:37:38.907Z"
   },
   {
    "duration": 11,
    "start_time": "2022-08-30T11:37:40.564Z"
   },
   {
    "duration": 649,
    "start_time": "2022-08-30T11:37:43.447Z"
   },
   {
    "duration": 6,
    "start_time": "2022-08-30T11:37:44.512Z"
   },
   {
    "duration": 663,
    "start_time": "2022-08-30T11:39:11.056Z"
   },
   {
    "duration": 8,
    "start_time": "2022-08-30T11:40:19.180Z"
   },
   {
    "duration": 6,
    "start_time": "2022-08-30T11:40:21.423Z"
   },
   {
    "duration": 13,
    "start_time": "2022-08-30T11:40:23.839Z"
   },
   {
    "duration": 18,
    "start_time": "2022-08-30T11:41:23.660Z"
   },
   {
    "duration": 13,
    "start_time": "2022-08-30T11:41:53.968Z"
   },
   {
    "duration": 7,
    "start_time": "2022-08-30T11:42:04.851Z"
   },
   {
    "duration": 13,
    "start_time": "2022-08-30T11:43:39.750Z"
   },
   {
    "duration": 12,
    "start_time": "2022-08-30T11:43:46.569Z"
   },
   {
    "duration": 6,
    "start_time": "2022-08-30T11:43:47.983Z"
   },
   {
    "duration": 4,
    "start_time": "2022-08-30T11:44:10.358Z"
   },
   {
    "duration": 6,
    "start_time": "2022-08-30T11:44:21.833Z"
   },
   {
    "duration": 3,
    "start_time": "2022-08-30T11:44:43.125Z"
   },
   {
    "duration": 6,
    "start_time": "2022-08-30T11:44:43.535Z"
   },
   {
    "duration": 3,
    "start_time": "2022-08-30T11:44:50.854Z"
   },
   {
    "duration": 6,
    "start_time": "2022-08-30T11:45:03.889Z"
   },
   {
    "duration": 12,
    "start_time": "2022-08-30T11:50:10.298Z"
   },
   {
    "duration": 8,
    "start_time": "2022-08-30T11:50:17.721Z"
   },
   {
    "duration": 6,
    "start_time": "2022-08-30T11:50:22.543Z"
   },
   {
    "duration": 4,
    "start_time": "2022-08-30T11:50:29.649Z"
   },
   {
    "duration": 6,
    "start_time": "2022-08-30T11:50:36.452Z"
   },
   {
    "duration": 13,
    "start_time": "2022-08-30T11:50:49.322Z"
   },
   {
    "duration": 3,
    "start_time": "2022-08-30T11:50:49.855Z"
   },
   {
    "duration": 3,
    "start_time": "2022-08-30T11:50:50.432Z"
   },
   {
    "duration": 5,
    "start_time": "2022-08-30T11:50:51.034Z"
   },
   {
    "duration": 16,
    "start_time": "2022-08-30T11:51:38.558Z"
   },
   {
    "duration": 16,
    "start_time": "2022-08-30T11:51:58.902Z"
   },
   {
    "duration": 6,
    "start_time": "2022-08-30T11:52:52.597Z"
   },
   {
    "duration": 109,
    "start_time": "2022-08-30T11:55:48.733Z"
   },
   {
    "duration": 8,
    "start_time": "2022-08-30T11:55:53.801Z"
   },
   {
    "duration": 16,
    "start_time": "2022-08-30T11:56:02.086Z"
   },
   {
    "duration": 6,
    "start_time": "2022-08-30T12:01:06.366Z"
   },
   {
    "duration": 3,
    "start_time": "2022-08-30T12:01:54.528Z"
   },
   {
    "duration": 18,
    "start_time": "2022-08-30T12:01:57.637Z"
   },
   {
    "duration": 12,
    "start_time": "2022-08-30T12:03:27.399Z"
   },
   {
    "duration": 4,
    "start_time": "2022-08-30T12:03:46.330Z"
   },
   {
    "duration": 16,
    "start_time": "2022-08-30T12:03:46.904Z"
   },
   {
    "duration": 3,
    "start_time": "2022-08-30T12:03:53.785Z"
   },
   {
    "duration": 18,
    "start_time": "2022-08-30T12:03:54.219Z"
   },
   {
    "duration": 12,
    "start_time": "2022-08-30T12:03:59.777Z"
   },
   {
    "duration": 12,
    "start_time": "2022-08-30T12:17:15.328Z"
   },
   {
    "duration": 3,
    "start_time": "2022-08-31T06:58:53.109Z"
   },
   {
    "duration": 71,
    "start_time": "2022-08-31T07:00:47.405Z"
   },
   {
    "duration": 414,
    "start_time": "2022-08-31T07:03:07.037Z"
   },
   {
    "duration": 330,
    "start_time": "2022-08-31T07:03:07.453Z"
   },
   {
    "duration": 17,
    "start_time": "2022-08-31T07:03:07.785Z"
   },
   {
    "duration": 15,
    "start_time": "2022-08-31T07:03:08.769Z"
   },
   {
    "duration": 5,
    "start_time": "2022-08-31T07:05:50.646Z"
   },
   {
    "duration": 4,
    "start_time": "2022-08-31T07:10:28.837Z"
   },
   {
    "duration": 64,
    "start_time": "2022-08-31T07:10:58.751Z"
   },
   {
    "duration": 14,
    "start_time": "2022-08-31T07:11:20.338Z"
   },
   {
    "duration": 153,
    "start_time": "2022-08-31T07:11:52.901Z"
   },
   {
    "duration": 10,
    "start_time": "2022-08-31T07:11:56.883Z"
   },
   {
    "duration": 7,
    "start_time": "2022-08-31T07:12:19.935Z"
   },
   {
    "duration": 6,
    "start_time": "2022-08-31T07:13:29.165Z"
   },
   {
    "duration": 4,
    "start_time": "2022-08-31T07:14:14.880Z"
   },
   {
    "duration": 5,
    "start_time": "2022-08-31T07:14:15.208Z"
   },
   {
    "duration": 7,
    "start_time": "2022-08-31T07:15:37.681Z"
   },
   {
    "duration": 685,
    "start_time": "2022-08-31T07:18:16.845Z"
   },
   {
    "duration": 7,
    "start_time": "2022-08-31T07:19:54.465Z"
   },
   {
    "duration": 90,
    "start_time": "2022-08-31T07:20:01.883Z"
   },
   {
    "duration": 77044,
    "start_time": "2022-08-31T07:20:04.754Z"
   },
   {
    "duration": 10,
    "start_time": "2022-08-31T07:21:21.800Z"
   },
   {
    "duration": 9,
    "start_time": "2022-08-31T07:27:47.166Z"
   },
   {
    "duration": 12,
    "start_time": "2022-08-31T07:27:56.303Z"
   },
   {
    "duration": 156,
    "start_time": "2022-08-31T07:29:57.138Z"
   },
   {
    "duration": 7,
    "start_time": "2022-08-31T07:31:02.537Z"
   },
   {
    "duration": 135,
    "start_time": "2022-08-31T07:31:10.740Z"
   },
   {
    "duration": 108,
    "start_time": "2022-08-31T07:31:53.574Z"
   },
   {
    "duration": 106,
    "start_time": "2022-08-31T07:32:38.270Z"
   },
   {
    "duration": 63,
    "start_time": "2022-08-31T07:33:11.095Z"
   },
   {
    "duration": 5,
    "start_time": "2022-08-31T07:35:55.123Z"
   },
   {
    "duration": 26513,
    "start_time": "2022-08-31T07:36:19.612Z"
   },
   {
    "duration": 11,
    "start_time": "2022-08-31T07:39:23.602Z"
   },
   {
    "duration": 13,
    "start_time": "2022-08-31T07:39:41.567Z"
   },
   {
    "duration": 36,
    "start_time": "2022-08-31T07:40:12.722Z"
   },
   {
    "duration": 105,
    "start_time": "2022-08-31T07:40:15.338Z"
   },
   {
    "duration": 104,
    "start_time": "2022-08-31T07:40:19.843Z"
   },
   {
    "duration": 12,
    "start_time": "2022-08-31T07:40:45.520Z"
   },
   {
    "duration": 12,
    "start_time": "2022-08-31T07:41:31.363Z"
   },
   {
    "duration": 8,
    "start_time": "2022-08-31T07:42:30.745Z"
   },
   {
    "duration": 107,
    "start_time": "2022-08-31T07:43:12.412Z"
   },
   {
    "duration": 7,
    "start_time": "2022-08-31T07:43:35.771Z"
   },
   {
    "duration": 112,
    "start_time": "2022-08-31T07:43:52.183Z"
   },
   {
    "duration": 11,
    "start_time": "2022-08-31T07:47:51.939Z"
   },
   {
    "duration": 63,
    "start_time": "2022-08-31T07:50:39.889Z"
   },
   {
    "duration": 101,
    "start_time": "2022-08-31T07:51:25.234Z"
   },
   {
    "duration": 102,
    "start_time": "2022-08-31T07:51:49.584Z"
   },
   {
    "duration": 115,
    "start_time": "2022-08-31T07:51:59.303Z"
   },
   {
    "duration": 102,
    "start_time": "2022-08-31T07:52:06.279Z"
   },
   {
    "duration": 102,
    "start_time": "2022-08-31T07:52:18.795Z"
   },
   {
    "duration": 100,
    "start_time": "2022-08-31T07:53:08.452Z"
   },
   {
    "duration": 92,
    "start_time": "2022-08-31T07:53:31.551Z"
   },
   {
    "duration": 131,
    "start_time": "2022-08-31T07:56:08.478Z"
   },
   {
    "duration": 10,
    "start_time": "2022-08-31T08:24:28.951Z"
   },
   {
    "duration": 11,
    "start_time": "2022-08-31T08:30:16.427Z"
   },
   {
    "duration": 18,
    "start_time": "2022-08-31T08:30:20.809Z"
   },
   {
    "duration": 1104,
    "start_time": "2022-08-31T08:30:28.567Z"
   },
   {
    "duration": 854,
    "start_time": "2022-08-31T08:30:35.213Z"
   },
   {
    "duration": 7,
    "start_time": "2022-08-31T08:30:43.723Z"
   },
   {
    "duration": 20,
    "start_time": "2022-08-31T08:30:51.436Z"
   },
   {
    "duration": 1972,
    "start_time": "2022-08-31T08:31:00.182Z"
   },
   {
    "duration": 12,
    "start_time": "2022-08-31T08:31:09.178Z"
   },
   {
    "duration": 11,
    "start_time": "2022-08-31T08:31:15.636Z"
   },
   {
    "duration": 20,
    "start_time": "2022-08-31T08:31:19.914Z"
   },
   {
    "duration": 11,
    "start_time": "2022-08-31T08:31:25.735Z"
   },
   {
    "duration": 28,
    "start_time": "2022-08-31T08:32:11.069Z"
   },
   {
    "duration": 11,
    "start_time": "2022-08-31T08:32:11.844Z"
   },
   {
    "duration": 12,
    "start_time": "2022-08-31T08:32:19.783Z"
   },
   {
    "duration": 11,
    "start_time": "2022-08-31T08:32:20.218Z"
   },
   {
    "duration": 14,
    "start_time": "2022-08-31T08:33:10.060Z"
   },
   {
    "duration": 4,
    "start_time": "2022-08-31T08:33:40.283Z"
   },
   {
    "duration": 64,
    "start_time": "2022-08-31T08:41:01.772Z"
   },
   {
    "duration": 107,
    "start_time": "2022-09-01T11:14:06.727Z"
   },
   {
    "duration": 41,
    "start_time": "2022-09-01T11:17:48.742Z"
   },
   {
    "duration": 433,
    "start_time": "2022-09-01T11:17:58.255Z"
   },
   {
    "duration": 343,
    "start_time": "2022-09-01T11:17:58.690Z"
   },
   {
    "duration": 16,
    "start_time": "2022-09-01T11:17:59.035Z"
   },
   {
    "duration": 14,
    "start_time": "2022-09-01T11:17:59.052Z"
   },
   {
    "duration": 8,
    "start_time": "2022-09-01T11:17:59.068Z"
   },
   {
    "duration": 8,
    "start_time": "2022-09-01T11:17:59.077Z"
   },
   {
    "duration": 7,
    "start_time": "2022-09-01T11:17:59.087Z"
   },
   {
    "duration": 525,
    "start_time": "2022-09-01T11:17:59.096Z"
   },
   {
    "duration": 16,
    "start_time": "2022-09-01T11:17:59.623Z"
   },
   {
    "duration": 208,
    "start_time": "2022-09-01T11:17:59.640Z"
   },
   {
    "duration": 9,
    "start_time": "2022-09-01T11:17:59.850Z"
   },
   {
    "duration": 16,
    "start_time": "2022-09-01T11:17:59.868Z"
   },
   {
    "duration": 120,
    "start_time": "2022-09-01T11:17:59.886Z"
   },
   {
    "duration": 209,
    "start_time": "2022-09-01T11:18:00.009Z"
   },
   {
    "duration": 122,
    "start_time": "2022-09-01T11:18:00.220Z"
   },
   {
    "duration": 112,
    "start_time": "2022-09-01T11:18:00.344Z"
   },
   {
    "duration": 18,
    "start_time": "2022-09-01T11:18:00.458Z"
   },
   {
    "duration": 14,
    "start_time": "2022-09-01T11:18:00.478Z"
   },
   {
    "duration": 126,
    "start_time": "2022-09-01T11:18:00.494Z"
   },
   {
    "duration": 135,
    "start_time": "2022-09-01T11:18:00.622Z"
   },
   {
    "duration": 127,
    "start_time": "2022-09-01T11:18:00.759Z"
   },
   {
    "duration": 118,
    "start_time": "2022-09-01T11:18:00.888Z"
   },
   {
    "duration": 130,
    "start_time": "2022-09-01T11:18:01.008Z"
   },
   {
    "duration": 120,
    "start_time": "2022-09-01T11:18:01.140Z"
   },
   {
    "duration": 118,
    "start_time": "2022-09-01T11:18:01.261Z"
   },
   {
    "duration": 10,
    "start_time": "2022-09-01T11:18:01.381Z"
   },
   {
    "duration": 24,
    "start_time": "2022-09-01T11:18:01.393Z"
   },
   {
    "duration": 167,
    "start_time": "2022-09-01T11:18:01.419Z"
   },
   {
    "duration": 13,
    "start_time": "2022-09-01T11:18:01.589Z"
   },
   {
    "duration": 31,
    "start_time": "2022-09-01T11:18:01.604Z"
   },
   {
    "duration": 19,
    "start_time": "2022-09-01T11:18:01.637Z"
   },
   {
    "duration": 8,
    "start_time": "2022-09-01T11:18:01.658Z"
   },
   {
    "duration": 190,
    "start_time": "2022-09-01T11:18:22.930Z"
   },
   {
    "duration": 71,
    "start_time": "2022-09-01T11:18:50.974Z"
   },
   {
    "duration": 125,
    "start_time": "2022-09-01T11:18:55.738Z"
   },
   {
    "duration": 130,
    "start_time": "2022-09-01T11:19:02.829Z"
   },
   {
    "duration": 140,
    "start_time": "2022-09-01T11:19:24.288Z"
   },
   {
    "duration": 131,
    "start_time": "2022-09-01T11:19:32.614Z"
   },
   {
    "duration": 134,
    "start_time": "2022-09-01T11:19:44.312Z"
   },
   {
    "duration": 173,
    "start_time": "2022-09-01T11:23:04.969Z"
   },
   {
    "duration": 3,
    "start_time": "2022-09-01T11:26:25.421Z"
   },
   {
    "duration": 146,
    "start_time": "2022-09-01T11:26:42.270Z"
   },
   {
    "duration": 137,
    "start_time": "2022-09-01T11:26:46.334Z"
   },
   {
    "duration": 155,
    "start_time": "2022-09-01T11:27:12.445Z"
   },
   {
    "duration": 129,
    "start_time": "2022-09-01T11:27:35.673Z"
   },
   {
    "duration": 135,
    "start_time": "2022-09-01T11:27:39.572Z"
   },
   {
    "duration": 146,
    "start_time": "2022-09-01T11:27:43.264Z"
   },
   {
    "duration": 72,
    "start_time": "2022-09-01T11:27:46.199Z"
   },
   {
    "duration": 120,
    "start_time": "2022-09-01T11:27:51.334Z"
   },
   {
    "duration": 231,
    "start_time": "2022-09-01T11:29:42.707Z"
   },
   {
    "duration": 18,
    "start_time": "2022-09-01T11:51:59.108Z"
   },
   {
    "duration": 17,
    "start_time": "2022-09-01T11:52:04.839Z"
   },
   {
    "duration": 18,
    "start_time": "2022-09-01T11:52:07.772Z"
   },
   {
    "duration": 7,
    "start_time": "2022-09-01T12:03:49.724Z"
   },
   {
    "duration": 8,
    "start_time": "2022-09-01T12:03:59.080Z"
   },
   {
    "duration": 12,
    "start_time": "2022-09-01T12:04:05.715Z"
   },
   {
    "duration": 113,
    "start_time": "2022-09-01T12:04:17.257Z"
   },
   {
    "duration": 8,
    "start_time": "2022-09-01T12:04:20.343Z"
   },
   {
    "duration": 7,
    "start_time": "2022-09-01T12:04:33.365Z"
   },
   {
    "duration": 75,
    "start_time": "2022-09-01T12:04:40.689Z"
   },
   {
    "duration": 7,
    "start_time": "2022-09-01T12:04:43.801Z"
   },
   {
    "duration": 8,
    "start_time": "2022-09-01T12:05:31.875Z"
   },
   {
    "duration": 5,
    "start_time": "2022-09-01T12:05:44.510Z"
   },
   {
    "duration": 751,
    "start_time": "2022-09-01T12:05:51.644Z"
   },
   {
    "duration": 140,
    "start_time": "2022-09-01T12:12:44.553Z"
   },
   {
    "duration": 7,
    "start_time": "2022-09-01T12:12:55.227Z"
   },
   {
    "duration": 121,
    "start_time": "2022-09-01T12:14:06.266Z"
   },
   {
    "duration": 113,
    "start_time": "2022-09-01T12:14:18.882Z"
   },
   {
    "duration": 133,
    "start_time": "2022-09-01T12:15:06.872Z"
   },
   {
    "duration": 113,
    "start_time": "2022-09-01T12:17:07.678Z"
   },
   {
    "duration": 114,
    "start_time": "2022-09-01T12:18:49.746Z"
   },
   {
    "duration": 119,
    "start_time": "2022-09-01T12:19:19.578Z"
   },
   {
    "duration": 107,
    "start_time": "2022-09-01T12:23:08.916Z"
   },
   {
    "duration": 121,
    "start_time": "2022-09-01T12:23:24.590Z"
   },
   {
    "duration": 108,
    "start_time": "2022-09-01T12:24:35.036Z"
   },
   {
    "duration": 106,
    "start_time": "2022-09-01T12:24:48.569Z"
   },
   {
    "duration": 110,
    "start_time": "2022-09-01T12:25:18.909Z"
   },
   {
    "duration": 161,
    "start_time": "2022-09-01T12:26:06.670Z"
   },
   {
    "duration": 107,
    "start_time": "2022-09-01T12:26:34.901Z"
   },
   {
    "duration": 221,
    "start_time": "2022-09-01T12:26:46.880Z"
   },
   {
    "duration": 122,
    "start_time": "2022-09-01T12:27:49.319Z"
   },
   {
    "duration": 2167,
    "start_time": "2022-09-07T12:21:06.914Z"
   },
   {
    "duration": 11293,
    "start_time": "2022-09-07T12:21:09.083Z"
   },
   {
    "duration": 1469,
    "start_time": "2022-09-07T12:21:20.378Z"
   },
   {
    "duration": 120,
    "start_time": "2022-09-07T12:21:21.848Z"
   },
   {
    "duration": 0,
    "start_time": "2022-09-07T12:21:21.972Z"
   },
   {
    "duration": 0,
    "start_time": "2022-09-07T12:21:21.973Z"
   },
   {
    "duration": 0,
    "start_time": "2022-09-07T12:21:21.973Z"
   },
   {
    "duration": 0,
    "start_time": "2022-09-07T12:21:21.974Z"
   },
   {
    "duration": 0,
    "start_time": "2022-09-07T12:21:21.975Z"
   },
   {
    "duration": 0,
    "start_time": "2022-09-07T12:21:21.976Z"
   },
   {
    "duration": 0,
    "start_time": "2022-09-07T12:21:21.976Z"
   },
   {
    "duration": 0,
    "start_time": "2022-09-07T12:21:21.977Z"
   },
   {
    "duration": 0,
    "start_time": "2022-09-07T12:21:21.978Z"
   },
   {
    "duration": 0,
    "start_time": "2022-09-07T12:21:21.979Z"
   },
   {
    "duration": 0,
    "start_time": "2022-09-07T12:21:21.979Z"
   },
   {
    "duration": 0,
    "start_time": "2022-09-07T12:21:21.980Z"
   },
   {
    "duration": 0,
    "start_time": "2022-09-07T12:21:21.981Z"
   },
   {
    "duration": 0,
    "start_time": "2022-09-07T12:21:21.982Z"
   },
   {
    "duration": 0,
    "start_time": "2022-09-07T12:21:21.982Z"
   },
   {
    "duration": 0,
    "start_time": "2022-09-07T12:21:21.983Z"
   },
   {
    "duration": 0,
    "start_time": "2022-09-07T12:21:21.984Z"
   },
   {
    "duration": 0,
    "start_time": "2022-09-07T12:21:21.985Z"
   },
   {
    "duration": 0,
    "start_time": "2022-09-07T12:21:22.011Z"
   },
   {
    "duration": 0,
    "start_time": "2022-09-07T12:21:22.012Z"
   },
   {
    "duration": 0,
    "start_time": "2022-09-07T12:21:22.013Z"
   },
   {
    "duration": 0,
    "start_time": "2022-09-07T12:21:22.014Z"
   },
   {
    "duration": 0,
    "start_time": "2022-09-07T12:21:22.015Z"
   },
   {
    "duration": 0,
    "start_time": "2022-09-07T12:21:22.016Z"
   },
   {
    "duration": 0,
    "start_time": "2022-09-07T12:21:22.017Z"
   },
   {
    "duration": 0,
    "start_time": "2022-09-07T12:21:22.018Z"
   },
   {
    "duration": 0,
    "start_time": "2022-09-07T12:21:22.019Z"
   },
   {
    "duration": 0,
    "start_time": "2022-09-07T12:21:22.020Z"
   },
   {
    "duration": 0,
    "start_time": "2022-09-07T12:21:22.021Z"
   },
   {
    "duration": 0,
    "start_time": "2022-09-07T12:21:22.022Z"
   },
   {
    "duration": 0,
    "start_time": "2022-09-07T12:21:22.023Z"
   },
   {
    "duration": 0,
    "start_time": "2022-09-07T12:21:22.024Z"
   },
   {
    "duration": 0,
    "start_time": "2022-09-07T12:21:22.025Z"
   },
   {
    "duration": 0,
    "start_time": "2022-09-07T12:21:22.026Z"
   },
   {
    "duration": 0,
    "start_time": "2022-09-07T12:21:22.027Z"
   },
   {
    "duration": 0,
    "start_time": "2022-09-07T12:21:22.027Z"
   },
   {
    "duration": 0,
    "start_time": "2022-09-07T12:21:22.028Z"
   },
   {
    "duration": 0,
    "start_time": "2022-09-07T12:21:22.029Z"
   },
   {
    "duration": 0,
    "start_time": "2022-09-07T12:21:22.030Z"
   },
   {
    "duration": 0,
    "start_time": "2022-09-07T12:21:22.031Z"
   },
   {
    "duration": 0,
    "start_time": "2022-09-07T12:21:22.032Z"
   },
   {
    "duration": 0,
    "start_time": "2022-09-07T12:21:22.033Z"
   },
   {
    "duration": 0,
    "start_time": "2022-09-07T12:21:22.034Z"
   },
   {
    "duration": 0,
    "start_time": "2022-09-07T12:21:22.034Z"
   },
   {
    "duration": 0,
    "start_time": "2022-09-07T12:21:22.035Z"
   },
   {
    "duration": 0,
    "start_time": "2022-09-07T12:21:22.036Z"
   },
   {
    "duration": 0,
    "start_time": "2022-09-07T12:21:22.037Z"
   },
   {
    "duration": 0,
    "start_time": "2022-09-07T12:21:22.038Z"
   },
   {
    "duration": 0,
    "start_time": "2022-09-07T12:21:22.039Z"
   },
   {
    "duration": 0,
    "start_time": "2022-09-07T12:21:22.040Z"
   },
   {
    "duration": 0,
    "start_time": "2022-09-07T12:21:22.040Z"
   },
   {
    "duration": 0,
    "start_time": "2022-09-07T12:21:22.041Z"
   },
   {
    "duration": 0,
    "start_time": "2022-09-07T12:21:22.042Z"
   },
   {
    "duration": 0,
    "start_time": "2022-09-07T12:21:22.043Z"
   },
   {
    "duration": 0,
    "start_time": "2022-09-07T12:21:22.044Z"
   },
   {
    "duration": 0,
    "start_time": "2022-09-07T12:21:22.045Z"
   },
   {
    "duration": 0,
    "start_time": "2022-09-07T12:21:22.046Z"
   },
   {
    "duration": 0,
    "start_time": "2022-09-07T12:21:22.047Z"
   },
   {
    "duration": 0,
    "start_time": "2022-09-07T12:21:22.048Z"
   },
   {
    "duration": 0,
    "start_time": "2022-09-07T12:21:22.110Z"
   },
   {
    "duration": 0,
    "start_time": "2022-09-07T12:21:22.111Z"
   },
   {
    "duration": 0,
    "start_time": "2022-09-07T12:21:22.112Z"
   },
   {
    "duration": 0,
    "start_time": "2022-09-07T12:21:22.113Z"
   },
   {
    "duration": 0,
    "start_time": "2022-09-07T12:21:22.114Z"
   },
   {
    "duration": 0,
    "start_time": "2022-09-07T12:21:22.115Z"
   },
   {
    "duration": 0,
    "start_time": "2022-09-07T12:21:22.116Z"
   },
   {
    "duration": 0,
    "start_time": "2022-09-07T12:21:22.117Z"
   },
   {
    "duration": 0,
    "start_time": "2022-09-07T12:21:22.118Z"
   },
   {
    "duration": 0,
    "start_time": "2022-09-07T12:21:22.119Z"
   },
   {
    "duration": 0,
    "start_time": "2022-09-07T12:21:22.120Z"
   },
   {
    "duration": 0,
    "start_time": "2022-09-07T12:21:22.120Z"
   },
   {
    "duration": 0,
    "start_time": "2022-09-07T12:21:22.122Z"
   },
   {
    "duration": 0,
    "start_time": "2022-09-07T12:21:22.122Z"
   },
   {
    "duration": 0,
    "start_time": "2022-09-07T12:21:22.123Z"
   },
   {
    "duration": 0,
    "start_time": "2022-09-07T12:21:22.124Z"
   },
   {
    "duration": 0,
    "start_time": "2022-09-07T12:21:22.125Z"
   },
   {
    "duration": 0,
    "start_time": "2022-09-07T12:21:22.126Z"
   },
   {
    "duration": 0,
    "start_time": "2022-09-07T12:21:22.126Z"
   },
   {
    "duration": 0,
    "start_time": "2022-09-07T12:21:22.127Z"
   },
   {
    "duration": 2,
    "start_time": "2022-09-07T12:23:27.394Z"
   },
   {
    "duration": 324,
    "start_time": "2022-09-07T12:23:28.342Z"
   },
   {
    "duration": 15,
    "start_time": "2022-09-07T12:23:31.822Z"
   },
   {
    "duration": 12,
    "start_time": "2022-09-07T12:23:31.989Z"
   },
   {
    "duration": 14,
    "start_time": "2022-09-07T12:23:32.307Z"
   },
   {
    "duration": 177,
    "start_time": "2022-09-07T12:23:32.493Z"
   },
   {
    "duration": 165,
    "start_time": "2022-09-07T12:23:33.062Z"
   },
   {
    "duration": 12,
    "start_time": "2022-09-07T12:23:33.565Z"
   },
   {
    "duration": 153,
    "start_time": "2022-09-07T12:23:33.875Z"
   },
   {
    "duration": 8,
    "start_time": "2022-09-07T12:23:34.962Z"
   },
   {
    "duration": 10,
    "start_time": "2022-09-07T12:23:35.213Z"
   },
   {
    "duration": 4,
    "start_time": "2022-09-07T12:23:35.512Z"
   },
   {
    "duration": 100,
    "start_time": "2022-09-07T12:23:35.880Z"
   },
   {
    "duration": 114,
    "start_time": "2022-09-07T12:23:36.238Z"
   },
   {
    "duration": 96,
    "start_time": "2022-09-07T12:23:36.567Z"
   },
   {
    "duration": 104,
    "start_time": "2022-09-07T12:23:36.911Z"
   },
   {
    "duration": 10,
    "start_time": "2022-09-07T12:23:38.159Z"
   },
   {
    "duration": 23,
    "start_time": "2022-09-07T12:23:38.170Z"
   },
   {
    "duration": 93,
    "start_time": "2022-09-07T12:23:38.672Z"
   },
   {
    "duration": 97,
    "start_time": "2022-09-07T12:23:39.162Z"
   },
   {
    "duration": 99,
    "start_time": "2022-09-07T12:23:39.386Z"
   },
   {
    "duration": 101,
    "start_time": "2022-09-07T12:23:40.171Z"
   },
   {
    "duration": 98,
    "start_time": "2022-09-07T12:23:41.065Z"
   },
   {
    "duration": 89,
    "start_time": "2022-09-07T12:23:41.892Z"
   },
   {
    "duration": 153,
    "start_time": "2022-09-07T12:23:42.095Z"
   },
   {
    "duration": 6,
    "start_time": "2022-09-07T12:23:44.327Z"
   },
   {
    "duration": 9,
    "start_time": "2022-09-07T12:23:46.508Z"
   },
   {
    "duration": 100,
    "start_time": "2022-09-07T12:23:47.161Z"
   },
   {
    "duration": 5,
    "start_time": "2022-09-07T12:23:48.522Z"
   },
   {
    "duration": 11,
    "start_time": "2022-09-07T12:23:48.939Z"
   },
   {
    "duration": 13,
    "start_time": "2022-09-07T12:23:49.427Z"
   },
   {
    "duration": 6,
    "start_time": "2022-09-07T12:23:49.911Z"
   },
   {
    "duration": 14,
    "start_time": "2022-09-07T12:23:50.301Z"
   },
   {
    "duration": 5,
    "start_time": "2022-09-07T12:23:50.461Z"
   },
   {
    "duration": 9,
    "start_time": "2022-09-07T12:23:51.517Z"
   },
   {
    "duration": 4,
    "start_time": "2022-09-07T12:23:51.746Z"
   },
   {
    "duration": 10,
    "start_time": "2022-09-07T12:23:53.129Z"
   },
   {
    "duration": 3,
    "start_time": "2022-09-07T12:23:54.069Z"
   },
   {
    "duration": 5,
    "start_time": "2022-09-07T12:24:03.261Z"
   },
   {
    "duration": 11,
    "start_time": "2022-09-07T12:24:04.836Z"
   },
   {
    "duration": 4,
    "start_time": "2022-09-07T12:24:14.032Z"
   },
   {
    "duration": 12,
    "start_time": "2022-09-07T12:24:14.582Z"
   },
   {
    "duration": 14,
    "start_time": "2022-09-07T12:24:17.871Z"
   },
   {
    "duration": 12,
    "start_time": "2022-09-07T12:24:18.571Z"
   },
   {
    "duration": 127,
    "start_time": "2022-09-07T12:24:23.527Z"
   },
   {
    "duration": 136,
    "start_time": "2022-09-07T12:24:25.279Z"
   },
   {
    "duration": 139,
    "start_time": "2022-09-07T12:24:26.152Z"
   },
   {
    "duration": 5,
    "start_time": "2022-09-07T12:24:28.339Z"
   },
   {
    "duration": 116,
    "start_time": "2022-09-07T12:24:40.970Z"
   },
   {
    "duration": 6,
    "start_time": "2022-09-07T12:24:43.143Z"
   },
   {
    "duration": 20,
    "start_time": "2022-09-07T12:24:43.427Z"
   },
   {
    "duration": 149,
    "start_time": "2022-09-07T12:24:43.709Z"
   },
   {
    "duration": 2,
    "start_time": "2022-09-07T12:24:55.673Z"
   },
   {
    "duration": 5,
    "start_time": "2022-09-07T12:25:01.210Z"
   },
   {
    "duration": 7,
    "start_time": "2022-09-07T12:25:20.764Z"
   },
   {
    "duration": 9,
    "start_time": "2022-09-07T12:25:49.596Z"
   },
   {
    "duration": 12,
    "start_time": "2022-09-07T12:32:49.163Z"
   },
   {
    "duration": 36,
    "start_time": "2022-09-07T12:53:04.968Z"
   },
   {
    "duration": 22,
    "start_time": "2022-09-07T12:53:05.309Z"
   },
   {
    "duration": 3,
    "start_time": "2022-09-07T12:53:08.611Z"
   },
   {
    "duration": 56,
    "start_time": "2022-09-07T12:53:10.015Z"
   },
   {
    "duration": 11,
    "start_time": "2022-09-07T12:53:16.612Z"
   },
   {
    "duration": 20,
    "start_time": "2022-09-07T12:56:53.862Z"
   },
   {
    "duration": 3,
    "start_time": "2022-09-07T12:57:15.562Z"
   },
   {
    "duration": 6,
    "start_time": "2022-09-07T12:57:16.462Z"
   },
   {
    "duration": 35,
    "start_time": "2022-09-07T12:57:20.070Z"
   },
   {
    "duration": 24,
    "start_time": "2022-09-07T12:57:20.736Z"
   },
   {
    "duration": 8,
    "start_time": "2022-09-07T12:57:29.488Z"
   },
   {
    "duration": 17,
    "start_time": "2022-09-07T12:57:32.157Z"
   },
   {
    "duration": 2108,
    "start_time": "2022-09-07T12:58:20.128Z"
   },
   {
    "duration": 2166,
    "start_time": "2022-09-07T12:58:22.239Z"
   },
   {
    "duration": 1354,
    "start_time": "2022-09-07T12:58:24.407Z"
   },
   {
    "duration": 2,
    "start_time": "2022-09-07T12:58:25.763Z"
   },
   {
    "duration": 121,
    "start_time": "2022-09-07T12:58:25.766Z"
   },
   {
    "duration": 14,
    "start_time": "2022-09-07T12:58:25.888Z"
   },
   {
    "duration": 17,
    "start_time": "2022-09-07T12:58:25.903Z"
   },
   {
    "duration": 14,
    "start_time": "2022-09-07T12:58:25.921Z"
   },
   {
    "duration": 148,
    "start_time": "2022-09-07T12:58:25.937Z"
   },
   {
    "duration": 179,
    "start_time": "2022-09-07T12:58:26.088Z"
   },
   {
    "duration": 12,
    "start_time": "2022-09-07T12:58:26.269Z"
   },
   {
    "duration": 177,
    "start_time": "2022-09-07T12:58:26.282Z"
   },
   {
    "duration": 7,
    "start_time": "2022-09-07T12:58:26.461Z"
   },
   {
    "duration": 12,
    "start_time": "2022-09-07T12:58:26.470Z"
   },
   {
    "duration": 4,
    "start_time": "2022-09-07T12:58:26.483Z"
   },
   {
    "duration": 122,
    "start_time": "2022-09-07T12:58:26.489Z"
   },
   {
    "duration": 121,
    "start_time": "2022-09-07T12:58:26.612Z"
   },
   {
    "duration": 108,
    "start_time": "2022-09-07T12:58:26.735Z"
   },
   {
    "duration": 101,
    "start_time": "2022-09-07T12:58:26.844Z"
   },
   {
    "duration": 10,
    "start_time": "2022-09-07T12:58:26.946Z"
   },
   {
    "duration": 15,
    "start_time": "2022-09-07T12:58:26.958Z"
   },
   {
    "duration": 114,
    "start_time": "2022-09-07T12:58:26.975Z"
   },
   {
    "duration": 99,
    "start_time": "2022-09-07T12:58:27.091Z"
   },
   {
    "duration": 108,
    "start_time": "2022-09-07T12:58:27.192Z"
   },
   {
    "duration": 97,
    "start_time": "2022-09-07T12:58:27.302Z"
   },
   {
    "duration": 124,
    "start_time": "2022-09-07T12:58:27.401Z"
   },
   {
    "duration": 104,
    "start_time": "2022-09-07T12:58:27.527Z"
   },
   {
    "duration": 162,
    "start_time": "2022-09-07T12:58:27.636Z"
   },
   {
    "duration": 15,
    "start_time": "2022-09-07T12:58:27.800Z"
   },
   {
    "duration": 55,
    "start_time": "2022-09-07T12:58:27.817Z"
   },
   {
    "duration": 101,
    "start_time": "2022-09-07T12:58:27.873Z"
   },
   {
    "duration": 4,
    "start_time": "2022-09-07T12:58:27.976Z"
   },
   {
    "duration": 13,
    "start_time": "2022-09-07T12:58:27.982Z"
   },
   {
    "duration": 19,
    "start_time": "2022-09-07T12:58:27.996Z"
   },
   {
    "duration": 8,
    "start_time": "2022-09-07T12:58:28.017Z"
   },
   {
    "duration": 15,
    "start_time": "2022-09-07T12:58:28.027Z"
   },
   {
    "duration": 7,
    "start_time": "2022-09-07T12:58:28.044Z"
   },
   {
    "duration": 10,
    "start_time": "2022-09-07T12:58:28.053Z"
   },
   {
    "duration": 7,
    "start_time": "2022-09-07T12:58:28.065Z"
   },
   {
    "duration": 12,
    "start_time": "2022-09-07T12:58:28.073Z"
   },
   {
    "duration": 3,
    "start_time": "2022-09-07T12:58:28.110Z"
   },
   {
    "duration": 7,
    "start_time": "2022-09-07T12:58:28.115Z"
   },
   {
    "duration": 14,
    "start_time": "2022-09-07T12:58:28.123Z"
   },
   {
    "duration": 7,
    "start_time": "2022-09-07T12:58:28.138Z"
   },
   {
    "duration": 13,
    "start_time": "2022-09-07T12:58:28.146Z"
   },
   {
    "duration": 16,
    "start_time": "2022-09-07T12:58:28.160Z"
   },
   {
    "duration": 11,
    "start_time": "2022-09-07T12:58:28.178Z"
   },
   {
    "duration": 143,
    "start_time": "2022-09-07T12:58:28.190Z"
   },
   {
    "duration": 149,
    "start_time": "2022-09-07T12:58:28.335Z"
   },
   {
    "duration": 155,
    "start_time": "2022-09-07T12:58:28.485Z"
   },
   {
    "duration": 124,
    "start_time": "2022-09-07T12:58:28.642Z"
   },
   {
    "duration": 6,
    "start_time": "2022-09-07T12:58:28.768Z"
   },
   {
    "duration": 87,
    "start_time": "2022-09-07T12:58:28.775Z"
   },
   {
    "duration": 160,
    "start_time": "2022-09-07T12:58:28.863Z"
   },
   {
    "duration": 2,
    "start_time": "2022-09-07T12:58:29.025Z"
   },
   {
    "duration": 15,
    "start_time": "2022-09-07T12:58:29.029Z"
   },
   {
    "duration": 46,
    "start_time": "2022-09-07T12:58:29.045Z"
   },
   {
    "duration": 24,
    "start_time": "2022-09-07T12:58:29.092Z"
   },
   {
    "duration": 3,
    "start_time": "2022-09-07T12:58:29.118Z"
   },
   {
    "duration": 121,
    "start_time": "2022-09-07T12:58:29.122Z"
   },
   {
    "duration": 0,
    "start_time": "2022-09-07T12:58:29.244Z"
   },
   {
    "duration": 0,
    "start_time": "2022-09-07T12:58:29.245Z"
   },
   {
    "duration": 0,
    "start_time": "2022-09-07T12:58:29.246Z"
   },
   {
    "duration": 0,
    "start_time": "2022-09-07T12:58:29.247Z"
   },
   {
    "duration": 0,
    "start_time": "2022-09-07T12:58:29.248Z"
   },
   {
    "duration": 0,
    "start_time": "2022-09-07T12:58:29.249Z"
   },
   {
    "duration": 0,
    "start_time": "2022-09-07T12:58:29.250Z"
   },
   {
    "duration": 0,
    "start_time": "2022-09-07T12:58:29.251Z"
   },
   {
    "duration": 0,
    "start_time": "2022-09-07T12:58:29.252Z"
   },
   {
    "duration": 0,
    "start_time": "2022-09-07T12:58:29.253Z"
   },
   {
    "duration": 0,
    "start_time": "2022-09-07T12:58:29.254Z"
   },
   {
    "duration": 0,
    "start_time": "2022-09-07T12:58:29.255Z"
   },
   {
    "duration": 0,
    "start_time": "2022-09-07T12:58:29.256Z"
   },
   {
    "duration": 0,
    "start_time": "2022-09-07T12:58:29.256Z"
   },
   {
    "duration": 0,
    "start_time": "2022-09-07T12:58:29.258Z"
   },
   {
    "duration": 0,
    "start_time": "2022-09-07T12:58:29.258Z"
   },
   {
    "duration": 1,
    "start_time": "2022-09-07T12:58:29.259Z"
   },
   {
    "duration": 0,
    "start_time": "2022-09-07T12:58:29.261Z"
   },
   {
    "duration": 0,
    "start_time": "2022-09-07T12:58:29.262Z"
   },
   {
    "duration": 0,
    "start_time": "2022-09-07T12:58:29.263Z"
   },
   {
    "duration": 0,
    "start_time": "2022-09-07T12:58:29.264Z"
   },
   {
    "duration": 0,
    "start_time": "2022-09-07T12:58:29.265Z"
   },
   {
    "duration": 10,
    "start_time": "2022-09-07T13:05:48.645Z"
   },
   {
    "duration": 9,
    "start_time": "2022-09-07T13:06:04.129Z"
   },
   {
    "duration": 5,
    "start_time": "2022-09-07T13:06:29.628Z"
   },
   {
    "duration": 7,
    "start_time": "2022-09-07T13:06:32.672Z"
   },
   {
    "duration": 4036,
    "start_time": "2022-09-07T13:06:34.027Z"
   },
   {
    "duration": 8,
    "start_time": "2022-09-07T13:06:40.578Z"
   },
   {
    "duration": 26,
    "start_time": "2022-09-07T13:06:44.879Z"
   },
   {
    "duration": 4,
    "start_time": "2022-09-07T13:07:10.142Z"
   },
   {
    "duration": 19,
    "start_time": "2022-09-07T13:07:39.669Z"
   },
   {
    "duration": 22,
    "start_time": "2022-09-07T13:07:55.443Z"
   },
   {
    "duration": 425,
    "start_time": "2022-09-07T13:09:03.828Z"
   },
   {
    "duration": 450,
    "start_time": "2022-09-07T13:09:15.887Z"
   },
   {
    "duration": 540,
    "start_time": "2022-09-07T13:09:22.307Z"
   },
   {
    "duration": 28,
    "start_time": "2022-09-07T13:09:38.123Z"
   },
   {
    "duration": 445,
    "start_time": "2022-09-07T13:13:50.757Z"
   },
   {
    "duration": 31,
    "start_time": "2022-09-07T13:13:51.524Z"
   },
   {
    "duration": 4619,
    "start_time": "2022-09-07T13:13:51.793Z"
   },
   {
    "duration": 8,
    "start_time": "2022-09-07T13:13:56.414Z"
   },
   {
    "duration": 104,
    "start_time": "2022-09-07T13:13:56.423Z"
   },
   {
    "duration": 172,
    "start_time": "2022-09-07T13:13:56.529Z"
   },
   {
    "duration": 102,
    "start_time": "2022-09-07T13:13:56.702Z"
   },
   {
    "duration": 102,
    "start_time": "2022-09-07T13:13:56.811Z"
   },
   {
    "duration": 6,
    "start_time": "2022-09-07T13:13:56.915Z"
   },
   {
    "duration": 4207,
    "start_time": "2022-09-07T13:13:56.923Z"
   },
   {
    "duration": 4275,
    "start_time": "2022-09-07T13:14:14.379Z"
   },
   {
    "duration": 6,
    "start_time": "2022-09-07T13:14:40.691Z"
   },
   {
    "duration": 11,
    "start_time": "2022-09-07T13:15:47.549Z"
   },
   {
    "duration": 4798,
    "start_time": "2022-09-07T13:15:49.467Z"
   },
   {
    "duration": 5,
    "start_time": "2022-09-07T13:15:54.267Z"
   },
   {
    "duration": 11,
    "start_time": "2022-09-07T13:15:54.274Z"
   },
   {
    "duration": 3346,
    "start_time": "2022-09-07T13:15:54.287Z"
   },
   {
    "duration": 5,
    "start_time": "2022-09-07T13:15:57.635Z"
   },
   {
    "duration": 119,
    "start_time": "2022-09-07T13:16:06.894Z"
   },
   {
    "duration": 123,
    "start_time": "2022-09-07T13:16:34.447Z"
   },
   {
    "duration": 118,
    "start_time": "2022-09-07T13:16:41.999Z"
   },
   {
    "duration": 455,
    "start_time": "2022-09-07T13:18:12.371Z"
   },
   {
    "duration": 26,
    "start_time": "2022-09-07T13:18:29.902Z"
   },
   {
    "duration": 3886,
    "start_time": "2022-09-07T13:18:45.793Z"
   },
   {
    "duration": 76,
    "start_time": "2022-09-07T13:19:26.627Z"
   },
   {
    "duration": 8,
    "start_time": "2022-09-07T13:19:38.769Z"
   },
   {
    "duration": 10,
    "start_time": "2022-09-07T13:19:54.220Z"
   },
   {
    "duration": 9,
    "start_time": "2022-09-07T13:20:03.834Z"
   },
   {
    "duration": 2111,
    "start_time": "2022-09-07T18:58:43.338Z"
   },
   {
    "duration": 11912,
    "start_time": "2022-09-07T18:58:45.451Z"
   },
   {
    "duration": 1552,
    "start_time": "2022-09-07T18:58:57.366Z"
   },
   {
    "duration": 3,
    "start_time": "2022-09-07T18:58:58.920Z"
   },
   {
    "duration": 339,
    "start_time": "2022-09-07T18:58:58.925Z"
   },
   {
    "duration": 15,
    "start_time": "2022-09-07T18:58:59.265Z"
   },
   {
    "duration": 13,
    "start_time": "2022-09-07T18:58:59.281Z"
   },
   {
    "duration": 12,
    "start_time": "2022-09-07T18:58:59.296Z"
   },
   {
    "duration": 146,
    "start_time": "2022-09-07T18:58:59.309Z"
   },
   {
    "duration": 182,
    "start_time": "2022-09-07T18:58:59.456Z"
   },
   {
    "duration": 19,
    "start_time": "2022-09-07T18:58:59.639Z"
   },
   {
    "duration": 173,
    "start_time": "2022-09-07T18:58:59.660Z"
   },
   {
    "duration": 8,
    "start_time": "2022-09-07T18:58:59.834Z"
   },
   {
    "duration": 18,
    "start_time": "2022-09-07T18:58:59.844Z"
   },
   {
    "duration": 4,
    "start_time": "2022-09-07T18:58:59.864Z"
   },
   {
    "duration": 122,
    "start_time": "2022-09-07T18:58:59.869Z"
   },
   {
    "duration": 122,
    "start_time": "2022-09-07T18:58:59.993Z"
   },
   {
    "duration": 109,
    "start_time": "2022-09-07T18:59:00.117Z"
   },
   {
    "duration": 104,
    "start_time": "2022-09-07T18:59:00.228Z"
   },
   {
    "duration": 10,
    "start_time": "2022-09-07T18:59:00.334Z"
   },
   {
    "duration": 12,
    "start_time": "2022-09-07T18:59:00.355Z"
   },
   {
    "duration": 118,
    "start_time": "2022-09-07T18:59:00.368Z"
   },
   {
    "duration": 104,
    "start_time": "2022-09-07T18:59:00.488Z"
   },
   {
    "duration": 98,
    "start_time": "2022-09-07T18:59:00.593Z"
   },
   {
    "duration": 106,
    "start_time": "2022-09-07T18:59:00.693Z"
   },
   {
    "duration": 115,
    "start_time": "2022-09-07T18:59:00.800Z"
   },
   {
    "duration": 183,
    "start_time": "2022-09-07T18:59:00.916Z"
   },
   {
    "duration": 95,
    "start_time": "2022-09-07T18:59:01.100Z"
   },
   {
    "duration": 6,
    "start_time": "2022-09-07T18:59:01.196Z"
   },
   {
    "duration": 19,
    "start_time": "2022-09-07T18:59:01.204Z"
   },
   {
    "duration": 115,
    "start_time": "2022-09-07T18:59:01.224Z"
   },
   {
    "duration": 5,
    "start_time": "2022-09-07T18:59:01.340Z"
   },
   {
    "duration": 25,
    "start_time": "2022-09-07T18:59:01.346Z"
   },
   {
    "duration": 13,
    "start_time": "2022-09-07T18:59:01.372Z"
   },
   {
    "duration": 12,
    "start_time": "2022-09-07T18:59:01.387Z"
   },
   {
    "duration": 23,
    "start_time": "2022-09-07T18:59:01.401Z"
   },
   {
    "duration": 7,
    "start_time": "2022-09-07T18:59:01.426Z"
   },
   {
    "duration": 19,
    "start_time": "2022-09-07T18:59:01.434Z"
   },
   {
    "duration": 7,
    "start_time": "2022-09-07T18:59:01.454Z"
   },
   {
    "duration": 19,
    "start_time": "2022-09-07T18:59:01.462Z"
   },
   {
    "duration": 3,
    "start_time": "2022-09-07T18:59:01.485Z"
   },
   {
    "duration": 13,
    "start_time": "2022-09-07T18:59:01.489Z"
   },
   {
    "duration": 25,
    "start_time": "2022-09-07T18:59:01.503Z"
   },
   {
    "duration": 10,
    "start_time": "2022-09-07T18:59:01.530Z"
   },
   {
    "duration": 17,
    "start_time": "2022-09-07T18:59:01.541Z"
   },
   {
    "duration": 15,
    "start_time": "2022-09-07T18:59:01.560Z"
   },
   {
    "duration": 16,
    "start_time": "2022-09-07T18:59:01.576Z"
   },
   {
    "duration": 136,
    "start_time": "2022-09-07T18:59:01.593Z"
   },
   {
    "duration": 162,
    "start_time": "2022-09-07T18:59:01.730Z"
   },
   {
    "duration": 146,
    "start_time": "2022-09-07T18:59:01.893Z"
   },
   {
    "duration": 128,
    "start_time": "2022-09-07T18:59:02.041Z"
   },
   {
    "duration": 6,
    "start_time": "2022-09-07T18:59:02.170Z"
   },
   {
    "duration": 45,
    "start_time": "2022-09-07T18:59:02.178Z"
   },
   {
    "duration": 166,
    "start_time": "2022-09-07T18:59:02.224Z"
   },
   {
    "duration": 2,
    "start_time": "2022-09-07T18:59:02.392Z"
   },
   {
    "duration": 11,
    "start_time": "2022-09-07T18:59:02.396Z"
   },
   {
    "duration": 46,
    "start_time": "2022-09-07T18:59:02.408Z"
   },
   {
    "duration": 21,
    "start_time": "2022-09-07T18:59:02.456Z"
   },
   {
    "duration": 5,
    "start_time": "2022-09-07T18:59:02.479Z"
   },
   {
    "duration": 4,
    "start_time": "2022-09-07T18:59:02.485Z"
   },
   {
    "duration": 3563,
    "start_time": "2022-09-07T18:59:02.490Z"
   },
   {
    "duration": 8,
    "start_time": "2022-09-07T18:59:06.055Z"
   },
   {
    "duration": 21,
    "start_time": "2022-09-07T18:59:06.064Z"
   },
   {
    "duration": 545,
    "start_time": "2022-09-07T18:59:06.087Z"
   },
   {
    "duration": 0,
    "start_time": "2022-09-07T18:59:06.633Z"
   },
   {
    "duration": 0,
    "start_time": "2022-09-07T18:59:06.634Z"
   },
   {
    "duration": 0,
    "start_time": "2022-09-07T18:59:06.635Z"
   },
   {
    "duration": 0,
    "start_time": "2022-09-07T18:59:06.636Z"
   },
   {
    "duration": 0,
    "start_time": "2022-09-07T18:59:06.637Z"
   },
   {
    "duration": 0,
    "start_time": "2022-09-07T18:59:06.638Z"
   },
   {
    "duration": 0,
    "start_time": "2022-09-07T18:59:06.639Z"
   },
   {
    "duration": 0,
    "start_time": "2022-09-07T18:59:06.640Z"
   },
   {
    "duration": 0,
    "start_time": "2022-09-07T18:59:06.641Z"
   },
   {
    "duration": 0,
    "start_time": "2022-09-07T18:59:06.655Z"
   },
   {
    "duration": 0,
    "start_time": "2022-09-07T18:59:06.656Z"
   },
   {
    "duration": 0,
    "start_time": "2022-09-07T18:59:06.657Z"
   },
   {
    "duration": 0,
    "start_time": "2022-09-07T18:59:06.658Z"
   },
   {
    "duration": 0,
    "start_time": "2022-09-07T18:59:06.658Z"
   },
   {
    "duration": 0,
    "start_time": "2022-09-07T18:59:06.660Z"
   },
   {
    "duration": 0,
    "start_time": "2022-09-07T18:59:06.660Z"
   },
   {
    "duration": 0,
    "start_time": "2022-09-07T18:59:06.661Z"
   },
   {
    "duration": 423,
    "start_time": "2022-09-07T19:00:16.735Z"
   },
   {
    "duration": 377,
    "start_time": "2022-09-07T19:00:58.088Z"
   },
   {
    "duration": 31,
    "start_time": "2022-09-07T19:01:09.320Z"
   },
   {
    "duration": 58,
    "start_time": "2022-09-07T19:01:16.798Z"
   },
   {
    "duration": 4046,
    "start_time": "2022-09-07T19:01:25.122Z"
   },
   {
    "duration": 93,
    "start_time": "2022-09-07T19:02:06.990Z"
   },
   {
    "duration": 12,
    "start_time": "2022-09-07T19:02:10.080Z"
   },
   {
    "duration": 9,
    "start_time": "2022-09-07T19:02:40.164Z"
   },
   {
    "duration": 11,
    "start_time": "2022-09-07T19:03:07.778Z"
   },
   {
    "duration": 9,
    "start_time": "2022-09-07T19:03:20.206Z"
   },
   {
    "duration": 93,
    "start_time": "2022-09-07T19:04:20.883Z"
   },
   {
    "duration": 132,
    "start_time": "2022-09-07T19:04:42.222Z"
   },
   {
    "duration": 127,
    "start_time": "2022-09-07T19:05:23.584Z"
   },
   {
    "duration": 270,
    "start_time": "2022-09-07T19:05:45.641Z"
   },
   {
    "duration": 238,
    "start_time": "2022-09-07T19:06:14.987Z"
   },
   {
    "duration": 104,
    "start_time": "2022-09-07T19:06:30.385Z"
   },
   {
    "duration": 95,
    "start_time": "2022-09-07T19:06:51.390Z"
   },
   {
    "duration": 5,
    "start_time": "2022-09-07T19:06:56.825Z"
   },
   {
    "duration": 3968,
    "start_time": "2022-09-07T19:07:01.487Z"
   },
   {
    "duration": 6,
    "start_time": "2022-09-07T19:07:12.795Z"
   },
   {
    "duration": 8,
    "start_time": "2022-09-07T19:07:54.588Z"
   },
   {
    "duration": 275,
    "start_time": "2022-09-07T19:09:55.909Z"
   },
   {
    "duration": 215,
    "start_time": "2022-09-07T19:09:57.571Z"
   },
   {
    "duration": 5,
    "start_time": "2022-09-07T19:10:08.694Z"
   },
   {
    "duration": 220,
    "start_time": "2022-09-07T19:10:15.950Z"
   },
   {
    "duration": 5,
    "start_time": "2022-09-07T19:10:29.273Z"
   },
   {
    "duration": 105097,
    "start_time": "2022-09-07T19:10:30.368Z"
   },
   {
    "duration": 90,
    "start_time": "2022-09-07T19:12:15.466Z"
   },
   {
    "duration": 127,
    "start_time": "2022-09-07T19:12:41.897Z"
   },
   {
    "duration": 3,
    "start_time": "2022-09-07T19:13:08.527Z"
   },
   {
    "duration": 81,
    "start_time": "2022-09-07T19:13:11.101Z"
   },
   {
    "duration": 402,
    "start_time": "2022-09-07T19:13:18.250Z"
   },
   {
    "duration": 1200,
    "start_time": "2022-09-07T19:13:31.267Z"
   },
   {
    "duration": 16,
    "start_time": "2022-09-07T19:14:59.825Z"
   },
   {
    "duration": 5735,
    "start_time": "2022-09-07T19:15:01.581Z"
   },
   {
    "duration": 8,
    "start_time": "2022-09-07T19:15:07.319Z"
   },
   {
    "duration": 13,
    "start_time": "2022-09-07T19:16:07.648Z"
   },
   {
    "duration": 4409,
    "start_time": "2022-09-07T19:16:08.191Z"
   },
   {
    "duration": 11,
    "start_time": "2022-09-07T19:16:12.603Z"
   },
   {
    "duration": 160,
    "start_time": "2022-09-07T19:16:21.557Z"
   },
   {
    "duration": 4864,
    "start_time": "2022-09-07T19:22:49.248Z"
   },
   {
    "duration": 8,
    "start_time": "2022-09-07T19:22:54.114Z"
   },
   {
    "duration": 2282,
    "start_time": "2022-09-08T18:13:07.066Z"
   },
   {
    "duration": 16336,
    "start_time": "2022-09-08T18:13:09.351Z"
   },
   {
    "duration": 1603,
    "start_time": "2022-09-08T18:13:25.688Z"
   },
   {
    "duration": 3,
    "start_time": "2022-09-08T18:13:27.293Z"
   },
   {
    "duration": 335,
    "start_time": "2022-09-08T18:13:27.297Z"
   },
   {
    "duration": 18,
    "start_time": "2022-09-08T18:13:27.634Z"
   },
   {
    "duration": 28,
    "start_time": "2022-09-08T18:13:27.654Z"
   },
   {
    "duration": 21,
    "start_time": "2022-09-08T18:13:27.684Z"
   },
   {
    "duration": 149,
    "start_time": "2022-09-08T18:13:27.706Z"
   },
   {
    "duration": 195,
    "start_time": "2022-09-08T18:13:27.858Z"
   },
   {
    "duration": 14,
    "start_time": "2022-09-08T18:13:28.056Z"
   },
   {
    "duration": 185,
    "start_time": "2022-09-08T18:13:28.072Z"
   },
   {
    "duration": 8,
    "start_time": "2022-09-08T18:13:28.258Z"
   },
   {
    "duration": 15,
    "start_time": "2022-09-08T18:13:28.268Z"
   },
   {
    "duration": 5,
    "start_time": "2022-09-08T18:13:28.285Z"
   },
   {
    "duration": 127,
    "start_time": "2022-09-08T18:13:28.291Z"
   },
   {
    "duration": 123,
    "start_time": "2022-09-08T18:13:28.420Z"
   },
   {
    "duration": 115,
    "start_time": "2022-09-08T18:13:28.545Z"
   },
   {
    "duration": 104,
    "start_time": "2022-09-08T18:13:28.661Z"
   },
   {
    "duration": 10,
    "start_time": "2022-09-08T18:13:28.766Z"
   },
   {
    "duration": 18,
    "start_time": "2022-09-08T18:13:28.777Z"
   },
   {
    "duration": 152,
    "start_time": "2022-09-08T18:13:28.798Z"
   },
   {
    "duration": 130,
    "start_time": "2022-09-08T18:13:28.951Z"
   },
   {
    "duration": 104,
    "start_time": "2022-09-08T18:13:29.083Z"
   },
   {
    "duration": 105,
    "start_time": "2022-09-08T18:13:29.189Z"
   },
   {
    "duration": 120,
    "start_time": "2022-09-08T18:13:29.296Z"
   },
   {
    "duration": 98,
    "start_time": "2022-09-08T18:13:29.417Z"
   },
   {
    "duration": 192,
    "start_time": "2022-09-08T18:13:29.518Z"
   },
   {
    "duration": 6,
    "start_time": "2022-09-08T18:13:29.712Z"
   },
   {
    "duration": 14,
    "start_time": "2022-09-08T18:13:29.720Z"
   },
   {
    "duration": 112,
    "start_time": "2022-09-08T18:13:29.736Z"
   },
   {
    "duration": 8,
    "start_time": "2022-09-08T18:13:29.849Z"
   },
   {
    "duration": 15,
    "start_time": "2022-09-08T18:13:29.858Z"
   },
   {
    "duration": 11,
    "start_time": "2022-09-08T18:13:29.875Z"
   },
   {
    "duration": 21,
    "start_time": "2022-09-08T18:13:29.888Z"
   },
   {
    "duration": 21,
    "start_time": "2022-09-08T18:13:29.911Z"
   },
   {
    "duration": 4,
    "start_time": "2022-09-08T18:13:29.934Z"
   },
   {
    "duration": 21,
    "start_time": "2022-09-08T18:13:29.939Z"
   },
   {
    "duration": 4,
    "start_time": "2022-09-08T18:13:29.962Z"
   },
   {
    "duration": 11,
    "start_time": "2022-09-08T18:13:29.968Z"
   },
   {
    "duration": 3,
    "start_time": "2022-09-08T18:13:29.980Z"
   },
   {
    "duration": 8,
    "start_time": "2022-09-08T18:13:29.985Z"
   },
   {
    "duration": 13,
    "start_time": "2022-09-08T18:13:29.995Z"
   },
   {
    "duration": 11,
    "start_time": "2022-09-08T18:13:30.010Z"
   },
   {
    "duration": 50,
    "start_time": "2022-09-08T18:13:30.023Z"
   },
   {
    "duration": 19,
    "start_time": "2022-09-08T18:13:30.076Z"
   },
   {
    "duration": 12,
    "start_time": "2022-09-08T18:13:30.096Z"
   },
   {
    "duration": 150,
    "start_time": "2022-09-08T18:13:30.110Z"
   },
   {
    "duration": 166,
    "start_time": "2022-09-08T18:13:30.262Z"
   },
   {
    "duration": 178,
    "start_time": "2022-09-08T18:13:30.430Z"
   },
   {
    "duration": 131,
    "start_time": "2022-09-08T18:13:30.609Z"
   },
   {
    "duration": 14,
    "start_time": "2022-09-08T18:13:30.742Z"
   },
   {
    "duration": 22,
    "start_time": "2022-09-08T18:13:30.758Z"
   },
   {
    "duration": 160,
    "start_time": "2022-09-08T18:13:30.782Z"
   },
   {
    "duration": 12,
    "start_time": "2022-09-08T18:13:30.943Z"
   },
   {
    "duration": 7,
    "start_time": "2022-09-08T18:13:30.957Z"
   },
   {
    "duration": 63,
    "start_time": "2022-09-08T18:13:30.966Z"
   },
   {
    "duration": 52,
    "start_time": "2022-09-08T18:13:31.031Z"
   },
   {
    "duration": 6,
    "start_time": "2022-09-08T18:13:31.085Z"
   },
   {
    "duration": 6,
    "start_time": "2022-09-08T18:13:31.092Z"
   },
   {
    "duration": 3725,
    "start_time": "2022-09-08T18:13:31.100Z"
   },
   {
    "duration": 10,
    "start_time": "2022-09-08T18:13:34.827Z"
   },
   {
    "duration": 23,
    "start_time": "2022-09-08T18:13:34.838Z"
   },
   {
    "duration": 398,
    "start_time": "2022-09-08T18:13:34.863Z"
   },
   {
    "duration": 93,
    "start_time": "2022-09-08T18:13:35.263Z"
   },
   {
    "duration": 4410,
    "start_time": "2022-09-08T18:13:35.358Z"
   },
   {
    "duration": 10,
    "start_time": "2022-09-08T18:13:39.771Z"
   },
   {
    "duration": 98,
    "start_time": "2022-09-08T18:13:39.782Z"
   },
   {
    "duration": 233,
    "start_time": "2022-09-08T18:13:39.882Z"
   },
   {
    "duration": 218,
    "start_time": "2022-09-08T18:13:40.116Z"
   },
   {
    "duration": 120,
    "start_time": "2022-09-08T18:13:40.336Z"
   },
   {
    "duration": 5,
    "start_time": "2022-09-08T18:13:40.458Z"
   },
   {
    "duration": 16,
    "start_time": "2022-09-08T18:13:40.465Z"
   },
   {
    "duration": 4730,
    "start_time": "2022-09-08T18:13:40.483Z"
   },
   {
    "duration": 7,
    "start_time": "2022-09-08T18:13:45.215Z"
   },
   {
    "duration": 13,
    "start_time": "2022-09-08T18:13:45.223Z"
   },
   {
    "duration": 3511,
    "start_time": "2022-09-08T18:13:45.237Z"
   },
   {
    "duration": 8,
    "start_time": "2022-09-08T18:13:48.750Z"
   },
   {
    "duration": 135,
    "start_time": "2022-09-08T18:13:48.759Z"
   },
   {
    "duration": 3718,
    "start_time": "2022-09-08T18:15:19.103Z"
   },
   {
    "duration": 6,
    "start_time": "2022-09-08T18:15:25.355Z"
   },
   {
    "duration": 120,
    "start_time": "2022-09-08T18:15:48.370Z"
   },
   {
    "duration": 125,
    "start_time": "2022-09-08T18:16:24.330Z"
   },
   {
    "duration": 3454,
    "start_time": "2022-09-08T18:16:52.388Z"
   },
   {
    "duration": 7,
    "start_time": "2022-09-08T18:16:58.394Z"
   },
   {
    "duration": 125,
    "start_time": "2022-09-08T18:17:10.422Z"
   },
   {
    "duration": 4816,
    "start_time": "2022-09-08T18:18:35.586Z"
   },
   {
    "duration": 4938,
    "start_time": "2022-09-08T18:18:53.579Z"
   },
   {
    "duration": 5,
    "start_time": "2022-09-08T18:19:06.396Z"
   },
   {
    "duration": 6,
    "start_time": "2022-09-08T18:19:13.381Z"
   },
   {
    "duration": 118,
    "start_time": "2022-09-08T18:19:37.821Z"
   },
   {
    "duration": 5788,
    "start_time": "2022-09-08T18:22:04.032Z"
   },
   {
    "duration": 7,
    "start_time": "2022-09-08T18:22:09.823Z"
   },
   {
    "duration": 157,
    "start_time": "2022-09-08T18:22:12.551Z"
   },
   {
    "duration": 2599,
    "start_time": "2022-09-09T13:01:45.434Z"
   },
   {
    "duration": 2829,
    "start_time": "2022-09-09T13:01:48.035Z"
   },
   {
    "duration": 1562,
    "start_time": "2022-09-09T13:01:50.866Z"
   },
   {
    "duration": 3,
    "start_time": "2022-09-09T13:01:52.429Z"
   },
   {
    "duration": 146,
    "start_time": "2022-09-09T13:01:52.433Z"
   },
   {
    "duration": 20,
    "start_time": "2022-09-09T13:01:52.582Z"
   },
   {
    "duration": 13,
    "start_time": "2022-09-09T13:01:52.604Z"
   },
   {
    "duration": 15,
    "start_time": "2022-09-09T13:01:52.618Z"
   },
   {
    "duration": 189,
    "start_time": "2022-09-09T13:01:52.634Z"
   },
   {
    "duration": 226,
    "start_time": "2022-09-09T13:01:52.826Z"
   },
   {
    "duration": 29,
    "start_time": "2022-09-09T13:01:53.053Z"
   },
   {
    "duration": 216,
    "start_time": "2022-09-09T13:01:53.084Z"
   },
   {
    "duration": 9,
    "start_time": "2022-09-09T13:01:53.302Z"
   },
   {
    "duration": 15,
    "start_time": "2022-09-09T13:01:53.312Z"
   },
   {
    "duration": 7,
    "start_time": "2022-09-09T13:01:53.328Z"
   },
   {
    "duration": 156,
    "start_time": "2022-09-09T13:01:53.336Z"
   },
   {
    "duration": 154,
    "start_time": "2022-09-09T13:01:53.497Z"
   },
   {
    "duration": 146,
    "start_time": "2022-09-09T13:01:53.653Z"
   },
   {
    "duration": 120,
    "start_time": "2022-09-09T13:01:53.801Z"
   },
   {
    "duration": 11,
    "start_time": "2022-09-09T13:01:53.923Z"
   },
   {
    "duration": 13,
    "start_time": "2022-09-09T13:01:53.935Z"
   },
   {
    "duration": 142,
    "start_time": "2022-09-09T13:01:53.972Z"
   },
   {
    "duration": 129,
    "start_time": "2022-09-09T13:01:54.116Z"
   },
   {
    "duration": 142,
    "start_time": "2022-09-09T13:01:54.247Z"
   },
   {
    "duration": 128,
    "start_time": "2022-09-09T13:01:54.391Z"
   },
   {
    "duration": 137,
    "start_time": "2022-09-09T13:01:54.521Z"
   },
   {
    "duration": 145,
    "start_time": "2022-09-09T13:01:54.659Z"
   },
   {
    "duration": 206,
    "start_time": "2022-09-09T13:01:54.808Z"
   },
   {
    "duration": 7,
    "start_time": "2022-09-09T13:01:55.016Z"
   },
   {
    "duration": 14,
    "start_time": "2022-09-09T13:01:55.025Z"
   },
   {
    "duration": 161,
    "start_time": "2022-09-09T13:01:55.041Z"
   },
   {
    "duration": 4,
    "start_time": "2022-09-09T13:01:55.204Z"
   },
   {
    "duration": 16,
    "start_time": "2022-09-09T13:01:55.210Z"
   },
   {
    "duration": 12,
    "start_time": "2022-09-09T13:01:55.228Z"
   },
   {
    "duration": 9,
    "start_time": "2022-09-09T13:01:55.241Z"
   },
   {
    "duration": 48,
    "start_time": "2022-09-09T13:01:55.252Z"
   },
   {
    "duration": 6,
    "start_time": "2022-09-09T13:01:55.302Z"
   },
   {
    "duration": 13,
    "start_time": "2022-09-09T13:01:55.310Z"
   },
   {
    "duration": 7,
    "start_time": "2022-09-09T13:01:55.325Z"
   },
   {
    "duration": 13,
    "start_time": "2022-09-09T13:01:55.334Z"
   },
   {
    "duration": 37,
    "start_time": "2022-09-09T13:01:55.348Z"
   },
   {
    "duration": 13,
    "start_time": "2022-09-09T13:01:55.388Z"
   },
   {
    "duration": 17,
    "start_time": "2022-09-09T13:01:55.402Z"
   },
   {
    "duration": 15,
    "start_time": "2022-09-09T13:01:55.421Z"
   },
   {
    "duration": 28,
    "start_time": "2022-09-09T13:01:55.438Z"
   },
   {
    "duration": 33,
    "start_time": "2022-09-09T13:01:55.472Z"
   },
   {
    "duration": 14,
    "start_time": "2022-09-09T13:01:55.507Z"
   },
   {
    "duration": 195,
    "start_time": "2022-09-09T13:01:55.524Z"
   },
   {
    "duration": 188,
    "start_time": "2022-09-09T13:01:55.721Z"
   },
   {
    "duration": 181,
    "start_time": "2022-09-09T13:01:55.911Z"
   },
   {
    "duration": 166,
    "start_time": "2022-09-09T13:01:56.094Z"
   },
   {
    "duration": 18,
    "start_time": "2022-09-09T13:01:56.262Z"
   },
   {
    "duration": 35,
    "start_time": "2022-09-09T13:01:56.289Z"
   },
   {
    "duration": 195,
    "start_time": "2022-09-09T13:01:56.325Z"
   },
   {
    "duration": 4,
    "start_time": "2022-09-09T13:01:56.523Z"
   },
   {
    "duration": 14,
    "start_time": "2022-09-09T13:01:56.529Z"
   },
   {
    "duration": 78,
    "start_time": "2022-09-09T13:01:56.545Z"
   },
   {
    "duration": 35,
    "start_time": "2022-09-09T13:01:56.625Z"
   },
   {
    "duration": 22,
    "start_time": "2022-09-09T13:01:56.678Z"
   },
   {
    "duration": 13,
    "start_time": "2022-09-09T13:01:56.702Z"
   },
   {
    "duration": 4720,
    "start_time": "2022-09-09T13:01:56.717Z"
   },
   {
    "duration": 10,
    "start_time": "2022-09-09T13:02:01.439Z"
   },
   {
    "duration": 55,
    "start_time": "2022-09-09T13:02:01.450Z"
   },
   {
    "duration": 491,
    "start_time": "2022-09-09T13:02:01.507Z"
   },
   {
    "duration": 70,
    "start_time": "2022-09-09T13:02:02.000Z"
   },
   {
    "duration": 5767,
    "start_time": "2022-09-09T13:02:02.071Z"
   },
   {
    "duration": 9,
    "start_time": "2022-09-09T13:02:07.840Z"
   },
   {
    "duration": 145,
    "start_time": "2022-09-09T13:02:07.851Z"
   },
   {
    "duration": 298,
    "start_time": "2022-09-09T13:02:07.998Z"
   },
   {
    "duration": 295,
    "start_time": "2022-09-09T13:02:08.299Z"
   },
   {
    "duration": 146,
    "start_time": "2022-09-09T13:02:08.597Z"
   },
   {
    "duration": 6,
    "start_time": "2022-09-09T13:02:08.745Z"
   },
   {
    "duration": 30,
    "start_time": "2022-09-09T13:02:08.768Z"
   },
   {
    "duration": 7016,
    "start_time": "2022-09-09T13:02:08.801Z"
   },
   {
    "duration": 7,
    "start_time": "2022-09-09T13:02:15.818Z"
   },
   {
    "duration": 15,
    "start_time": "2022-09-09T13:02:15.827Z"
   },
   {
    "duration": 4768,
    "start_time": "2022-09-09T13:02:15.843Z"
   },
   {
    "duration": 8,
    "start_time": "2022-09-09T13:02:20.614Z"
   },
   {
    "duration": 9001,
    "start_time": "2022-09-09T13:02:20.624Z"
   },
   {
    "duration": 6,
    "start_time": "2022-09-09T13:02:29.627Z"
   },
   {
    "duration": 167,
    "start_time": "2022-09-09T13:02:29.635Z"
   },
   {
    "duration": 5,
    "start_time": "2022-09-09T13:02:44.835Z"
   },
   {
    "duration": 18,
    "start_time": "2022-09-09T13:02:47.980Z"
   },
   {
    "duration": 8,
    "start_time": "2022-09-09T13:02:53.903Z"
   },
   {
    "duration": 7,
    "start_time": "2022-09-09T13:03:24.633Z"
   },
   {
    "duration": 133,
    "start_time": "2022-09-09T13:03:47.399Z"
   },
   {
    "duration": 8,
    "start_time": "2022-09-09T13:03:49.146Z"
   },
   {
    "duration": 4,
    "start_time": "2022-09-09T13:03:59.198Z"
   },
   {
    "duration": 7,
    "start_time": "2022-09-09T13:04:06.403Z"
   },
   {
    "duration": 6,
    "start_time": "2022-09-09T13:04:59.792Z"
   },
   {
    "duration": 8,
    "start_time": "2022-09-09T13:05:00.091Z"
   },
   {
    "duration": 7,
    "start_time": "2022-09-09T13:05:09.296Z"
   },
   {
    "duration": 69,
    "start_time": "2024-07-07T12:04:29.886Z"
   },
   {
    "duration": 7,
    "start_time": "2024-07-07T12:15:18.991Z"
   },
   {
    "duration": 1598,
    "start_time": "2024-07-07T12:16:12.865Z"
   },
   {
    "duration": 332,
    "start_time": "2024-07-07T12:16:17.534Z"
   },
   {
    "duration": 14,
    "start_time": "2024-07-07T12:16:21.263Z"
   },
   {
    "duration": 14,
    "start_time": "2024-07-07T12:16:25.429Z"
   },
   {
    "duration": 14,
    "start_time": "2024-07-07T12:16:28.626Z"
   },
   {
    "duration": 235,
    "start_time": "2024-07-07T12:16:31.669Z"
   },
   {
    "duration": 124,
    "start_time": "2024-07-07T12:16:35.558Z"
   },
   {
    "duration": 13,
    "start_time": "2024-07-07T12:16:40.027Z"
   },
   {
    "duration": 178,
    "start_time": "2024-07-07T12:16:42.956Z"
   },
   {
    "duration": 7,
    "start_time": "2024-07-07T12:16:46.738Z"
   },
   {
    "duration": 132,
    "start_time": "2024-07-07T12:16:52.561Z"
   },
   {
    "duration": 5,
    "start_time": "2024-07-07T12:17:04.858Z"
   },
   {
    "duration": 11,
    "start_time": "2024-07-07T12:17:09.141Z"
   },
   {
    "duration": 10,
    "start_time": "2024-07-07T12:17:13.179Z"
   },
   {
    "duration": 16,
    "start_time": "2024-07-07T12:17:22.190Z"
   },
   {
    "duration": 14,
    "start_time": "2024-07-07T12:17:26.506Z"
   },
   {
    "duration": 73,
    "start_time": "2024-07-07T12:17:34.506Z"
   },
   {
    "duration": 11,
    "start_time": "2024-07-07T12:17:40.556Z"
   },
   {
    "duration": 9,
    "start_time": "2024-07-07T12:18:00.138Z"
   },
   {
    "duration": 9,
    "start_time": "2024-07-07T12:18:08.736Z"
   },
   {
    "duration": 9,
    "start_time": "2024-07-07T12:18:15.157Z"
   },
   {
    "duration": 3,
    "start_time": "2024-07-07T12:18:19.012Z"
   },
   {
    "duration": 13,
    "start_time": "2024-07-07T12:18:22.414Z"
   },
   {
    "duration": 1423,
    "start_time": "2024-07-07T12:18:34.476Z"
   },
   {
    "duration": 112,
    "start_time": "2024-07-07T12:18:35.901Z"
   },
   {
    "duration": 14,
    "start_time": "2024-07-07T12:18:36.015Z"
   },
   {
    "duration": 11,
    "start_time": "2024-07-07T12:18:36.032Z"
   },
   {
    "duration": 20,
    "start_time": "2024-07-07T12:18:36.045Z"
   },
   {
    "duration": 144,
    "start_time": "2024-07-07T12:18:36.067Z"
   },
   {
    "duration": 206,
    "start_time": "2024-07-07T12:18:36.212Z"
   },
   {
    "duration": 13,
    "start_time": "2024-07-07T12:18:36.419Z"
   },
   {
    "duration": 189,
    "start_time": "2024-07-07T12:18:36.433Z"
   },
   {
    "duration": 8,
    "start_time": "2024-07-07T12:18:36.624Z"
   },
   {
    "duration": 30,
    "start_time": "2024-07-07T12:18:36.634Z"
   },
   {
    "duration": 5,
    "start_time": "2024-07-07T12:18:36.666Z"
   },
   {
    "duration": 123,
    "start_time": "2024-07-07T12:18:36.673Z"
   },
   {
    "duration": 128,
    "start_time": "2024-07-07T12:18:36.798Z"
   },
   {
    "duration": 126,
    "start_time": "2024-07-07T12:18:36.928Z"
   },
   {
    "duration": 155,
    "start_time": "2024-07-07T12:18:37.063Z"
   },
   {
    "duration": 9,
    "start_time": "2024-07-07T12:18:37.220Z"
   },
   {
    "duration": 86,
    "start_time": "2024-07-07T12:18:37.231Z"
   },
   {
    "duration": 103,
    "start_time": "2024-07-07T12:18:37.318Z"
   },
   {
    "duration": 126,
    "start_time": "2024-07-07T12:18:37.423Z"
   },
   {
    "duration": 115,
    "start_time": "2024-07-07T12:18:37.550Z"
   },
   {
    "duration": 116,
    "start_time": "2024-07-07T12:18:37.666Z"
   },
   {
    "duration": 125,
    "start_time": "2024-07-07T12:18:37.783Z"
   },
   {
    "duration": 127,
    "start_time": "2024-07-07T12:18:37.910Z"
   },
   {
    "duration": 192,
    "start_time": "2024-07-07T12:18:38.038Z"
   },
   {
    "duration": 7,
    "start_time": "2024-07-07T12:18:38.231Z"
   },
   {
    "duration": 23,
    "start_time": "2024-07-07T12:18:38.239Z"
   },
   {
    "duration": 111,
    "start_time": "2024-07-07T12:18:38.267Z"
   },
   {
    "duration": 5,
    "start_time": "2024-07-07T12:18:38.380Z"
   },
   {
    "duration": 11,
    "start_time": "2024-07-07T12:18:38.387Z"
   },
   {
    "duration": 11,
    "start_time": "2024-07-07T12:18:38.400Z"
   },
   {
    "duration": 6,
    "start_time": "2024-07-07T12:18:38.413Z"
   },
   {
    "duration": 40,
    "start_time": "2024-07-07T12:18:38.421Z"
   },
   {
    "duration": 4,
    "start_time": "2024-07-07T12:18:38.463Z"
   },
   {
    "duration": 51,
    "start_time": "2024-07-07T12:18:38.469Z"
   },
   {
    "duration": 50,
    "start_time": "2024-07-07T12:18:38.521Z"
   },
   {
    "duration": 12,
    "start_time": "2024-07-07T12:18:38.573Z"
   },
   {
    "duration": 3,
    "start_time": "2024-07-07T12:18:38.586Z"
   },
   {
    "duration": 10,
    "start_time": "2024-07-07T12:18:38.590Z"
   },
   {
    "duration": 11,
    "start_time": "2024-07-07T12:18:38.601Z"
   },
   {
    "duration": 5,
    "start_time": "2024-07-07T12:18:38.613Z"
   },
   {
    "duration": 14,
    "start_time": "2024-07-07T12:18:38.619Z"
   },
   {
    "duration": 28,
    "start_time": "2024-07-07T12:18:38.634Z"
   },
   {
    "duration": 16,
    "start_time": "2024-07-07T12:18:38.664Z"
   },
   {
    "duration": 144,
    "start_time": "2024-07-07T12:18:38.682Z"
   },
   {
    "duration": 156,
    "start_time": "2024-07-07T12:18:38.827Z"
   },
   {
    "duration": 165,
    "start_time": "2024-07-07T12:18:38.985Z"
   },
   {
    "duration": 151,
    "start_time": "2024-07-07T12:18:39.152Z"
   },
   {
    "duration": 7,
    "start_time": "2024-07-07T12:18:39.305Z"
   },
   {
    "duration": 22,
    "start_time": "2024-07-07T12:18:39.313Z"
   },
   {
    "duration": 179,
    "start_time": "2024-07-07T12:18:39.337Z"
   },
   {
    "duration": 3,
    "start_time": "2024-07-07T12:18:39.517Z"
   },
   {
    "duration": 8,
    "start_time": "2024-07-07T12:18:39.521Z"
   },
   {
    "duration": 52,
    "start_time": "2024-07-07T12:18:39.530Z"
   },
   {
    "duration": 23,
    "start_time": "2024-07-07T12:18:39.584Z"
   },
   {
    "duration": 4,
    "start_time": "2024-07-07T12:18:39.608Z"
   },
   {
    "duration": 8,
    "start_time": "2024-07-07T12:18:39.614Z"
   },
   {
    "duration": 3900,
    "start_time": "2024-07-07T12:18:39.623Z"
   },
   {
    "duration": 8,
    "start_time": "2024-07-07T12:18:43.525Z"
   },
   {
    "duration": 30,
    "start_time": "2024-07-07T12:18:43.535Z"
   },
   {
    "duration": 434,
    "start_time": "2024-07-07T12:18:43.567Z"
   },
   {
    "duration": 160,
    "start_time": "2024-07-07T12:18:44.003Z"
   },
   {
    "duration": 4205,
    "start_time": "2024-07-07T12:18:44.173Z"
   },
   {
    "duration": 5,
    "start_time": "2024-07-07T12:18:48.379Z"
   },
   {
    "duration": 10,
    "start_time": "2024-07-07T12:18:48.385Z"
   },
   {
    "duration": 106,
    "start_time": "2024-07-07T12:18:48.396Z"
   },
   {
    "duration": 238,
    "start_time": "2024-07-07T12:18:48.504Z"
   },
   {
    "duration": 299,
    "start_time": "2024-07-07T12:18:48.743Z"
   },
   {
    "duration": 122,
    "start_time": "2024-07-07T12:18:49.044Z"
   },
   {
    "duration": 6,
    "start_time": "2024-07-07T12:18:49.168Z"
   },
   {
    "duration": 12,
    "start_time": "2024-07-07T12:18:49.176Z"
   },
   {
    "duration": 4834,
    "start_time": "2024-07-07T12:18:49.190Z"
   },
   {
    "duration": 6,
    "start_time": "2024-07-07T12:18:54.025Z"
   },
   {
    "duration": 31,
    "start_time": "2024-07-07T12:18:54.033Z"
   },
   {
    "duration": 4659,
    "start_time": "2024-07-07T12:18:54.065Z"
   },
   {
    "duration": 6,
    "start_time": "2024-07-07T12:18:58.725Z"
   },
   {
    "duration": 5081,
    "start_time": "2024-07-07T12:18:58.732Z"
   },
   {
    "duration": 16,
    "start_time": "2024-07-07T12:19:03.816Z"
   },
   {
    "duration": 166,
    "start_time": "2024-07-07T12:19:03.833Z"
   }
  ],
  "colab": {
   "collapsed_sections": [],
   "provenance": [],
   "toc_visible": true
  },
  "kernelspec": {
   "display_name": "Python 3 (ipykernel)",
   "language": "python",
   "name": "python3"
  },
  "language_info": {
   "codemirror_mode": {
    "name": "ipython",
    "version": 3
   },
   "file_extension": ".py",
   "mimetype": "text/x-python",
   "name": "python",
   "nbconvert_exporter": "python",
   "pygments_lexer": "ipython3",
   "version": "3.9.5"
  },
  "toc": {
   "base_numbering": 1,
   "nav_menu": {},
   "number_sections": true,
   "sideBar": true,
   "skip_h1_title": true,
   "title_cell": "Table of Contents",
   "title_sidebar": "Contents",
   "toc_cell": false,
   "toc_position": {},
   "toc_section_display": true,
   "toc_window_display": true
  }
 },
 "nbformat": 4,
 "nbformat_minor": 1
}
